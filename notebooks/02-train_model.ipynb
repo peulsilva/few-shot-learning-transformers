{
 "cells": [
  {
   "cell_type": "code",
   "execution_count": null,
   "metadata": {},
   "outputs": [
    {
     "ename": "",
     "evalue": "",
     "output_type": "error",
     "traceback": [
      "\u001b[1;31mRunning cells with 'myenv' requires the ipykernel package.\n",
      "\u001b[1;31mRun the following command to install 'ipykernel' into the Python environment. \n",
      "\u001b[1;31mCommand: 'conda install -n myenv ipykernel --update-deps --force-reinstall'"
     ]
    }
   ],
   "source": [
    "%load_ext autoreload\n",
    "%autoreload 2"
   ]
  },
  {
   "cell_type": "code",
   "execution_count": 3,
   "metadata": {},
   "outputs": [
    {
     "ename": "ModuleNotFoundError",
     "evalue": "No module named 'transformers'",
     "output_type": "error",
     "traceback": [
      "\u001b[1;31m---------------------------------------------------------------------------\u001b[0m",
      "\u001b[1;31mModuleNotFoundError\u001b[0m                       Traceback (most recent call last)",
      "\u001b[1;32mc:\\Users\\User\\Desktop\\Polytechnique\\2A 2024\\few-shot-learning-transformers\\notebooks\\02-train_model.ipynb Cell 2\u001b[0m line \u001b[0;36m1\n\u001b[1;32m----> <a href='vscode-notebook-cell:/c%3A/Users/User/Desktop/Polytechnique/2A%202024/few-shot-learning-transformers/notebooks/02-train_model.ipynb#W1sZmlsZQ%3D%3D?line=0'>1</a>\u001b[0m \u001b[39mimport\u001b[39;00m \u001b[39mtransformers\u001b[39;00m\n\u001b[0;32m      <a href='vscode-notebook-cell:/c%3A/Users/User/Desktop/Polytechnique/2A%202024/few-shot-learning-transformers/notebooks/02-train_model.ipynb#W1sZmlsZQ%3D%3D?line=1'>2</a>\u001b[0m \u001b[39mfrom\u001b[39;00m \u001b[39mtransformers\u001b[39;00m \u001b[39mimport\u001b[39;00m LayoutLMForTokenClassification,\\\n\u001b[0;32m      <a href='vscode-notebook-cell:/c%3A/Users/User/Desktop/Polytechnique/2A%202024/few-shot-learning-transformers/notebooks/02-train_model.ipynb#W1sZmlsZQ%3D%3D?line=2'>3</a>\u001b[0m     LayoutLMTokenizer, AdamW, LayoutLMv2Processor, LayoutLMv2ForTokenClassification\n\u001b[0;32m      <a href='vscode-notebook-cell:/c%3A/Users/User/Desktop/Polytechnique/2A%202024/few-shot-learning-transformers/notebooks/02-train_model.ipynb#W1sZmlsZQ%3D%3D?line=3'>4</a>\u001b[0m \u001b[39mfrom\u001b[39;00m \u001b[39mtensordict\u001b[39;00m \u001b[39mimport\u001b[39;00m TensorDict\n",
      "\u001b[1;31mModuleNotFoundError\u001b[0m: No module named 'transformers'"
     ]
    }
   ],
   "source": [
    "import transformers\n",
    "from transformers import LayoutLMForTokenClassification,\\\n",
    "    LayoutLMTokenizer, AdamW, LayoutLMv2Processor, LayoutLMv2ForTokenClassification\n",
    "from tensordict import TensorDict\n",
    "from datasets import load_dataset\n",
    "import torch\n",
    "import matplotlib.pyplot as plt\n",
    "import matplotlib.patches as patches\n",
    "from PIL import ImageDraw, Image\n",
    "import numpy as np\n",
    "from tqdm import tqdm\n",
    "from torch.utils.data import DataLoader, Dataset\n",
    "import logging\n",
    "from torchvision.transforms import PILToTensor\n",
    "\n",
    "import os \n",
    "if 'notebooks' in os.getcwd():\n",
    "    os.chdir(\"..\")"
   ]
  },
  {
   "cell_type": "code",
   "execution_count": null,
   "metadata": {},
   "outputs": [],
   "source": [
    "logging.basicConfig(filename='logs/train.log', encoding='utf-8', level=logging.DEBUG)"
   ]
  },
  {
   "cell_type": "code",
   "execution_count": 3,
   "metadata": {},
   "outputs": [],
   "source": [
    "device = torch.device(\"cuda\" if torch.cuda.is_available() else \"cpu\")"
   ]
  },
  {
   "cell_type": "code",
   "execution_count": 4,
   "metadata": {},
   "outputs": [
    {
     "data": {
      "text/plain": [
       "device(type='cuda')"
      ]
     },
     "execution_count": 4,
     "metadata": {},
     "output_type": "execute_result"
    }
   ],
   "source": [
    "device"
   ]
  },
  {
   "cell_type": "code",
   "execution_count": 5,
   "metadata": {},
   "outputs": [],
   "source": [
    "# dataset = load_dataset(\"katanaml/cord\", )\n",
    "\n",
    "dataset = load_dataset(\"darentang/sroie\")"
   ]
  },
  {
   "cell_type": "markdown",
   "metadata": {},
   "source": [
    "## Creating PyTorch Datasets, DataLoader"
   ]
  },
  {
   "cell_type": "code",
   "execution_count": null,
   "metadata": {},
   "outputs": [],
   "source": [
    "processor =LayoutLMv2Processor.from_pretrained(\"microsoft/layoutlmv2-base-uncased\", revision=\"no_ocr\")\n"
   ]
  },
  {
   "cell_type": "code",
   "execution_count": null,
   "metadata": {},
   "outputs": [],
   "source": [
    "class SROIE(Dataset):\n",
    "    def __init__(self, \n",
    "                 data,\n",
    "                 encode : bool = False) -> None:\n",
    "        super().__init__()\n",
    "\n",
    "        if encode:\n",
    "            self.X = []\n",
    "            for example in tqdm(data):\n",
    "                X= SROIE.encode(example)\n",
    "                self.X.append(X)\n",
    "\n",
    "        else:\n",
    "            self.X = data\n",
    "\n",
    "    @staticmethod\n",
    "    def encode(\n",
    "        example, \n",
    "        max_seq_length = 512, \n",
    "        pad_token_box = [0,0,0,0]\n",
    "    ):\n",
    "        words = example['words']\n",
    "        boxes = example['bboxes']\n",
    "        image = Image.open(example['image_path'])\n",
    "        word_labels = example['ner_tags']\n",
    "\n",
    "        encoded_inputs = processor(\n",
    "            image, \n",
    "            words, \n",
    "            boxes=boxes, \n",
    "            word_labels=word_labels, \n",
    "            padding=\"max_length\", \n",
    "            truncation=True, \n",
    "            return_tensors=\"pt\"\n",
    "        )\n",
    "\n",
    "        # token_boxes = []\n",
    "        # for word, box in zip(words, bboxes):\n",
    "        #     word_tokens = tokenizer.tokenize(word)\n",
    "        #     token_boxes.extend([box] * len(word_tokens))\n",
    "\n",
    "        \n",
    "        # special_tokens_count = 2 \n",
    "        # if len(token_boxes) > max_seq_length - special_tokens_count:\n",
    "        #     token_boxes = token_boxes[: (max_seq_length - special_tokens_count)]\n",
    "\n",
    "        # # add bounding boxes of cls + sep tokens\n",
    "        # token_boxes = [[0, 0, 0, 0]] + token_boxes + [[1000, 1000, 1000, 1000]]\n",
    "\n",
    "        # encoding = tokenizer(' '.join(words), padding='max_length', truncation=True)\n",
    "        # # Padding of token_boxes up the bounding boxes to the sequence length.\n",
    "        # input_ids = torch.tensor(tokenizer(' '.join(words), truncation=True)[\"input_ids\"])\n",
    "        # padding_length = max_seq_length - len(input_ids)\n",
    "        # token_boxes += [pad_token_box] * padding_length\n",
    "\n",
    "        # encoding['labels'] = torch.tensor(example['ner_tags'])\n",
    "        # encoding['bbox'] = torch.tensor(token_boxes)\n",
    "        # # encoding['input_ids'] = torch.tensor(encoding['input_ids'])\n",
    "        # encoding['token_type_ids'] = torch.tensor(encoding['token_type_ids'])\n",
    "        # encoding['attention_mask'] = torch.tensor(encoding['attention_mask'])\n",
    "        \n",
    "        return encoded_inputs\n",
    "    \n",
    "    def __getitem__(self, index: int):\n",
    "        return self.X[index]\n",
    "\n",
    "    def __len__(self):\n",
    "        return len(self.X)"
   ]
  },
  {
   "cell_type": "code",
   "execution_count": null,
   "metadata": {},
   "outputs": [],
   "source": [
    "data = []\n",
    "for example in tqdm(dataset['train']):\n",
    "    words = example['words']\n",
    "    boxes = example['bboxes']\n",
    "    image = Image.open(example['image_path'])\n",
    "    word_labels = example['ner_tags']\n",
    "\n",
    "    try:\n",
    "        encoded_inputs = processor(\n",
    "            image, \n",
    "            words, \n",
    "            boxes=boxes, \n",
    "            word_labels=word_labels, \n",
    "            padding=\"max_length\", \n",
    "            truncation=True, \n",
    "            return_tensors=\"pt\"\n",
    "        )\n",
    "\n",
    "        data.append(encoded_inputs)\n",
    "    except:\n",
    "        pass"
   ]
  },
  {
   "cell_type": "code",
   "execution_count": null,
   "metadata": {},
   "outputs": [],
   "source": [
    "dataloader = DataLoader(\n",
    "    df,\n",
    "    shuffle=True,\n",
    "    batch_size= 1\n",
    ")"
   ]
  },
  {
   "cell_type": "code",
   "execution_count": 17,
   "metadata": {},
   "outputs": [],
   "source": [
    "example = dataset['train'][0]"
   ]
  },
  {
   "cell_type": "code",
   "execution_count": 18,
   "metadata": {},
   "outputs": [],
   "source": [
    "words = example['words']"
   ]
  },
  {
   "cell_type": "markdown",
   "metadata": {},
   "source": [
    "## Importing model"
   ]
  },
  {
   "cell_type": "code",
   "execution_count": 6,
   "metadata": {},
   "outputs": [
    {
     "name": "stderr",
     "output_type": "stream",
     "text": [
      "Some weights of LayoutLMForTokenClassification were not initialized from the model checkpoint at microsoft/layoutlm-base-uncased and are newly initialized: ['classifier.bias', 'classifier.weight']\n",
      "You should probably TRAIN this model on a down-stream task to be able to use it for predictions and inference.\n"
     ]
    },
    {
     "data": {
      "text/plain": [
       "LayoutLMForTokenClassification(\n",
       "  (layoutlm): LayoutLMModel(\n",
       "    (embeddings): LayoutLMEmbeddings(\n",
       "      (word_embeddings): Embedding(30522, 768, padding_idx=0)\n",
       "      (position_embeddings): Embedding(512, 768)\n",
       "      (x_position_embeddings): Embedding(1024, 768)\n",
       "      (y_position_embeddings): Embedding(1024, 768)\n",
       "      (h_position_embeddings): Embedding(1024, 768)\n",
       "      (w_position_embeddings): Embedding(1024, 768)\n",
       "      (token_type_embeddings): Embedding(2, 768)\n",
       "      (LayerNorm): LayerNorm((768,), eps=1e-12, elementwise_affine=True)\n",
       "      (dropout): Dropout(p=0.1, inplace=False)\n",
       "    )\n",
       "    (encoder): LayoutLMEncoder(\n",
       "      (layer): ModuleList(\n",
       "        (0-11): 12 x LayoutLMLayer(\n",
       "          (attention): LayoutLMAttention(\n",
       "            (self): LayoutLMSelfAttention(\n",
       "              (query): Linear(in_features=768, out_features=768, bias=True)\n",
       "              (key): Linear(in_features=768, out_features=768, bias=True)\n",
       "              (value): Linear(in_features=768, out_features=768, bias=True)\n",
       "              (dropout): Dropout(p=0.1, inplace=False)\n",
       "            )\n",
       "            (output): LayoutLMSelfOutput(\n",
       "              (dense): Linear(in_features=768, out_features=768, bias=True)\n",
       "              (LayerNorm): LayerNorm((768,), eps=1e-12, elementwise_affine=True)\n",
       "              (dropout): Dropout(p=0.1, inplace=False)\n",
       "            )\n",
       "          )\n",
       "          (intermediate): LayoutLMIntermediate(\n",
       "            (dense): Linear(in_features=768, out_features=3072, bias=True)\n",
       "            (intermediate_act_fn): GELUActivation()\n",
       "          )\n",
       "          (output): LayoutLMOutput(\n",
       "            (dense): Linear(in_features=3072, out_features=768, bias=True)\n",
       "            (LayerNorm): LayerNorm((768,), eps=1e-12, elementwise_affine=True)\n",
       "            (dropout): Dropout(p=0.1, inplace=False)\n",
       "          )\n",
       "        )\n",
       "      )\n",
       "    )\n",
       "    (pooler): LayoutLMPooler(\n",
       "      (dense): Linear(in_features=768, out_features=768, bias=True)\n",
       "      (activation): Tanh()\n",
       "    )\n",
       "  )\n",
       "  (dropout): Dropout(p=0.1, inplace=False)\n",
       "  (classifier): Linear(in_features=768, out_features=8, bias=True)\n",
       ")"
      ]
     },
     "execution_count": 6,
     "metadata": {},
     "output_type": "execute_result"
    }
   ],
   "source": [
    "n_labels = 8\n",
    "model = LayoutLMv2ForTokenClassification.from_pretrained(\n",
    "    'microsoft/layoutlmv2-base-uncased',\n",
    "    num_labels=n_labels\n",
    ")\n",
    "model.to(device)"
   ]
  },
  {
   "cell_type": "markdown",
   "metadata": {},
   "source": [
    "### Number of treinable / non-treinable parameters"
   ]
  },
  {
   "cell_type": "code",
   "execution_count": 7,
   "metadata": {},
   "outputs": [
    {
     "name": "stdout",
     "output_type": "stream",
     "text": [
      "\n",
      "    Model Info\n",
      "    -----------------\n",
      "    \n",
      "    Treinable params: 112634120\n",
      "    Non Treinable params: 0\n",
      "\n",
      "\n"
     ]
    }
   ],
   "source": [
    "print(f'''\n",
    "    Model Info\n",
    "    -----------------\n",
    "    \n",
    "    Treinable params: {sum(p.numel() for p in model.parameters() if p.requires_grad)}\n",
    "    Non Treinable params: {sum(p.numel() for p in model.parameters() if not p.requires_grad)}\n",
    "\n",
    "''')"
   ]
  },
  {
   "cell_type": "code",
   "execution_count": null,
   "metadata": {},
   "outputs": [],
   "source": [
    "optimizer = AdamW(model.parameters(), lr=5e-5)\n",
    "\n",
    "global_step = 0\n",
    "num_train_epochs = 4\n",
    "t_total = len(dataloader) * num_train_epochs # total number of training steps \n",
    "\n",
    "#put the model in training mode\n",
    "model.train()\n",
    "for epoch in tqdm(range(num_train_epochs)):\n",
    "  logging.info(f\"Epoch: {epoch}\")\n",
    "  running_loss = 0.0\n",
    "  correct = 0\n",
    "  for X in dataloader:\n",
    "      input_ids = X[\"input_ids\"].to(device)\n",
    "      bbox = X[\"bbox\"].to(device)\n",
    "      attention_mask = X[\"attention_mask\"].to(device)\n",
    "      token_type_ids = X[\"token_type_ids\"].to(device)\n",
    "      labels = X[\"labels\"].to(device)\n",
    "      image = X[\"image\"].to(device)\n",
    "\n",
    "      # forward pass\n",
    "      outputs = model(\n",
    "        input_ids=input_ids, \n",
    "        bbox=bbox, \n",
    "        attention_mask=attention_mask, \n",
    "        token_type_ids=token_type_ids,\n",
    "        image= image,\n",
    "        labels=labels\n",
    "      )\n",
    "      loss = outputs.loss\n",
    "\n",
    "      running_loss += loss.item()\n",
    "      predictions = outputs.logits.argmax(-1)\n",
    "      correct += (predictions == labels).float().sum()\n",
    "\n",
    "      # backward pass to get the gradients \n",
    "      loss.backward()\n",
    "\n",
    "      # update\n",
    "      optimizer.step()\n",
    "      optimizer.zero_grad()\n",
    "      global_step += 1\n",
    "  \n",
    "  logging.info(\"Loss:\", running_loss / X[\"input_ids\"].shape[0])\n",
    "  accuracy = 100 * correct / len(data)\n",
    "  logging.info(\"Training accuracy:\", accuracy.item())"
   ]
  }
 ],
 "metadata": {
  "kernelspec": {
   "display_name": ".venv",
   "language": "python",
   "name": "python3"
  },
  "language_info": {
   "codemirror_mode": {
    "name": "ipython",
    "version": 3
   },
   "file_extension": ".py",
   "mimetype": "text/x-python",
   "name": "python",
   "nbconvert_exporter": "python",
   "pygments_lexer": "ipython3",
   "version": "3.10.13"
  },
  "orig_nbformat": 4
 },
 "nbformat": 4,
 "nbformat_minor": 2
}
