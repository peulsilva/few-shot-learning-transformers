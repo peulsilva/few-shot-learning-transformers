{
 "cells": [
  {
   "cell_type": "code",
   "execution_count": 1,
   "metadata": {},
   "outputs": [],
   "source": [
    "%load_ext autoreload\n",
    "%autoreload 2"
   ]
  },
  {
   "cell_type": "code",
   "execution_count": 3,
   "metadata": {},
   "outputs": [],
   "source": [
    "import transformers\n",
    "from transformers import LayoutLMForTokenClassification,\\\n",
    "    LayoutLMTokenizer, AdamW, LayoutLMv2Processor, LayoutLMv2ForTokenClassification\n",
    "# from tensordict import TensorDict\n",
    "from datasets import load_dataset\n",
    "import torch\n",
    "import matplotlib.pyplot as plt\n",
    "import matplotlib.patches as patches\n",
    "from PIL import ImageDraw, Image\n",
    "import numpy as np\n",
    "from tqdm import tqdm\n",
    "from torch.utils.data import DataLoader, Dataset\n",
    "import logging\n",
    "# from torchvision.transforms import PILToTensor\n",
    "\n",
    "import os \n",
    "if 'notebooks' in os.getcwd():\n",
    "    os.chdir(\"..\")\n",
    "    \n",
    "from src.preprocessing.make_dataset import ImageLayoutDataset"
   ]
  },
  {
   "cell_type": "code",
   "execution_count": 4,
   "metadata": {},
   "outputs": [],
   "source": [
    "logging.basicConfig(filename='logs/train.log', encoding='utf-8', level=logging.DEBUG)"
   ]
  },
  {
   "cell_type": "code",
   "execution_count": 5,
   "metadata": {},
   "outputs": [],
   "source": [
    "device = torch.device(\"cuda\" if torch.cuda.is_available() else \"cpu\")"
   ]
  },
  {
   "cell_type": "code",
   "execution_count": 6,
   "metadata": {},
   "outputs": [
    {
     "data": {
      "text/plain": [
       "device(type='cuda')"
      ]
     },
     "execution_count": 6,
     "metadata": {},
     "output_type": "execute_result"
    }
   ],
   "source": [
    "device"
   ]
  },
  {
   "cell_type": "code",
   "execution_count": 7,
   "metadata": {},
   "outputs": [
    {
     "name": "stderr",
     "output_type": "stream",
     "text": [
      "Repo card metadata block was not found. Setting CardData to empty.\n"
     ]
    }
   ],
   "source": [
    "dataset = load_dataset(\"katanaml/cord\", )\n",
    "\n",
    "# dataset = load_dataset(\"darentang/sroie\")"
   ]
  },
  {
   "cell_type": "markdown",
   "metadata": {},
   "source": [
    "## Creating PyTorch Datasets, DataLoader"
   ]
  },
  {
   "cell_type": "code",
   "execution_count": 20,
   "metadata": {},
   "outputs": [],
   "source": [
    "processor = LayoutLMv2Processor.from_pretrained(\"microsoft/layoutlmv2-base-uncased\", revision=\"no_ocr\")\n"
   ]
  },
  {
   "cell_type": "code",
   "execution_count": 21,
   "metadata": {},
   "outputs": [
    {
     "name": "stderr",
     "output_type": "stream",
     "text": [
      "  0%|          | 0/800 [00:00<?, ?it/s]"
     ]
    },
    {
     "name": "stderr",
     "output_type": "stream",
     "text": [
      "100%|██████████| 800/800 [00:38<00:00, 20.53it/s]\n"
     ]
    }
   ],
   "source": [
    "data = []\n",
    "for example in tqdm(dataset['train']):\n",
    "    words = example['words']\n",
    "    boxes = example['bboxes']\n",
    "    image = Image.open(example['image_path']).convert(\"RGB\")\n",
    "    word_labels = example['ner_tags']\n",
    "\n",
    "    # try:\n",
    "    encoded_inputs = processor(\n",
    "        image, \n",
    "        words, \n",
    "        boxes=boxes, \n",
    "        word_labels=word_labels, \n",
    "        padding=\"max_length\", \n",
    "        truncation=True, \n",
    "        return_tensors=\"pt\"\n",
    "    )\n",
    "\n",
    "    \n",
    "    data.append(encoded_inputs)\n",
    "    # except:\n",
    "    #     pass\n",
    "\n",
    "    # assert encoded_inputs.input_ids.shape == torch.Size([512])\n",
    "    # assert encoded_inputs.attention_mask.shape == torch.Size([512])\n",
    "    # assert encoded_inputs.token_type_ids.shape == torch.Size([512])\n",
    "    # assert encoded_inputs.bbox.shape == torch.Size([512, 4])\n",
    "    # assert encoded_inputs.image.shape == torch.Size([3, 224, 224])\n",
    "    # assert encoded_inputs.labels.shape == torch.Size([512]) "
   ]
  },
  {
   "cell_type": "code",
   "execution_count": 9,
   "metadata": {},
   "outputs": [
    {
     "name": "stderr",
     "output_type": "stream",
     "text": [
      "100%|██████████| 800/800 [00:37<00:00, 21.05it/s]\n"
     ]
    }
   ],
   "source": [
    "df = ImageLayoutDataset(dataset['train'], encode=True)"
   ]
  },
  {
   "cell_type": "code",
   "execution_count": 10,
   "metadata": {},
   "outputs": [],
   "source": [
    "dataloader = DataLoader(\n",
    "    df,\n",
    "    shuffle=True,\n",
    "    batch_size= 2\n",
    ")"
   ]
  },
  {
   "cell_type": "code",
   "execution_count": 11,
   "metadata": {},
   "outputs": [],
   "source": [
    "unique_rows = []\n",
    "for row in dataset['train']['ner_tags']:\n",
    "    unique_rows.append(np.unique(row))"
   ]
  },
  {
   "cell_type": "code",
   "execution_count": 12,
   "metadata": {},
   "outputs": [],
   "source": [
    "n_labels = np.unique(np.concatenate(unique_rows)).shape[0]"
   ]
  },
  {
   "cell_type": "code",
   "execution_count": 13,
   "metadata": {},
   "outputs": [
    {
     "data": {
      "text/plain": [
       "23"
      ]
     },
     "execution_count": 13,
     "metadata": {},
     "output_type": "execute_result"
    }
   ],
   "source": [
    "n_labels"
   ]
  },
  {
   "cell_type": "markdown",
   "metadata": {},
   "source": [
    "## Importing model"
   ]
  },
  {
   "cell_type": "code",
   "execution_count": 14,
   "metadata": {},
   "outputs": [
    {
     "name": "stderr",
     "output_type": "stream",
     "text": [
      "Some weights of LayoutLMForTokenClassification were not initialized from the model checkpoint at microsoft/layoutlm-base-uncased and are newly initialized: ['classifier.bias', 'classifier.weight']\n",
      "You should probably TRAIN this model on a down-stream task to be able to use it for predictions and inference.\n"
     ]
    },
    {
     "data": {
      "text/plain": [
       "LayoutLMForTokenClassification(\n",
       "  (layoutlm): LayoutLMModel(\n",
       "    (embeddings): LayoutLMEmbeddings(\n",
       "      (word_embeddings): Embedding(30522, 768, padding_idx=0)\n",
       "      (position_embeddings): Embedding(512, 768)\n",
       "      (x_position_embeddings): Embedding(1024, 768)\n",
       "      (y_position_embeddings): Embedding(1024, 768)\n",
       "      (h_position_embeddings): Embedding(1024, 768)\n",
       "      (w_position_embeddings): Embedding(1024, 768)\n",
       "      (token_type_embeddings): Embedding(2, 768)\n",
       "      (LayerNorm): LayerNorm((768,), eps=1e-12, elementwise_affine=True)\n",
       "      (dropout): Dropout(p=0.1, inplace=False)\n",
       "    )\n",
       "    (encoder): LayoutLMEncoder(\n",
       "      (layer): ModuleList(\n",
       "        (0-11): 12 x LayoutLMLayer(\n",
       "          (attention): LayoutLMAttention(\n",
       "            (self): LayoutLMSelfAttention(\n",
       "              (query): Linear(in_features=768, out_features=768, bias=True)\n",
       "              (key): Linear(in_features=768, out_features=768, bias=True)\n",
       "              (value): Linear(in_features=768, out_features=768, bias=True)\n",
       "              (dropout): Dropout(p=0.1, inplace=False)\n",
       "            )\n",
       "            (output): LayoutLMSelfOutput(\n",
       "              (dense): Linear(in_features=768, out_features=768, bias=True)\n",
       "              (LayerNorm): LayerNorm((768,), eps=1e-12, elementwise_affine=True)\n",
       "              (dropout): Dropout(p=0.1, inplace=False)\n",
       "            )\n",
       "          )\n",
       "          (intermediate): LayoutLMIntermediate(\n",
       "            (dense): Linear(in_features=768, out_features=3072, bias=True)\n",
       "            (intermediate_act_fn): GELUActivation()\n",
       "          )\n",
       "          (output): LayoutLMOutput(\n",
       "            (dense): Linear(in_features=3072, out_features=768, bias=True)\n",
       "            (LayerNorm): LayerNorm((768,), eps=1e-12, elementwise_affine=True)\n",
       "            (dropout): Dropout(p=0.1, inplace=False)\n",
       "          )\n",
       "        )\n",
       "      )\n",
       "    )\n",
       "    (pooler): LayoutLMPooler(\n",
       "      (dense): Linear(in_features=768, out_features=768, bias=True)\n",
       "      (activation): Tanh()\n",
       "    )\n",
       "  )\n",
       "  (dropout): Dropout(p=0.1, inplace=False)\n",
       "  (classifier): Linear(in_features=768, out_features=23, bias=True)\n",
       ")"
      ]
     },
     "execution_count": 14,
     "metadata": {},
     "output_type": "execute_result"
    }
   ],
   "source": [
    "\n",
    "model = LayoutLMForTokenClassification.from_pretrained(\n",
    "    'microsoft/layoutlm-base-uncased',\n",
    "    num_labels=n_labels\n",
    ")\n",
    "model.to(device)"
   ]
  },
  {
   "cell_type": "markdown",
   "metadata": {},
   "source": [
    "### Number of treinable / non-treinable parameters"
   ]
  },
  {
   "cell_type": "code",
   "execution_count": 15,
   "metadata": {},
   "outputs": [
    {
     "name": "stdout",
     "output_type": "stream",
     "text": [
      "\n",
      "    Model Info\n",
      "    -----------------\n",
      "    \n",
      "    Treinable params: 112645655\n",
      "    Non Treinable params: 0\n",
      "\n",
      "\n"
     ]
    }
   ],
   "source": [
    "print(f'''\n",
    "    Model Info\n",
    "    -----------------\n",
    "    \n",
    "    Treinable params: {sum(p.numel() for p in model.parameters() if p.requires_grad)}\n",
    "    Non Treinable params: {sum(p.numel() for p in model.parameters() if not p.requires_grad)}\n",
    "\n",
    "''')"
   ]
  },
  {
   "cell_type": "code",
   "execution_count": 54,
   "metadata": {},
   "outputs": [
    {
     "name": "stderr",
     "output_type": "stream",
     "text": [
      "/users/eleves-a/2022/pedro.silva/few-shot-learning-transformers/.venv/lib64/python3.9/site-packages/transformers/optimization.py:411: FutureWarning: This implementation of AdamW is deprecated and will be removed in a future version. Use the PyTorch implementation torch.optim.AdamW instead, or set `no_deprecation_warning=True` to disable this warning\n",
      "  warnings.warn(\n",
      "100%|██████████| 4/4 [01:38<00:00, 24.64s/it]\n"
     ]
    }
   ],
   "source": [
    "optimizer = AdamW(model.parameters(), lr=5e-5)\n",
    "\n",
    "global_step = 0\n",
    "num_train_epochs = 4\n",
    "t_total = len(dataloader) * num_train_epochs # total number of training steps \n",
    "\n",
    "#put the model in training mode\n",
    "model.train()\n",
    "for epoch in tqdm(range(num_train_epochs)):\n",
    "   logging.info(f\"Epoch: {epoch}\")\n",
    "   running_loss = 0.0\n",
    "   accuracy = []\n",
    "   for X in (dataloader):\n",
    "      input_ids = X[\"input_ids\"]\\\n",
    "         .to(device)\\\n",
    "         .squeeze()\n",
    "      \n",
    "      bbox = X[\"bbox\"]\\\n",
    "         .to(device)\\\n",
    "         .squeeze()\n",
    "\n",
    "      attention_mask = X[\"attention_mask\"]\\\n",
    "         .to(device)\\\n",
    "         .squeeze()\n",
    "      token_type_ids = X[\"token_type_ids\"]\\\n",
    "         .to(device)\\\n",
    "         .squeeze()\n",
    "      \n",
    "      labels = X[\"labels\"]\\\n",
    "         .to(device)\\\n",
    "         .squeeze()\n",
    "\n",
    "      image = X[\"image\"]\\\n",
    "         .to(device)\\\n",
    "         .squeeze()\n",
    "\n",
    "      # forward pass\n",
    "      outputs = model(\n",
    "         input_ids=input_ids, \n",
    "         bbox=bbox, \n",
    "         attention_mask=attention_mask, \n",
    "         token_type_ids=token_type_ids,\n",
    "         labels=labels\n",
    "      )\n",
    "\n",
    "      \n",
    "      loss = outputs.loss\n",
    "\n",
    "      running_loss += loss.item()\n",
    "      predictions = outputs.logits.argmax(-1)\n",
    "      valid_outputs_mask = labels != -100\n",
    "\n",
    "      correct = (predictions == labels)\\\n",
    "         [valid_outputs_mask]\\\n",
    "         .float()\\\n",
    "         .sum()\n",
    "\n",
    "      # backward pass to get the gradients \n",
    "      loss.backward()\n",
    "\n",
    "      # update\n",
    "      optimizer.step()\n",
    "      optimizer.zero_grad()\n",
    "      global_step += 1\n",
    "      \n",
    "      acc = correct / (labels[valid_outputs_mask]).shape[0]\n",
    "\n",
    "      accuracy.append(acc)\n",
    "\n",
    "   logging.info(f\"Loss: {running_loss / len(dataloader.dataset)}\")\n",
    "   logging.info(f\"Training accuracy: {torch.tensor(accuracy).mean().item()}\", )"
   ]
  },
  {
   "cell_type": "code",
   "execution_count": 53,
   "metadata": {},
   "outputs": [
    {
     "data": {
      "text/plain": [
       "tensor(434.6750, device='cuda:0')"
      ]
     },
     "execution_count": 53,
     "metadata": {},
     "output_type": "execute_result"
    }
   ],
   "source": [
    "correct / (labels[valid_outputs_mask]).shape[0]"
   ]
  },
  {
   "cell_type": "code",
   "execution_count": null,
   "metadata": {},
   "outputs": [],
   "source": []
  },
  {
   "cell_type": "code",
   "execution_count": 52,
   "metadata": {},
   "outputs": [
    {
     "data": {
      "text/plain": [
       "[tensor(0.9455, device='cuda:0'),\n",
       " tensor(1.1360, device='cuda:0'),\n",
       " tensor(3.8085, device='cuda:0'),\n",
       " tensor(7.5185, device='cuda:0'),\n",
       " tensor(7.0645, device='cuda:0'),\n",
       " tensor(7.3529, device='cuda:0'),\n",
       " tensor(7.0976, device='cuda:0'),\n",
       " tensor(8.5263, device='cuda:0'),\n",
       " tensor(11.7333, device='cuda:0'),\n",
       " tensor(6.0435, device='cuda:0'),\n",
       " tensor(5.6517, device='cuda:0'),\n",
       " tensor(15.1714, device='cuda:0'),\n",
       " tensor(13.3023, device='cuda:0'),\n",
       " tensor(16.7222, device='cuda:0'),\n",
       " tensor(14.0870, device='cuda:0'),\n",
       " tensor(20.4848, device='cuda:0'),\n",
       " tensor(17.7500, device='cuda:0'),\n",
       " tensor(14.2075, device='cuda:0'),\n",
       " tensor(16.4792, device='cuda:0'),\n",
       " tensor(22.2703, device='cuda:0'),\n",
       " tensor(42.1500, device='cuda:0'),\n",
       " tensor(10.5176, device='cuda:0'),\n",
       " tensor(23.8462, device='cuda:0'),\n",
       " tensor(28.8182, device='cuda:0'),\n",
       " tensor(30.5938, device='cuda:0'),\n",
       " tensor(31.5312, device='cuda:0'),\n",
       " tensor(21.5510, device='cuda:0'),\n",
       " tensor(16.9394, device='cuda:0'),\n",
       " tensor(30.3947, device='cuda:0'),\n",
       " tensor(42.1071, device='cuda:0'),\n",
       " tensor(28.3488, device='cuda:0'),\n",
       " tensor(25.7959, device='cuda:0'),\n",
       " tensor(58.4545, device='cuda:0'),\n",
       " tensor(29.5556, device='cuda:0'),\n",
       " tensor(17.9740, device='cuda:0'),\n",
       " tensor(35.4500, device='cuda:0'),\n",
       " tensor(38.1316, device='cuda:0'),\n",
       " tensor(61.2917, device='cuda:0'),\n",
       " tensor(48.2903, device='cuda:0'),\n",
       " tensor(22.0423, device='cuda:0'),\n",
       " tensor(47., device='cuda:0'),\n",
       " tensor(54.2333, device='cuda:0'),\n",
       " tensor(34.7708, device='cuda:0'),\n",
       " tensor(45.9730, device='cuda:0'),\n",
       " tensor(50.9706, device='cuda:0'),\n",
       " tensor(29.3443, device='cuda:0'),\n",
       " tensor(30.1639, device='cuda:0'),\n",
       " tensor(27.2714, device='cuda:0'),\n",
       " tensor(80.5417, device='cuda:0'),\n",
       " tensor(75.3462, device='cuda:0'),\n",
       " tensor(37.0370, device='cuda:0'),\n",
       " tensor(67.5333, device='cuda:0'),\n",
       " tensor(57.1111, device='cuda:0'),\n",
       " tensor(86.6667, device='cuda:0'),\n",
       " tensor(61.8529, device='cuda:0'),\n",
       " tensor(73.4138, device='cuda:0'),\n",
       " tensor(33.0758, device='cuda:0'),\n",
       " tensor(67.1515, device='cuda:0'),\n",
       " tensor(28.8861, device='cuda:0'),\n",
       " tensor(60.8684, device='cuda:0'),\n",
       " tensor(57.4146, device='cuda:0'),\n",
       " tensor(64.5135, device='cuda:0'),\n",
       " tensor(75.3438, device='cuda:0'),\n",
       " tensor(87.0714, device='cuda:0'),\n",
       " tensor(111.8182, device='cuda:0'),\n",
       " tensor(80.3226, device='cuda:0'),\n",
       " tensor(49.7451, device='cuda:0'),\n",
       " tensor(64.0500, device='cuda:0'),\n",
       " tensor(34.0526, device='cuda:0'),\n",
       " tensor(130.4000, device='cuda:0'),\n",
       " tensor(131.3000, device='cuda:0'),\n",
       " tensor(71.9459, device='cuda:0'),\n",
       " tensor(74.7500, device='cuda:0'),\n",
       " tensor(49.8364, device='cuda:0'),\n",
       " tensor(58.0833, device='cuda:0'),\n",
       " tensor(93.8667, device='cuda:0'),\n",
       " tensor(51.1607, device='cuda:0'),\n",
       " tensor(44.3182, device='cuda:0'),\n",
       " tensor(51.2586, device='cuda:0'),\n",
       " tensor(136.0455, device='cuda:0'),\n",
       " tensor(68.9773, device='cuda:0'),\n",
       " tensor(76.5750, device='cuda:0'),\n",
       " tensor(63.3265, device='cuda:0'),\n",
       " tensor(100.7742, device='cuda:0'),\n",
       " tensor(30.9519, device='cuda:0'),\n",
       " tensor(38.2907, device='cuda:0'),\n",
       " tensor(63.1321, device='cuda:0'),\n",
       " tensor(168.1500, device='cuda:0'),\n",
       " tensor(59.8070, device='cuda:0'),\n",
       " tensor(40.9765, device='cuda:0'),\n",
       " tensor(125.2500, device='cuda:0'),\n",
       " tensor(98.3056, device='cuda:0'),\n",
       " tensor(64.9091, device='cuda:0'),\n",
       " tensor(92.5128, device='cuda:0'),\n",
       " tensor(68.9434, device='cuda:0'),\n",
       " tensor(72.4118, device='cuda:0'),\n",
       " tensor(77.8333, device='cuda:0'),\n",
       " tensor(40.1895, device='cuda:0'),\n",
       " tensor(147.7692, device='cuda:0'),\n",
       " tensor(68.4035, device='cuda:0'),\n",
       " tensor(122.7812, device='cuda:0'),\n",
       " tensor(99.1500, device='cuda:0'),\n",
       " tensor(70.2105, device='cuda:0'),\n",
       " tensor(84.3542, device='cuda:0'),\n",
       " tensor(97.4048, device='cuda:0'),\n",
       " tensor(132.8064, device='cuda:0'),\n",
       " tensor(58.1667, device='cuda:0'),\n",
       " tensor(78.5370, device='cuda:0'),\n",
       " tensor(104.4146, device='cuda:0'),\n",
       " tensor(50., device='cuda:0'),\n",
       " tensor(161.7778, device='cuda:0'),\n",
       " tensor(133.3333, device='cuda:0'),\n",
       " tensor(71.8871, device='cuda:0'),\n",
       " tensor(83.5370, device='cuda:0'),\n",
       " tensor(111.0244, device='cuda:0'),\n",
       " tensor(152.7000, device='cuda:0'),\n",
       " tensor(128.2500, device='cuda:0'),\n",
       " tensor(71.9077, device='cuda:0'),\n",
       " tensor(82.8070, device='cuda:0'),\n",
       " tensor(113.1905, device='cuda:0'),\n",
       " tensor(140.7647, device='cuda:0'),\n",
       " tensor(36.5597, device='cuda:0'),\n",
       " tensor(89.7455, device='cuda:0'),\n",
       " tensor(160.0968, device='cuda:0'),\n",
       " tensor(67.7973, device='cuda:0'),\n",
       " tensor(136.5405, device='cuda:0'),\n",
       " tensor(133.8421, device='cuda:0'),\n",
       " tensor(118.9535, device='cuda:0'),\n",
       " tensor(90.5789, device='cuda:0'),\n",
       " tensor(69.6400, device='cuda:0'),\n",
       " tensor(86.3115, device='cuda:0'),\n",
       " tensor(106.1800, device='cuda:0'),\n",
       " tensor(213.3200, device='cuda:0'),\n",
       " tensor(53.7525, device='cuda:0'),\n",
       " tensor(181.9667, device='cuda:0'),\n",
       " tensor(137.4250, device='cuda:0'),\n",
       " tensor(99.1250, device='cuda:0'),\n",
       " tensor(105.6792, device='cuda:0'),\n",
       " tensor(170.7273, device='cuda:0'),\n",
       " tensor(129.0227, device='cuda:0'),\n",
       " tensor(104.1455, device='cuda:0'),\n",
       " tensor(205.5000, device='cuda:0'),\n",
       " tensor(42.3741, device='cuda:0'),\n",
       " tensor(156., device='cuda:0'),\n",
       " tensor(68.7701, device='cuda:0'),\n",
       " tensor(80.6267, device='cuda:0'),\n",
       " tensor(117.1923, device='cuda:0'),\n",
       " tensor(161.0789, device='cuda:0'),\n",
       " tensor(204.7000, device='cuda:0'),\n",
       " tensor(150.7317, device='cuda:0'),\n",
       " tensor(102.2131, device='cuda:0'),\n",
       " tensor(184.3824, device='cuda:0'),\n",
       " tensor(69.4286, device='cuda:0'),\n",
       " tensor(106.2667, device='cuda:0'),\n",
       " tensor(183.0286, device='cuda:0'),\n",
       " tensor(92.3857, device='cuda:0'),\n",
       " tensor(180.6111, device='cuda:0'),\n",
       " tensor(261., device='cuda:0'),\n",
       " tensor(102.7188, device='cuda:0'),\n",
       " tensor(165.2000, device='cuda:0'),\n",
       " tensor(170.4359, device='cuda:0'),\n",
       " tensor(97.1159, device='cuda:0'),\n",
       " tensor(122.6727, device='cuda:0'),\n",
       " tensor(138.5918, device='cuda:0'),\n",
       " tensor(58.0588, device='cuda:0'),\n",
       " tensor(216.9062, device='cuda:0'),\n",
       " tensor(174.2500, device='cuda:0'),\n",
       " tensor(163., device='cuda:0'),\n",
       " tensor(270.5769, device='cuda:0'),\n",
       " tensor(122.2069, device='cuda:0'),\n",
       " tensor(78.6374, device='cuda:0'),\n",
       " tensor(266., device='cuda:0'),\n",
       " tensor(74.9484, device='cuda:0'),\n",
       " tensor(280.6154, device='cuda:0'),\n",
       " tensor(271.2222, device='cuda:0'),\n",
       " tensor(210.2286, device='cuda:0'),\n",
       " tensor(148.1200, device='cuda:0'),\n",
       " tensor(138.1111, device='cuda:0'),\n",
       " tensor(249.6000, device='cuda:0'),\n",
       " tensor(156.9375, device='cuda:0'),\n",
       " tensor(168.3111, device='cuda:0'),\n",
       " tensor(200.2368, device='cuda:0'),\n",
       " tensor(224.7941, device='cuda:0'),\n",
       " tensor(219.2857, device='cuda:0'),\n",
       " tensor(106.0548, device='cuda:0'),\n",
       " tensor(155.6800, device='cuda:0'),\n",
       " tensor(244.2500, device='cuda:0'),\n",
       " tensor(151.2115, device='cuda:0'),\n",
       " tensor(179.5682, device='cuda:0'),\n",
       " tensor(98.5309, device='cuda:0'),\n",
       " tensor(235.7353, device='cuda:0'),\n",
       " tensor(158.1176, device='cuda:0'),\n",
       " tensor(288.9643, device='cuda:0'),\n",
       " tensor(184.7955, device='cuda:0'),\n",
       " tensor(134.2951, device='cuda:0'),\n",
       " tensor(144.5965, device='cuda:0'),\n",
       " tensor(236.3429, device='cuda:0'),\n",
       " tensor(296.4286, device='cuda:0'),\n",
       " tensor(225.3243, device='cuda:0'),\n",
       " tensor(174.6875, device='cuda:0'),\n",
       " tensor(84.6600, device='cuda:0'),\n",
       " tensor(202.5476, device='cuda:0'),\n",
       " tensor(224.8684, device='cuda:0'),\n",
       " tensor(101.1176, device='cuda:0'),\n",
       " tensor(297.2069, device='cuda:0'),\n",
       " tensor(345.5600, device='cuda:0'),\n",
       " tensor(188.7174, device='cuda:0'),\n",
       " tensor(248.9714, device='cuda:0'),\n",
       " tensor(273.3125, device='cuda:0'),\n",
       " tensor(219.6000, device='cuda:0'),\n",
       " tensor(259.2941, device='cuda:0'),\n",
       " tensor(167.3019, device='cuda:0'),\n",
       " tensor(86.9806, device='cuda:0'),\n",
       " tensor(309.8965, device='cuda:0'),\n",
       " tensor(257.7429, device='cuda:0'),\n",
       " tensor(184.8979, device='cuda:0'),\n",
       " tensor(97.2766, device='cuda:0'),\n",
       " tensor(173.4906, device='cuda:0'),\n",
       " tensor(159.3621, device='cuda:0'),\n",
       " tensor(136.8676, device='cuda:0'),\n",
       " tensor(259.5278, device='cuda:0'),\n",
       " tensor(195.6250, device='cuda:0'),\n",
       " tensor(224.3333, device='cuda:0'),\n",
       " tensor(169.0536, device='cuda:0'),\n",
       " tensor(243.6667, device='cuda:0'),\n",
       " tensor(396.9167, device='cuda:0'),\n",
       " tensor(180.5660, device='cuda:0'),\n",
       " tensor(330.9310, device='cuda:0'),\n",
       " tensor(128.8533, device='cuda:0'),\n",
       " tensor(277., device='cuda:0'),\n",
       " tensor(388.6000, device='cuda:0'),\n",
       " tensor(216.8445, device='cuda:0'),\n",
       " tensor(296.6970, device='cuda:0'),\n",
       " tensor(350.6429, device='cuda:0'),\n",
       " tensor(141.1714, device='cuda:0'),\n",
       " tensor(132.5200, device='cuda:0'),\n",
       " tensor(343.5172, device='cuda:0'),\n",
       " tensor(344.4483, device='cuda:0'),\n",
       " tensor(130.5584, device='cuda:0'),\n",
       " tensor(126.6375, device='cuda:0'),\n",
       " tensor(254.2500, device='cuda:0'),\n",
       " tensor(249.0244, device='cuda:0'),\n",
       " tensor(233.0227, device='cuda:0'),\n",
       " tensor(257.3000, device='cuda:0'),\n",
       " tensor(258.2750, device='cuda:0'),\n",
       " tensor(162.3594, device='cuda:0'),\n",
       " tensor(347.3000, device='cuda:0'),\n",
       " tensor(282.5946, device='cuda:0'),\n",
       " tensor(299.6286, device='cuda:0'),\n",
       " tensor(198.8679, device='cuda:0'),\n",
       " tensor(528., device='cuda:0'),\n",
       " tensor(302.5428, device='cuda:0'),\n",
       " tensor(408.2693, device='cuda:0'),\n",
       " tensor(236.8667, device='cuda:0'),\n",
       " tensor(323.8485, device='cuda:0'),\n",
       " tensor(282.2368, device='cuda:0'),\n",
       " tensor(149.9444, device='cuda:0'),\n",
       " tensor(101.8224, device='cuda:0'),\n",
       " tensor(116.9043, device='cuda:0'),\n",
       " tensor(275.7000, device='cuda:0'),\n",
       " tensor(283.5641, device='cuda:0'),\n",
       " tensor(277.4250, device='cuda:0'),\n",
       " tensor(166.5672, device='cuda:0'),\n",
       " tensor(329.2353, device='cuda:0'),\n",
       " tensor(280.8500, device='cuda:0'),\n",
       " tensor(274.9756, device='cuda:0'),\n",
       " tensor(169.2388, device='cuda:0'),\n",
       " tensor(270.9524, device='cuda:0'),\n",
       " tensor(168.3382, device='cuda:0'),\n",
       " tensor(244.5532, device='cuda:0'),\n",
       " tensor(329.4000, device='cuda:0'),\n",
       " tensor(428., device='cuda:0'),\n",
       " tensor(321.9445, device='cuda:0'),\n",
       " tensor(446.7693, device='cuda:0'),\n",
       " tensor(248.1489, device='cuda:0'),\n",
       " tensor(192.1475, device='cuda:0'),\n",
       " tensor(335.8571, device='cuda:0'),\n",
       " tensor(140.9405, device='cuda:0'),\n",
       " tensor(165.0694, device='cuda:0'),\n",
       " tensor(298.1250, device='cuda:0'),\n",
       " tensor(230.3077, device='cuda:0'),\n",
       " tensor(129.7204, device='cuda:0'),\n",
       " tensor(76.3563, device='cuda:0'),\n",
       " tensor(298.7561, device='cuda:0'),\n",
       " tensor(245.8200, device='cuda:0'),\n",
       " tensor(174.0845, device='cuda:0'),\n",
       " tensor(427.1379, device='cuda:0'),\n",
       " tensor(222.1607, device='cuda:0'),\n",
       " tensor(389.7812, device='cuda:0'),\n",
       " tensor(367.8235, device='cuda:0'),\n",
       " tensor(232.5556, device='cuda:0'),\n",
       " tensor(449.5000, device='cuda:0'),\n",
       " tensor(360.5714, device='cuda:0'),\n",
       " tensor(294.4186, device='cuda:0'),\n",
       " tensor(201.8889, device='cuda:0'),\n",
       " tensor(260.4898, device='cuda:0'),\n",
       " tensor(304.8333, device='cuda:0'),\n",
       " tensor(442.4828, device='cuda:0'),\n",
       " tensor(347.8108, device='cuda:0'),\n",
       " tensor(243.8113, device='cuda:0'),\n",
       " tensor(446.5862, device='cuda:0'),\n",
       " tensor(270.6875, device='cuda:0'),\n",
       " tensor(394.7273, device='cuda:0'),\n",
       " tensor(567.3044, device='cuda:0'),\n",
       " tensor(384.5882, device='cuda:0'),\n",
       " tensor(109.0413, device='cuda:0'),\n",
       " tensor(455.9655, device='cuda:0'),\n",
       " tensor(301.4318, device='cuda:0'),\n",
       " tensor(256.0385, device='cuda:0'),\n",
       " tensor(444.8000, device='cuda:0'),\n",
       " tensor(262.6078, device='cuda:0'),\n",
       " tensor(353.3421, device='cuda:0'),\n",
       " tensor(228.5085, device='cuda:0'),\n",
       " tensor(188.0972, device='cuda:0'),\n",
       " tensor(399.2647, device='cuda:0'),\n",
       " tensor(243.2500, device='cuda:0'),\n",
       " tensor(278.5714, device='cuda:0'),\n",
       " tensor(326., device='cuda:0'),\n",
       " tensor(249.6000, device='cuda:0'),\n",
       " tensor(305.9111, device='cuda:0'),\n",
       " tensor(328.7143, device='cuda:0'),\n",
       " tensor(256.5556, device='cuda:0'),\n",
       " tensor(495.7143, device='cuda:0'),\n",
       " tensor(278.5400, device='cuda:0'),\n",
       " tensor(465.2334, device='cuda:0'),\n",
       " tensor(291.4792, device='cuda:0'),\n",
       " tensor(483.4483, device='cuda:0'),\n",
       " tensor(334.7381, device='cuda:0'),\n",
       " tensor(155.4396, device='cuda:0'),\n",
       " tensor(524.7778, device='cuda:0'),\n",
       " tensor(430.3636, device='cuda:0'),\n",
       " tensor(618.4348, device='cuda:0'),\n",
       " tensor(69.0096, device='cuda:0'),\n",
       " tensor(301.4792, device='cuda:0'),\n",
       " tensor(223.5231, device='cuda:0'),\n",
       " tensor(469.5161, device='cuda:0'),\n",
       " tensor(583.2000, device='cuda:0'),\n",
       " tensor(215.2794, device='cuda:0'),\n",
       " tensor(431.4412, device='cuda:0'),\n",
       " tensor(587.6800, device='cuda:0'),\n",
       " tensor(474.8387, device='cuda:0'),\n",
       " tensor(508.5862, device='cuda:0'),\n",
       " tensor(289.9020, device='cuda:0'),\n",
       " tensor(163.3956, device='cuda:0'),\n",
       " tensor(338.9318, device='cuda:0'),\n",
       " tensor(678.8636, device='cuda:0'),\n",
       " tensor(272.0909, device='cuda:0'),\n",
       " tensor(234.8125, device='cuda:0'),\n",
       " tensor(537.5715, device='cuda:0'),\n",
       " tensor(243.7258, device='cuda:0'),\n",
       " tensor(275.6909, device='cuda:0'),\n",
       " tensor(506.4333, device='cuda:0'),\n",
       " tensor(179.6588, device='cuda:0'),\n",
       " tensor(546.3929, device='cuda:0'),\n",
       " tensor(365.2619, device='cuda:0'),\n",
       " tensor(480.3438, device='cuda:0'),\n",
       " tensor(327.9362, device='cuda:0'),\n",
       " tensor(593.7692, device='cuda:0'),\n",
       " tensor(234.8333, device='cuda:0'),\n",
       " tensor(674.8696, device='cuda:0'),\n",
       " tensor(457.4118, device='cuda:0'),\n",
       " tensor(251.7903, device='cuda:0'),\n",
       " tensor(744.1429, device='cuda:0'),\n",
       " tensor(652.1250, device='cuda:0'),\n",
       " tensor(435.7500, device='cuda:0'),\n",
       " tensor(383.4634, device='cuda:0'),\n",
       " tensor(477.3333, device='cuda:0'),\n",
       " tensor(219.7500, device='cuda:0'),\n",
       " tensor(386.9024, device='cuda:0'),\n",
       " tensor(311.9608, device='cuda:0'),\n",
       " tensor(242., device='cuda:0'),\n",
       " tensor(470.7647, device='cuda:0'),\n",
       " tensor(263.3770, device='cuda:0'),\n",
       " tensor(392.8536, device='cuda:0'),\n",
       " tensor(264.6557, device='cuda:0'),\n",
       " tensor(414.9487, device='cuda:0'),\n",
       " tensor(295.1818, device='cuda:0'),\n",
       " tensor(478.4706, device='cuda:0'),\n",
       " tensor(201.7778, device='cuda:0'),\n",
       " tensor(584.4286, device='cuda:0'),\n",
       " tensor(127.7674, device='cuda:0'),\n",
       " tensor(359.3044, device='cuda:0'),\n",
       " tensor(473.2286, device='cuda:0'),\n",
       " tensor(224.6892, device='cuda:0'),\n",
       " tensor(340.2449, device='cuda:0'),\n",
       " tensor(334.3600, device='cuda:0'),\n",
       " tensor(429.6667, device='cuda:0'),\n",
       " tensor(390.6744, device='cuda:0'),\n",
       " tensor(185.3736, device='cuda:0'),\n",
       " tensor(703.8750, device='cuda:0'),\n",
       " tensor(264.9062, device='cuda:0'),\n",
       " tensor(147.0862, device='cuda:0'),\n",
       " tensor(427.5000, device='cuda:0'),\n",
       " tensor(323.3396, device='cuda:0'),\n",
       " tensor(440.3846, device='cuda:0'),\n",
       " tensor(282.5246, device='cuda:0'),\n",
       " tensor(507.8529, device='cuda:0'),\n",
       " tensor(293.6441, device='cuda:0'),\n",
       " tensor(578.3334, device='cuda:0'),\n",
       " tensor(434.6750, device='cuda:0')]"
      ]
     },
     "execution_count": 52,
     "metadata": {},
     "output_type": "execute_result"
    }
   ],
   "source": [
    "accuracy"
   ]
  },
  {
   "cell_type": "code",
   "execution_count": 51,
   "metadata": {},
   "outputs": [
    {
     "data": {
      "text/plain": [
       "tensor(204.2037)"
      ]
     },
     "execution_count": 51,
     "metadata": {},
     "output_type": "execute_result"
    }
   ],
   "source": [
    "torch.tensor(accuracy).mean()"
   ]
  },
  {
   "cell_type": "code",
   "execution_count": 41,
   "metadata": {},
   "outputs": [
    {
     "data": {
      "text/plain": [
       "tensor(5, device='cuda:0')"
      ]
     },
     "execution_count": 41,
     "metadata": {},
     "output_type": "execute_result"
    }
   ],
   "source": [
    "(predictions[labels != -100] == labels[labels!= -100]).sum()"
   ]
  },
  {
   "cell_type": "code",
   "execution_count": 44,
   "metadata": {},
   "outputs": [
    {
     "data": {
      "text/plain": [
       "torch.Size([55])"
      ]
     },
     "execution_count": 44,
     "metadata": {},
     "output_type": "execute_result"
    }
   ],
   "source": [
    "labels[labels!= -100].shape"
   ]
  },
  {
   "cell_type": "code",
   "execution_count": 36,
   "metadata": {},
   "outputs": [
    {
     "data": {
      "text/plain": [
       "tensor([[ 3,  5,  9,  ...,  3,  3,  7],\n",
       "        [14, 22, 22,  ..., 14, 14,  3]], device='cuda:0')"
      ]
     },
     "execution_count": 36,
     "metadata": {},
     "output_type": "execute_result"
    }
   ],
   "source": [
    "outputs.logits.argmax(-1)"
   ]
  },
  {
   "cell_type": "code",
   "execution_count": 25,
   "metadata": {},
   "outputs": [],
   "source": [
    "outputs = model(\n",
    "        input_ids=input_ids.squeeze(), \n",
    "        bbox=bbox, \n",
    "        attention_mask=attention_mask.squeeze(), \n",
    "        token_type_ids=token_type_ids.squeeze(),\n",
    "        # image= image,\n",
    "        labels=labels\n",
    "      )"
   ]
  },
  {
   "cell_type": "code",
   "execution_count": null,
   "metadata": {},
   "outputs": [],
   "source": []
  },
  {
   "cell_type": "code",
   "execution_count": 77,
   "metadata": {},
   "outputs": [
    {
     "data": {
      "text/plain": [
       "torch.Size([2, 1, 512])"
      ]
     },
     "execution_count": 77,
     "metadata": {},
     "output_type": "execute_result"
    }
   ],
   "source": [
    "input_ids.shape"
   ]
  },
  {
   "cell_type": "code",
   "execution_count": 78,
   "metadata": {},
   "outputs": [
    {
     "data": {
      "text/plain": [
       "torch.Size([2, 512, 4])"
      ]
     },
     "execution_count": 78,
     "metadata": {},
     "output_type": "execute_result"
    }
   ],
   "source": [
    "bbox.shape"
   ]
  },
  {
   "cell_type": "code",
   "execution_count": 79,
   "metadata": {},
   "outputs": [
    {
     "data": {
      "text/plain": [
       "torch.Size([2, 1, 512])"
      ]
     },
     "execution_count": 79,
     "metadata": {},
     "output_type": "execute_result"
    }
   ],
   "source": [
    "attention_mask.shape"
   ]
  },
  {
   "cell_type": "code",
   "execution_count": 80,
   "metadata": {},
   "outputs": [
    {
     "data": {
      "text/plain": [
       "torch.Size([2, 1, 512])"
      ]
     },
     "execution_count": 80,
     "metadata": {},
     "output_type": "execute_result"
    }
   ],
   "source": [
    "token_type_ids.shape"
   ]
  },
  {
   "cell_type": "code",
   "execution_count": 81,
   "metadata": {},
   "outputs": [
    {
     "data": {
      "text/plain": [
       "torch.Size([2, 3, 224, 224])"
      ]
     },
     "execution_count": 81,
     "metadata": {},
     "output_type": "execute_result"
    }
   ],
   "source": [
    "\n",
    "image.shape"
   ]
  },
  {
   "cell_type": "code",
   "execution_count": 86,
   "metadata": {},
   "outputs": [
    {
     "data": {
      "text/plain": [
       "tensor([-100,    1,    3,    5,    9,   10,   13,   14,   15,   16,   22])"
      ]
     },
     "execution_count": 86,
     "metadata": {},
     "output_type": "execute_result"
    }
   ],
   "source": [
    "torch.unique(labels)\n"
   ]
  }
 ],
 "metadata": {
  "kernelspec": {
   "display_name": ".venv",
   "language": "python",
   "name": "python3"
  },
  "language_info": {
   "codemirror_mode": {
    "name": "ipython",
    "version": 3
   },
   "file_extension": ".py",
   "mimetype": "text/x-python",
   "name": "python",
   "nbconvert_exporter": "python",
   "pygments_lexer": "ipython3",
   "version": "3.9.16"
  },
  "orig_nbformat": 4
 },
 "nbformat": 4,
 "nbformat_minor": 2
}
