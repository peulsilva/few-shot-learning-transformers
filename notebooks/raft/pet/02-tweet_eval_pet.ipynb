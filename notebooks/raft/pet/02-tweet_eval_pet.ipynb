{
 "cells": [
  {
   "cell_type": "code",
   "execution_count": 1,
   "metadata": {},
   "outputs": [],
   "source": [
    "%load_ext autoreload\n",
    "%autoreload 2"
   ]
  },
  {
   "cell_type": "code",
   "execution_count": 2,
   "metadata": {},
   "outputs": [],
   "source": [
    "import transformers\n",
    "from transformers import AutoTokenizer, AutoModel, AutoModelForMaskedLM\n",
    "from datasets import load_dataset\n",
    "import torch\n",
    "from torch.nn.functional import cross_entropy\n",
    "import matplotlib.pyplot as plt\n",
    "import numpy as np\n",
    "from tqdm import tqdm\n",
    "import logging\n",
    "from torcheval.metrics.functional import multiclass_f1_score, multiclass_confusion_matrix, binary_f1_score\n",
    "from copy import deepcopy, copy\n",
    "import seaborn as sns\n",
    "import pandas as pd\n",
    "from huggingface_hub import notebook_login\n",
    "from torch.utils.data import DataLoader, Dataset\n",
    "from collections import defaultdict, deque\n",
    "from sklearn.model_selection import train_test_split\n",
    "import random\n",
    "from sentence_transformers import SentenceTransformer, InputExample, losses, evaluation\n",
    "\n",
    "import os \n",
    "while 'notebooks' in os.getcwd():\n",
    "    os.chdir(\"..\")\n",
    "\n",
    "import re\n",
    "from typing import List, Dict\n",
    "    \n",
    "from src.preprocessing.sequence_classification.dataset import get_n_shots_per_class\n",
    "from src.model.mlm.pet_for_text_classification import train \n",
    "import warnings\n",
    "warnings.filterwarnings(\"ignore\")"
   ]
  },
  {
   "cell_type": "code",
   "execution_count": 3,
   "metadata": {},
   "outputs": [
    {
     "name": "stdout",
     "output_type": "stream",
     "text": [
      "mkdir: cannot create directory ‘logs’: File exists\n"
     ]
    }
   ],
   "source": [
    "device = \"cuda\" if torch.cuda.is_available() else \"cpu\"\n",
    "!mkdir logs\n",
    "model_name = \"PET\"\n",
    "dataset_name = \"RAFT-TWITTER-EMOTION\"\n",
    "logging.basicConfig(filename=f'logs/{model_name}_{dataset_name}.log', encoding='utf-8', level= logging.INFO)\n",
    "device = \"cuda\" if torch.cuda.is_available() else \"cpu\""
   ]
  },
  {
   "cell_type": "markdown",
   "metadata": {},
   "source": [
    "## Loading dataset"
   ]
  },
  {
   "cell_type": "code",
   "execution_count": 4,
   "metadata": {},
   "outputs": [],
   "source": [
    "dataset = load_dataset(\n",
    "    \"tweet_eval\", \n",
    "    name= \"emotion\",\n",
    "    cache_dir= \"/Data/pedro.silva\"\n",
    ")"
   ]
  },
  {
   "cell_type": "code",
   "execution_count": 5,
   "metadata": {},
   "outputs": [
    {
     "data": {
      "text/plain": [
       "(array([0, 1, 2, 3]), array([1400,  708,  294,  855]))"
      ]
     },
     "execution_count": 5,
     "metadata": {},
     "output_type": "execute_result"
    }
   ],
   "source": [
    "classes = np.unique(dataset['train']['label'], return_counts=True)\n",
    "classes"
   ]
  },
  {
   "cell_type": "code",
   "execution_count": 6,
   "metadata": {},
   "outputs": [],
   "source": [
    ".7\n",
    "def stratified_train_test_split(\n",
    "    dataset : Dataset,\n",
    "    classes : np.ndarray,\n",
    "    train_size : float\n",
    "):\n",
    "    \"\"\"Performs train test split keeping class distributions\n",
    "\n",
    "    Args:\n",
    "        dataset (Dataset): _description_\n",
    "        classes (np.ndarray): _description_\n",
    "        train_size (float): _description_\n",
    "\n",
    "    Returns:\n",
    "        _type_: _description_\n",
    "    \"\"\"    \n",
    "\n",
    "    if isinstance(dataset, pd.DataFrame):\n",
    "        df = dataset\n",
    "\n",
    "    else:\n",
    "        df = dataset.to_pandas()\n",
    "        \n",
    "    indexes_dict = {}\n",
    "    for label in classes[0]:\n",
    "        indexes_dict[label] = df.query(f\"label == {label}\")\n",
    "\n",
    "\n",
    "    \n",
    "    train_data = {\n",
    "        'label': [],\n",
    "        'text': []\n",
    "    }\n",
    "\n",
    "    validation_data = {\n",
    "        \"label\" : [],\n",
    "        \"text\": []\n",
    "    }\n",
    "\n",
    "    class_proportion = df['label'].value_counts()/len(df)\n",
    "\n",
    "    # generating train data\n",
    "    for label in classes[0]:\n",
    "        n = len(indexes_dict[label])\n",
    "\n",
    "        if isinstance(train_size, int):\n",
    "            size = round(class_proportion[label] * train_size)\n",
    "            \n",
    "        else:\n",
    "            size = int(train_size * n)\n",
    "\n",
    "        train_data['text'] += df.query(f\"label == {label}\")\\\n",
    "            [0:size]\\\n",
    "            ['text']\\\n",
    "            .to_list()\n",
    "        \n",
    "        train_data['label'] += [label]*size\n",
    "        \n",
    "        validation_data['text'] +=df.query(f\"label == {label}\")\\\n",
    "            [size:]\\\n",
    "            ['text']\\\n",
    "            .to_list()\n",
    "        \n",
    "        validation_data['label'] += [label]* (n-size)\n",
    "\n",
    "    return train_data, validation_data"
   ]
  },
  {
   "cell_type": "markdown",
   "metadata": {},
   "source": [
    "## Few shot learning study - 50 shots"
   ]
  },
  {
   "cell_type": "code",
   "execution_count": 7,
   "metadata": {},
   "outputs": [],
   "source": [
    "classes = np.unique(dataset['train']['label'], return_counts=True)\n",
    "train_validation, test_df = stratified_train_test_split(\n",
    "    dataset['train'],\n",
    "    classes,\n",
    "    train_size = 50\n",
    ")"
   ]
  },
  {
   "cell_type": "code",
   "execution_count": 8,
   "metadata": {},
   "outputs": [],
   "source": [
    "train_df, val_df  = stratified_train_test_split(\n",
    "    pd.DataFrame(train_validation),\n",
    "    classes,\n",
    "    30\n",
    ")"
   ]
  },
  {
   "cell_type": "code",
   "execution_count": 9,
   "metadata": {},
   "outputs": [],
   "source": [
    "val_df = pd.DataFrame(val_df).to_dict('list')\n",
    "test_df = pd.DataFrame(test_df).sample(n = 1000).to_dict('list')"
   ]
  },
  {
   "cell_type": "code",
   "execution_count": 10,
   "metadata": {},
   "outputs": [],
   "source": [
    "def pattern1(text: str, tokenizer : AutoTokenizer):\n",
    "    return f\"{text} The previous text refers to anger, joy, optimism or sadness ? {tokenizer.mask_token}\""
   ]
  },
  {
   "cell_type": "code",
   "execution_count": 11,
   "metadata": {},
   "outputs": [],
   "source": [
    "\n",
    "tokenizer = AutoTokenizer.from_pretrained(\"distilbert-base-uncased\",\n",
    "                                          cache_dir = \"/Data/pedro.silva\")\n",
    "class_names = [\"anger\", \"joy\", \"optimism\", \"sadness\"]\n",
    "\n",
    "idx2class = {i : v for i,v in enumerate(class_names)}\n",
    "\n",
    "class2idx = {v:i for i, v in enumerate(class_names)}\n",
    "\n",
    "\n",
    "verbalizer = {idx : tokenizer.vocab[x.lower()] for idx, x in enumerate(class_names)}\n",
    "inverse_verbalizer = {tokenizer.vocab[x.lower()] : idx for idx, x in enumerate(class_names)}"
   ]
  },
  {
   "cell_type": "code",
   "execution_count": 12,
   "metadata": {},
   "outputs": [
    {
     "data": {
      "text/plain": [
       "{0: 4963, 1: 6569, 2: 27451, 3: 12039}"
      ]
     },
     "execution_count": 12,
     "metadata": {},
     "output_type": "execute_result"
    }
   ],
   "source": [
    "verbalizer"
   ]
  },
  {
   "cell_type": "code",
   "execution_count": 13,
   "metadata": {},
   "outputs": [],
   "source": [
    "\n",
    "def preprocess(text : List[str], labels : List[int]):\n",
    "\n",
    "    processed_text = []\n",
    "    processed_labels = []\n",
    "    for idx in range(len(text)):\n",
    "        label = idx2class[labels[idx]]\n",
    "        text_ = text[idx]\n",
    "\n",
    "        processed_text.append(pattern1(text_, tokenizer))\n",
    "        processed_labels.append(label)\n",
    "\n",
    "    return processed_text, processed_labels"
   ]
  },
  {
   "cell_type": "code",
   "execution_count": 14,
   "metadata": {},
   "outputs": [],
   "source": [
    "train_text, train_labels = preprocess(train_df['text'], train_df['label'])\n",
    "val_text, val_labels = preprocess(val_df['text'], val_df['label'])\n",
    "test_text, test_labels = preprocess(test_df['text'], test_df['label'])"
   ]
  },
  {
   "cell_type": "code",
   "execution_count": 15,
   "metadata": {},
   "outputs": [],
   "source": [
    "class PETDatasetForClassification(Dataset):\n",
    "    def __init__(\n",
    "        self, \n",
    "        processed_text : List[str], \n",
    "        labels : List[int],\n",
    "        tokenizer : AutoTokenizer,\n",
    "        device : str = \"cuda\"\n",
    "    ) -> None:\n",
    "        super().__init__()\n",
    "\n",
    "        self.tokens = tokenizer(\n",
    "            processed_text,\n",
    "            return_tensors=\"pt\",\n",
    "            padding=\"max_length\",\n",
    "            truncation=True\n",
    "        )\n",
    "        self.encoded_labels = deepcopy(self.tokens['input_ids'])\n",
    "        \n",
    "        self.encoded_labels[self.encoded_labels != tokenizer.mask_token_id] = -100\n",
    "\n",
    "        for idx, sentence in tqdm(enumerate(self.encoded_labels)):\n",
    "            sentence[sentence == tokenizer.mask_token_id] = tokenizer.vocab[labels[idx].lower()]\n",
    "\n",
    "        self.inputs : Dict[str, torch.Tensor] = self.tokens\n",
    "        self.inputs['labels'] = self.encoded_labels\n",
    "\n",
    "        for k,v in self.inputs.items():\n",
    "            self.inputs[k] = v.to(device)\n",
    "\n",
    "    def __getitem__(self, index):\n",
    "        d : Dict = dict()\n",
    "        for key in self.inputs.keys():\n",
    "            d[key] = self.inputs[key][index]\n",
    "\n",
    "        return d\n",
    "    \n",
    "    def __len__(self):\n",
    "        return self.tokens['input_ids'].shape[0]"
   ]
  },
  {
   "cell_type": "code",
   "execution_count": 16,
   "metadata": {},
   "outputs": [
    {
     "name": "stderr",
     "output_type": "stream",
     "text": [
      "31it [00:00, 99.75it/s] \n",
      "19it [00:00, 107.62it/s]\n",
      "1000it [00:09, 104.27it/s]\n"
     ]
    }
   ],
   "source": [
    "train_dataset = PETDatasetForClassification(\n",
    "    train_text,\n",
    "    train_labels,\n",
    "    tokenizer\n",
    ")\n",
    "\n",
    "val_dataset = PETDatasetForClassification(\n",
    "    val_text,\n",
    "    val_labels,\n",
    "    tokenizer\n",
    ")\n",
    "\n",
    "test_dataset = PETDatasetForClassification(\n",
    "    test_text,\n",
    "    test_labels,\n",
    "    tokenizer\n",
    ")"
   ]
  },
  {
   "cell_type": "code",
   "execution_count": 17,
   "metadata": {},
   "outputs": [],
   "source": [
    "train_dataloader = DataLoader(train_dataset, shuffle= True)\n",
    "val_dataloader =DataLoader(val_dataset)\n",
    "test_dataloader = DataLoader(test_dataset)"
   ]
  },
  {
   "cell_type": "code",
   "execution_count": 18,
   "metadata": {},
   "outputs": [
    {
     "data": {
      "text/plain": [
       "(array([ 2.38461538,  4.42857143, 10.33333333,  3.875     ]),\n",
       " array([2.375, 4.75 , 9.5  , 3.8  ]),\n",
       " array([ 2.42130751,  4.58715596, 11.23595506,  3.57142857]))"
      ]
     },
     "execution_count": 18,
     "metadata": {},
     "output_type": "execute_result"
    }
   ],
   "source": [
    "_, class_counts = np.unique(\n",
    "    train_df['label'],\n",
    "    return_counts=True,\n",
    ")\n",
    "\n",
    "alpha = len(train_df['label'])/class_counts\n",
    "\n",
    "# ------------ val -----------------------------------\n",
    "\n",
    "_, class_counts_val = np.unique(\n",
    "    val_df['label'],\n",
    "    return_counts=True,\n",
    ")\n",
    "alpha_val = len(val_df['label'])/class_counts_val\n",
    "\n",
    "# ----------- test ------------------------------------\n",
    "\n",
    "_, class_counts_test = np.unique(\n",
    "    test_df['label'],\n",
    "    return_counts=True,\n",
    ")\n",
    "alpha_test = len(test_df['label'])/class_counts_test\n",
    "alpha, alpha_val, alpha_test"
   ]
  },
  {
   "cell_type": "code",
   "execution_count": 19,
   "metadata": {},
   "outputs": [],
   "source": [
    "from src.utils import FocalLoss"
   ]
  },
  {
   "cell_type": "code",
   "execution_count": 20,
   "metadata": {},
   "outputs": [
    {
     "data": {
      "text/plain": [
       "(array([0, 1, 2, 3]), array([1400,  708,  294,  855]))"
      ]
     },
     "execution_count": 20,
     "metadata": {},
     "output_type": "execute_result"
    }
   ],
   "source": [
    "classes"
   ]
  },
  {
   "cell_type": "code",
   "execution_count": 29,
   "metadata": {},
   "outputs": [
    {
     "name": "stdout",
     "output_type": "stream",
     "text": [
      "Epoch 19\n",
      "f1-score : 0.4210526645183563\n",
      "tensor([[3, 0, 0, 5],\n",
      "        [1, 0, 0, 3],\n",
      "        [1, 0, 0, 1],\n",
      "        [0, 0, 0, 5]], device='cuda:0')\n"
     ]
    }
   ],
   "source": [
    "model = AutoModelForMaskedLM.from_pretrained(\"distilbert-base-uncased\",\n",
    "                                             cache_dir = \"/Data/pedro.silva\").to(device)\n",
    "history, confusion_matrix, best_model = train(\n",
    "    train_dataloader,\n",
    "    val_dataloader,\n",
    "    num_classes = len(class_names),\n",
    "    model = model,\n",
    "    verbalizer = verbalizer,\n",
    "    tokenizer=tokenizer,\n",
    "    alpha = 1e-6,\n",
    "    lr=1e-4,\n",
    "    evaluation_fn= multiclass_f1_score,\n",
    "    loss_fn=FocalLoss(alpha, gamma=1),\n",
    "    n_epochs=10\n",
    ")"
   ]
  },
  {
   "cell_type": "code",
   "execution_count": 30,
   "metadata": {},
   "outputs": [
    {
     "data": {
      "text/plain": [
       "<matplotlib.legend.Legend at 0x7f47d872ff70>"
      ]
     },
     "execution_count": 30,
     "metadata": {},
     "output_type": "execute_result"
    },
    {
     "data": {
      "image/png": "[encoded data removed]",
      "text/plain": [
       "<Figure size 640x480 with 1 Axes>"
      ]
     },
     "metadata": {},
     "output_type": "display_data"
    }
   ],
   "source": [
    "plt.plot(history)\n",
    "plt.scatter(\n",
    "    np.argmax(history),\n",
    "    np.max(history),\n",
    "    label = f\"f1 = {np.max(history)}\",\n",
    "    c = \"green\"\n",
    ")\n",
    "\n",
    "plt.grid()\n",
    "plt.title(\"F1 score over epochs\")\n",
    "plt.xlabel(\"epoch\")\n",
    "plt.ylabel(\"F1 score\")\n",
    "plt.legend()"
   ]
  },
  {
   "cell_type": "code",
   "execution_count": 31,
   "metadata": {},
   "outputs": [
    {
     "data": {
      "text/plain": [
       "Text(0.5, 1.0, 'Confusion Matrix RAFT-TWITTER-EMOTION - PET')"
      ]
     },
     "execution_count": 31,
     "metadata": {},
     "output_type": "execute_result"
    },
    {
     "data": {
      "image/png": "[encoded data removed]",
      "text/plain": [
       "<Figure size 640x480 with 2 Axes>"
      ]
     },
     "metadata": {},
     "output_type": "display_data"
    }
   ],
   "source": [
    "df = pd.DataFrame(\n",
    "    confusion_matrix.to(\"cpu\").numpy(),\n",
    "    index = class_names,\n",
    "    columns=class_names\n",
    "    \n",
    ")\n",
    "\n",
    "sns.heatmap(\n",
    "    df,\n",
    "    annot = True,\n",
    "    fmt = '2g',\n",
    ")\n",
    "\n",
    "plt.title(f\"Confusion Matrix {dataset_name} - PET\")"
   ]
  },
  {
   "cell_type": "markdown",
   "metadata": {},
   "source": [
    "## Test results"
   ]
  },
  {
   "cell_type": "code",
   "execution_count": 32,
   "metadata": {},
   "outputs": [],
   "source": [
    "from src.model.mlm.pet_for_text_classification import get_y_true"
   ]
  },
  {
   "cell_type": "code",
   "execution_count": 33,
   "metadata": {},
   "outputs": [
    {
     "name": "stderr",
     "output_type": "stream",
     "text": [
      "  0%|          | 0/1000 [00:00<?, ?it/s]"
     ]
    },
    {
     "name": "stderr",
     "output_type": "stream",
     "text": [
      "100%|██████████| 1000/1000 [00:09<00:00, 109.72it/s]\n"
     ]
    }
   ],
   "source": [
    "with torch.no_grad():\n",
    "    y_true_test = torch.tensor([],device=device)\n",
    "    y_pred_test = torch.tensor([],device=device)\n",
    "\n",
    "    for input in tqdm(test_dataloader):\n",
    "        out = best_model(**input)\n",
    "\n",
    "        y_true = get_y_true(\n",
    "            input,\n",
    "            inverse_verbalizer\n",
    "        )\n",
    "\n",
    "        try:\n",
    "            mask_token_index = torch.where(input[\"input_ids\"] == tokenizer.mask_token_id)[1]\n",
    "\n",
    "        except:\n",
    "            mask_token_index = torch.where(input[\"input_ids\"] == tokenizer.mask_token_id)[0]\n",
    "        mask_token_logits = out.logits[0, mask_token_index, :]\n",
    "        \n",
    "        predictions = torch.Tensor(\n",
    "            [mask_token_logits[0,x] for x in verbalizer.values()]\n",
    "        )\n",
    "\n",
    "        y_pred = predictions.argmax().to(device)\n",
    "\n",
    "        y_pred_test = torch.cat([\n",
    "            y_pred_test, \n",
    "            torch.tensor([y_pred]).to(device)\n",
    "        ])\n",
    "\n",
    "        y_true_test = torch.cat([\n",
    "            y_true_test,\n",
    "            torch.tensor([y_true]).to(device)\n",
    "        ])\n",
    "    \n",
    "    f1 = multiclass_f1_score(\n",
    "        y_pred_test,\n",
    "        y_true_test,\n",
    "        num_classes= len(classes[0])\n",
    "    )"
   ]
  },
  {
   "cell_type": "code",
   "execution_count": null,
   "metadata": {},
   "outputs": [],
   "source": []
  },
  {
   "cell_type": "code",
   "execution_count": 34,
   "metadata": {},
   "outputs": [
    {
     "data": {
      "text/plain": [
       "tensor(0.6480, device='cuda:0')"
      ]
     },
     "execution_count": 34,
     "metadata": {},
     "output_type": "execute_result"
    }
   ],
   "source": [
    "f1"
   ]
  },
  {
   "cell_type": "code",
   "execution_count": 37,
   "metadata": {},
   "outputs": [
    {
     "data": {
      "text/plain": [
       "Text(0.5, 1.0, 'Confusion Matrix RAFT-TWITTER-EMOTION - PET')"
      ]
     },
     "execution_count": 37,
     "metadata": {},
     "output_type": "execute_result"
    },
    {
     "data": {
      "image/png": "[encoded data removed]",
      "text/plain": [
       "<Figure size 640x480 with 2 Axes>"
      ]
     },
     "metadata": {},
     "output_type": "display_data"
    }
   ],
   "source": [
    "conf_matrix = multiclass_confusion_matrix(\n",
    "    y_pred_test.to(torch.int64),\n",
    "    y_true_test.to(torch.int64),\n",
    "    num_classes= len(classes[0])\n",
    ")\n",
    "\n",
    "df = pd.DataFrame(\n",
    "    conf_matrix.to(\"cpu\").numpy(),\n",
    "    index = class_names,\n",
    "    columns=class_names\n",
    "    \n",
    ")\n",
    "\n",
    "sns.heatmap(\n",
    "    df,\n",
    "    annot = True,\n",
    "    fmt = '2g',\n",
    ")\n",
    "\n",
    "plt.title(f\"Confusion Matrix {dataset_name} - PET\")"
   ]
  },
  {
   "cell_type": "markdown",
   "metadata": {},
   "source": [
    "## General approach - 500 shots"
   ]
  },
  {
   "cell_type": "code",
   "execution_count": 35,
   "metadata": {},
   "outputs": [],
   "source": [
    "classes = np.unique(dataset['train']['label'], return_counts=True)\n",
    "n_shots = 500\n",
    "train_validation, test_df = stratified_train_test_split(\n",
    "    dataset['train'],\n",
    "    classes,\n",
    "    train_size = n_shots\n",
    ")"
   ]
  },
  {
   "cell_type": "code",
   "execution_count": 36,
   "metadata": {},
   "outputs": [],
   "source": [
    "train_df, val_df = stratified_train_test_split(\n",
    "    pd.DataFrame(train_validation),\n",
    "    classes,\n",
    "    300\n",
    ")"
   ]
  },
  {
   "cell_type": "code",
   "execution_count": 37,
   "metadata": {},
   "outputs": [],
   "source": [
    "val_df = pd.DataFrame(val_df).to_dict('list')\n",
    "test_df = pd.DataFrame(test_df).sample(n = 1000).to_dict('list')"
   ]
  },
  {
   "cell_type": "code",
   "execution_count": 38,
   "metadata": {},
   "outputs": [],
   "source": [
    "def pattern1(text: str, tokenizer : AutoTokenizer):\n",
    "    return f\"{text} The previous text refers to anger, joy, optimism or sadness ? {tokenizer.mask_token}\""
   ]
  },
  {
   "cell_type": "code",
   "execution_count": 39,
   "metadata": {},
   "outputs": [],
   "source": [
    "\n",
    "tokenizer = AutoTokenizer.from_pretrained(\"distilbert-base-uncased\",\n",
    "                                          cache_dir = \"/Data/pedro.silva\")\n",
    "class_names = [\"anger\", \"joy\", \"optimism\", \"sadness\"]\n",
    "\n",
    "idx2class = {i : v for i,v in enumerate(class_names)}\n",
    "\n",
    "class2idx = {v:i for i, v in enumerate(class_names)}\n",
    "\n",
    "\n",
    "verbalizer = {idx : tokenizer.vocab[x.lower()] for idx, x in enumerate(class_names)}\n",
    "inverse_verbalizer = {tokenizer.vocab[x.lower()] : idx for idx, x in enumerate(class_names)}"
   ]
  },
  {
   "cell_type": "code",
   "execution_count": 40,
   "metadata": {},
   "outputs": [
    {
     "data": {
      "text/plain": [
       "{0: 4963, 1: 6569, 2: 27451, 3: 12039}"
      ]
     },
     "execution_count": 40,
     "metadata": {},
     "output_type": "execute_result"
    }
   ],
   "source": [
    "verbalizer"
   ]
  },
  {
   "cell_type": "code",
   "execution_count": 41,
   "metadata": {},
   "outputs": [],
   "source": [
    "\n",
    "def preprocess(text : List[str], labels : List[int]):\n",
    "\n",
    "    processed_text = []\n",
    "    processed_labels = []\n",
    "    for idx in range(len(text)):\n",
    "        label = idx2class[labels[idx]]\n",
    "        text_ = text[idx]\n",
    "\n",
    "        processed_text.append(pattern1(text_, tokenizer))\n",
    "        processed_labels.append(label)\n",
    "\n",
    "    return processed_text, processed_labels"
   ]
  },
  {
   "cell_type": "code",
   "execution_count": 42,
   "metadata": {},
   "outputs": [],
   "source": [
    "train_text, train_labels = preprocess(train_df['text'], train_df['label'])\n",
    "val_text, val_labels = preprocess(val_df['text'], val_df['label'])\n",
    "test_text, test_labels = preprocess(test_df['text'], test_df['label'])"
   ]
  },
  {
   "cell_type": "code",
   "execution_count": 43,
   "metadata": {},
   "outputs": [],
   "source": [
    "class PETDatasetForClassification(Dataset):\n",
    "    def __init__(\n",
    "        self, \n",
    "        processed_text : List[str], \n",
    "        labels : List[int],\n",
    "        tokenizer : AutoTokenizer,\n",
    "        device : str = \"cuda\"\n",
    "    ) -> None:\n",
    "        super().__init__()\n",
    "\n",
    "        self.tokens = tokenizer(\n",
    "            processed_text,\n",
    "            return_tensors=\"pt\",\n",
    "            padding=\"max_length\",\n",
    "            truncation=True\n",
    "        )\n",
    "        self.encoded_labels = deepcopy(self.tokens['input_ids'])\n",
    "        \n",
    "        self.encoded_labels[self.encoded_labels != tokenizer.mask_token_id] = -100\n",
    "\n",
    "        for idx, sentence in tqdm(enumerate(self.encoded_labels)):\n",
    "            sentence[sentence == tokenizer.mask_token_id] = tokenizer.vocab[labels[idx].lower()]\n",
    "\n",
    "        self.inputs : Dict[str, torch.Tensor] = self.tokens\n",
    "        self.inputs['labels'] = self.encoded_labels\n",
    "\n",
    "        for k,v in self.inputs.items():\n",
    "            self.inputs[k] = v.to(device)\n",
    "\n",
    "    def __getitem__(self, index):\n",
    "        d : Dict = dict()\n",
    "        for key in self.inputs.keys():\n",
    "            d[key] = self.inputs[key][index]\n",
    "\n",
    "        return d\n",
    "    \n",
    "    def __len__(self):\n",
    "        return self.tokens['input_ids'].shape[0]"
   ]
  },
  {
   "cell_type": "code",
   "execution_count": 44,
   "metadata": {},
   "outputs": [
    {
     "name": "stderr",
     "output_type": "stream",
     "text": [
      "300it [00:02, 105.85it/s]\n",
      "200it [00:01, 102.93it/s]\n",
      "1000it [00:09, 104.67it/s]\n"
     ]
    }
   ],
   "source": [
    "train_dataset = PETDatasetForClassification(\n",
    "    train_text,\n",
    "    train_labels,\n",
    "    tokenizer\n",
    ")\n",
    "\n",
    "val_dataset = PETDatasetForClassification(\n",
    "    val_text,\n",
    "    val_labels,\n",
    "    tokenizer\n",
    ")\n",
    "\n",
    "test_dataset = PETDatasetForClassification(\n",
    "    test_text,\n",
    "    test_labels,\n",
    "    tokenizer\n",
    ")"
   ]
  },
  {
   "cell_type": "code",
   "execution_count": 45,
   "metadata": {},
   "outputs": [],
   "source": [
    "train_dataloader = DataLoader(train_dataset, shuffle= True)\n",
    "val_dataloader =DataLoader(val_dataset)\n",
    "test_dataloader = DataLoader(test_dataset)"
   ]
  },
  {
   "cell_type": "code",
   "execution_count": 46,
   "metadata": {},
   "outputs": [
    {
     "data": {
      "text/plain": [
       "(array([ 2.3255814 ,  4.61538462, 11.11111111,  3.79746835]),\n",
       " array([ 2.3255814 ,  4.54545455, 11.11111111,  3.84615385]),\n",
       " array([ 2.34192037,  4.29184549, 10.63829787,  4.06504065]))"
      ]
     },
     "execution_count": 46,
     "metadata": {},
     "output_type": "execute_result"
    }
   ],
   "source": [
    "_, class_counts = np.unique(\n",
    "    train_df['label'],\n",
    "    return_counts=True,\n",
    ")\n",
    "\n",
    "alpha = len(train_df['label'])/class_counts\n",
    "\n",
    "# ------------ val -----------------------------------\n",
    "\n",
    "_, class_counts_val = np.unique(\n",
    "    val_df['label'],\n",
    "    return_counts=True,\n",
    ")\n",
    "alpha_val = len(val_df['label'])/class_counts_val\n",
    "\n",
    "# ----------- test ------------------------------------\n",
    "\n",
    "_, class_counts_test = np.unique(\n",
    "    test_df['label'],\n",
    "    return_counts=True,\n",
    ")\n",
    "alpha_test = len(test_df['label'])/class_counts_test\n",
    "alpha, alpha_val, alpha_test"
   ]
  },
  {
   "cell_type": "code",
   "execution_count": 47,
   "metadata": {},
   "outputs": [],
   "source": [
    "from src.utils import FocalLoss"
   ]
  },
  {
   "cell_type": "code",
   "execution_count": 48,
   "metadata": {},
   "outputs": [
    {
     "data": {
      "text/plain": [
       "(array([0, 1, 2, 3]), array([1400,  708,  294,  855]))"
      ]
     },
     "execution_count": 48,
     "metadata": {},
     "output_type": "execute_result"
    }
   ],
   "source": [
    "classes"
   ]
  },
  {
   "cell_type": "code",
   "execution_count": 50,
   "metadata": {},
   "outputs": [
    {
     "name": "stdout",
     "output_type": "stream",
     "text": [
      "Epoch 29\n",
      "f1-score : 0.7449999451637268\n",
      "tensor([[69,  6,  1, 10],\n",
      "        [ 2, 37,  0,  5],\n",
      "        [ 6,  3,  7,  2],\n",
      "        [ 8,  7,  1, 36]], device='cuda:0')\n"
     ]
    }
   ],
   "source": [
    "model = AutoModelForMaskedLM.from_pretrained(\"distilbert-base-uncased\",\n",
    "                                             cache_dir = \"/Data/pedro.silva\").to(device)\n",
    "history, confusion_matrix, best_model = train(\n",
    "    train_dataloader,\n",
    "    val_dataloader,\n",
    "    num_classes = len(class_names),\n",
    "    model = model,\n",
    "    verbalizer = verbalizer,\n",
    "    tokenizer=tokenizer,\n",
    "    alpha = 1e-5,\n",
    "    evaluation_fn= multiclass_f1_score,\n",
    "    loss_fn=FocalLoss(alpha, gamma=1),\n",
    "    n_epochs=20\n",
    ")"
   ]
  },
  {
   "cell_type": "code",
   "execution_count": 51,
   "metadata": {},
   "outputs": [
    {
     "data": {
      "text/plain": [
       "<matplotlib.legend.Legend at 0x7f46c203c730>"
      ]
     },
     "execution_count": 51,
     "metadata": {},
     "output_type": "execute_result"
    },
    {
     "data": {
      "image/png": "[encoded data removed]",
      "text/plain": [
       "<Figure size 640x480 with 1 Axes>"
      ]
     },
     "metadata": {},
     "output_type": "display_data"
    }
   ],
   "source": [
    "plt.plot(history)\n",
    "plt.scatter(\n",
    "    np.argmax(history),\n",
    "    np.max(history),\n",
    "    label = f\"f1 = {np.max(history)}\",\n",
    "    c = \"green\"\n",
    ")\n",
    "\n",
    "plt.grid()\n",
    "plt.title(\"F1 score over epochs\")\n",
    "plt.xlabel(\"epoch\")\n",
    "plt.ylabel(\"F1 score\")\n",
    "plt.legend()"
   ]
  },
  {
   "cell_type": "code",
   "execution_count": 52,
   "metadata": {},
   "outputs": [
    {
     "data": {
      "text/plain": [
       "Text(0.5, 1.0, 'Confusion Matrix RAFT-TWITTER-EMOTION - PET')"
      ]
     },
     "execution_count": 52,
     "metadata": {},
     "output_type": "execute_result"
    },
    {
     "data": {
      "image/png": "[encoded data removed]",
      "text/plain": [
       "<Figure size 640x480 with 2 Axes>"
      ]
     },
     "metadata": {},
     "output_type": "display_data"
    }
   ],
   "source": [
    "df = pd.DataFrame(\n",
    "    confusion_matrix.to(\"cpu\").numpy(),\n",
    "    index = class_names,\n",
    "    columns=class_names\n",
    "    \n",
    ")\n",
    "\n",
    "sns.heatmap(\n",
    "    df,\n",
    "    annot = True,\n",
    "    fmt = '2g',\n",
    ")\n",
    "\n",
    "plt.title(f\"Confusion Matrix {dataset_name} - PET\")"
   ]
  },
  {
   "cell_type": "markdown",
   "metadata": {},
   "source": [
    "## Test results"
   ]
  },
  {
   "cell_type": "code",
   "execution_count": 53,
   "metadata": {},
   "outputs": [],
   "source": [
    "from src.model.mlm.pet_for_text_classification import get_y_true"
   ]
  },
  {
   "cell_type": "code",
   "execution_count": 54,
   "metadata": {},
   "outputs": [
    {
     "name": "stderr",
     "output_type": "stream",
     "text": [
      "  0%|          | 0/1000 [00:00<?, ?it/s]"
     ]
    },
    {
     "name": "stderr",
     "output_type": "stream",
     "text": [
      "100%|██████████| 1000/1000 [00:09<00:00, 108.57it/s]\n"
     ]
    }
   ],
   "source": [
    "with torch.no_grad():\n",
    "    y_true_test = torch.tensor([],device=device)\n",
    "    y_pred_test = torch.tensor([],device=device)\n",
    "\n",
    "    for input in tqdm(test_dataloader):\n",
    "        out = best_model(**input)\n",
    "\n",
    "        y_true = get_y_true(\n",
    "            input,\n",
    "            inverse_verbalizer\n",
    "        )\n",
    "\n",
    "        try:\n",
    "            mask_token_index = torch.where(input[\"input_ids\"] == tokenizer.mask_token_id)[1]\n",
    "\n",
    "        except:\n",
    "            mask_token_index = torch.where(input[\"input_ids\"] == tokenizer.mask_token_id)[0]\n",
    "        mask_token_logits = out.logits[0, mask_token_index, :]\n",
    "        \n",
    "        predictions = torch.Tensor(\n",
    "            [mask_token_logits[0,x] for x in verbalizer.values()]\n",
    "        )\n",
    "\n",
    "        y_pred = predictions.argmax().to(device)\n",
    "\n",
    "        y_pred_test = torch.cat([\n",
    "            y_pred_test, \n",
    "            torch.tensor([y_pred]).to(device)\n",
    "        ])\n",
    "\n",
    "        y_true_test = torch.cat([\n",
    "            y_true_test,\n",
    "            torch.tensor([y_true]).to(device)\n",
    "        ])\n",
    "    \n",
    "    f1 = multiclass_f1_score(\n",
    "        y_pred_test,\n",
    "        y_true_test,\n",
    "        num_classes= len(classes[0])\n",
    "    )"
   ]
  },
  {
   "cell_type": "code",
   "execution_count": 55,
   "metadata": {},
   "outputs": [
    {
     "data": {
      "text/plain": [
       "tensor(0.7300, device='cuda:0')"
      ]
     },
     "execution_count": 55,
     "metadata": {},
     "output_type": "execute_result"
    }
   ],
   "source": [
    "f1"
   ]
  },
  {
   "cell_type": "code",
   "execution_count": null,
   "metadata": {},
   "outputs": [],
   "source": []
  }
 ],
 "metadata": {
  "kernelspec": {
   "display_name": ".venv",
   "language": "python",
   "name": "python3"
  },
  "language_info": {
   "codemirror_mode": {
    "name": "ipython",
    "version": 3
   },
   "file_extension": ".py",
   "mimetype": "text/x-python",
   "name": "python",
   "nbconvert_exporter": "python",
   "pygments_lexer": "ipython3",
   "version": "3.9.18"
  }
 },
 "nbformat": 4,
 "nbformat_minor": 2
}
