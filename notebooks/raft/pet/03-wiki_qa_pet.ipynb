{
 "cells": [
  {
   "cell_type": "code",
   "execution_count": 1,
   "metadata": {},
   "outputs": [],
   "source": [
    "%load_ext autoreload\n",
    "%autoreload 2"
   ]
  },
  {
   "cell_type": "code",
   "execution_count": 2,
   "metadata": {},
   "outputs": [],
   "source": [
    "import transformers\n",
    "from transformers import AutoTokenizer, AutoModel, AutoModelForMaskedLM\n",
    "from datasets import load_dataset\n",
    "import torch\n",
    "from torch.nn.functional import cross_entropy\n",
    "import matplotlib.pyplot as plt\n",
    "import numpy as np\n",
    "from tqdm import tqdm\n",
    "import logging\n",
    "from torcheval.metrics.functional import multiclass_f1_score, multiclass_confusion_matrix, binary_f1_score\n",
    "from copy import deepcopy, copy\n",
    "import seaborn as sns\n",
    "import pandas as pd\n",
    "from huggingface_hub import notebook_login\n",
    "from torch.utils.data import DataLoader, Dataset\n",
    "from collections import defaultdict, deque\n",
    "from sklearn.model_selection import train_test_split\n",
    "import random\n",
    "from sentence_transformers import SentenceTransformer, InputExample, losses, evaluation\n",
    "\n",
    "import os \n",
    "while 'notebooks' in os.getcwd():\n",
    "    os.chdir(\"..\")\n",
    "\n",
    "import re\n",
    "from typing import List, Dict\n",
    "    \n",
    "from src.preprocessing.sequence_classification.dataset import get_n_shots_per_class\n",
    "from src.model.mlm.pet_for_text_classification import train as train_model\n",
    "import warnings\n",
    "warnings.filterwarnings(\"ignore\")"
   ]
  },
  {
   "cell_type": "code",
   "execution_count": 3,
   "metadata": {},
   "outputs": [
    {
     "name": "stdout",
     "output_type": "stream",
     "text": [
      "mkdir: cannot create directory ‘logs’: File exists\n"
     ]
    }
   ],
   "source": [
    "device = \"cuda\" if torch.cuda.is_available() else \"cpu\"\n",
    "!mkdir logs\n",
    "model_name = \"PET\"\n",
    "dataset_name = \"RAFT-WIKI-QA\"\n",
    "logging.basicConfig(filename=f'logs/{model_name}_{dataset_name}.log', encoding='utf-8', level= logging.INFO)\n",
    "device = \"cuda\" if torch.cuda.is_available() else \"cpu\""
   ]
  },
  {
   "cell_type": "markdown",
   "metadata": {},
   "source": [
    "## Loading dataset"
   ]
  },
  {
   "cell_type": "code",
   "execution_count": 4,
   "metadata": {},
   "outputs": [],
   "source": [
    "dataset = load_dataset(\n",
    "    \"wiki_qa\", \n",
    "    cache_dir= \"/Data/pedro.silva\"\n",
    ")"
   ]
  },
  {
   "cell_type": "code",
   "execution_count": 5,
   "metadata": {},
   "outputs": [],
   "source": [
    "train_dataset = dataset['train']"
   ]
  },
  {
   "cell_type": "code",
   "execution_count": 6,
   "metadata": {},
   "outputs": [
    {
     "data": {
      "text/plain": [
       "(array([0, 1]), array([19320,  1040]))"
      ]
     },
     "execution_count": 6,
     "metadata": {},
     "output_type": "execute_result"
    }
   ],
   "source": [
    "classes = np.unique(train_dataset['label'], return_counts=True)\n",
    "classes"
   ]
  },
  {
   "cell_type": "code",
   "execution_count": 7,
   "metadata": {},
   "outputs": [],
   "source": [
    "classes_names = [\"wrong\", \"correct\"]"
   ]
  },
  {
   "cell_type": "code",
   "execution_count": 8,
   "metadata": {},
   "outputs": [],
   "source": [
    ".7\n",
    "def stratified_train_test_split(\n",
    "    dataset : Dataset,\n",
    "    classes : np.ndarray,\n",
    "    train_size : float\n",
    "):\n",
    "    \"\"\"Performs train test split keeping class distributions\n",
    "\n",
    "    Args:\n",
    "        dataset (Dataset): _description_\n",
    "        classes (np.ndarray): _description_\n",
    "        train_size (float): _description_\n",
    "\n",
    "    Returns:\n",
    "        _type_: _description_\n",
    "    \"\"\"    \n",
    "\n",
    "    if isinstance(dataset, pd.DataFrame):\n",
    "        df = dataset\n",
    "\n",
    "    else:\n",
    "        df = dataset.to_pandas()\n",
    "        \n",
    "    indexes_dict = {}\n",
    "    for label in classes[0]:\n",
    "        indexes_dict[label] = df.query(f\"label == {label}\")\n",
    "\n",
    "\n",
    "    \n",
    "    train_data = {\n",
    "        'label': [],\n",
    "        'text': [],\n",
    "        'question': [],\n",
    "        'answer': []\n",
    "    }\n",
    "\n",
    "    validation_data = {\n",
    "        \"label\" : [],\n",
    "        \"text\": [],\n",
    "        'question': [],\n",
    "        'answer': []\n",
    "    }\n",
    "\n",
    "    class_proportion = df['label'].value_counts()/len(df)\n",
    "\n",
    "    # generating train data\n",
    "    for label in classes[0]:\n",
    "        n = len(indexes_dict[label])\n",
    "\n",
    "        if isinstance(train_size, int):\n",
    "            size = round(class_proportion[label] * train_size)\n",
    "            \n",
    "        else:\n",
    "            size = int(train_size * n)\n",
    "\n",
    "        train_data['text'] += df.query(f\"label == {label}\")\\\n",
    "            [0:size]\\\n",
    "            ['text']\\\n",
    "            .to_list()\n",
    "            \n",
    "        train_data['question'] += df.query(f\"label == {label}\")\\\n",
    "            [0:size]\\\n",
    "            ['question']\\\n",
    "            .to_list()\n",
    "            \n",
    "        train_data['answer'] += df.query(f\"label == {label}\")\\\n",
    "            [0:size]\\\n",
    "            ['answer']\\\n",
    "            .to_list()\n",
    "        \n",
    "        train_data['label'] += [label]*size\n",
    "        \n",
    "        validation_data['text'] +=df.query(f\"label == {label}\")\\\n",
    "            [size:]\\\n",
    "            ['text']\\\n",
    "            .to_list()\n",
    "        \n",
    "        validation_data['question'] +=df.query(f\"label == {label}\")\\\n",
    "            [size:]\\\n",
    "            ['question']\\\n",
    "            .to_list()\n",
    "        \n",
    "        validation_data['answer'] +=df.query(f\"label == {label}\")\\\n",
    "            [size:]\\\n",
    "            ['answer']\\\n",
    "            .to_list()\n",
    "        \n",
    "        validation_data['label'] += [label]* (n-size)\n",
    "\n",
    "    return train_data, validation_data"
   ]
  },
  {
   "cell_type": "code",
   "execution_count": 9,
   "metadata": {},
   "outputs": [],
   "source": [
    "train_df_pandas = train_dataset.to_pandas()"
   ]
  },
  {
   "cell_type": "code",
   "execution_count": 10,
   "metadata": {},
   "outputs": [],
   "source": [
    "train_df_pandas['text'] = train_df_pandas['question']+train_df_pandas['answer']\n",
    "# train_df = train_df.sample(frac=1)"
   ]
  },
  {
   "cell_type": "code",
   "execution_count": 11,
   "metadata": {},
   "outputs": [
    {
     "data": {
      "text/plain": [
       "0         True\n",
       "1         True\n",
       "2         True\n",
       "3         True\n",
       "4         True\n",
       "         ...  \n",
       "20355    False\n",
       "20356    False\n",
       "20357    False\n",
       "20358    False\n",
       "20359    False\n",
       "Name: question, Length: 20360, dtype: bool"
      ]
     },
     "execution_count": 11,
     "metadata": {},
     "output_type": "execute_result"
    }
   ],
   "source": [
    "train_df_pandas['question'].str.endswith('?')"
   ]
  },
  {
   "cell_type": "code",
   "execution_count": 12,
   "metadata": {},
   "outputs": [
    {
     "data": {
      "text/html": [
       "<div>\n",
       "<style scoped>\n",
       "    .dataframe tbody tr th:only-of-type {\n",
       "        vertical-align: middle;\n",
       "    }\n",
       "\n",
       "    .dataframe tbody tr th {\n",
       "        vertical-align: top;\n",
       "    }\n",
       "\n",
       "    .dataframe thead th {\n",
       "        text-align: right;\n",
       "    }\n",
       "</style>\n",
       "<table border=\"1\" class=\"dataframe\">\n",
       "  <thead>\n",
       "    <tr style=\"text-align: right;\">\n",
       "      <th></th>\n",
       "      <th>question_id</th>\n",
       "      <th>question</th>\n",
       "      <th>document_title</th>\n",
       "      <th>answer</th>\n",
       "      <th>label</th>\n",
       "      <th>text</th>\n",
       "    </tr>\n",
       "  </thead>\n",
       "  <tbody>\n",
       "    <tr>\n",
       "      <th>0</th>\n",
       "      <td>Q1</td>\n",
       "      <td>how are glacier caves formed?</td>\n",
       "      <td>Glacier cave</td>\n",
       "      <td>A partly submerged glacier cave on Perito More...</td>\n",
       "      <td>0</td>\n",
       "      <td>how are glacier caves formed?A partly submerge...</td>\n",
       "    </tr>\n",
       "    <tr>\n",
       "      <th>1</th>\n",
       "      <td>Q1</td>\n",
       "      <td>how are glacier caves formed?</td>\n",
       "      <td>Glacier cave</td>\n",
       "      <td>The ice facade is approximately 60 m high</td>\n",
       "      <td>0</td>\n",
       "      <td>how are glacier caves formed?The ice facade is...</td>\n",
       "    </tr>\n",
       "    <tr>\n",
       "      <th>2</th>\n",
       "      <td>Q1</td>\n",
       "      <td>how are glacier caves formed?</td>\n",
       "      <td>Glacier cave</td>\n",
       "      <td>Ice formations in the Titlis glacier cave</td>\n",
       "      <td>0</td>\n",
       "      <td>how are glacier caves formed?Ice formations in...</td>\n",
       "    </tr>\n",
       "    <tr>\n",
       "      <th>3</th>\n",
       "      <td>Q1</td>\n",
       "      <td>how are glacier caves formed?</td>\n",
       "      <td>Glacier cave</td>\n",
       "      <td>A glacier cave is a cave formed within the ice...</td>\n",
       "      <td>1</td>\n",
       "      <td>how are glacier caves formed?A glacier cave is...</td>\n",
       "    </tr>\n",
       "    <tr>\n",
       "      <th>4</th>\n",
       "      <td>Q1</td>\n",
       "      <td>how are glacier caves formed?</td>\n",
       "      <td>Glacier cave</td>\n",
       "      <td>Glacier caves are often called ice caves , but...</td>\n",
       "      <td>0</td>\n",
       "      <td>how are glacier caves formed?Glacier caves are...</td>\n",
       "    </tr>\n",
       "    <tr>\n",
       "      <th>...</th>\n",
       "      <td>...</td>\n",
       "      <td>...</td>\n",
       "      <td>...</td>\n",
       "      <td>...</td>\n",
       "      <td>...</td>\n",
       "      <td>...</td>\n",
       "    </tr>\n",
       "    <tr>\n",
       "      <th>20355</th>\n",
       "      <td>Q3043</td>\n",
       "      <td>what is section eight housing</td>\n",
       "      <td>Section 8 (housing)</td>\n",
       "      <td>A tenant who leaves a subsidized project will ...</td>\n",
       "      <td>0</td>\n",
       "      <td>what is section eight housingA tenant who leav...</td>\n",
       "    </tr>\n",
       "    <tr>\n",
       "      <th>20356</th>\n",
       "      <td>Q3043</td>\n",
       "      <td>what is section eight housing</td>\n",
       "      <td>Section 8 (housing)</td>\n",
       "      <td>The United States Department of Housing and Ur...</td>\n",
       "      <td>0</td>\n",
       "      <td>what is section eight housingThe United States...</td>\n",
       "    </tr>\n",
       "    <tr>\n",
       "      <th>20357</th>\n",
       "      <td>Q3044</td>\n",
       "      <td>what is the main type of restaurant</td>\n",
       "      <td>Category:Types of restaurants</td>\n",
       "      <td>Restaurants categorized by type and informatio...</td>\n",
       "      <td>0</td>\n",
       "      <td>what is the main type of restaurantRestaurants...</td>\n",
       "    </tr>\n",
       "    <tr>\n",
       "      <th>20358</th>\n",
       "      <td>Q3046</td>\n",
       "      <td>what is us dollar worth based on</td>\n",
       "      <td>History of the United States dollar</td>\n",
       "      <td>U.S. Federal Reserve notes in the mid-1990s</td>\n",
       "      <td>0</td>\n",
       "      <td>what is us dollar worth based onU.S. Federal R...</td>\n",
       "    </tr>\n",
       "    <tr>\n",
       "      <th>20359</th>\n",
       "      <td>Q3046</td>\n",
       "      <td>what is us dollar worth based on</td>\n",
       "      <td>History of the United States dollar</td>\n",
       "      <td>The history of the United States dollar covers...</td>\n",
       "      <td>0</td>\n",
       "      <td>what is us dollar worth based onThe history of...</td>\n",
       "    </tr>\n",
       "  </tbody>\n",
       "</table>\n",
       "<p>20360 rows × 6 columns</p>\n",
       "</div>"
      ],
      "text/plain": [
       "      question_id                             question  \\\n",
       "0              Q1        how are glacier caves formed?   \n",
       "1              Q1        how are glacier caves formed?   \n",
       "2              Q1        how are glacier caves formed?   \n",
       "3              Q1        how are glacier caves formed?   \n",
       "4              Q1        how are glacier caves formed?   \n",
       "...           ...                                  ...   \n",
       "20355       Q3043        what is section eight housing   \n",
       "20356       Q3043        what is section eight housing   \n",
       "20357       Q3044  what is the main type of restaurant   \n",
       "20358       Q3046     what is us dollar worth based on   \n",
       "20359       Q3046     what is us dollar worth based on   \n",
       "\n",
       "                            document_title  \\\n",
       "0                             Glacier cave   \n",
       "1                             Glacier cave   \n",
       "2                             Glacier cave   \n",
       "3                             Glacier cave   \n",
       "4                             Glacier cave   \n",
       "...                                    ...   \n",
       "20355                  Section 8 (housing)   \n",
       "20356                  Section 8 (housing)   \n",
       "20357        Category:Types of restaurants   \n",
       "20358  History of the United States dollar   \n",
       "20359  History of the United States dollar   \n",
       "\n",
       "                                                  answer  label  \\\n",
       "0      A partly submerged glacier cave on Perito More...      0   \n",
       "1              The ice facade is approximately 60 m high      0   \n",
       "2              Ice formations in the Titlis glacier cave      0   \n",
       "3      A glacier cave is a cave formed within the ice...      1   \n",
       "4      Glacier caves are often called ice caves , but...      0   \n",
       "...                                                  ...    ...   \n",
       "20355  A tenant who leaves a subsidized project will ...      0   \n",
       "20356  The United States Department of Housing and Ur...      0   \n",
       "20357  Restaurants categorized by type and informatio...      0   \n",
       "20358        U.S. Federal Reserve notes in the mid-1990s      0   \n",
       "20359  The history of the United States dollar covers...      0   \n",
       "\n",
       "                                                    text  \n",
       "0      how are glacier caves formed?A partly submerge...  \n",
       "1      how are glacier caves formed?The ice facade is...  \n",
       "2      how are glacier caves formed?Ice formations in...  \n",
       "3      how are glacier caves formed?A glacier cave is...  \n",
       "4      how are glacier caves formed?Glacier caves are...  \n",
       "...                                                  ...  \n",
       "20355  what is section eight housingA tenant who leav...  \n",
       "20356  what is section eight housingThe United States...  \n",
       "20357  what is the main type of restaurantRestaurants...  \n",
       "20358  what is us dollar worth based onU.S. Federal R...  \n",
       "20359  what is us dollar worth based onThe history of...  \n",
       "\n",
       "[20360 rows x 6 columns]"
      ]
     },
     "execution_count": 12,
     "metadata": {},
     "output_type": "execute_result"
    }
   ],
   "source": [
    "train_df_pandas"
   ]
  },
  {
   "cell_type": "markdown",
   "metadata": {},
   "source": [
    "## Few shot learning study - 50 shots"
   ]
  },
  {
   "cell_type": "code",
   "execution_count": 13,
   "metadata": {},
   "outputs": [],
   "source": [
    "classes = np.unique(train_df_pandas['label'], return_counts=True)\n",
    "train_validation, test_df = stratified_train_test_split(\n",
    "    train_df_pandas,\n",
    "    classes,\n",
    "    train_size = 50\n",
    ")"
   ]
  },
  {
   "cell_type": "code",
   "execution_count": 14,
   "metadata": {},
   "outputs": [],
   "source": [
    "train, val  = stratified_train_test_split(\n",
    "    pd.DataFrame(train_validation),\n",
    "    classes,\n",
    "    30\n",
    ")"
   ]
  },
  {
   "cell_type": "code",
   "execution_count": 15,
   "metadata": {},
   "outputs": [],
   "source": [
    "val = pd.DataFrame(val).to_dict('list')\n",
    "test = pd.DataFrame(test_df).sample(n = 5000).to_dict('list')"
   ]
  },
  {
   "cell_type": "code",
   "execution_count": 16,
   "metadata": {},
   "outputs": [],
   "source": [
    "def pattern1(\n",
    "    question: str, \n",
    "    answer : str,\n",
    "    tokenizer : AutoTokenizer\n",
    "):\n",
    "    return f\"Is {answer} a valid answer for {question} {tokenizer.mask_token}\""
   ]
  },
  {
   "cell_type": "code",
   "execution_count": 17,
   "metadata": {},
   "outputs": [],
   "source": [
    "\n",
    "tokenizer = AutoTokenizer.from_pretrained(\"distilbert-base-uncased\",\n",
    "                                          cache_dir = \"/Data/pedro.silva\")\n",
    "class_names = [\"wrong\", \"correct\"]\n",
    "\n",
    "idx2class = {i : v for i,v in enumerate(class_names)}\n",
    "\n",
    "class2idx = {v:i for i, v in enumerate(class_names)}\n",
    "\n",
    "\n",
    "verbalizer = {idx : tokenizer.vocab[x.lower()] for idx, x in enumerate(class_names)}\n",
    "inverse_verbalizer = {tokenizer.vocab[x.lower()] : idx for idx, x in enumerate(class_names)}"
   ]
  },
  {
   "cell_type": "code",
   "execution_count": 18,
   "metadata": {},
   "outputs": [
    {
     "data": {
      "text/plain": [
       "{0: 3308, 1: 6149}"
      ]
     },
     "execution_count": 18,
     "metadata": {},
     "output_type": "execute_result"
    }
   ],
   "source": [
    "verbalizer"
   ]
  },
  {
   "cell_type": "code",
   "execution_count": 19,
   "metadata": {},
   "outputs": [],
   "source": [
    "\n",
    "def preprocess(question : List[str], answer : List[str], labels : List[int]):\n",
    "\n",
    "    processed_text = []\n",
    "    processed_labels = []\n",
    "    for idx in range(len(question)):\n",
    "        label = idx2class[labels[idx]]\n",
    "        # text_ = text[idx]\n",
    "        \n",
    "        q = question[idx]\n",
    "        a = answer[idx]\n",
    "\n",
    "        processed_text.append(pattern1(q,a, tokenizer))\n",
    "        processed_labels.append(label)\n",
    "\n",
    "    return processed_text, processed_labels"
   ]
  },
  {
   "cell_type": "code",
   "execution_count": 20,
   "metadata": {},
   "outputs": [],
   "source": [
    "train_text, train_labels = preprocess(train['question'], train['answer'], train['label'])\n",
    "val_text, val_labels = preprocess(val['question'], val['answer'], val['label'])\n",
    "test_text, test_labels = preprocess(test['question'], test['answer'], test['label'])"
   ]
  },
  {
   "cell_type": "code",
   "execution_count": 21,
   "metadata": {},
   "outputs": [],
   "source": [
    "class PETDatasetForClassification(Dataset):\n",
    "    def __init__(\n",
    "        self, \n",
    "        processed_text : List[str], \n",
    "        labels : List[int],\n",
    "        tokenizer : AutoTokenizer,\n",
    "        device : str = \"cuda\"\n",
    "    ) -> None:\n",
    "        super().__init__()\n",
    "\n",
    "        self.tokens = tokenizer(\n",
    "            processed_text,\n",
    "            return_tensors=\"pt\",\n",
    "            padding=\"max_length\",\n",
    "            truncation=True\n",
    "        )\n",
    "        self.encoded_labels = deepcopy(self.tokens['input_ids'])\n",
    "        \n",
    "        self.encoded_labels[self.encoded_labels != tokenizer.mask_token_id] = -100\n",
    "\n",
    "        for idx, sentence in tqdm(enumerate(self.encoded_labels)):\n",
    "            sentence[sentence == tokenizer.mask_token_id] = tokenizer.vocab[labels[idx].lower()]\n",
    "\n",
    "        self.inputs : Dict[str, torch.Tensor] = self.tokens\n",
    "        self.inputs['labels'] = self.encoded_labels\n",
    "\n",
    "        for k,v in self.inputs.items():\n",
    "            self.inputs[k] = v.to(device)\n",
    "\n",
    "    def __getitem__(self, index):\n",
    "        d : Dict = dict()\n",
    "        for key in self.inputs.keys():\n",
    "            d[key] = self.inputs[key][index]\n",
    "\n",
    "        return d\n",
    "    \n",
    "    def __len__(self):\n",
    "        return self.tokens['input_ids'].shape[0]"
   ]
  },
  {
   "cell_type": "code",
   "execution_count": 22,
   "metadata": {},
   "outputs": [
    {
     "name": "stderr",
     "output_type": "stream",
     "text": [
      "0it [00:00, ?it/s]"
     ]
    },
    {
     "name": "stderr",
     "output_type": "stream",
     "text": [
      "30it [00:00, 100.45it/s]\n",
      "20it [00:00, 85.57it/s]\n",
      "1170it [00:12, 86.91it/s]"
     ]
    }
   ],
   "source": [
    "train_dataset = PETDatasetForClassification(\n",
    "    train_text,\n",
    "    train_labels,\n",
    "    tokenizer\n",
    ")\n",
    "\n",
    "val_dataset = PETDatasetForClassification(\n",
    "    val_text,\n",
    "    val_labels,\n",
    "    tokenizer\n",
    ")\n",
    "\n",
    "test_dataset = PETDatasetForClassification(\n",
    "    test_text,\n",
    "    test_labels,\n",
    "    tokenizer\n",
    ")"
   ]
  },
  {
   "cell_type": "code",
   "execution_count": null,
   "metadata": {},
   "outputs": [],
   "source": [
    "train_dataloader = DataLoader(train_dataset, shuffle= True)\n",
    "val_dataloader =DataLoader(val_dataset)\n",
    "test_dataloader = DataLoader(test_dataset)"
   ]
  },
  {
   "cell_type": "code",
   "execution_count": null,
   "metadata": {},
   "outputs": [
    {
     "data": {
      "text/plain": [
       "(array([ 1.07142857, 15.        ]),\n",
       " array([ 1.05263158, 20.        ]),\n",
       " array([ 1.05108262, 20.57613169]))"
      ]
     },
     "execution_count": 89,
     "metadata": {},
     "output_type": "execute_result"
    }
   ],
   "source": [
    "_, class_counts = np.unique(\n",
    "    train['label'],\n",
    "    return_counts=True,\n",
    ")\n",
    "\n",
    "alpha = len(train['label'])/class_counts\n",
    "\n",
    "# ------------ val -----------------------------------\n",
    "\n",
    "_, class_counts_val = np.unique(\n",
    "    val['label'],\n",
    "    return_counts=True,\n",
    ")\n",
    "alpha_val = len(val['label'])/class_counts_val\n",
    "\n",
    "# ----------- test ------------------------------------\n",
    "\n",
    "_, class_counts_test = np.unique(\n",
    "    test['label'],\n",
    "    return_counts=True,\n",
    ")\n",
    "alpha_test = len(test['label'])/class_counts_test\n",
    "alpha, alpha_val, alpha_test"
   ]
  },
  {
   "cell_type": "code",
   "execution_count": null,
   "metadata": {},
   "outputs": [],
   "source": [
    "from src.utils import FocalLoss"
   ]
  },
  {
   "cell_type": "code",
   "execution_count": null,
   "metadata": {},
   "outputs": [
    {
     "data": {
      "text/plain": [
       "(array([0, 1]), array([19320,  1040]))"
      ]
     },
     "execution_count": 91,
     "metadata": {},
     "output_type": "execute_result"
    }
   ],
   "source": [
    "classes"
   ]
  },
  {
   "cell_type": "code",
   "execution_count": null,
   "metadata": {},
   "outputs": [
    {
     "name": "stdout",
     "output_type": "stream",
     "text": [
      "Epoch 19\n",
      "f1-score : 1.0\n",
      "tensor([[19,  0],\n",
      "        [ 0,  1]], device='cuda:0')\n"
     ]
    }
   ],
   "source": [
    "model = AutoModelForMaskedLM.from_pretrained(\"distilbert-base-uncased\",\n",
    "                                             cache_dir = \"/Data/pedro.silva\").to(device)\n",
    "history, confusion_matrix, best_model = train_model(\n",
    "    train_dataloader,\n",
    "    val_dataloader,\n",
    "    num_classes = len(class_names),\n",
    "    model = model,\n",
    "    verbalizer = verbalizer,\n",
    "    tokenizer=tokenizer,\n",
    "    alpha = 1e-5,\n",
    "    lr=1e-5,\n",
    "    evaluation_fn= binary_f1_score,\n",
    "    loss_fn=FocalLoss(alpha, gamma=1),\n",
    "    n_epochs=20\n",
    ")"
   ]
  },
  {
   "cell_type": "code",
   "execution_count": 93,
   "metadata": {},
   "outputs": [
    {
     "data": {
      "text/plain": [
       "<matplotlib.legend.Legend at 0x7f63906584f0>"
      ]
     },
     "execution_count": 93,
     "metadata": {},
     "output_type": "execute_result"
    },
    {
     "data": {
      "image/png": "[encoded data removed]",
      "text/plain": [
       "<Figure size 640x480 with 1 Axes>"
      ]
     },
     "metadata": {},
     "output_type": "display_data"
    }
   ],
   "source": [
    "plt.plot(history)\n",
    "plt.scatter(\n",
    "    np.argmax(history),\n",
    "    np.max(history),\n",
    "    label = f\"f1 = {np.max(history)}\",\n",
    "    c = \"green\"\n",
    ")\n",
    "\n",
    "plt.grid()\n",
    "plt.title(\"F1 score over epochs\")\n",
    "plt.xlabel(\"epoch\")\n",
    "plt.ylabel(\"F1 score\")\n",
    "plt.legend()"
   ]
  },
  {
   "cell_type": "code",
   "execution_count": 94,
   "metadata": {},
   "outputs": [
    {
     "data": {
      "text/plain": [
       "Text(0.5, 1.0, 'Confusion Matrix RAFT-WIKI-QA - PET')"
      ]
     },
     "execution_count": 94,
     "metadata": {},
     "output_type": "execute_result"
    },
    {
     "data": {
      "image/png": "[encoded data removed]",
      "text/plain": [
       "<Figure size 640x480 with 2 Axes>"
      ]
     },
     "metadata": {},
     "output_type": "display_data"
    }
   ],
   "source": [
    "df = pd.DataFrame(\n",
    "    confusion_matrix.to(\"cpu\").numpy(),\n",
    "    index = class_names,\n",
    "    columns=class_names\n",
    "    \n",
    ")\n",
    "\n",
    "sns.heatmap(\n",
    "    df,\n",
    "    annot = True,\n",
    "    fmt = '2g',\n",
    ")\n",
    "\n",
    "plt.title(f\"Confusion Matrix {dataset_name} - PET\")"
   ]
  },
  {
   "cell_type": "markdown",
   "metadata": {},
   "source": [
    "## Test results"
   ]
  },
  {
   "cell_type": "code",
   "execution_count": 95,
   "metadata": {},
   "outputs": [],
   "source": [
    "from src.model.mlm.pet_for_text_classification import get_y_true"
   ]
  },
  {
   "cell_type": "code",
   "execution_count": 96,
   "metadata": {},
   "outputs": [
    {
     "name": "stderr",
     "output_type": "stream",
     "text": [
      "100%|██████████| 5000/5000 [00:42<00:00, 117.22it/s]\n"
     ]
    }
   ],
   "source": [
    "with torch.no_grad():\n",
    "    y_true_test = torch.tensor([],device=device)\n",
    "    y_pred_test = torch.tensor([],device=device)\n",
    "\n",
    "    for input in tqdm(test_dataloader):\n",
    "        out = best_model(**input)\n",
    "\n",
    "        y_true = get_y_true(\n",
    "            input,\n",
    "            inverse_verbalizer\n",
    "        )\n",
    "\n",
    "        try:\n",
    "            mask_token_index = torch.where(input[\"input_ids\"] == tokenizer.mask_token_id)[1]\n",
    "\n",
    "        except:\n",
    "            mask_token_index = torch.where(input[\"input_ids\"] == tokenizer.mask_token_id)[0]\n",
    "        mask_token_logits = out.logits[0, mask_token_index, :]\n",
    "        \n",
    "        predictions = torch.Tensor(\n",
    "            [mask_token_logits[0,x] for x in verbalizer.values()]\n",
    "        )\n",
    "\n",
    "        y_pred = predictions.argmax().to(device)\n",
    "\n",
    "        y_pred_test = torch.cat([\n",
    "            y_pred_test, \n",
    "            torch.tensor([y_pred]).to(device)\n",
    "        ])\n",
    "\n",
    "        y_true_test = torch.cat([\n",
    "            y_true_test,\n",
    "            torch.tensor([y_true]).to(device)\n",
    "        ])\n",
    "    \n",
    "    f1 = binary_f1_score(\n",
    "        y_pred_test,\n",
    "        y_true_test,\n",
    "        # num_classes= len(classes[0])\n",
    "    )"
   ]
  },
  {
   "cell_type": "code",
   "execution_count": 97,
   "metadata": {},
   "outputs": [
    {
     "data": {
      "text/plain": [
       "tensor(0.0078, device='cuda:0')"
      ]
     },
     "execution_count": 97,
     "metadata": {},
     "output_type": "execute_result"
    }
   ],
   "source": [
    "f1"
   ]
  },
  {
   "cell_type": "code",
   "execution_count": 98,
   "metadata": {},
   "outputs": [
    {
     "data": {
      "text/plain": [
       "Text(0.5, 1.0, 'Confusion Matrix RAFT-WIKI-QA - PET')"
      ]
     },
     "execution_count": 98,
     "metadata": {},
     "output_type": "execute_result"
    },
    {
     "data": {
      "image/png": "[encoded data removed]",
      "text/plain": [
       "<Figure size 640x480 with 2 Axes>"
      ]
     },
     "metadata": {},
     "output_type": "display_data"
    }
   ],
   "source": [
    "conf_matrix = multiclass_confusion_matrix(\n",
    "    y_pred_test.to(torch.int64),\n",
    "    y_true_test.to(torch.int64),\n",
    "    num_classes= len(classes[0])\n",
    ")\n",
    "\n",
    "df = pd.DataFrame(\n",
    "    conf_matrix.to(\"cpu\").numpy(),\n",
    "    index = class_names,\n",
    "    columns=class_names\n",
    "    \n",
    ")\n",
    "\n",
    "sns.heatmap(\n",
    "    df,\n",
    "    annot = True,\n",
    "    fmt = '2g',\n",
    ")\n",
    "\n",
    "plt.title(f\"Confusion Matrix {dataset_name} - PET\")"
   ]
  },
  {
   "cell_type": "markdown",
   "metadata": {},
   "source": [
    "## General approach - 500 shots"
   ]
  },
  {
   "cell_type": "code",
   "execution_count": 15,
   "metadata": {},
   "outputs": [],
   "source": [
    "classes = np.unique(train_df_pandas['label'], return_counts=True)\n",
    "n_shots = 500\n",
    "train_validation, test_df = stratified_train_test_split(\n",
    "    train_df_pandas,\n",
    "    classes,\n",
    "    train_size = n_shots\n",
    ")"
   ]
  },
  {
   "cell_type": "code",
   "execution_count": 16,
   "metadata": {},
   "outputs": [],
   "source": [
    "train_df, val_df = stratified_train_test_split(\n",
    "    pd.DataFrame(train_validation),\n",
    "    classes,\n",
    "    300\n",
    ")"
   ]
  },
  {
   "cell_type": "code",
   "execution_count": 17,
   "metadata": {},
   "outputs": [],
   "source": [
    "val_df = pd.DataFrame(val_df).to_dict('list')\n",
    "test_df = pd.DataFrame(test_df).sample(n = 1000).to_dict('list')"
   ]
  },
  {
   "cell_type": "code",
   "execution_count": 18,
   "metadata": {},
   "outputs": [],
   "source": [
    "def pattern1(\n",
    "    question: str, \n",
    "    answer : str,\n",
    "    tokenizer : AutoTokenizer\n",
    "):\n",
    "    return f\"Is {answer} a valid answer for {question} {tokenizer.mask_token}\""
   ]
  },
  {
   "cell_type": "code",
   "execution_count": 19,
   "metadata": {},
   "outputs": [],
   "source": [
    "\n",
    "tokenizer = AutoTokenizer.from_pretrained(\"distilbert-base-uncased\",\n",
    "                                          cache_dir = \"/Data/pedro.silva\")\n",
    "class_names = [\"wrong\", \"correct\"]\n",
    "\n",
    "idx2class = {i : v for i,v in enumerate(class_names)}\n",
    "\n",
    "class2idx = {v:i for i, v in enumerate(class_names)}\n",
    "\n",
    "\n",
    "verbalizer = {idx : tokenizer.vocab[x.lower()] for idx, x in enumerate(class_names)}\n",
    "inverse_verbalizer = {tokenizer.vocab[x.lower()] : idx for idx, x in enumerate(class_names)}"
   ]
  },
  {
   "cell_type": "code",
   "execution_count": 20,
   "metadata": {},
   "outputs": [
    {
     "data": {
      "text/plain": [
       "{0: 3308, 1: 6149}"
      ]
     },
     "execution_count": 20,
     "metadata": {},
     "output_type": "execute_result"
    }
   ],
   "source": [
    "verbalizer"
   ]
  },
  {
   "cell_type": "code",
   "execution_count": 26,
   "metadata": {},
   "outputs": [],
   "source": [
    "\n",
    "def preprocess(question : List[str], answer : List[str], labels : List[int]):\n",
    "\n",
    "    processed_text = []\n",
    "    processed_labels = []\n",
    "    for idx in range(len(question)):\n",
    "        label = idx2class[labels[idx]]\n",
    "        # text_ = text[idx]\n",
    "        \n",
    "        q = question[idx]\n",
    "        a = answer[idx]\n",
    "\n",
    "        processed_text.append(pattern1(q,a, tokenizer))\n",
    "        processed_labels.append(label)\n",
    "\n",
    "    return processed_text, processed_labels"
   ]
  },
  {
   "cell_type": "code",
   "execution_count": 27,
   "metadata": {},
   "outputs": [],
   "source": [
    "train_text, train_labels = preprocess(\n",
    "    train_df['question'], \n",
    "    train_df['answer'], \n",
    "    train_df['label']\n",
    ")\n",
    "val_text, val_labels = preprocess(\n",
    "    val_df['question'], \n",
    "    val_df['answer'], \n",
    "    val_df['label']\n",
    ")\n",
    "test_text, test_labels = preprocess(\n",
    "    test_df['question'], \n",
    "    test_df['answer'], \n",
    "    test_df['label']\n",
    ")"
   ]
  },
  {
   "cell_type": "code",
   "execution_count": 28,
   "metadata": {},
   "outputs": [],
   "source": [
    "class PETDatasetForClassification(Dataset):\n",
    "    def __init__(\n",
    "        self, \n",
    "        processed_text : List[str], \n",
    "        labels : List[int],\n",
    "        tokenizer : AutoTokenizer,\n",
    "        device : str = \"cuda\"\n",
    "    ) -> None:\n",
    "        super().__init__()\n",
    "\n",
    "        self.tokens = tokenizer(\n",
    "            processed_text,\n",
    "            return_tensors=\"pt\",\n",
    "            padding=\"max_length\",\n",
    "            truncation=True\n",
    "        )\n",
    "        self.encoded_labels = deepcopy(self.tokens['input_ids'])\n",
    "        \n",
    "        self.encoded_labels[self.encoded_labels != tokenizer.mask_token_id] = -100\n",
    "\n",
    "        for idx, sentence in tqdm(enumerate(self.encoded_labels)):\n",
    "            sentence[sentence == tokenizer.mask_token_id] = tokenizer.vocab[labels[idx].lower()]\n",
    "\n",
    "        self.inputs : Dict[str, torch.Tensor] = self.tokens\n",
    "        self.inputs['labels'] = self.encoded_labels\n",
    "\n",
    "        for k,v in self.inputs.items():\n",
    "            self.inputs[k] = v.to(device)\n",
    "\n",
    "    def __getitem__(self, index):\n",
    "        d : Dict = dict()\n",
    "        for key in self.inputs.keys():\n",
    "            d[key] = self.inputs[key][index]\n",
    "\n",
    "        return d\n",
    "    \n",
    "    def __len__(self):\n",
    "        return self.tokens['input_ids'].shape[0]"
   ]
  },
  {
   "cell_type": "code",
   "execution_count": 29,
   "metadata": {},
   "outputs": [
    {
     "name": "stderr",
     "output_type": "stream",
     "text": [
      "300it [00:02, 105.05it/s]\n",
      "200it [00:01, 103.39it/s]\n",
      "1000it [00:09, 107.50it/s]\n"
     ]
    }
   ],
   "source": [
    "train_dataset = PETDatasetForClassification(\n",
    "    train_text,\n",
    "    train_labels,\n",
    "    tokenizer\n",
    ")\n",
    "\n",
    "val_dataset = PETDatasetForClassification(\n",
    "    val_text,\n",
    "    val_labels,\n",
    "    tokenizer\n",
    ")\n",
    "\n",
    "test_dataset = PETDatasetForClassification(\n",
    "    test_text,\n",
    "    test_labels,\n",
    "    tokenizer\n",
    ")"
   ]
  },
  {
   "cell_type": "code",
   "execution_count": 30,
   "metadata": {},
   "outputs": [],
   "source": [
    "train_dataloader = DataLoader(train_dataset, shuffle= True)\n",
    "val_dataloader =DataLoader(val_dataset)\n",
    "test_dataloader = DataLoader(test_dataset)"
   ]
  },
  {
   "cell_type": "code",
   "execution_count": 31,
   "metadata": {},
   "outputs": [
    {
     "data": {
      "text/plain": [
       "(array([ 1.05633803, 18.75      ]),\n",
       " array([ 1.05263158, 20.        ]),\n",
       " array([ 1.05263158, 20.        ]))"
      ]
     },
     "execution_count": 31,
     "metadata": {},
     "output_type": "execute_result"
    }
   ],
   "source": [
    "_, class_counts = np.unique(\n",
    "    train_df['label'],\n",
    "    return_counts=True,\n",
    ")\n",
    "\n",
    "alpha = len(train_df['label'])/class_counts\n",
    "\n",
    "# ------------ val -----------------------------------\n",
    "\n",
    "_, class_counts_val = np.unique(\n",
    "    val_df['label'],\n",
    "    return_counts=True,\n",
    ")\n",
    "alpha_val = len(val_df['label'])/class_counts_val\n",
    "\n",
    "# ----------- test ------------------------------------\n",
    "\n",
    "_, class_counts_test = np.unique(\n",
    "    test_df['label'],\n",
    "    return_counts=True,\n",
    ")\n",
    "alpha_test = len(test_df['label'])/class_counts_test\n",
    "alpha, alpha_val, alpha_test"
   ]
  },
  {
   "cell_type": "code",
   "execution_count": 32,
   "metadata": {},
   "outputs": [],
   "source": [
    "from src.utils import FocalLoss"
   ]
  },
  {
   "cell_type": "code",
   "execution_count": 33,
   "metadata": {},
   "outputs": [
    {
     "data": {
      "text/plain": [
       "(array([0, 1]), array([19320,  1040]))"
      ]
     },
     "execution_count": 33,
     "metadata": {},
     "output_type": "execute_result"
    }
   ],
   "source": [
    "classes"
   ]
  },
  {
   "cell_type": "code",
   "execution_count": 35,
   "metadata": {},
   "outputs": [
    {
     "name": "stdout",
     "output_type": "stream",
     "text": [
      "Epoch 19\n",
      "f1-score : 0.0\n",
      "tensor([[185,   5],\n",
      "        [ 10,   0]], device='cuda:0')\n"
     ]
    }
   ],
   "source": [
    "model = AutoModelForMaskedLM.from_pretrained(\"distilbert-base-uncased\",\n",
    "                                             cache_dir = \"/Data/pedro.silva\").to(device)\n",
    "history, confusion_matrix, best_model = train_model(\n",
    "    train_dataloader,\n",
    "    val_dataloader,\n",
    "    num_classes = len(class_names),\n",
    "    model = model,\n",
    "    verbalizer = verbalizer,\n",
    "    tokenizer=tokenizer,\n",
    "    alpha = 1e-5,\n",
    "    evaluation_fn= binary_f1_score,\n",
    "    loss_fn=FocalLoss(alpha, gamma=1),\n",
    "    n_epochs=10\n",
    ")"
   ]
  },
  {
   "cell_type": "code",
   "execution_count": 36,
   "metadata": {},
   "outputs": [
    {
     "data": {
      "text/plain": [
       "<matplotlib.legend.Legend at 0x7f3d5596b8b0>"
      ]
     },
     "execution_count": 36,
     "metadata": {},
     "output_type": "execute_result"
    },
    {
     "data": {
      "image/png": "[encoded data removed]",
      "text/plain": [
       "<Figure size 640x480 with 1 Axes>"
      ]
     },
     "metadata": {},
     "output_type": "display_data"
    }
   ],
   "source": [
    "plt.plot(history)\n",
    "plt.scatter(\n",
    "    np.argmax(history),\n",
    "    np.max(history),\n",
    "    label = f\"f1 = {np.max(history)}\",\n",
    "    c = \"green\"\n",
    ")\n",
    "\n",
    "plt.grid()\n",
    "plt.title(\"F1 score over epochs\")\n",
    "plt.xlabel(\"epoch\")\n",
    "plt.ylabel(\"F1 score\")\n",
    "plt.legend()"
   ]
  },
  {
   "cell_type": "code",
   "execution_count": 37,
   "metadata": {},
   "outputs": [
    {
     "data": {
      "text/plain": [
       "Text(0.5, 1.0, 'Confusion Matrix RAFT-WIKI-QA - PET')"
      ]
     },
     "execution_count": 37,
     "metadata": {},
     "output_type": "execute_result"
    },
    {
     "data": {
      "image/png": "[encoded data removed]",
      "text/plain": [
       "<Figure size 640x480 with 2 Axes>"
      ]
     },
     "metadata": {},
     "output_type": "display_data"
    }
   ],
   "source": [
    "df = pd.DataFrame(\n",
    "    confusion_matrix.to(\"cpu\").numpy(),\n",
    "    index = class_names,\n",
    "    columns=class_names\n",
    "    \n",
    ")\n",
    "\n",
    "sns.heatmap(\n",
    "    df,\n",
    "    annot = True,\n",
    "    fmt = '2g',\n",
    ")\n",
    "\n",
    "plt.title(f\"Confusion Matrix {dataset_name} - PET\")"
   ]
  },
  {
   "cell_type": "markdown",
   "metadata": {},
   "source": [
    "## Test results"
   ]
  },
  {
   "cell_type": "code",
   "execution_count": 38,
   "metadata": {},
   "outputs": [],
   "source": [
    "from src.model.mlm.pet_for_text_classification import get_y_true"
   ]
  },
  {
   "cell_type": "code",
   "execution_count": 40,
   "metadata": {},
   "outputs": [
    {
     "name": "stderr",
     "output_type": "stream",
     "text": [
      "  0%|          | 0/1000 [00:00<?, ?it/s]"
     ]
    },
    {
     "name": "stderr",
     "output_type": "stream",
     "text": [
      "100%|██████████| 1000/1000 [00:09<00:00, 109.81it/s]\n"
     ]
    }
   ],
   "source": [
    "with torch.no_grad():\n",
    "    y_true_test = torch.tensor([],device=device)\n",
    "    y_pred_test = torch.tensor([],device=device)\n",
    "\n",
    "    for input in tqdm(test_dataloader):\n",
    "        out = model(**input)\n",
    "\n",
    "        y_true = get_y_true(\n",
    "            input,\n",
    "            inverse_verbalizer\n",
    "        )\n",
    "\n",
    "        try:\n",
    "            mask_token_index = torch.where(input[\"input_ids\"] == tokenizer.mask_token_id)[1]\n",
    "\n",
    "        except:\n",
    "            mask_token_index = torch.where(input[\"input_ids\"] == tokenizer.mask_token_id)[0]\n",
    "        mask_token_logits = out.logits[0, mask_token_index, :]\n",
    "        \n",
    "        predictions = torch.Tensor(\n",
    "            [mask_token_logits[0,x] for x in verbalizer.values()]\n",
    "        )\n",
    "\n",
    "        y_pred = predictions.argmax().to(device)\n",
    "\n",
    "        y_pred_test = torch.cat([\n",
    "            y_pred_test, \n",
    "            torch.tensor([y_pred]).to(device)\n",
    "        ])\n",
    "\n",
    "        y_true_test = torch.cat([\n",
    "            y_true_test,\n",
    "            torch.tensor([y_true]).to(device)\n",
    "        ])\n",
    "    \n",
    "    f1 = binary_f1_score(\n",
    "        y_pred_test,\n",
    "        y_true_test,\n",
    "        # num_classes= len(classes[0])\n",
    "    )"
   ]
  },
  {
   "cell_type": "code",
   "execution_count": 41,
   "metadata": {},
   "outputs": [
    {
     "data": {
      "text/plain": [
       "tensor(0.1311, device='cuda:0')"
      ]
     },
     "execution_count": 41,
     "metadata": {},
     "output_type": "execute_result"
    }
   ],
   "source": [
    "f1"
   ]
  }
 ],
 "metadata": {
  "kernelspec": {
   "display_name": ".venv",
   "language": "python",
   "name": "python3"
  },
  "language_info": {
   "codemirror_mode": {
    "name": "ipython",
    "version": 3
   },
   "file_extension": ".py",
   "mimetype": "text/x-python",
   "name": "python",
   "nbconvert_exporter": "python",
   "pygments_lexer": "ipython3",
   "version": "3.9.18"
  }
 },
 "nbformat": 4,
 "nbformat_minor": 2
}
