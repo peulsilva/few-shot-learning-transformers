{
 "cells": [
  {
   "cell_type": "code",
   "execution_count": 30,
   "metadata": {},
   "outputs": [
    {
     "name": "stdout",
     "output_type": "stream",
     "text": [
      "The autoreload extension is already loaded. To reload it, use:\n",
      "  %reload_ext autoreload\n"
     ]
    }
   ],
   "source": [
    "%load_ext autoreload\n",
    "%autoreload 2"
   ]
  },
  {
   "cell_type": "code",
   "execution_count": 31,
   "metadata": {},
   "outputs": [],
   "source": [
    "import transformers\n",
    "from transformers import AutoTokenizer, AutoModel, AutoModelForMaskedLM, AutoModelForSequenceClassification\n",
    "from datasets import load_dataset\n",
    "import torch\n",
    "from torch.nn.functional import cross_entropy\n",
    "import matplotlib.pyplot as plt\n",
    "import numpy as np\n",
    "from tqdm import tqdm\n",
    "import logging\n",
    "from torcheval.metrics.functional import multiclass_f1_score, multiclass_confusion_matrix, binary_f1_score\n",
    "from copy import deepcopy, copy\n",
    "import seaborn as sns\n",
    "import pandas as pd\n",
    "from huggingface_hub import notebook_login\n",
    "from torch.utils.data import DataLoader, Dataset\n",
    "from collections import defaultdict, deque\n",
    "import random\n",
    "from sentence_transformers import SentenceTransformer, InputExample, losses, evaluation\n",
    "\n",
    "import os \n",
    "while 'notebooks' in os.getcwd():\n",
    "    os.chdir(\"..\")\n",
    "from src.preprocessing.sequence_classification.dataset import get_n_shots_per_class, get_dataloader\n",
    "from src.model.sequence_classification.trainer import SequenceClassificationTrainer\n",
    "\n",
    "import re\n",
    "from typing import List, Dict\n",
    "    \n",
    "\n",
    "import warnings\n",
    "warnings.filterwarnings(\"ignore\")"
   ]
  },
  {
   "cell_type": "code",
   "execution_count": 32,
   "metadata": {},
   "outputs": [
    {
     "name": "stdout",
     "output_type": "stream",
     "text": [
      "mkdir: cannot create directory ‘logs’: File exists\n"
     ]
    },
    {
     "name": "stderr",
     "output_type": "stream",
     "text": [
      "huggingface/tokenizers: The current process just got forked, after parallelism has already been used. Disabling parallelism to avoid deadlocks...\n",
      "To disable this warning, you can either:\n",
      "\t- Avoid using `tokenizers` before the fork if possible\n",
      "\t- Explicitly set the environment variable TOKENIZERS_PARALLELISM=(true | false)\n"
     ]
    }
   ],
   "source": [
    "device = \"cuda\" if torch.cuda.is_available() else \"cpu\"\n",
    "!mkdir logs\n",
    "model_name = \"Finetuning\"\n",
    "dataset_name = \"RAFT-TWITTER-EVAL\"\n",
    "logging.basicConfig(filename=f'logs/{model_name}_{dataset_name}.log', encoding='utf-8', level= logging.INFO)\n",
    "device = \"cuda\" if torch.cuda.is_available() else \"cpu\""
   ]
  },
  {
   "cell_type": "markdown",
   "metadata": {},
   "source": [
    "## Get data"
   ]
  },
  {
   "cell_type": "code",
   "execution_count": 33,
   "metadata": {},
   "outputs": [],
   "source": [
    "ade_corpus_dataset = load_dataset(\n",
    "    \"tweet_eval\", \n",
    "    name= \"emotion\",\n",
    "    cache_dir= \"/Data/pedro.silva\"\n",
    ")"
   ]
  },
  {
   "cell_type": "code",
   "execution_count": 34,
   "metadata": {},
   "outputs": [],
   "source": [
    "train_dataset = ade_corpus_dataset['train']"
   ]
  },
  {
   "cell_type": "code",
   "execution_count": 35,
   "metadata": {},
   "outputs": [
    {
     "data": {
      "text/plain": [
       "(array([0, 1, 2, 3]), array([1400,  708,  294,  855]))"
      ]
     },
     "execution_count": 35,
     "metadata": {},
     "output_type": "execute_result"
    }
   ],
   "source": [
    "classes = np.unique(train_dataset['label'], return_counts=True)\n",
    "classes"
   ]
  },
  {
   "cell_type": "code",
   "execution_count": 36,
   "metadata": {},
   "outputs": [],
   "source": [
    "classes_names = [\"anger\", \"joy\", \"optimism\", \"sadness\"]"
   ]
  },
  {
   "cell_type": "code",
   "execution_count": 37,
   "metadata": {},
   "outputs": [],
   "source": [
    "num_classes = len(classes[0])"
   ]
  },
  {
   "cell_type": "code",
   "execution_count": 38,
   "metadata": {},
   "outputs": [
    {
     "data": {
      "text/plain": [
       "4"
      ]
     },
     "execution_count": 38,
     "metadata": {},
     "output_type": "execute_result"
    }
   ],
   "source": [
    "num_classes"
   ]
  },
  {
   "cell_type": "code",
   "execution_count": 39,
   "metadata": {},
   "outputs": [],
   "source": [
    "df = train_dataset.to_pandas()\n"
   ]
  },
  {
   "cell_type": "code",
   "execution_count": 40,
   "metadata": {},
   "outputs": [],
   "source": [
    "proportion = df['label'].value_counts()/len(df)"
   ]
  },
  {
   "cell_type": "code",
   "execution_count": 41,
   "metadata": {},
   "outputs": [
    {
     "data": {
      "text/plain": [
       "label\n",
       "0    0.429843\n",
       "3    0.262512\n",
       "1    0.217378\n",
       "2    0.090267\n",
       "Name: count, dtype: float64"
      ]
     },
     "execution_count": 41,
     "metadata": {},
     "output_type": "execute_result"
    }
   ],
   "source": [
    "proportion"
   ]
  },
  {
   "cell_type": "code",
   "execution_count": 42,
   "metadata": {},
   "outputs": [],
   "source": [
    "\n",
    "def stratified_train_test_split(\n",
    "    dataset : Dataset,\n",
    "    classes : np.ndarray,\n",
    "    train_size : float,\n",
    "):\n",
    "    \"\"\"Performs train test split keeping class distributions\n",
    "\n",
    "    Args:\n",
    "        dataset (Dataset): _description_\n",
    "        classes (np.ndarray): _description_\n",
    "        train_size (float): _description_\n",
    "\n",
    "    Returns:\n",
    "        _type_: _description_\n",
    "    \"\"\"    \n",
    "    if isinstance(dataset, pd.DataFrame):\n",
    "        df = dataset\n",
    "\n",
    "    else:\n",
    "        df = dataset.to_pandas()\n",
    "    indexes_dict = {}\n",
    "    for label in classes[0]:\n",
    "        indexes_dict[label] = df.query(f\"label == {label}\")\n",
    "\n",
    "\n",
    "    \n",
    "    train_data = {\n",
    "        'label': [],\n",
    "        'text': []\n",
    "    }\n",
    "\n",
    "    validation_data = {\n",
    "        \"label\" : [],\n",
    "        \"text\": []\n",
    "    }\n",
    "\n",
    "    class_proportion = df['label'].value_counts()/len(df)\n",
    "\n",
    "    # generating train data\n",
    "    for label in classes[0]:\n",
    "        n = len(indexes_dict[label])\n",
    "\n",
    "        if isinstance(train_size, int):\n",
    "            size = round(class_proportion[label] * train_size)\n",
    "            \n",
    "        else:\n",
    "            size = int(train_size * n)\n",
    "\n",
    "        train_data['text'] += df.query(f\"label == {label}\")\\\n",
    "            [0:size]\\\n",
    "            ['text']\\\n",
    "            .to_list()\n",
    "        \n",
    "        train_data['label'] += [label]*size\n",
    "        \n",
    "        validation_data['text'] +=df.query(f\"label == {label}\")\\\n",
    "            [size:]\\\n",
    "            ['text']\\\n",
    "            .to_list()\n",
    "        \n",
    "        validation_data['label'] += [label]* (n-size)\n",
    "\n",
    "    return train_data, validation_data"
   ]
  },
  {
   "cell_type": "markdown",
   "metadata": {},
   "source": [
    "## Few shot learning study - 50 shots"
   ]
  },
  {
   "cell_type": "code",
   "execution_count": 71,
   "metadata": {},
   "outputs": [],
   "source": [
    "n_shots = 50\n",
    "train_validation, test = stratified_train_test_split(\n",
    "    train_dataset,\n",
    "    classes,\n",
    "    n_shots\n",
    ")"
   ]
  },
  {
   "cell_type": "code",
   "execution_count": 72,
   "metadata": {},
   "outputs": [],
   "source": [
    "train, val = stratified_train_test_split(\n",
    "    pd.DataFrame(train_validation),\n",
    "    classes,\n",
    "    30\n",
    ")"
   ]
  },
  {
   "cell_type": "code",
   "execution_count": 73,
   "metadata": {},
   "outputs": [],
   "source": [
    "val = pd.DataFrame(val).to_dict('list')\n",
    "test = pd.DataFrame(test).sample(n = 1000).to_dict('list')"
   ]
  },
  {
   "cell_type": "code",
   "execution_count": 74,
   "metadata": {},
   "outputs": [
    {
     "data": {
      "text/plain": [
       "(array([0, 1, 2, 3]), array([13,  7,  3,  8]))"
      ]
     },
     "execution_count": 74,
     "metadata": {},
     "output_type": "execute_result"
    }
   ],
   "source": [
    "np.unique(train['label'], return_counts=True)"
   ]
  },
  {
   "cell_type": "code",
   "execution_count": 75,
   "metadata": {},
   "outputs": [
    {
     "data": {
      "text/plain": [
       "(array([0, 1, 2, 3]), array([8, 4, 2, 5]))"
      ]
     },
     "execution_count": 75,
     "metadata": {},
     "output_type": "execute_result"
    }
   ],
   "source": [
    "np.unique(val['label'],return_counts=True)"
   ]
  },
  {
   "cell_type": "code",
   "execution_count": 76,
   "metadata": {},
   "outputs": [
    {
     "data": {
      "text/plain": [
       "(array([0, 1, 2, 3]), array([436, 224,  94, 246]))"
      ]
     },
     "execution_count": 76,
     "metadata": {},
     "output_type": "execute_result"
    }
   ],
   "source": [
    "np.unique(test['label'],return_counts=True)"
   ]
  },
  {
   "cell_type": "markdown",
   "metadata": {},
   "source": [
    "## Focal Loss Fn"
   ]
  },
  {
   "cell_type": "code",
   "execution_count": 77,
   "metadata": {},
   "outputs": [],
   "source": [
    "_, class_counts = np.unique(\n",
    "    train['label'],\n",
    "    return_counts=True,\n",
    ")\n",
    "\n",
    "alpha = len(train['label'])/class_counts\n",
    "\n",
    "# ------------ val -----------------------------------\n",
    "\n",
    "_, class_counts_val = np.unique(\n",
    "    val['label'],\n",
    "    return_counts=True,\n",
    ")\n",
    "alpha_val = len(val['label'])/class_counts_val\n",
    "\n",
    "# ----------- test ------------------------------------\n",
    "\n",
    "_, class_counts_test = np.unique(\n",
    "    test['label'],\n",
    "    return_counts=True,\n",
    ")\n",
    "alpha_test = len(test['label'])/class_counts_test"
   ]
  },
  {
   "cell_type": "code",
   "execution_count": 78,
   "metadata": {},
   "outputs": [
    {
     "data": {
      "text/plain": [
       "(array([ 2.38461538,  4.42857143, 10.33333333,  3.875     ]),\n",
       " array([2.375, 4.75 , 9.5  , 3.8  ]),\n",
       " array([ 2.29357798,  4.46428571, 10.63829787,  4.06504065]))"
      ]
     },
     "execution_count": 78,
     "metadata": {},
     "output_type": "execute_result"
    }
   ],
   "source": [
    "alpha, alpha_val, alpha_test"
   ]
  },
  {
   "cell_type": "code",
   "execution_count": 79,
   "metadata": {},
   "outputs": [],
   "source": [
    "from src.utils import FocalLoss\n",
    "loss_fn = FocalLoss(\n",
    "    gamma= 1,\n",
    "    alpha= alpha,\n",
    "    device = \"cuda\"\n",
    ")"
   ]
  },
  {
   "cell_type": "code",
   "execution_count": 81,
   "metadata": {},
   "outputs": [
    {
     "name": "stdout",
     "output_type": "stream",
     "text": [
      "Epoch 14\n",
      "f1: 0.5263158082962036\n",
      "tensor([[6, 0, 0, 2],\n",
      "        [2, 0, 0, 2],\n",
      "        [0, 0, 2, 0],\n",
      "        [3, 0, 0, 2]], device='cuda:0')\n"
     ]
    }
   ],
   "source": [
    "bert = AutoModelForSequenceClassification\\\n",
    "    .from_pretrained(\n",
    "        \"bert-base-uncased\", \n",
    "        num_labels = num_classes,\n",
    "        cache_dir = \"/Data/pedro.silva\"    \n",
    "    )\\\n",
    "    .to(device)\n",
    "\n",
    "tokenizer = AutoTokenizer.from_pretrained(\"bert-base-uncased\", cache_dir = \"/Data/pedro.silva\"  )\n",
    "\n",
    "trainer = SequenceClassificationTrainer(\n",
    "    bert,\n",
    "    num_classes\n",
    ")\n",
    "n_shots = len(train['text'])\n",
    "\n",
    "train_dataloader = get_dataloader(\n",
    "    train['text'],\n",
    "    train['label'],\n",
    "    tokenizer,\n",
    "    n_shots= n_shots,\n",
    "    equalize_class= False,\n",
    "    num_classes= num_classes,\n",
    ")\n",
    "\n",
    "\n",
    "val_dataloader = get_dataloader(\n",
    "    val['text'],\n",
    "    val['label'],\n",
    "    tokenizer,\n",
    "    n_shots = len(val['text']),\n",
    "    num_classes=num_classes,\n",
    "    equalize_class=False,\n",
    ")\n",
    "\n",
    "\n",
    "history = trainer.compile(\n",
    "    train_dataloader,\n",
    "    val_dataloader,\n",
    "    loss_fn= loss_fn,\n",
    "    evaluation_fn= multiclass_f1_score,\n",
    "    n_epochs=15\n",
    ")\n"
   ]
  },
  {
   "cell_type": "code",
   "execution_count": 82,
   "metadata": {},
   "outputs": [
    {
     "data": {
      "text/plain": [
       "Text(0, 0.5, 'F1 score')"
      ]
     },
     "execution_count": 82,
     "metadata": {},
     "output_type": "execute_result"
    },
    {
     "data": {
      "image/png": "[encoded data removed]",
      "text/plain": [
       "<Figure size 640x480 with 1 Axes>"
      ]
     },
     "metadata": {},
     "output_type": "display_data"
    }
   ],
   "source": [
    "plt.plot(history['val_f1'])\n",
    "\n",
    "plt.scatter(\n",
    "    np.argmax(history['val_f1']),\n",
    "    np.max(history['val_f1']),\n",
    "    label = f\"f1 = {np.max(history['val_f1'])}\",\n",
    "    c = \"green\"\n",
    ")\n",
    "\n",
    "plt.grid()\n",
    "plt.title(\"F1 score over epochs\")\n",
    "plt.xlabel(\"epoch\")\n",
    "plt.ylabel(\"F1 score\")"
   ]
  },
  {
   "cell_type": "code",
   "execution_count": 83,
   "metadata": {},
   "outputs": [
    {
     "data": {
      "text/plain": [
       "Text(0.5, 1.0, 'Confusion Matrix RAFT-TWITTER-EVAL - validation')"
      ]
     },
     "execution_count": 83,
     "metadata": {},
     "output_type": "execute_result"
    },
    {
     "data": {
      "image/png": "[encoded data removed]",
      "text/plain": [
       "<Figure size 640x480 with 2 Axes>"
      ]
     },
     "metadata": {},
     "output_type": "display_data"
    }
   ],
   "source": [
    "df = pd.DataFrame(\n",
    "    history['val_conf_matrix'].to(\"cpu\").numpy(),\n",
    "    index = classes_names,\n",
    "    columns=classes_names\n",
    "    \n",
    ")\n",
    "\n",
    "sns.heatmap(\n",
    "    df,\n",
    "    annot = True,\n",
    "    fmt = '2g',\n",
    ")\n",
    "\n",
    "plt.title(f\"Confusion Matrix {dataset_name} - validation\")"
   ]
  },
  {
   "cell_type": "markdown",
   "metadata": {},
   "source": [
    "## Generating Test resukts"
   ]
  },
  {
   "cell_type": "code",
   "execution_count": 84,
   "metadata": {},
   "outputs": [
    {
     "name": "stderr",
     "output_type": "stream",
     "text": [
      "  0%|          | 0/1000 [00:00<?, ?it/s]"
     ]
    },
    {
     "name": "stderr",
     "output_type": "stream",
     "text": [
      "100%|██████████| 1000/1000 [00:06<00:00, 145.48it/s]\n"
     ]
    }
   ],
   "source": [
    "model = trainer.best_model\n",
    "submission = pd.DataFrame()\n",
    "\n",
    "with torch.no_grad():\n",
    "    for i in tqdm(range(len(test['text']))):\n",
    "        text = test['text'][i]\n",
    "        label = test['label'][i]\n",
    "\n",
    "        tokens = tokenizer(\n",
    "            text,\n",
    "            truncation= True,\n",
    "            padding= \"max_length\",\n",
    "            return_tensors= \"pt\",\n",
    "            max_length=256,\n",
    "        )\n",
    "\n",
    "        for k,v in tokens.items():\n",
    "            tokens[k] = v.to(device)\n",
    "\n",
    "        pred = model(**tokens)\\\n",
    "            .logits\\\n",
    "            .argmax()\\\n",
    "            .to('cpu')\\\n",
    "            .item()\n",
    "\n",
    "        this_row = pd.DataFrame({\"predicted\": pred, \"label\": label}, index = [i])\n",
    "\n",
    "        submission = pd.concat([submission, this_row],)"
   ]
  },
  {
   "cell_type": "code",
   "execution_count": 85,
   "metadata": {},
   "outputs": [
    {
     "data": {
      "text/html": [
       "<div>\n",
       "<style scoped>\n",
       "    .dataframe tbody tr th:only-of-type {\n",
       "        vertical-align: middle;\n",
       "    }\n",
       "\n",
       "    .dataframe tbody tr th {\n",
       "        vertical-align: top;\n",
       "    }\n",
       "\n",
       "    .dataframe thead th {\n",
       "        text-align: right;\n",
       "    }\n",
       "</style>\n",
       "<table border=\"1\" class=\"dataframe\">\n",
       "  <thead>\n",
       "    <tr style=\"text-align: right;\">\n",
       "      <th></th>\n",
       "      <th>predicted</th>\n",
       "      <th>label</th>\n",
       "    </tr>\n",
       "  </thead>\n",
       "  <tbody>\n",
       "    <tr>\n",
       "      <th>0</th>\n",
       "      <td>3</td>\n",
       "      <td>0</td>\n",
       "    </tr>\n",
       "    <tr>\n",
       "      <th>1</th>\n",
       "      <td>3</td>\n",
       "      <td>0</td>\n",
       "    </tr>\n",
       "    <tr>\n",
       "      <th>2</th>\n",
       "      <td>0</td>\n",
       "      <td>3</td>\n",
       "    </tr>\n",
       "    <tr>\n",
       "      <th>3</th>\n",
       "      <td>0</td>\n",
       "      <td>1</td>\n",
       "    </tr>\n",
       "    <tr>\n",
       "      <th>4</th>\n",
       "      <td>0</td>\n",
       "      <td>2</td>\n",
       "    </tr>\n",
       "    <tr>\n",
       "      <th>...</th>\n",
       "      <td>...</td>\n",
       "      <td>...</td>\n",
       "    </tr>\n",
       "    <tr>\n",
       "      <th>995</th>\n",
       "      <td>0</td>\n",
       "      <td>3</td>\n",
       "    </tr>\n",
       "    <tr>\n",
       "      <th>996</th>\n",
       "      <td>0</td>\n",
       "      <td>0</td>\n",
       "    </tr>\n",
       "    <tr>\n",
       "      <th>997</th>\n",
       "      <td>1</td>\n",
       "      <td>0</td>\n",
       "    </tr>\n",
       "    <tr>\n",
       "      <th>998</th>\n",
       "      <td>0</td>\n",
       "      <td>2</td>\n",
       "    </tr>\n",
       "    <tr>\n",
       "      <th>999</th>\n",
       "      <td>0</td>\n",
       "      <td>0</td>\n",
       "    </tr>\n",
       "  </tbody>\n",
       "</table>\n",
       "<p>1000 rows × 2 columns</p>\n",
       "</div>"
      ],
      "text/plain": [
       "     predicted  label\n",
       "0            3      0\n",
       "1            3      0\n",
       "2            0      3\n",
       "3            0      1\n",
       "4            0      2\n",
       "..         ...    ...\n",
       "995          0      3\n",
       "996          0      0\n",
       "997          1      0\n",
       "998          0      2\n",
       "999          0      0\n",
       "\n",
       "[1000 rows x 2 columns]"
      ]
     },
     "execution_count": 85,
     "metadata": {},
     "output_type": "execute_result"
    }
   ],
   "source": [
    "submission"
   ]
  },
  {
   "cell_type": "code",
   "execution_count": 86,
   "metadata": {},
   "outputs": [],
   "source": [
    "from sklearn.metrics import f1_score, confusion_matrix"
   ]
  },
  {
   "cell_type": "code",
   "execution_count": 87,
   "metadata": {},
   "outputs": [
    {
     "data": {
      "text/plain": [
       "0.441"
      ]
     },
     "execution_count": 87,
     "metadata": {},
     "output_type": "execute_result"
    }
   ],
   "source": [
    "f1_score(submission['label'], submission['predicted'], average=\"micro\")"
   ]
  },
  {
   "cell_type": "code",
   "execution_count": 88,
   "metadata": {},
   "outputs": [
    {
     "data": {
      "text/plain": [
       "Text(0.5, 1.0, 'Confusion Matrix RAFT-TWITTER-EVAL - test')"
      ]
     },
     "execution_count": 88,
     "metadata": {},
     "output_type": "execute_result"
    },
    {
     "data": {
      "image/png": "[encoded data removed]",
      "text/plain": [
       "<Figure size 640x480 with 2 Axes>"
      ]
     },
     "metadata": {},
     "output_type": "display_data"
    }
   ],
   "source": [
    "conf_matrix = confusion_matrix(\n",
    "    submission['label'], \n",
    "    submission['predicted']\n",
    ")\n",
    "\n",
    "df = pd.DataFrame(\n",
    "    conf_matrix,\n",
    "    index = classes_names,\n",
    "    columns=classes_names\n",
    "    \n",
    ")\n",
    "\n",
    "sns.heatmap(\n",
    "    df,\n",
    "    annot = True,\n",
    "    fmt = '2g',\n",
    ")\n",
    "\n",
    "plt.title(f\"Confusion Matrix {dataset_name} - test\")"
   ]
  },
  {
   "cell_type": "code",
   "execution_count": null,
   "metadata": {},
   "outputs": [],
   "source": []
  },
  {
   "cell_type": "markdown",
   "metadata": {},
   "source": [
    "## General study - 500 shots"
   ]
  },
  {
   "cell_type": "code",
   "execution_count": 89,
   "metadata": {},
   "outputs": [],
   "source": [
    "n_shots = 500\n",
    "train_validation, test = stratified_train_test_split(\n",
    "    train_dataset,\n",
    "    classes,\n",
    "    n_shots\n",
    ")"
   ]
  },
  {
   "cell_type": "code",
   "execution_count": 100,
   "metadata": {},
   "outputs": [],
   "source": [
    "train, val = stratified_train_test_split(\n",
    "    pd.DataFrame(train_validation),\n",
    "    classes,\n",
    "    300\n",
    ")"
   ]
  },
  {
   "cell_type": "code",
   "execution_count": 91,
   "metadata": {},
   "outputs": [],
   "source": [
    "val = pd.DataFrame(val).to_dict('list')\n",
    "test = pd.DataFrame(test).sample(n = 1000).to_dict('list')"
   ]
  },
  {
   "cell_type": "code",
   "execution_count": 92,
   "metadata": {},
   "outputs": [
    {
     "data": {
      "text/plain": [
       "(array([0, 1, 2, 3]), array([129,  65,  27,  79]))"
      ]
     },
     "execution_count": 92,
     "metadata": {},
     "output_type": "execute_result"
    }
   ],
   "source": [
    "np.unique(train['label'], return_counts=True)"
   ]
  },
  {
   "cell_type": "code",
   "execution_count": 93,
   "metadata": {},
   "outputs": [
    {
     "data": {
      "text/plain": [
       "(array([0, 1, 2, 3]), array([86, 44, 18, 52]))"
      ]
     },
     "execution_count": 93,
     "metadata": {},
     "output_type": "execute_result"
    }
   ],
   "source": [
    "np.unique(val['label'],return_counts=True)"
   ]
  },
  {
   "cell_type": "code",
   "execution_count": 94,
   "metadata": {},
   "outputs": [
    {
     "data": {
      "text/plain": [
       "(array([0, 1, 2, 3]), array([437, 207,  89, 267]))"
      ]
     },
     "execution_count": 94,
     "metadata": {},
     "output_type": "execute_result"
    }
   ],
   "source": [
    "np.unique(test['label'],return_counts=True)"
   ]
  },
  {
   "cell_type": "markdown",
   "metadata": {},
   "source": [
    "## Focal Loss Fn"
   ]
  },
  {
   "cell_type": "code",
   "execution_count": 95,
   "metadata": {},
   "outputs": [],
   "source": [
    "_, class_counts = np.unique(\n",
    "    train['label'],\n",
    "    return_counts=True,\n",
    ")\n",
    "\n",
    "alpha = len(train['label'])/class_counts\n",
    "\n",
    "# ------------ val -----------------------------------\n",
    "\n",
    "_, class_counts_val = np.unique(\n",
    "    val['label'],\n",
    "    return_counts=True,\n",
    ")\n",
    "alpha_val = len(val['label'])/class_counts_val\n",
    "\n",
    "# ----------- test ------------------------------------\n",
    "\n",
    "_, class_counts_test = np.unique(\n",
    "    test['label'],\n",
    "    return_counts=True,\n",
    ")\n",
    "alpha_test = len(test['label'])/class_counts_test"
   ]
  },
  {
   "cell_type": "code",
   "execution_count": 96,
   "metadata": {},
   "outputs": [
    {
     "data": {
      "text/plain": [
       "(array([ 2.3255814 ,  4.61538462, 11.11111111,  3.79746835]),\n",
       " array([ 2.3255814 ,  4.54545455, 11.11111111,  3.84615385]),\n",
       " array([ 2.28832952,  4.83091787, 11.23595506,  3.74531835]))"
      ]
     },
     "execution_count": 96,
     "metadata": {},
     "output_type": "execute_result"
    }
   ],
   "source": [
    "alpha, alpha_val, alpha_test"
   ]
  },
  {
   "cell_type": "code",
   "execution_count": 97,
   "metadata": {},
   "outputs": [],
   "source": [
    "from src.utils import FocalLoss\n",
    "loss_fn = FocalLoss(\n",
    "    gamma= 1,\n",
    "    alpha= alpha,\n",
    "    device = \"cuda\"\n",
    ")"
   ]
  },
  {
   "cell_type": "code",
   "execution_count": 102,
   "metadata": {},
   "outputs": [
    {
     "name": "stdout",
     "output_type": "stream",
     "text": [
      "Epoch 29\n",
      "f1: 0.7099999785423279\n",
      "tensor([[73,  5,  1,  7],\n",
      "        [ 7, 33,  0,  4],\n",
      "        [ 6,  2,  8,  2],\n",
      "        [15,  7,  2, 28]], device='cuda:0')\n"
     ]
    }
   ],
   "source": [
    "bert = AutoModelForSequenceClassification\\\n",
    "    .from_pretrained(\n",
    "        \"bert-base-uncased\", \n",
    "        num_labels = num_classes,\n",
    "        cache_dir = \"/Data/pedro.silva\"    \n",
    "    )\\\n",
    "    .to(device)\n",
    "\n",
    "tokenizer = AutoTokenizer.from_pretrained(\"bert-base-uncased\", cache_dir = \"/Data/pedro.silva\"  )\n",
    "\n",
    "trainer = SequenceClassificationTrainer(\n",
    "    bert,\n",
    "    num_classes\n",
    ")\n",
    "n_shots = len(train['text'])\n",
    "\n",
    "train_dataloader = get_dataloader(\n",
    "    train['text'],\n",
    "    train['label'],\n",
    "    tokenizer,\n",
    "    n_shots= n_shots,\n",
    "    equalize_class= False,\n",
    "    num_classes= num_classes,\n",
    "    batch_size = 8\n",
    ")\n",
    "\n",
    "\n",
    "val_dataloader = get_dataloader(\n",
    "    val['text'],\n",
    "    val['label'],\n",
    "    tokenizer,\n",
    "    n_shots = 300,\n",
    "    num_classes=num_classes,\n",
    "    equalize_class=False,\n",
    ")\n",
    "\n",
    "\n",
    "history = trainer.compile(\n",
    "    train_dataloader,\n",
    "    val_dataloader,\n",
    "    loss_fn= loss_fn,\n",
    "    evaluation_fn= multiclass_f1_score,\n",
    "    n_epochs=30\n",
    ")\n"
   ]
  },
  {
   "cell_type": "code",
   "execution_count": 103,
   "metadata": {},
   "outputs": [
    {
     "data": {
      "text/plain": [
       "Text(0, 0.5, 'F1 score')"
      ]
     },
     "execution_count": 103,
     "metadata": {},
     "output_type": "execute_result"
    },
    {
     "data": {
      "image/png": "[encoded data removed]",
      "text/plain": [
       "<Figure size 640x480 with 1 Axes>"
      ]
     },
     "metadata": {},
     "output_type": "display_data"
    }
   ],
   "source": [
    "plt.plot(history['val_f1'])\n",
    "\n",
    "plt.scatter(\n",
    "    np.argmax(history['val_f1']),\n",
    "    np.max(history['val_f1']),\n",
    "    label = f\"f1 = {np.max(history['val_f1'])}\",\n",
    "    c = \"green\"\n",
    ")\n",
    "\n",
    "plt.grid()\n",
    "plt.legend()\n",
    "plt.title(\"F1 score over epochs\")\n",
    "plt.xlabel(\"epoch\")\n",
    "plt.ylabel(\"F1 score\")"
   ]
  },
  {
   "cell_type": "code",
   "execution_count": 104,
   "metadata": {},
   "outputs": [
    {
     "data": {
      "text/plain": [
       "Text(0.5, 1.0, 'Confusion Matrix RAFT-TWITTER-EVAL - validation')"
      ]
     },
     "execution_count": 104,
     "metadata": {},
     "output_type": "execute_result"
    },
    {
     "data": {
      "image/png": "[encoded data removed]",
      "text/plain": [
       "<Figure size 640x480 with 2 Axes>"
      ]
     },
     "metadata": {},
     "output_type": "display_data"
    }
   ],
   "source": [
    "df = pd.DataFrame(\n",
    "    history['val_conf_matrix'].to(\"cpu\").numpy(),\n",
    "    index = classes_names,\n",
    "    columns=classes_names\n",
    "    \n",
    ")\n",
    "\n",
    "sns.heatmap(\n",
    "    df,\n",
    "    annot = True,\n",
    "    fmt = '2g',\n",
    ")\n",
    "\n",
    "plt.title(f\"Confusion Matrix {dataset_name} - validation\")"
   ]
  },
  {
   "cell_type": "markdown",
   "metadata": {},
   "source": [
    "## Generating Test resukts"
   ]
  },
  {
   "cell_type": "code",
   "execution_count": 105,
   "metadata": {},
   "outputs": [
    {
     "name": "stderr",
     "output_type": "stream",
     "text": [
      "  0%|          | 0/1000 [00:00<?, ?it/s]"
     ]
    },
    {
     "name": "stderr",
     "output_type": "stream",
     "text": [
      "100%|██████████| 1000/1000 [00:06<00:00, 151.41it/s]\n"
     ]
    }
   ],
   "source": [
    "model = trainer.best_model\n",
    "submission = pd.DataFrame()\n",
    "\n",
    "with torch.no_grad():\n",
    "    for i in tqdm(range(len(test['text']))):\n",
    "        text = test['text'][i]\n",
    "        label = test['label'][i]\n",
    "\n",
    "        tokens = tokenizer(\n",
    "            text,\n",
    "            truncation= True,\n",
    "            padding= \"max_length\",\n",
    "            return_tensors= \"pt\",\n",
    "            max_length=256,\n",
    "        )\n",
    "\n",
    "        for k,v in tokens.items():\n",
    "            tokens[k] = v.to(device)\n",
    "\n",
    "        pred = model(**tokens)\\\n",
    "            .logits\\\n",
    "            .argmax()\\\n",
    "            .to('cpu')\\\n",
    "            .item()\n",
    "\n",
    "        this_row = pd.DataFrame({\"predicted\": pred, \"label\": label}, index = [i])\n",
    "\n",
    "        submission = pd.concat([submission, this_row],)"
   ]
  },
  {
   "cell_type": "code",
   "execution_count": 106,
   "metadata": {},
   "outputs": [
    {
     "data": {
      "text/html": [
       "<div>\n",
       "<style scoped>\n",
       "    .dataframe tbody tr th:only-of-type {\n",
       "        vertical-align: middle;\n",
       "    }\n",
       "\n",
       "    .dataframe tbody tr th {\n",
       "        vertical-align: top;\n",
       "    }\n",
       "\n",
       "    .dataframe thead th {\n",
       "        text-align: right;\n",
       "    }\n",
       "</style>\n",
       "<table border=\"1\" class=\"dataframe\">\n",
       "  <thead>\n",
       "    <tr style=\"text-align: right;\">\n",
       "      <th></th>\n",
       "      <th>predicted</th>\n",
       "      <th>label</th>\n",
       "    </tr>\n",
       "  </thead>\n",
       "  <tbody>\n",
       "    <tr>\n",
       "      <th>0</th>\n",
       "      <td>1</td>\n",
       "      <td>1</td>\n",
       "    </tr>\n",
       "    <tr>\n",
       "      <th>1</th>\n",
       "      <td>2</td>\n",
       "      <td>2</td>\n",
       "    </tr>\n",
       "    <tr>\n",
       "      <th>2</th>\n",
       "      <td>0</td>\n",
       "      <td>0</td>\n",
       "    </tr>\n",
       "    <tr>\n",
       "      <th>3</th>\n",
       "      <td>0</td>\n",
       "      <td>0</td>\n",
       "    </tr>\n",
       "    <tr>\n",
       "      <th>4</th>\n",
       "      <td>1</td>\n",
       "      <td>1</td>\n",
       "    </tr>\n",
       "    <tr>\n",
       "      <th>...</th>\n",
       "      <td>...</td>\n",
       "      <td>...</td>\n",
       "    </tr>\n",
       "    <tr>\n",
       "      <th>995</th>\n",
       "      <td>3</td>\n",
       "      <td>0</td>\n",
       "    </tr>\n",
       "    <tr>\n",
       "      <th>996</th>\n",
       "      <td>0</td>\n",
       "      <td>2</td>\n",
       "    </tr>\n",
       "    <tr>\n",
       "      <th>997</th>\n",
       "      <td>2</td>\n",
       "      <td>3</td>\n",
       "    </tr>\n",
       "    <tr>\n",
       "      <th>998</th>\n",
       "      <td>1</td>\n",
       "      <td>0</td>\n",
       "    </tr>\n",
       "    <tr>\n",
       "      <th>999</th>\n",
       "      <td>0</td>\n",
       "      <td>0</td>\n",
       "    </tr>\n",
       "  </tbody>\n",
       "</table>\n",
       "<p>1000 rows × 2 columns</p>\n",
       "</div>"
      ],
      "text/plain": [
       "     predicted  label\n",
       "0            1      1\n",
       "1            2      2\n",
       "2            0      0\n",
       "3            0      0\n",
       "4            1      1\n",
       "..         ...    ...\n",
       "995          3      0\n",
       "996          0      2\n",
       "997          2      3\n",
       "998          1      0\n",
       "999          0      0\n",
       "\n",
       "[1000 rows x 2 columns]"
      ]
     },
     "execution_count": 106,
     "metadata": {},
     "output_type": "execute_result"
    }
   ],
   "source": [
    "submission"
   ]
  },
  {
   "cell_type": "code",
   "execution_count": 107,
   "metadata": {},
   "outputs": [],
   "source": [
    "from sklearn.metrics import f1_score, confusion_matrix"
   ]
  },
  {
   "cell_type": "code",
   "execution_count": 108,
   "metadata": {},
   "outputs": [
    {
     "data": {
      "text/plain": [
       "0.689"
      ]
     },
     "execution_count": 108,
     "metadata": {},
     "output_type": "execute_result"
    }
   ],
   "source": [
    "f1_score(submission['label'], submission['predicted'], average=\"micro\")"
   ]
  },
  {
   "cell_type": "code",
   "execution_count": 109,
   "metadata": {},
   "outputs": [
    {
     "data": {
      "text/plain": [
       "Text(0.5, 1.0, 'Confusion Matrix RAFT-TWITTER-EVAL - test')"
      ]
     },
     "execution_count": 109,
     "metadata": {},
     "output_type": "execute_result"
    },
    {
     "data": {
      "image/png": "[encoded data removed]",
      "text/plain": [
       "<Figure size 640x480 with 2 Axes>"
      ]
     },
     "metadata": {},
     "output_type": "display_data"
    }
   ],
   "source": [
    "conf_matrix = confusion_matrix(\n",
    "    submission['label'], \n",
    "    submission['predicted']\n",
    ")\n",
    "\n",
    "df = pd.DataFrame(\n",
    "    conf_matrix,\n",
    "    index = classes_names,\n",
    "    columns=classes_names\n",
    "    \n",
    ")\n",
    "\n",
    "sns.heatmap(\n",
    "    df,\n",
    "    annot = True,\n",
    "    fmt = '2g',\n",
    ")\n",
    "\n",
    "plt.title(f\"Confusion Matrix {dataset_name} - test\")"
   ]
  },
  {
   "cell_type": "code",
   "execution_count": null,
   "metadata": {},
   "outputs": [],
   "source": []
  }
 ],
 "metadata": {
  "kernelspec": {
   "display_name": ".venv",
   "language": "python",
   "name": "python3"
  },
  "language_info": {
   "codemirror_mode": {
    "name": "ipython",
    "version": 3
   },
   "file_extension": ".py",
   "mimetype": "text/x-python",
   "name": "python",
   "nbconvert_exporter": "python",
   "pygments_lexer": "ipython3",
   "version": "3.9.18"
  }
 },
 "nbformat": 4,
 "nbformat_minor": 2
}
