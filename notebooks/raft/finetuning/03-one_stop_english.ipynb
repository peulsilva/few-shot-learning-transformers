{
 "cells": [
  {
   "cell_type": "code",
   "execution_count": 2,
   "metadata": {},
   "outputs": [],
   "source": [
    "%load_ext autoreload\n",
    "%autoreload 2"
   ]
  },
  {
   "cell_type": "code",
   "execution_count": 3,
   "metadata": {},
   "outputs": [],
   "source": [
    "import transformers\n",
    "from transformers import AutoTokenizer, AutoModel, AutoModelForMaskedLM, AutoModelForSequenceClassification\n",
    "from datasets import load_dataset\n",
    "import torch\n",
    "from torch.nn.functional import cross_entropy\n",
    "import matplotlib.pyplot as plt\n",
    "import numpy as np\n",
    "from tqdm import tqdm\n",
    "import logging\n",
    "from torcheval.metrics.functional import multiclass_f1_score, multiclass_confusion_matrix, binary_f1_score\n",
    "from copy import deepcopy, copy\n",
    "import seaborn as sns\n",
    "import pandas as pd\n",
    "from huggingface_hub import notebook_login\n",
    "from torch.utils.data import DataLoader, Dataset\n",
    "from collections import defaultdict, deque\n",
    "import random\n",
    "from sentence_transformers import SentenceTransformer, InputExample, losses, evaluation\n",
    "\n",
    "import os \n",
    "while 'notebooks' in os.getcwd():\n",
    "    os.chdir(\"..\")\n",
    "from src.preprocessing.sequence_classification.dataset import get_n_shots_per_class, get_dataloader\n",
    "from src.model.sequence_classification.trainer import SequenceClassificationTrainer\n",
    "\n",
    "import re\n",
    "from typing import List, Dict\n",
    "    \n",
    "\n",
    "import warnings\n",
    "warnings.filterwarnings(\"ignore\")"
   ]
  },
  {
   "cell_type": "code",
   "execution_count": 4,
   "metadata": {},
   "outputs": [
    {
     "data": {
      "application/vnd.jupyter.widget-view+json": {
       "model_id": "73914b7fd28c4098a748b63b2a08b822",
       "version_major": 2,
       "version_minor": 0
      },
      "text/plain": [
       "VBox(children=(HTML(value='<center> <img\\nsrc=https://huggingface.co/front/assets/huggingface_logo-noborder.sv…"
      ]
     },
     "metadata": {},
     "output_type": "display_data"
    }
   ],
   "source": [
    "notebook_login()"
   ]
  },
  {
   "cell_type": "code",
   "execution_count": 5,
   "metadata": {},
   "outputs": [
    {
     "name": "stdout",
     "output_type": "stream",
     "text": [
      "mkdir: cannot create directory ‘logs’: File exists\n"
     ]
    }
   ],
   "source": [
    "device = \"cuda\" if torch.cuda.is_available() else \"cpu\"\n",
    "!mkdir logs\n",
    "model_name = \"Finetuning\"\n",
    "dataset_name = \"RAFT-ONE-STOP-ENGLISH\"\n",
    "logging.basicConfig(filename=f'logs/{model_name}_{dataset_name}.log', encoding='utf-8', level= logging.INFO)\n",
    "device = \"cuda\" if torch.cuda.is_available() else \"cpu\""
   ]
  },
  {
   "cell_type": "markdown",
   "metadata": {},
   "source": [
    "## Get data"
   ]
  },
  {
   "cell_type": "code",
   "execution_count": 6,
   "metadata": {},
   "outputs": [],
   "source": [
    "one_stop_english_dataset = load_dataset(\n",
    "    \"ought/raft\", \n",
    "    name=\"one_stop_english\" , \n",
    "    cache_dir= \"/Data/pedro.silva\"\n",
    ")"
   ]
  },
  {
   "cell_type": "code",
   "execution_count": 7,
   "metadata": {},
   "outputs": [],
   "source": [
    "train_dataset = one_stop_english_dataset['train'].add_column(\n",
    "    \"labels\",\n",
    "    list(map(lambda x: x- 1, one_stop_english_dataset['train']['Label']))\n",
    ")\n",
    "\n",
    "test_dataset = one_stop_english_dataset['test'].add_column(\n",
    "    \"labels\",\n",
    "    list(map(lambda x: x- 1, one_stop_english_dataset['test']['Label']))\n",
    ")"
   ]
  },
  {
   "cell_type": "code",
   "execution_count": 8,
   "metadata": {},
   "outputs": [
    {
     "data": {
      "text/plain": [
       "(array([0, 1, 2]), array([18, 20, 12]))"
      ]
     },
     "execution_count": 8,
     "metadata": {},
     "output_type": "execute_result"
    }
   ],
   "source": [
    "classes = np.unique(train_dataset['labels'], return_counts=True)\n",
    "classes"
   ]
  },
  {
   "cell_type": "code",
   "execution_count": 9,
   "metadata": {},
   "outputs": [
    {
     "data": {
      "text/plain": [
       "3"
      ]
     },
     "execution_count": 9,
     "metadata": {},
     "output_type": "execute_result"
    }
   ],
   "source": [
    "num_classes = len(classes[0])\n",
    "num_classes"
   ]
  },
  {
   "cell_type": "code",
   "execution_count": 10,
   "metadata": {},
   "outputs": [
    {
     "data": {
      "text/plain": [
       "Dataset({\n",
       "    features: ['Article', 'ID', 'Label', 'labels'],\n",
       "    num_rows: 50\n",
       "})"
      ]
     },
     "execution_count": 10,
     "metadata": {},
     "output_type": "execute_result"
    }
   ],
   "source": [
    "train_dataset"
   ]
  },
  {
   "cell_type": "code",
   "execution_count": 11,
   "metadata": {},
   "outputs": [],
   "source": [
    "classes_names = [\"advanced\", \"elementary\", \"intermediate\"]"
   ]
  },
  {
   "cell_type": "code",
   "execution_count": 12,
   "metadata": {},
   "outputs": [],
   "source": [
    "train_size = 0.7\n",
    "def stratified_train_test_split(\n",
    "    dataset : Dataset,\n",
    "    classes : np.ndarray,\n",
    "    train_size : float\n",
    "):\n",
    "    \"\"\"Performs train test split keeping class distributions\n",
    "\n",
    "    Args:\n",
    "        dataset (Dataset): _description_\n",
    "        classes (np.ndarray): _description_\n",
    "        train_size (float): _description_\n",
    "\n",
    "    Returns:\n",
    "        _type_: _description_\n",
    "    \"\"\"    \n",
    "\n",
    "    indexes_dict = {}\n",
    "    for label in classes[0]:\n",
    "        indexes_dict[label] = []\n",
    "\n",
    "    for i in range(len(dataset['labels'])):\n",
    "        label = dataset['labels'][i]\n",
    "        text = dataset['Article'][i]\n",
    "        indexes_dict[label].append(text)\n",
    "\n",
    "\n",
    "    train_data = {\n",
    "        'labels': [],\n",
    "        'text': []\n",
    "    }\n",
    "\n",
    "    validation_data = {\n",
    "        \"labels\" : [],\n",
    "        \"text\": []\n",
    "    }\n",
    "\n",
    "    # generating train data\n",
    "    for label in classes[0]:\n",
    "        n = len(indexes_dict[label])\n",
    "        size = int(train_size * n)\n",
    "\n",
    "        train_data['text'] += indexes_dict[label][:size]\n",
    "        train_data['labels'] += [label]*size\n",
    "        \n",
    "        validation_data['text'] +=indexes_dict[label][size:]\n",
    "        validation_data['labels'] += [label]* (n-size)\n",
    "\n",
    "    return train_data, validation_data"
   ]
  },
  {
   "cell_type": "code",
   "execution_count": 13,
   "metadata": {},
   "outputs": [],
   "source": [
    "train, val = stratified_train_test_split(\n",
    "    train_dataset, \n",
    "    classes,\n",
    "    0.6\n",
    ")"
   ]
  },
  {
   "cell_type": "code",
   "execution_count": 14,
   "metadata": {},
   "outputs": [
    {
     "data": {
      "text/plain": [
       "(array([10, 12,  7]), array([8, 8, 5]))"
      ]
     },
     "execution_count": 14,
     "metadata": {},
     "output_type": "execute_result"
    }
   ],
   "source": [
    "np.bincount(train['labels']), np.bincount(val['labels'])"
   ]
  },
  {
   "cell_type": "markdown",
   "metadata": {},
   "source": [
    "## Train model"
   ]
  },
  {
   "cell_type": "code",
   "execution_count": 15,
   "metadata": {},
   "outputs": [],
   "source": [
    "class_counts = np.bincount(\n",
    "    train['labels'],\n",
    ")\n",
    "\n",
    "alpha = len(train['labels'])/class_counts"
   ]
  },
  {
   "cell_type": "code",
   "execution_count": 16,
   "metadata": {},
   "outputs": [],
   "source": [
    "from src.utils import FocalLoss\n",
    "loss_fn = FocalLoss(\n",
    "    gamma= 1,\n",
    "    alpha= alpha,\n",
    "    device = \"cuda\"\n",
    ")"
   ]
  },
  {
   "cell_type": "code",
   "execution_count": 18,
   "metadata": {},
   "outputs": [
    {
     "name": "stdout",
     "output_type": "stream",
     "text": [
      "f1: 0.9047619104385376\n",
      "tensor([[8, 0, 0],\n",
      "        [0, 6, 2],\n",
      "        [0, 0, 5]], device='cuda:0')\n"
     ]
    }
   ],
   "source": [
    "bert = AutoModelForSequenceClassification\\\n",
    "    .from_pretrained(\n",
    "        \"FacebookAI/roberta-large\", \n",
    "        num_labels = num_classes,\n",
    "        cache_dir = \"/Data/pedro.silva\"    \n",
    "    )\\\n",
    "    .to(device)\n",
    "\n",
    "tokenizer = AutoTokenizer.from_pretrained(\"FacebookAI/roberta-large\", cache_dir = \"/Data/pedro.silva\"  )\n",
    "\n",
    "trainer = SequenceClassificationTrainer(\n",
    "    bert,\n",
    "    num_classes\n",
    ")\n",
    "n_shots = len(train['text'])\n",
    "\n",
    "train_dataloader = get_dataloader(\n",
    "    train['text'],\n",
    "    train['labels'],\n",
    "    tokenizer,\n",
    "    n_shots= n_shots,\n",
    "    equalize_class= False,\n",
    "    num_classes= num_classes,\n",
    "    shuffle = True\n",
    ")\n",
    "\n",
    "\n",
    "val_dataloader = get_dataloader(\n",
    "    val['text'],\n",
    "    val['labels'],\n",
    "    tokenizer,\n",
    "    n_shots = 100,\n",
    "    num_classes=num_classes,\n",
    "    equalize_class=False\n",
    ")\n",
    "\n",
    "\n",
    "history = trainer.compile(\n",
    "    train_dataloader,\n",
    "    val_dataloader,\n",
    "    loss_fn= loss_fn,\n",
    "    evaluation_fn= multiclass_f1_score,\n",
    "    n_epochs=15\n",
    ")\n"
   ]
  },
  {
   "cell_type": "code",
   "execution_count": null,
   "metadata": {},
   "outputs": [],
   "source": []
  },
  {
   "cell_type": "code",
   "execution_count": 19,
   "metadata": {},
   "outputs": [
    {
     "data": {
      "text/plain": [
       "<matplotlib.legend.Legend at 0x7fcee3852ee0>"
      ]
     },
     "execution_count": 19,
     "metadata": {},
     "output_type": "execute_result"
    },
    {
     "data": {
      "image/png": "[encoded data removed]",
      "text/plain": [
       "<Figure size 640x480 with 1 Axes>"
      ]
     },
     "metadata": {},
     "output_type": "display_data"
    }
   ],
   "source": [
    "plt.plot(history['val_f1'])\n",
    "plt.scatter(\n",
    "    np.argmax(history['val_f1']),\n",
    "    np.max(history['val_f1']),\n",
    "    label = f\"f1 = {np.max(history['val_f1'])}\",\n",
    "    c = \"green\"\n",
    ")\n",
    "\n",
    "plt.grid()\n",
    "plt.title(\"F1 score over epochs\")\n",
    "plt.xlabel(\"epoch\")\n",
    "plt.ylabel(\"F1 score\")\n",
    "plt.legend()"
   ]
  },
  {
   "cell_type": "code",
   "execution_count": 20,
   "metadata": {},
   "outputs": [
    {
     "data": {
      "text/plain": [
       "Text(0.5, 1.0, 'Confusion Matrix RAFT-ONE-STOP-ENGLISH')"
      ]
     },
     "execution_count": 20,
     "metadata": {},
     "output_type": "execute_result"
    },
    {
     "data": {
      "image/png": "[encoded data removed]",
      "text/plain": [
       "<Figure size 640x480 with 2 Axes>"
      ]
     },
     "metadata": {},
     "output_type": "display_data"
    }
   ],
   "source": [
    "df = pd.DataFrame(\n",
    "    history['val_conf_matrix'].to(\"cpu\").numpy(),\n",
    "    index = classes_names,\n",
    "    columns=classes_names\n",
    "    \n",
    ")\n",
    "\n",
    "sns.heatmap(\n",
    "    df,\n",
    "    annot = True,\n",
    "    fmt = '2g',\n",
    ")\n",
    "\n",
    "plt.title(f\"Confusion Matrix {dataset_name}\")"
   ]
  },
  {
   "cell_type": "code",
   "execution_count": 21,
   "metadata": {},
   "outputs": [
    {
     "data": {
      "application/vnd.jupyter.widget-view+json": {
       "model_id": "a9babc453fd4480d8df2469a3452981e",
       "version_major": 2,
       "version_minor": 0
      },
      "text/plain": [
       "model.safetensors:   0%|          | 0.00/1.42G [00:00<?, ?B/s]"
      ]
     },
     "metadata": {},
     "output_type": "display_data"
    },
    {
     "data": {
      "text/plain": [
       "CommitInfo(commit_url='https://huggingface.co/peulsilva/RoBERTA-large-one-stop-english/commit/abc46ed49122badac592b10208108ec397ce635a', commit_message='Upload RobertaForSequenceClassification', commit_description='', oid='abc46ed49122badac592b10208108ec397ce635a', pr_url=None, pr_revision=None, pr_num=None)"
      ]
     },
     "execution_count": 21,
     "metadata": {},
     "output_type": "execute_result"
    }
   ],
   "source": [
    "trainer.best_model.push_to_hub(\"peulsilva/RoBERTA-large-one-stop-english\")"
   ]
  },
  {
   "cell_type": "markdown",
   "metadata": {},
   "source": [
    "## Generating submission"
   ]
  },
  {
   "cell_type": "code",
   "execution_count": null,
   "metadata": {},
   "outputs": [],
   "source": []
  },
  {
   "cell_type": "code",
   "execution_count": 22,
   "metadata": {},
   "outputs": [
    {
     "data": {
      "text/plain": [
       "Dataset({\n",
       "    features: ['Article', 'ID', 'Label', 'labels'],\n",
       "    num_rows: 516\n",
       "})"
      ]
     },
     "execution_count": 22,
     "metadata": {},
     "output_type": "execute_result"
    }
   ],
   "source": [
    "test_dataset"
   ]
  },
  {
   "cell_type": "code",
   "execution_count": 23,
   "metadata": {},
   "outputs": [
    {
     "data": {
      "text/plain": [
       "{'Article': 'Many of us know we don’t get enough sleep but imagine if there was a simple solution: getting up later. In a speech at the British Science Festival, Dr Paul Kelley from Oxford University said schools should stagger their starting times to work with the natural rhythms of their students. This would improve exam results and students’ health (lack of sleep can cause diabetes, depression, obesity and other health problems).\\nDr Kelley said that, when children are around ten, their natural wake-up time is about 6.30am; at 16, this rises to 8am; and, at 18, a person’s natural waking hour is 9am, although you may think they are just a lazy teenager. The normal school starting time works for 10-year-olds but not for 16- to 18-year-olds. For the older teenagers, it might be better to start the school day at 11am or even later. “A 7am wake-up time for older teenagers,” says Kelley, “is the same as a 4.30am start for a teacher in their 50s.”\\nHe says the solution is not to tell teenagers to go to bed earlier. “The body’s natural rhythm is controlled by a particular kind of light,” says Kelley. “The eye has cells that report to a part of the brain that controls our sleep rhythms over a 24-hour cycle. It’s the light that controls it.”\\nBut it isn’t just students who would benefit from a later start. Kelley says the working day should be more linked to our natural rhythms. Describing the average sleep loss per night for different age groups, he says: “Between 14 and 24, people lose more than two hours. For people aged between 24 and about 30 or 35, they lose about an hour and a half. That can continue up until you’re about 55 when it’s in balance again. The 10-year-old and 55-year-old wake and sleep naturally at the same time.”\\nSo, should workplaces have staggered starting times, too? Should people in their 50s and above come in at 8am, people in their 30s start at 10am and the teenage apprentice at 11am? Kelley says that synchronized hours could have “many positive effects. The positive side is that people’s performance, mood and health will improve. It’s very positive because it’s a solution that will make people less ill, and happier and better at what they do.”\\nThere would probably be fewer accidents because drivers would be more awake, he says. It could mean the end of rush hour because people would stagger their work times and the times of their school run. A later start to the day for many, says Kelley, “is something that would benefit all people, particularly families. Parents go and try to wake up teenagers who are waking up three hours too early. It creates problems for everybody.”\\nSo, what time does Kelley start work? “I am 67 so that means I’m like a 10-year-old and I get up just after six. I wake naturally.” And, yes, he says he finds the start of his working day much easier now than when he was younger.',\n",
       " 'ID': 50,\n",
       " 'Label': 0,\n",
       " 'labels': -1}"
      ]
     },
     "execution_count": 23,
     "metadata": {},
     "output_type": "execute_result"
    }
   ],
   "source": [
    "test_dataset[0]"
   ]
  },
  {
   "cell_type": "code",
   "execution_count": 24,
   "metadata": {},
   "outputs": [
    {
     "name": "stderr",
     "output_type": "stream",
     "text": [
      "  0%|          | 0/516 [00:00<?, ?it/s]"
     ]
    },
    {
     "name": "stderr",
     "output_type": "stream",
     "text": [
      "100%|██████████| 516/516 [00:09<00:00, 52.10it/s]\n"
     ]
    }
   ],
   "source": [
    "model = trainer.best_model\n",
    "submission = pd.DataFrame()\n",
    "\n",
    "with torch.no_grad():\n",
    "    for i in tqdm(range(len(test_dataset))):\n",
    "        text = test_dataset[i]['Article']\n",
    "        id = test_dataset[i]['ID']\n",
    "\n",
    "        tokens = tokenizer(\n",
    "            text,\n",
    "            truncation= True,\n",
    "            padding= \"max_length\",\n",
    "            return_tensors= \"pt\",\n",
    "            max_length=256,\n",
    "        )\n",
    "\n",
    "        for k,v in tokens.items():\n",
    "            tokens[k] = v.to(device)\n",
    "\n",
    "        pred = model(**tokens)\\\n",
    "            .logits\\\n",
    "            .argmax()\\\n",
    "            .to('cpu')\\\n",
    "            .item()\n",
    "\n",
    "        this_row = pd.DataFrame({'ID' : id, \"Label\": pred}, index = [i])\n",
    "\n",
    "        submission = pd.concat([submission, this_row],)"
   ]
  },
  {
   "cell_type": "code",
   "execution_count": 25,
   "metadata": {},
   "outputs": [],
   "source": [
    "class_label_keymap = { i-1: test_dataset.features['Label'].names[i] for i in range(num_classes +1)} "
   ]
  },
  {
   "cell_type": "code",
   "execution_count": 26,
   "metadata": {},
   "outputs": [
    {
     "data": {
      "text/plain": [
       "{-1: 'Unlabeled', 0: 'advanced', 1: 'elementary', 2: 'intermediate'}"
      ]
     },
     "execution_count": 26,
     "metadata": {},
     "output_type": "execute_result"
    }
   ],
   "source": [
    "class_label_keymap"
   ]
  },
  {
   "cell_type": "code",
   "execution_count": 27,
   "metadata": {},
   "outputs": [
    {
     "data": {
      "text/plain": [
       "<Axes: ylabel='Frequency'>"
      ]
     },
     "execution_count": 27,
     "metadata": {},
     "output_type": "execute_result"
    },
    {
     "data": {
      "image/png": "[encoded data removed]",
      "text/plain": [
       "<Figure size 640x480 with 1 Axes>"
      ]
     },
     "metadata": {},
     "output_type": "display_data"
    }
   ],
   "source": [
    "submission['Label'].plot.hist()"
   ]
  },
  {
   "cell_type": "code",
   "execution_count": 28,
   "metadata": {},
   "outputs": [
    {
     "data": {
      "text/html": [
       "<div>\n",
       "<style scoped>\n",
       "    .dataframe tbody tr th:only-of-type {\n",
       "        vertical-align: middle;\n",
       "    }\n",
       "\n",
       "    .dataframe tbody tr th {\n",
       "        vertical-align: top;\n",
       "    }\n",
       "\n",
       "    .dataframe thead th {\n",
       "        text-align: right;\n",
       "    }\n",
       "</style>\n",
       "<table border=\"1\" class=\"dataframe\">\n",
       "  <thead>\n",
       "    <tr style=\"text-align: right;\">\n",
       "      <th></th>\n",
       "      <th>ID</th>\n",
       "      <th>Label</th>\n",
       "    </tr>\n",
       "  </thead>\n",
       "  <tbody>\n",
       "    <tr>\n",
       "      <th>0</th>\n",
       "      <td>50</td>\n",
       "      <td>2</td>\n",
       "    </tr>\n",
       "    <tr>\n",
       "      <th>1</th>\n",
       "      <td>51</td>\n",
       "      <td>1</td>\n",
       "    </tr>\n",
       "    <tr>\n",
       "      <th>2</th>\n",
       "      <td>52</td>\n",
       "      <td>2</td>\n",
       "    </tr>\n",
       "    <tr>\n",
       "      <th>3</th>\n",
       "      <td>53</td>\n",
       "      <td>0</td>\n",
       "    </tr>\n",
       "    <tr>\n",
       "      <th>4</th>\n",
       "      <td>54</td>\n",
       "      <td>0</td>\n",
       "    </tr>\n",
       "    <tr>\n",
       "      <th>...</th>\n",
       "      <td>...</td>\n",
       "      <td>...</td>\n",
       "    </tr>\n",
       "    <tr>\n",
       "      <th>511</th>\n",
       "      <td>561</td>\n",
       "      <td>0</td>\n",
       "    </tr>\n",
       "    <tr>\n",
       "      <th>512</th>\n",
       "      <td>562</td>\n",
       "      <td>0</td>\n",
       "    </tr>\n",
       "    <tr>\n",
       "      <th>513</th>\n",
       "      <td>563</td>\n",
       "      <td>2</td>\n",
       "    </tr>\n",
       "    <tr>\n",
       "      <th>514</th>\n",
       "      <td>564</td>\n",
       "      <td>1</td>\n",
       "    </tr>\n",
       "    <tr>\n",
       "      <th>515</th>\n",
       "      <td>565</td>\n",
       "      <td>0</td>\n",
       "    </tr>\n",
       "  </tbody>\n",
       "</table>\n",
       "<p>516 rows × 2 columns</p>\n",
       "</div>"
      ],
      "text/plain": [
       "      ID  Label\n",
       "0     50      2\n",
       "1     51      1\n",
       "2     52      2\n",
       "3     53      0\n",
       "4     54      0\n",
       "..   ...    ...\n",
       "511  561      0\n",
       "512  562      0\n",
       "513  563      2\n",
       "514  564      1\n",
       "515  565      0\n",
       "\n",
       "[516 rows x 2 columns]"
      ]
     },
     "execution_count": 28,
     "metadata": {},
     "output_type": "execute_result"
    }
   ],
   "source": [
    "submission"
   ]
  },
  {
   "cell_type": "code",
   "execution_count": 29,
   "metadata": {},
   "outputs": [
    {
     "name": "stdout",
     "output_type": "stream",
     "text": [
      "mkdir: cannot create directory ‘submissions/finetuning/one_stop_english’: File exists\n"
     ]
    },
    {
     "name": "stderr",
     "output_type": "stream",
     "text": [
      "huggingface/tokenizers: The current process just got forked, after parallelism has already been used. Disabling parallelism to avoid deadlocks...\n",
      "To disable this warning, you can either:\n",
      "\t- Avoid using `tokenizers` before the fork if possible\n",
      "\t- Explicitly set the environment variable TOKENIZERS_PARALLELISM=(true | false)\n"
     ]
    }
   ],
   "source": [
    "!mkdir submissions/finetuning/one_stop_english"
   ]
  },
  {
   "cell_type": "code",
   "execution_count": 30,
   "metadata": {},
   "outputs": [],
   "source": [
    "submission['Label'] = submission['Label'].map(class_label_keymap)\n",
    "\n",
    "submission.to_csv(\"submissions/finetuning/one_stop_english/predictions.csv\", index = False)"
   ]
  },
  {
   "cell_type": "code",
   "execution_count": null,
   "metadata": {},
   "outputs": [],
   "source": []
  }
 ],
 "metadata": {
  "kernelspec": {
   "display_name": ".venv",
   "language": "python",
   "name": "python3"
  },
  "language_info": {
   "codemirror_mode": {
    "name": "ipython",
    "version": 3
   },
   "file_extension": ".py",
   "mimetype": "text/x-python",
   "name": "python",
   "nbconvert_exporter": "python",
   "pygments_lexer": "ipython3",
   "version": "3.9.18"
  }
 },
 "nbformat": 4,
 "nbformat_minor": 2
}
