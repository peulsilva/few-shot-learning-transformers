{
 "cells": [
  {
   "cell_type": "code",
   "execution_count": 1,
   "metadata": {},
   "outputs": [],
   "source": [
    "%load_ext autoreload\n",
    "%autoreload 2"
   ]
  },
  {
   "cell_type": "code",
   "execution_count": 2,
   "metadata": {},
   "outputs": [],
   "source": [
    "import transformers\n",
    "from transformers import AutoTokenizer, AutoModelForTokenClassification\n",
    "from datasets import load_dataset, Dataset\n",
    "import torch\n",
    "from torch.nn.functional import cross_entropy\n",
    "import matplotlib.pyplot as plt\n",
    "import numpy as np\n",
    "from tqdm import tqdm\n",
    "import logging\n",
    "from torcheval.metrics.functional import multiclass_f1_score, multiclass_confusion_matrix, binary_f1_score\n",
    "from copy import deepcopy, copy\n",
    "import seaborn as sns\n",
    "import pandas as pd\n",
    "from huggingface_hub import notebook_login\n",
    "from torch.utils.data import DataLoader\n",
    "from collections import defaultdict, deque\n",
    "from sklearn.model_selection import train_test_split\n",
    "import random\n",
    "from sentence_transformers import SentenceTransformer, InputExample, losses, evaluation\n",
    "from PIL import Image\n",
    "\n",
    "import os \n",
    "while 'notebooks' in os.getcwd():\n",
    "    os.chdir(\"..\")\n",
    "\n",
    "import re\n",
    "from typing import List, Dict\n",
    "    \n",
    "from src.preprocessing.make_dataset import ImageLayoutDataset\n",
    "from src.preprocessing.bio_technique.make_dataset import *\n",
    "from src.model.bio_technique.trainer import BioTrainer\n",
    "import warnings\n",
    "warnings.filterwarnings(\"ignore\")"
   ]
  },
  {
   "cell_type": "code",
   "execution_count": 3,
   "metadata": {},
   "outputs": [
    {
     "name": "stdout",
     "output_type": "stream",
     "text": [
      "mkdir: cannot create directory ‘logs’: File exists\n"
     ]
    }
   ],
   "source": [
    "!mkdir logs\n",
    "model_name = \"BioTechnique\"\n",
    "dataset_name = \"FUNSD\"\n",
    "device = \"cuda\" if torch.cuda.is_available() else \"cpu\"\n",
    "# device = \"cpu\"\n",
    "logging.basicConfig(filename=f'logs/{model_name}_{dataset_name}.log', encoding='utf-8', level= logging.INFO)"
   ]
  },
  {
   "cell_type": "markdown",
   "metadata": {},
   "source": [
    "## Loading FUNSD Dataset"
   ]
  },
  {
   "cell_type": "code",
   "execution_count": 4,
   "metadata": {},
   "outputs": [],
   "source": [
    "funsd_dataset = load_dataset(\"nielsr/funsd\")"
   ]
  },
  {
   "cell_type": "code",
   "execution_count": 5,
   "metadata": {},
   "outputs": [],
   "source": [
    "tokenizer = AutoTokenizer.from_pretrained(\"bert-base-uncased\")"
   ]
  },
  {
   "cell_type": "code",
   "execution_count": 6,
   "metadata": {},
   "outputs": [
    {
     "data": {
      "text/plain": [
       "7"
      ]
     },
     "execution_count": 6,
     "metadata": {},
     "output_type": "execute_result"
    }
   ],
   "source": [
    "n_classes = len(funsd_dataset['train'].features['ner_tags'].feature.names)\n",
    "n_classes"
   ]
  },
  {
   "cell_type": "code",
   "execution_count": 7,
   "metadata": {},
   "outputs": [],
   "source": [
    "l = funsd_dataset['train'].features['ner_tags'].feature.names"
   ]
  },
  {
   "cell_type": "code",
   "execution_count": 8,
   "metadata": {},
   "outputs": [],
   "source": [
    "idx2label = {}\n",
    "for k, v in enumerate(l):\n",
    "    if v == 'O':\n",
    "        idx2label[k] = \"none\"\n",
    "\n",
    "    else:\n",
    "        idx2label[k] = v.split('-')[1].lower() "
   ]
  },
  {
   "cell_type": "code",
   "execution_count": 29,
   "metadata": {},
   "outputs": [],
   "source": [
    "label_names =[\"header\", \"question\", \"answer\", \"none\"]"
   ]
  },
  {
   "cell_type": "code",
   "execution_count": 30,
   "metadata": {},
   "outputs": [
    {
     "data": {
      "text/plain": [
       "'[SEP]'"
      ]
     },
     "execution_count": 30,
     "metadata": {},
     "output_type": "execute_result"
    }
   ],
   "source": [
    "tokenizer.sep_token"
   ]
  },
  {
   "cell_type": "markdown",
   "metadata": {},
   "source": [
    "## Running model without line split"
   ]
  },
  {
   "cell_type": "markdown",
   "metadata": {},
   "source": [
    "### 2 Shots"
   ]
  },
  {
   "cell_type": "code",
   "execution_count": null,
   "metadata": {},
   "outputs": [],
   "source": []
  },
  {
   "cell_type": "code",
   "execution_count": 58,
   "metadata": {},
   "outputs": [],
   "source": [
    "train_data = generate_dataset(\n",
    "    funsd_dataset['train'],\n",
    "    label_names,\n",
    "    idx2label,\n",
    "    tokenizer,\n",
    "    n_shots=2,\n",
    ")\n",
    "\n",
    "val_data = generate_dataset(\n",
    "    funsd_dataset['test'],\n",
    "    label_names,\n",
    "    idx2label,\n",
    "    tokenizer,\n",
    "    n_shots=50,\n",
    ")\n",
    "\n",
    "test_data = generate_dataset(\n",
    "    Dataset.from_dict(funsd_dataset['train'][10:]),\n",
    "    label_names,\n",
    "    idx2label,\n",
    "    tokenizer,\n",
    "    n_shots = np.inf,\n",
    ")"
   ]
  },
  {
   "cell_type": "code",
   "execution_count": 59,
   "metadata": {},
   "outputs": [
    {
     "name": "stderr",
     "output_type": "stream",
     "text": [
      "100%|██████████| 8/8 [00:00<00:00, 241.19it/s]\n"
     ]
    }
   ],
   "source": [
    "train_dataset = ImageLayoutDataset(\n",
    "    train_data,\n",
    "    tokenizer    \n",
    ")\n",
    "\n",
    "train_dataloader = DataLoader(\n",
    "    train_dataset,\n",
    "    shuffle=False\n",
    ")"
   ]
  },
  {
   "cell_type": "code",
   "execution_count": 60,
   "metadata": {},
   "outputs": [
    {
     "name": "stderr",
     "output_type": "stream",
     "text": [
      "  0%|          | 0/200 [00:00<?, ?it/s]"
     ]
    },
    {
     "name": "stderr",
     "output_type": "stream",
     "text": [
      "100%|██████████| 200/200 [00:00<00:00, 291.80it/s]\n"
     ]
    }
   ],
   "source": [
    "validation_dataset = ImageLayoutDataset(\n",
    "    val_data,\n",
    "    tokenizer    \n",
    ")\n",
    "\n",
    "validation_dataloader = DataLoader(\n",
    "    validation_dataset,\n",
    "    shuffle=False,\n",
    "    batch_size= 4\n",
    ")"
   ]
  },
  {
   "cell_type": "code",
   "execution_count": 61,
   "metadata": {},
   "outputs": [
    {
     "name": "stderr",
     "output_type": "stream",
     "text": [
      "  5%|▌         | 29/556 [00:00<00:01, 283.38it/s]"
     ]
    },
    {
     "name": "stderr",
     "output_type": "stream",
     "text": [
      "100%|██████████| 556/556 [00:01<00:00, 330.54it/s]\n"
     ]
    }
   ],
   "source": [
    "test_dataset = ImageLayoutDataset(\n",
    "    test_data,\n",
    "    tokenizer    \n",
    ")\n",
    "\n",
    "test_dataloader = DataLoader(\n",
    "    test_dataset,\n",
    "    shuffle=False,\n",
    "    batch_size= 4\n",
    ")"
   ]
  },
  {
   "cell_type": "code",
   "execution_count": 70,
   "metadata": {},
   "outputs": [
    {
     "name": "stderr",
     "output_type": "stream",
     "text": [
      "Some weights of BertForTokenClassification were not initialized from the model checkpoint at bert-base-uncased and are newly initialized: ['classifier.bias', 'classifier.weight']\n",
      "You should probably TRAIN this model on a down-stream task to be able to use it for predictions and inference.\n",
      "100%|██████████| 100/100 [06:17<00:00,  3.77s/it]\n"
     ]
    }
   ],
   "source": [
    "model = AutoModelForTokenClassification.from_pretrained(\"bert-base-uncased\", num_labels = 2)\n",
    "model.to(device)\n",
    "\n",
    "optimizer = torch.optim.Adam(\n",
    "    model.parameters(),\n",
    "    lr = 1e-5\n",
    ")\n",
    "\n",
    "trainer = BioTrainer(\n",
    "    model,\n",
    "    optimizer\n",
    ")\n",
    "\n",
    "history = trainer.compile(\n",
    "    train_dataloader, \n",
    "    validation_dataloader,\n",
    "    n_epochs = 100\n",
    ")"
   ]
  },
  {
   "cell_type": "code",
   "execution_count": 85,
   "metadata": {},
   "outputs": [],
   "source": [
    "best_f1, best_epoch = np.max(history), np.argmax(history)"
   ]
  },
  {
   "cell_type": "code",
   "execution_count": 72,
   "metadata": {},
   "outputs": [
    {
     "data": {
      "image/png": "[encoded data removed]",
      "text/plain": [
       "<Figure size 640x480 with 1 Axes>"
      ]
     },
     "metadata": {},
     "output_type": "display_data"
    }
   ],
   "source": [
    "plt.plot(history)\n",
    "plt.scatter(\n",
    "    [best_epoch],\n",
    "    [best_f1],\n",
    "    color = \"green\",\n",
    "    label = f\"Best f1 : {round(best_f1,3)}\"\n",
    ")\n",
    "plt.legend()\n",
    "plt.ylabel(\"f1 score\")\n",
    "plt.xlabel(\"epoch\")\n",
    "plt.title(\"Validation performance - FUNSD - 2 shots\")\n",
    "plt.grid()"
   ]
  },
  {
   "cell_type": "code",
   "execution_count": 73,
   "metadata": {},
   "outputs": [
    {
     "name": "stderr",
     "output_type": "stream",
     "text": [
      "  0%|          | 0/139 [00:00<?, ?it/s]"
     ]
    },
    {
     "name": "stderr",
     "output_type": "stream",
     "text": [
      "100%|██████████| 139/139 [00:08<00:00, 16.04it/s]\n"
     ]
    }
   ],
   "source": [
    "y_pred_val = torch.tensor([],device=device)\n",
    "y_true_val = torch.tensor([],device=device)\n",
    "for batch in tqdm(test_dataloader):\n",
    "    for k,v in batch.items():\n",
    "        batch[k] = v.to(device)\n",
    "\n",
    "        if k == \"bbox\":\n",
    "            continue\n",
    "        batch[k] = batch[k].reshape(4,512)\n",
    "    batch.pop('bbox')\n",
    "\n",
    "    y_true = batch['labels']\n",
    "    mask = y_true!= -100\n",
    "\n",
    "    with torch.no_grad():\n",
    "        y_pred = model(**batch).logits[:,:,1]\n",
    "    y_pred = y_pred[mask]\\\n",
    "        .reshape(4,-1)[:,1:]\\\n",
    "        .argmax(dim = 0)\n",
    "\n",
    "    y_true = y_true[mask]\\\n",
    "        .reshape(4,-1)[:, 1:]\\\n",
    "        .argmax(dim = 0)\n",
    "    \n",
    "    y_pred_val = torch.cat([y_pred, y_pred_val])\n",
    "    y_true_val = torch.cat([y_true, y_true_val])\n",
    "\n",
    "f1 = multiclass_f1_score(\n",
    "    y_pred_val,\n",
    "    y_true_val,\n",
    "    num_classes=4\n",
    ")\n",
    "\n",
    "conf_matrix = multiclass_confusion_matrix(\n",
    "    y_true_val.to(torch.int64),\n",
    "    y_pred_val.to(torch.int64),\n",
    "    num_classes= 4\n",
    ")\n",
    "\n",
    "if f1 > best_f1:\n",
    "    best_f1 = f1\n",
    "    best_model = deepcopy(model)\n",
    "\n",
    "logging.info(f\"f1 score: {f1}\")\n",
    "logging.info(conf_matrix)"
   ]
  },
  {
   "cell_type": "code",
   "execution_count": 74,
   "metadata": {},
   "outputs": [
    {
     "data": {
      "text/plain": [
       "['header', 'question', 'answer', 'none']"
      ]
     },
     "execution_count": 74,
     "metadata": {},
     "output_type": "execute_result"
    }
   ],
   "source": [
    "label_names"
   ]
  },
  {
   "cell_type": "code",
   "execution_count": 75,
   "metadata": {},
   "outputs": [
    {
     "data": {
      "text/plain": [
       "Text(0.5, 1.0, 'Performance - FUNSD - 2 shots')"
      ]
     },
     "execution_count": 75,
     "metadata": {},
     "output_type": "execute_result"
    },
    {
     "data": {
      "image/png": "[encoded data removed]",
      "text/plain": [
       "<Figure size 640x480 with 2 Axes>"
      ]
     },
     "metadata": {},
     "output_type": "display_data"
    }
   ],
   "source": [
    "df = pd.DataFrame(\n",
    "    conf_matrix.to(\"cpu\").numpy(),\n",
    "    index = list(label_names),\n",
    "    columns=list(label_names)\n",
    ")\n",
    "\n",
    "sns.heatmap(\n",
    "    df,\n",
    "    annot = True,\n",
    "    fmt = '2g',\n",
    ")\n",
    "\n",
    "plt.title(\"Performance - FUNSD - 2 shots\")\n"
   ]
  },
  {
   "cell_type": "markdown",
   "metadata": {},
   "source": [
    "### 5 Shots"
   ]
  },
  {
   "cell_type": "code",
   "execution_count": 76,
   "metadata": {},
   "outputs": [],
   "source": [
    "train_data = generate_dataset(\n",
    "    funsd_dataset['train'],\n",
    "    label_names,\n",
    "    idx2label,\n",
    "    tokenizer,\n",
    "    n_shots=5,\n",
    ")\n",
    "\n",
    "val_data = generate_dataset(\n",
    "    funsd_dataset['test'],\n",
    "    label_names,\n",
    "    idx2label,\n",
    "    tokenizer,\n",
    "    n_shots=50,\n",
    ")\n",
    "\n",
    "test_data = generate_dataset(\n",
    "    Dataset.from_dict(funsd_dataset['train'][10:]),\n",
    "    label_names,\n",
    "    idx2label,\n",
    "    tokenizer,\n",
    "    n_shots = np.inf,\n",
    ")"
   ]
  },
  {
   "cell_type": "code",
   "execution_count": 77,
   "metadata": {},
   "outputs": [
    {
     "name": "stderr",
     "output_type": "stream",
     "text": [
      "  0%|          | 0/20 [00:00<?, ?it/s]"
     ]
    },
    {
     "name": "stderr",
     "output_type": "stream",
     "text": [
      "100%|██████████| 20/20 [00:00<00:00, 278.01it/s]\n"
     ]
    }
   ],
   "source": [
    "train_dataset = ImageLayoutDataset(\n",
    "    train_data,\n",
    "    tokenizer    \n",
    ")\n",
    "\n",
    "train_dataloader = DataLoader(\n",
    "    train_dataset,\n",
    "    shuffle=False\n",
    ")"
   ]
  },
  {
   "cell_type": "code",
   "execution_count": 78,
   "metadata": {},
   "outputs": [
    {
     "name": "stderr",
     "output_type": "stream",
     "text": [
      "  0%|          | 0/200 [00:00<?, ?it/s]"
     ]
    },
    {
     "name": "stderr",
     "output_type": "stream",
     "text": [
      "100%|██████████| 200/200 [00:00<00:00, 292.70it/s]\n"
     ]
    }
   ],
   "source": [
    "validation_dataset = ImageLayoutDataset(\n",
    "    val_data,\n",
    "    tokenizer    \n",
    ")\n",
    "\n",
    "validation_dataloader = DataLoader(\n",
    "    validation_dataset,\n",
    "    shuffle=False,\n",
    "    batch_size= 4\n",
    ")"
   ]
  },
  {
   "cell_type": "code",
   "execution_count": 79,
   "metadata": {},
   "outputs": [
    {
     "name": "stderr",
     "output_type": "stream",
     "text": [
      "  0%|          | 0/556 [00:00<?, ?it/s]"
     ]
    },
    {
     "name": "stderr",
     "output_type": "stream",
     "text": [
      "100%|██████████| 556/556 [00:01<00:00, 344.04it/s]\n"
     ]
    }
   ],
   "source": [
    "test_dataset = ImageLayoutDataset(\n",
    "    test_data,\n",
    "    tokenizer    \n",
    ")\n",
    "\n",
    "test_dataloader = DataLoader(\n",
    "    test_dataset,\n",
    "    shuffle=False,\n",
    "    batch_size= 4\n",
    ")"
   ]
  },
  {
   "cell_type": "code",
   "execution_count": 84,
   "metadata": {},
   "outputs": [
    {
     "name": "stderr",
     "output_type": "stream",
     "text": [
      "Some weights of BertForTokenClassification were not initialized from the model checkpoint at bert-base-uncased and are newly initialized: ['classifier.bias', 'classifier.weight']\n",
      "You should probably TRAIN this model on a down-stream task to be able to use it for predictions and inference.\n",
      "100%|██████████| 100/100 [07:38<00:00,  4.59s/it]\n"
     ]
    }
   ],
   "source": [
    "model = AutoModelForTokenClassification.from_pretrained(\"bert-base-uncased\", num_labels = 2)\n",
    "model.to(device)\n",
    "\n",
    "optimizer = torch.optim.Adam(\n",
    "    model.parameters(),\n",
    "    lr = 1e-5\n",
    ")\n",
    "\n",
    "trainer = BioTrainer(\n",
    "    model,\n",
    "    optimizer\n",
    ")\n",
    "\n",
    "history = trainer.compile(\n",
    "    train_dataloader, \n",
    "    validation_dataloader,\n",
    "    n_epochs = 100\n",
    ")"
   ]
  },
  {
   "cell_type": "code",
   "execution_count": 86,
   "metadata": {},
   "outputs": [],
   "source": [
    "best_f1, best_epoch = np.max(history), np.argmax(history)"
   ]
  },
  {
   "cell_type": "code",
   "execution_count": 87,
   "metadata": {},
   "outputs": [
    {
     "data": {
      "image/png": "[encoded data removed]",
      "text/plain": [
       "<Figure size 640x480 with 1 Axes>"
      ]
     },
     "metadata": {},
     "output_type": "display_data"
    }
   ],
   "source": [
    "plt.plot(history)\n",
    "plt.scatter(\n",
    "    [best_epoch],\n",
    "    [best_f1],\n",
    "    color = \"green\",\n",
    "    label = f\"Best f1 : {round(best_f1,3)}\"\n",
    ")\n",
    "plt.legend()\n",
    "plt.ylabel(\"f1 score\")\n",
    "plt.xlabel(\"epoch\")\n",
    "plt.title(\"Validation performance - FUNSD - 5 shots\")\n",
    "plt.grid()"
   ]
  },
  {
   "cell_type": "code",
   "execution_count": 88,
   "metadata": {},
   "outputs": [
    {
     "name": "stderr",
     "output_type": "stream",
     "text": [
      "  1%|▏         | 2/139 [00:00<00:08, 16.06it/s]"
     ]
    },
    {
     "name": "stderr",
     "output_type": "stream",
     "text": [
      "100%|██████████| 139/139 [00:08<00:00, 15.53it/s]\n"
     ]
    }
   ],
   "source": [
    "y_pred_val = torch.tensor([],device=device)\n",
    "y_true_val = torch.tensor([],device=device)\n",
    "for batch in tqdm(test_dataloader):\n",
    "    for k,v in batch.items():\n",
    "        batch[k] = v.to(device)\n",
    "\n",
    "        if k == \"bbox\":\n",
    "            continue\n",
    "        batch[k] = batch[k].reshape(4,512)\n",
    "    batch.pop('bbox')\n",
    "\n",
    "    y_true = batch['labels']\n",
    "    mask = y_true!= -100\n",
    "\n",
    "    with torch.no_grad():\n",
    "        y_pred = model(**batch).logits[:,:,1]\n",
    "    y_pred = y_pred[mask]\\\n",
    "        .reshape(4,-1)[:,1:]\\\n",
    "        .argmax(dim = 0)\n",
    "\n",
    "    y_true = y_true[mask]\\\n",
    "        .reshape(4,-1)[:, 1:]\\\n",
    "        .argmax(dim = 0)\n",
    "    \n",
    "    y_pred_val = torch.cat([y_pred, y_pred_val])\n",
    "    y_true_val = torch.cat([y_true, y_true_val])\n",
    "\n",
    "f1 = multiclass_f1_score(\n",
    "    y_pred_val,\n",
    "    y_true_val,\n",
    "    num_classes=4\n",
    ")\n",
    "\n",
    "conf_matrix = multiclass_confusion_matrix(\n",
    "    y_true_val.to(torch.int64),\n",
    "    y_pred_val.to(torch.int64),\n",
    "    num_classes= 4\n",
    ")\n",
    "\n",
    "if f1 > best_f1:\n",
    "    best_f1 = f1\n",
    "    best_model = deepcopy(model)\n",
    "\n",
    "logging.info(f\"f1 score: {f1}\")\n",
    "logging.info(conf_matrix)"
   ]
  },
  {
   "cell_type": "code",
   "execution_count": 89,
   "metadata": {},
   "outputs": [
    {
     "data": {
      "text/plain": [
       "['header', 'question', 'answer', 'none']"
      ]
     },
     "execution_count": 89,
     "metadata": {},
     "output_type": "execute_result"
    }
   ],
   "source": [
    "label_names"
   ]
  },
  {
   "cell_type": "code",
   "execution_count": 90,
   "metadata": {},
   "outputs": [
    {
     "data": {
      "text/plain": [
       "Text(0.5, 1.0, 'Performance - FUNSD - 5 shots')"
      ]
     },
     "execution_count": 90,
     "metadata": {},
     "output_type": "execute_result"
    },
    {
     "data": {
      "image/png": "[encoded data removed]",
      "text/plain": [
       "<Figure size 640x480 with 2 Axes>"
      ]
     },
     "metadata": {},
     "output_type": "display_data"
    }
   ],
   "source": [
    "df = pd.DataFrame(\n",
    "    conf_matrix.to(\"cpu\").numpy(),\n",
    "    index = list(label_names),\n",
    "    columns=list(label_names)\n",
    ")\n",
    "\n",
    "sns.heatmap(\n",
    "    df,\n",
    "    annot = True,\n",
    "    fmt = '2g',\n",
    ")\n",
    "\n",
    "plt.title(\"Performance - FUNSD - 5 shots\")\n"
   ]
  },
  {
   "cell_type": "markdown",
   "metadata": {},
   "source": [
    "### 10 shots"
   ]
  },
  {
   "cell_type": "code",
   "execution_count": 42,
   "metadata": {},
   "outputs": [],
   "source": [
    "train_data = generate_dataset(\n",
    "    funsd_dataset['train'],\n",
    "    label_names,\n",
    "    idx2label,\n",
    "    tokenizer,\n",
    "    n_shots=10,\n",
    ")\n",
    "\n",
    "val_data = generate_dataset(\n",
    "    funsd_dataset['test'],\n",
    "    label_names,\n",
    "    idx2label,\n",
    "    tokenizer,\n",
    "    n_shots=50,\n",
    ")\n",
    "\n",
    "test_data = generate_dataset(\n",
    "    Dataset.from_dict(funsd_dataset['train'][10:]),\n",
    "    label_names,\n",
    "    idx2label,\n",
    "    tokenizer,\n",
    "    n_shots = np.inf,\n",
    ")"
   ]
  },
  {
   "cell_type": "code",
   "execution_count": null,
   "metadata": {},
   "outputs": [],
   "source": []
  },
  {
   "cell_type": "code",
   "execution_count": 43,
   "metadata": {},
   "outputs": [
    {
     "name": "stderr",
     "output_type": "stream",
     "text": [
      "  0%|          | 0/40 [00:00<?, ?it/s]"
     ]
    },
    {
     "name": "stderr",
     "output_type": "stream",
     "text": [
      "100%|██████████| 40/40 [00:00<00:00, 275.91it/s]\n"
     ]
    }
   ],
   "source": [
    "train_dataset = ImageLayoutDataset(\n",
    "    train_data,\n",
    "    tokenizer    \n",
    ")\n",
    "\n",
    "train_dataloader = DataLoader(\n",
    "    train_dataset,\n",
    "    shuffle=False\n",
    ")"
   ]
  },
  {
   "cell_type": "code",
   "execution_count": 44,
   "metadata": {},
   "outputs": [
    {
     "name": "stderr",
     "output_type": "stream",
     "text": [
      "  0%|          | 0/200 [00:00<?, ?it/s]"
     ]
    },
    {
     "name": "stderr",
     "output_type": "stream",
     "text": [
      "100%|██████████| 200/200 [00:00<00:00, 287.06it/s]\n"
     ]
    }
   ],
   "source": [
    "validation_dataset = ImageLayoutDataset(\n",
    "    val_data,\n",
    "    tokenizer    \n",
    ")\n",
    "\n",
    "validation_dataloader = DataLoader(\n",
    "    validation_dataset,\n",
    "    shuffle=False,\n",
    "    batch_size= 4\n",
    ")"
   ]
  },
  {
   "cell_type": "code",
   "execution_count": 45,
   "metadata": {},
   "outputs": [
    {
     "name": "stderr",
     "output_type": "stream",
     "text": [
      "  0%|          | 0/556 [00:00<?, ?it/s]"
     ]
    },
    {
     "name": "stderr",
     "output_type": "stream",
     "text": [
      "100%|██████████| 556/556 [00:01<00:00, 343.78it/s]\n"
     ]
    }
   ],
   "source": [
    "test_dataset = ImageLayoutDataset(\n",
    "    test_data,\n",
    "    tokenizer    \n",
    ")\n",
    "\n",
    "test_dataloader = DataLoader(\n",
    "    test_dataset,\n",
    "    shuffle=False,\n",
    "    batch_size= 4\n",
    ")"
   ]
  },
  {
   "cell_type": "code",
   "execution_count": 46,
   "metadata": {},
   "outputs": [
    {
     "name": "stderr",
     "output_type": "stream",
     "text": [
      "Some weights of BertForTokenClassification were not initialized from the model checkpoint at bert-base-uncased and are newly initialized: ['classifier.bias', 'classifier.weight']\n",
      "You should probably TRAIN this model on a down-stream task to be able to use it for predictions and inference.\n",
      "100%|██████████| 40/40 [00:02<00:00, 15.46it/s]\n",
      "100%|██████████| 40/40 [00:02<00:00, 15.48it/s]\n",
      "100%|██████████| 40/40 [00:02<00:00, 15.37it/s]\n",
      "100%|██████████| 40/40 [00:02<00:00, 15.39it/s]\n",
      "100%|██████████| 40/40 [00:02<00:00, 15.30it/s]\n",
      "100%|██████████| 40/40 [00:02<00:00, 15.25it/s]\n",
      "100%|██████████| 40/40 [00:02<00:00, 15.21it/s]\n",
      "100%|██████████| 40/40 [00:02<00:00, 15.16it/s]\n",
      "100%|██████████| 40/40 [00:02<00:00, 15.16it/s]\n",
      "100%|██████████| 40/40 [00:02<00:00, 15.10it/s]\n",
      "100%|██████████| 40/40 [00:02<00:00, 15.13it/s]\n",
      "100%|██████████| 40/40 [00:02<00:00, 15.10it/s]\n",
      "100%|██████████| 40/40 [00:02<00:00, 15.09it/s]\n",
      "100%|██████████| 40/40 [00:02<00:00, 15.10it/s]\n",
      "100%|██████████| 40/40 [00:02<00:00, 15.09it/s]\n",
      "100%|██████████| 40/40 [00:02<00:00, 15.06it/s]\n",
      "100%|██████████| 40/40 [00:02<00:00, 15.08it/s]\n",
      "100%|██████████| 40/40 [00:02<00:00, 15.06it/s]\n",
      "100%|██████████| 40/40 [00:02<00:00, 15.07it/s]\n",
      "100%|██████████| 40/40 [00:02<00:00, 15.07it/s]\n",
      "100%|██████████| 40/40 [00:02<00:00, 15.04it/s]\n",
      "100%|██████████| 40/40 [00:02<00:00, 15.05it/s]\n",
      "100%|██████████| 40/40 [00:02<00:00, 15.04it/s]\n",
      "100%|██████████| 40/40 [00:02<00:00, 15.05it/s]\n",
      "100%|██████████| 40/40 [00:02<00:00, 15.05it/s]\n",
      "100%|██████████| 40/40 [00:02<00:00, 15.02it/s]\n",
      "100%|██████████| 40/40 [00:02<00:00, 15.02it/s]\n",
      "100%|██████████| 40/40 [00:02<00:00, 15.03it/s]\n",
      "100%|██████████| 40/40 [00:02<00:00, 15.04it/s]\n",
      "100%|██████████| 40/40 [00:02<00:00, 15.02it/s]\n",
      "100%|██████████| 40/40 [00:02<00:00, 15.02it/s]\n",
      "100%|██████████| 40/40 [00:02<00:00, 15.02it/s]\n",
      "100%|██████████| 40/40 [00:02<00:00, 15.02it/s]\n",
      "100%|██████████| 40/40 [00:02<00:00, 15.02it/s]\n",
      "100%|██████████| 40/40 [00:02<00:00, 15.02it/s]\n",
      "100%|██████████| 40/40 [00:02<00:00, 15.03it/s]\n",
      "100%|██████████| 40/40 [00:02<00:00, 15.02it/s]\n",
      "100%|██████████| 40/40 [00:02<00:00, 15.03it/s]\n",
      "100%|██████████| 40/40 [00:02<00:00, 15.03it/s]\n",
      "100%|██████████| 40/40 [00:02<00:00, 15.04it/s]\n",
      "100%|██████████| 40/40 [00:02<00:00, 15.02it/s]\n",
      "100%|██████████| 40/40 [00:02<00:00, 15.02it/s]\n",
      "100%|██████████| 40/40 [00:02<00:00, 15.03it/s]\n",
      "100%|██████████| 40/40 [00:02<00:00, 15.01it/s]\n",
      "100%|██████████| 40/40 [00:02<00:00, 15.01it/s]\n",
      "100%|██████████| 40/40 [00:02<00:00, 15.02it/s]\n",
      "100%|██████████| 40/40 [00:02<00:00, 15.02it/s]\n",
      "100%|██████████| 40/40 [00:02<00:00, 15.03it/s]\n",
      "100%|██████████| 40/40 [00:02<00:00, 15.04it/s]\n",
      "100%|██████████| 40/40 [00:02<00:00, 15.02it/s]\n"
     ]
    }
   ],
   "source": [
    "model = AutoModelForTokenClassification.from_pretrained(\"bert-base-uncased\", num_labels = 2)\n",
    "model.to(device)\n",
    "\n",
    "optimizer = torch.optim.Adam(\n",
    "    model.parameters(),\n",
    "    lr = 1e-5\n",
    ")\n",
    "\n",
    "trainer = BioTrainer(\n",
    "    model,\n",
    "    optimizer\n",
    ")\n",
    "\n",
    "history = trainer.compile(\n",
    "    train_dataloader, \n",
    "    validation_dataloader,\n",
    "    n_epochs = 50\n",
    ")"
   ]
  },
  {
   "cell_type": "code",
   "execution_count": 52,
   "metadata": {},
   "outputs": [],
   "source": [
    "best_f1, best_epoch = np.max(history), np.argmax(history)"
   ]
  },
  {
   "cell_type": "code",
   "execution_count": 53,
   "metadata": {},
   "outputs": [
    {
     "data": {
      "image/png": "[encoded data removed]",
      "text/plain": [
       "<Figure size 640x480 with 1 Axes>"
      ]
     },
     "metadata": {},
     "output_type": "display_data"
    }
   ],
   "source": [
    "plt.plot(history)\n",
    "plt.scatter(\n",
    "    [best_epoch],\n",
    "    [best_f1],\n",
    "    color = \"green\",\n",
    "    label = f\"Best f1 : {round(best_f1,3)}\"\n",
    ")\n",
    "plt.legend()\n",
    "plt.ylabel(\"f1 score\")\n",
    "plt.xlabel(\"epoch\")\n",
    "plt.title(\"Validation performance - FUNSD - 10 shots\")\n",
    "plt.grid()"
   ]
  },
  {
   "cell_type": "code",
   "execution_count": 54,
   "metadata": {},
   "outputs": [
    {
     "name": "stderr",
     "output_type": "stream",
     "text": [
      "  0%|          | 0/139 [00:00<?, ?it/s]"
     ]
    },
    {
     "name": "stderr",
     "output_type": "stream",
     "text": [
      "100%|██████████| 139/139 [00:08<00:00, 15.81it/s]\n"
     ]
    }
   ],
   "source": [
    "y_pred_val = torch.tensor([],device=device)\n",
    "y_true_val = torch.tensor([],device=device)\n",
    "for batch in tqdm(test_dataloader):\n",
    "    for k,v in batch.items():\n",
    "        batch[k] = v.to(device)\n",
    "\n",
    "        if k == \"bbox\":\n",
    "            continue\n",
    "        batch[k] = batch[k].reshape(4,512)\n",
    "    batch.pop('bbox')\n",
    "\n",
    "    y_true = batch['labels']\n",
    "    mask = y_true!= -100\n",
    "\n",
    "    with torch.no_grad():\n",
    "        y_pred = model(**batch).logits[:,:,1]\n",
    "    y_pred = y_pred[mask]\\\n",
    "        .reshape(4,-1)[:,1:]\\\n",
    "        .argmax(dim = 0)\n",
    "\n",
    "    y_true = y_true[mask]\\\n",
    "        .reshape(4,-1)[:, 1:]\\\n",
    "        .argmax(dim = 0)\n",
    "    \n",
    "    y_pred_val = torch.cat([y_pred, y_pred_val])\n",
    "    y_true_val = torch.cat([y_true, y_true_val])\n",
    "\n",
    "f1 = multiclass_f1_score(\n",
    "    y_pred_val,\n",
    "    y_true_val,\n",
    "    num_classes=4\n",
    ")\n",
    "\n",
    "conf_matrix = multiclass_confusion_matrix(\n",
    "    y_true_val.to(torch.int64),\n",
    "    y_pred_val.to(torch.int64),\n",
    "    num_classes= 4\n",
    ")\n",
    "\n",
    "if f1 > best_f1:\n",
    "    best_f1 = f1\n",
    "    best_model = deepcopy(model)\n",
    "\n",
    "logging.info(f\"f1 score: {f1}\")\n",
    "logging.info(conf_matrix)"
   ]
  },
  {
   "cell_type": "code",
   "execution_count": 55,
   "metadata": {},
   "outputs": [
    {
     "data": {
      "text/plain": [
       "['header', 'question', 'answer', 'none']"
      ]
     },
     "execution_count": 55,
     "metadata": {},
     "output_type": "execute_result"
    }
   ],
   "source": [
    "label_names"
   ]
  },
  {
   "cell_type": "code",
   "execution_count": 56,
   "metadata": {},
   "outputs": [
    {
     "data": {
      "text/plain": [
       "Text(0.5, 1.0, 'Performance - FUNSD - 10 shots')"
      ]
     },
     "execution_count": 56,
     "metadata": {},
     "output_type": "execute_result"
    },
    {
     "data": {
      "image/png": "[encoded data removed]",
      "text/plain": [
       "<Figure size 640x480 with 2 Axes>"
      ]
     },
     "metadata": {},
     "output_type": "display_data"
    }
   ],
   "source": [
    "df = pd.DataFrame(\n",
    "    conf_matrix.to(\"cpu\").numpy(),\n",
    "    index = list(label_names),\n",
    "    columns=list(label_names)\n",
    ")\n",
    "\n",
    "sns.heatmap(\n",
    "    df,\n",
    "    annot = True,\n",
    "    fmt = '2g',\n",
    ")\n",
    "\n",
    "plt.title(\"Performance - FUNSD - 10 shots\")\n"
   ]
  },
  {
   "cell_type": "code",
   "execution_count": null,
   "metadata": {},
   "outputs": [],
   "source": []
  },
  {
   "cell_type": "code",
   "execution_count": null,
   "metadata": {},
   "outputs": [],
   "source": []
  },
  {
   "cell_type": "code",
   "execution_count": null,
   "metadata": {},
   "outputs": [],
   "source": []
  },
  {
   "cell_type": "code",
   "execution_count": null,
   "metadata": {},
   "outputs": [],
   "source": []
  },
  {
   "cell_type": "code",
   "execution_count": null,
   "metadata": {},
   "outputs": [],
   "source": []
  },
  {
   "cell_type": "code",
   "execution_count": null,
   "metadata": {},
   "outputs": [],
   "source": []
  },
  {
   "cell_type": "code",
   "execution_count": null,
   "metadata": {},
   "outputs": [],
   "source": []
  },
  {
   "cell_type": "code",
   "execution_count": null,
   "metadata": {},
   "outputs": [],
   "source": []
  },
  {
   "cell_type": "code",
   "execution_count": null,
   "metadata": {},
   "outputs": [],
   "source": []
  },
  {
   "cell_type": "code",
   "execution_count": null,
   "metadata": {},
   "outputs": [],
   "source": []
  },
  {
   "cell_type": "code",
   "execution_count": null,
   "metadata": {},
   "outputs": [],
   "source": []
  },
  {
   "cell_type": "code",
   "execution_count": null,
   "metadata": {},
   "outputs": [],
   "source": []
  },
  {
   "cell_type": "code",
   "execution_count": null,
   "metadata": {},
   "outputs": [],
   "source": []
  },
  {
   "cell_type": "code",
   "execution_count": null,
   "metadata": {},
   "outputs": [],
   "source": []
  },
  {
   "cell_type": "code",
   "execution_count": 68,
   "metadata": {},
   "outputs": [],
   "source": [
    "unnormalized_bbox_train = get_unnormalized_bboxes(funsd_dataset['train'])\n",
    "unnormalized_bbox_val = get_unnormalized_bboxes(funsd_dataset['test'])"
   ]
  },
  {
   "cell_type": "code",
   "execution_count": 75,
   "metadata": {},
   "outputs": [],
   "source": [
    "line_splitted_train_data = generate_text_from_same_line(\n",
    "    funsd_dataset['train'],\n",
    "    unnormalized_bbox_train,\n",
    "    n_shots=5\n",
    ")"
   ]
  },
  {
   "cell_type": "code",
   "execution_count": 77,
   "metadata": {},
   "outputs": [],
   "source": [
    "line_splitted_val_data = generate_text_from_same_line(\n",
    "    funsd_dataset['test'],\n",
    "    unnormalized_bbox_val,\n",
    "    n_shots = 50\n",
    ")"
   ]
  },
  {
   "cell_type": "code",
   "execution_count": 78,
   "metadata": {},
   "outputs": [],
   "source": [
    "train_data = generate_dataset(\n",
    "    line_splitted_train_data,\n",
    "    n_shots=10_000\n",
    ")\n",
    "\n",
    "val_data = generate_dataset(\n",
    "    line_splitted_val_data,\n",
    "    n_shots=50_000\n",
    ")"
   ]
  },
  {
   "cell_type": "code",
   "execution_count": 79,
   "metadata": {},
   "outputs": [
    {
     "name": "stderr",
     "output_type": "stream",
     "text": [
      "  0%|          | 0/384 [00:00<?, ?it/s]"
     ]
    },
    {
     "name": "stderr",
     "output_type": "stream",
     "text": [
      "100%|██████████| 384/384 [00:00<00:00, 517.42it/s]\n"
     ]
    }
   ],
   "source": [
    "train_dataset = ImageLayoutDataset(\n",
    "    train_data,\n",
    "    tokenizer    \n",
    ")\n",
    "\n",
    "train_dataloader = DataLoader(\n",
    "    train_dataset,\n",
    "    shuffle=True\n",
    ")"
   ]
  },
  {
   "cell_type": "code",
   "execution_count": 80,
   "metadata": {},
   "outputs": [
    {
     "name": "stderr",
     "output_type": "stream",
     "text": [
      "  0%|          | 0/2192 [00:00<?, ?it/s]"
     ]
    },
    {
     "name": "stderr",
     "output_type": "stream",
     "text": [
      "100%|██████████| 2192/2192 [00:03<00:00, 590.68it/s] \n"
     ]
    }
   ],
   "source": [
    "validation_dataset = ImageLayoutDataset(\n",
    "    val_data,\n",
    "    tokenizer    \n",
    ")\n",
    "\n",
    "validation_dataloader = DataLoader(\n",
    "    validation_dataset,\n",
    "    shuffle=False,\n",
    "    batch_size= 4\n",
    ")"
   ]
  },
  {
   "cell_type": "code",
   "execution_count": 81,
   "metadata": {},
   "outputs": [
    {
     "name": "stderr",
     "output_type": "stream",
     "text": [
      "Some weights of BertForTokenClassification were not initialized from the model checkpoint at bert-base-uncased and are newly initialized: ['classifier.weight', 'classifier.bias']\n",
      "You should probably TRAIN this model on a down-stream task to be able to use it for predictions and inference.\n",
      "100%|██████████| 384/384 [00:25<00:00, 15.26it/s]\n",
      "100%|██████████| 548/548 [00:34<00:00, 15.77it/s]\n",
      "100%|██████████| 384/384 [00:25<00:00, 14.92it/s]\n",
      "100%|██████████| 548/548 [00:35<00:00, 15.53it/s]\n",
      "100%|██████████| 384/384 [00:25<00:00, 14.88it/s]\n",
      "100%|██████████| 548/548 [00:35<00:00, 15.49it/s]\n",
      "100%|██████████| 384/384 [00:25<00:00, 14.86it/s]\n",
      "100%|██████████| 548/548 [00:35<00:00, 15.47it/s]\n",
      "100%|██████████| 384/384 [00:25<00:00, 14.86it/s]\n",
      "100%|██████████| 548/548 [00:35<00:00, 15.46it/s]\n",
      " 55%|█████▌    | 212/384 [00:14<00:11, 14.82it/s]\n"
     ]
    },
    {
     "ename": "KeyboardInterrupt",
     "evalue": "",
     "output_type": "error",
     "traceback": [
      "\u001b[0;31m---------------------------------------------------------------------------\u001b[0m",
      "\u001b[0;31mKeyboardInterrupt\u001b[0m                         Traceback (most recent call last)",
      "\u001b[1;32m/users/eleves-a/2022/pedro.silva/few-shot-learning-transformers/notebooks/few_shot_ner/bio-technique/01-funsd_implementation.ipynb Cell 47\u001b[0m line \u001b[0;36m1\n\u001b[1;32m     <a href='vscode-notebook-cell://ssh-remote%2B129.104.254.98/users/eleves-a/2022/pedro.silva/few-shot-learning-transformers/notebooks/few_shot_ner/bio-technique/01-funsd_implementation.ipynb#Y166sdnNjb2RlLXJlbW90ZQ%3D%3D?line=15'>16</a>\u001b[0m \u001b[39mfor\u001b[39;00m batch \u001b[39min\u001b[39;00m tqdm(train_dataloader):\n\u001b[1;32m     <a href='vscode-notebook-cell://ssh-remote%2B129.104.254.98/users/eleves-a/2022/pedro.silva/few-shot-learning-transformers/notebooks/few_shot_ner/bio-technique/01-funsd_implementation.ipynb#Y166sdnNjb2RlLXJlbW90ZQ%3D%3D?line=16'>17</a>\u001b[0m     \u001b[39mfor\u001b[39;00m k,v \u001b[39min\u001b[39;00m batch\u001b[39m.\u001b[39mitems():\n\u001b[0;32m---> <a href='vscode-notebook-cell://ssh-remote%2B129.104.254.98/users/eleves-a/2022/pedro.silva/few-shot-learning-transformers/notebooks/few_shot_ner/bio-technique/01-funsd_implementation.ipynb#Y166sdnNjb2RlLXJlbW90ZQ%3D%3D?line=17'>18</a>\u001b[0m         batch[k] \u001b[39m=\u001b[39m v\u001b[39m.\u001b[39;49mto(device)\n\u001b[1;32m     <a href='vscode-notebook-cell://ssh-remote%2B129.104.254.98/users/eleves-a/2022/pedro.silva/few-shot-learning-transformers/notebooks/few_shot_ner/bio-technique/01-funsd_implementation.ipynb#Y166sdnNjb2RlLXJlbW90ZQ%3D%3D?line=19'>20</a>\u001b[0m         \u001b[39mif\u001b[39;00m k \u001b[39m==\u001b[39m \u001b[39m\"\u001b[39m\u001b[39mbbox\u001b[39m\u001b[39m\"\u001b[39m:\n\u001b[1;32m     <a href='vscode-notebook-cell://ssh-remote%2B129.104.254.98/users/eleves-a/2022/pedro.silva/few-shot-learning-transformers/notebooks/few_shot_ner/bio-technique/01-funsd_implementation.ipynb#Y166sdnNjb2RlLXJlbW90ZQ%3D%3D?line=20'>21</a>\u001b[0m             \u001b[39mcontinue\u001b[39;00m\n",
      "\u001b[0;31mKeyboardInterrupt\u001b[0m: "
     ]
    }
   ],
   "source": [
    "model = AutoModelForTokenClassification.from_pretrained(\"bert-base-uncased\", num_labels = 2)\n",
    "model.to(device)\n",
    "\n",
    "optimizer = torch.optim.Adam(\n",
    "    model.parameters(),\n",
    "    lr = 1e-5\n",
    ")\n",
    "\n",
    "model.train()\n",
    "best_f1 = 0\n",
    "best_model = None\n",
    "\n",
    "n_epochs = 50\n",
    "history = []\n",
    "for epoch in range(n_epochs):\n",
    "    for batch in tqdm(train_dataloader):\n",
    "        for k,v in batch.items():\n",
    "            batch[k] = v.to(device)\n",
    "\n",
    "            if k == \"bbox\":\n",
    "                continue\n",
    "            batch[k] = batch[k].reshape(1,512)\n",
    "        batch.pop('bbox')\n",
    "\n",
    "        optimizer.zero_grad()\n",
    "\n",
    "        out = model(**batch)\n",
    "        loss = out.loss\n",
    "\n",
    "        loss.backward()\n",
    "        optimizer.step()\n",
    "\n",
    "    y_pred_val = torch.tensor([],device=device)\n",
    "    y_true_val = torch.tensor([],device=device)\n",
    "\n",
    "    for batch in tqdm(validation_dataloader):\n",
    "        for k,v in batch.items():\n",
    "            batch[k] = v.to(device)\n",
    "\n",
    "            if k == \"bbox\":\n",
    "                continue\n",
    "            batch[k] = batch[k].reshape(4,512)\n",
    "        batch.pop('bbox')\n",
    "\n",
    "        y_true = batch['labels']\n",
    "        mask = y_true!= -100\n",
    "\n",
    "        with torch.no_grad():\n",
    "\n",
    "            y_pred = model(**batch).logits[:,:,1]\n",
    "        y_pred = y_pred[mask]\\\n",
    "            .reshape(4,-1)[:,1:]\\\n",
    "            .argmax(dim = 0)\n",
    "\n",
    "        y_true = y_true[mask]\\\n",
    "            .reshape(4,-1)[:, 1:]\\\n",
    "            .argmax(dim = 0)\n",
    "        \n",
    "        y_pred_val = torch.cat([y_pred, y_pred_val])\n",
    "        y_true_val = torch.cat([y_true, y_true_val])\n",
    "\n",
    "    f1 = multiclass_f1_score(\n",
    "        y_pred_val,\n",
    "        y_true_val,\n",
    "        num_classes=4\n",
    "    )\n",
    "\n",
    "    conf_matrix = multiclass_confusion_matrix(\n",
    "        y_pred_val.to(torch.int64),\n",
    "        y_true_val.to(torch.int64),\n",
    "        num_classes= 4\n",
    "    )\n",
    "\n",
    "    if f1 > best_f1:\n",
    "        best_f1 = f1\n",
    "        best_model = deepcopy(model)\n",
    "\n",
    "    logging.info(f\"f1 score: {f1}\")\n",
    "    logging.info(conf_matrix)"
   ]
  },
  {
   "cell_type": "code",
   "execution_count": null,
   "metadata": {},
   "outputs": [],
   "source": []
  }
 ],
 "metadata": {
  "kernelspec": {
   "display_name": ".venv",
   "language": "python",
   "name": "python3"
  },
  "language_info": {
   "codemirror_mode": {
    "name": "ipython",
    "version": 3
   },
   "file_extension": ".py",
   "mimetype": "text/x-python",
   "name": "python",
   "nbconvert_exporter": "python",
   "pygments_lexer": "ipython3",
   "version": "3.9.18"
  }
 },
 "nbformat": 4,
 "nbformat_minor": 2
}
