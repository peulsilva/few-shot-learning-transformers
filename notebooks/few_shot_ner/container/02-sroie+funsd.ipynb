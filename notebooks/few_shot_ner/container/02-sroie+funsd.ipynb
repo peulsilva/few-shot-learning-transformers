{
 "cells": [
  {
   "cell_type": "code",
   "execution_count": 1,
   "metadata": {},
   "outputs": [],
   "source": [
    "%load_ext autoreload\n",
    "%autoreload 2"
   ]
  },
  {
   "cell_type": "code",
   "execution_count": 2,
   "metadata": {},
   "outputs": [],
   "source": [
    "import transformers\n",
    "from transformers import AutoModelForTokenClassification, AutoTokenizer, AutoModel\n",
    "from datasets import load_dataset\n",
    "import torch\n",
    "import matplotlib.pyplot as plt\n",
    "import numpy as np\n",
    "from tqdm import tqdm\n",
    "import logging\n",
    "from torch.utils.data import DataLoader, Dataset\n",
    "from torcheval.metrics.functional import multiclass_f1_score, multiclass_confusion_matrix\n",
    "from copy import deepcopy\n",
    "from IPython.display import clear_output\n",
    "from huggingface_hub import notebook_login\n",
    "from sklearn.neighbors import KNeighborsClassifier\n",
    "from sklearn.metrics import f1_score, confusion_matrix\n",
    "\n",
    "import os \n",
    "while 'notebooks' in os.getcwd():\n",
    "    os.chdir(\"..\")\n",
    "    \n",
    "from src.preprocessing.make_dataset import ImageLayoutDataset\n",
    "import warnings\n",
    "warnings.filterwarnings(\"ignore\")"
   ]
  },
  {
   "cell_type": "code",
   "execution_count": 3,
   "metadata": {},
   "outputs": [
    {
     "data": {
      "application/vnd.jupyter.widget-view+json": {
       "model_id": "3363f91b5c2f4fbca3fb668d9b4ff8b7",
       "version_major": 2,
       "version_minor": 0
      },
      "text/plain": [
       "VBox(children=(HTML(value='<center> <img\\nsrc=https://huggingface.co/front/assets/huggingface_logo-noborder.sv…"
      ]
     },
     "metadata": {},
     "output_type": "display_data"
    }
   ],
   "source": [
    "notebook_login()"
   ]
  },
  {
   "cell_type": "code",
   "execution_count": 4,
   "metadata": {},
   "outputs": [
    {
     "name": "stdout",
     "output_type": "stream",
     "text": [
      "mkdir: cannot create directory ‘logs’: File exists\n"
     ]
    }
   ],
   "source": [
    "!mkdir logs"
   ]
  },
  {
   "cell_type": "code",
   "execution_count": 5,
   "metadata": {},
   "outputs": [],
   "source": [
    "device = \"cuda\" if torch.cuda.is_available() else 'cpu'\n",
    "model_name = \"few_shot_learning\"\n",
    "dataset_name = \"sroie\""
   ]
  },
  {
   "cell_type": "code",
   "execution_count": 6,
   "metadata": {},
   "outputs": [],
   "source": [
    "logging.basicConfig(filename='logs/few_shot_learning_cord.log', encoding='utf-8', level= logging.INFO)"
   ]
  },
  {
   "cell_type": "markdown",
   "metadata": {},
   "source": [
    "## Importing source and support dataset"
   ]
  },
  {
   "cell_type": "code",
   "execution_count": 7,
   "metadata": {},
   "outputs": [],
   "source": [
    "source_dataset = load_dataset(\n",
    "    \"nielsr/funsd\",\n",
    "    cache_dir = \"/Data/pedro.silva/\"\n",
    ")\n",
    "support_dataset = load_dataset(\n",
    "    \"darentang/sroie\",\n",
    "    cache_dir = \"/Data/pedro.silva/\"\n",
    ")"
   ]
  },
  {
   "cell_type": "code",
   "execution_count": 8,
   "metadata": {},
   "outputs": [
    {
     "name": "stderr",
     "output_type": "stream",
     "text": [
      "Some weights of LayoutLMModel were not initialized from the model checkpoint at microsoft/layoutlm-base-uncased and are newly initialized: ['layoutlm.embeddings.word_embeddings.weight']\n",
      "You should probably TRAIN this model on a down-stream task to be able to use it for predictions and inference.\n"
     ]
    }
   ],
   "source": [
    "model = AutoModel.from_pretrained(\n",
    "    \"microsoft/layoutlm-base-uncased\",\n",
    "    cache_dir = \"/Data/pedro.silva/\"\n",
    ").to(device)\n",
    "\n",
    "tokenizer = AutoTokenizer.from_pretrained(\n",
    "    \"microsoft/layoutlm-base-uncased\",\n",
    "    cache_dir = \"/Data/pedro.silva/\"\n",
    ")"
   ]
  },
  {
   "cell_type": "code",
   "execution_count": 9,
   "metadata": {},
   "outputs": [
    {
     "data": {
      "text/plain": [
       "['O',\n",
       " 'B-HEADER',\n",
       " 'I-HEADER',\n",
       " 'B-QUESTION',\n",
       " 'I-QUESTION',\n",
       " 'B-ANSWER',\n",
       " 'I-ANSWER']"
      ]
     },
     "execution_count": 9,
     "metadata": {},
     "output_type": "execute_result"
    }
   ],
   "source": [
    "source_dataset['train'].features['ner_tags'].feature.names"
   ]
  },
  {
   "cell_type": "code",
   "execution_count": 10,
   "metadata": {},
   "outputs": [
    {
     "name": "stderr",
     "output_type": "stream",
     "text": [
      "  0%|          | 0/149 [00:00<?, ?it/s]"
     ]
    },
    {
     "name": "stderr",
     "output_type": "stream",
     "text": [
      "100%|██████████| 149/149 [00:01<00:00, 130.27it/s]\n"
     ]
    }
   ],
   "source": [
    "valid_labels ={\n",
    "    0: 0,\n",
    "    1: 1,\n",
    "    2: 1,\n",
    "    3: 2,\n",
    "    4: 2,\n",
    "    5: 3,\n",
    "    6: 3,\n",
    "    7: 4,\n",
    "    8: 4\n",
    "}\n",
    "\n",
    "source_df = ImageLayoutDataset(\n",
    "    source_dataset['train'],\n",
    "    tokenizer,\n",
    "    valid_labels_keymap= valid_labels\n",
    ")"
   ]
  },
  {
   "cell_type": "code",
   "execution_count": 11,
   "metadata": {},
   "outputs": [],
   "source": [
    "input = source_df[0]"
   ]
  },
  {
   "cell_type": "code",
   "execution_count": 12,
   "metadata": {},
   "outputs": [],
   "source": [
    "out = model(\n",
    "    input_ids=input['input_ids'].reshape(1,-1), \n",
    "    bbox= input['bbox'].reshape([1, 512, 4]),\n",
    "    attention_mask=input['attention_mask'].reshape(1,-1), \n",
    "    token_type_ids=input['token_type_ids'].reshape(1,-1),\n",
    ")"
   ]
  },
  {
   "cell_type": "code",
   "execution_count": 13,
   "metadata": {},
   "outputs": [
    {
     "data": {
      "text/plain": [
       "torch.Size([1, 512, 768])"
      ]
     },
     "execution_count": 13,
     "metadata": {},
     "output_type": "execute_result"
    }
   ],
   "source": [
    "out.last_hidden_state.shape"
   ]
  },
  {
   "cell_type": "code",
   "execution_count": 14,
   "metadata": {},
   "outputs": [],
   "source": [
    "class F_mean(torch.nn.Module):\n",
    "    def __init__(self, \n",
    "                 input_dim:int, \n",
    "                 output_dim: int, \n",
    "                 device : str = 'cuda',\n",
    "                 *args, \n",
    "                 **kwargs\n",
    "    ) -> None:\n",
    "        super().__init__(*args, **kwargs)\n",
    "\n",
    "        self.input_dim = input_dim\n",
    "        self.output_dim = output_dim\n",
    "\n",
    "        self.layer1 = torch.nn.Linear(input_dim, 128).to(device)\n",
    "        self.layer2 = torch.nn.Linear(128, output_dim).to(device)\n",
    "        self.elu = torch.nn.ELU().to(device)\n",
    "        self.relu = torch.nn.ReLU().to(device)\n",
    "\n",
    "    def forward(self, x: torch.Tensor):\n",
    "        x = self.layer1(x)\n",
    "        x = self.relu(x)\n",
    "        x = self.layer2(x)\n",
    "        return self.elu(x).squeeze()\n",
    "\n",
    "class F_cov(torch.nn.Module):\n",
    "    def __init__(self, \n",
    "                 input_dim:int, \n",
    "                 output_dim: int, \n",
    "                 device : str = 'cuda',\n",
    "                 epsilon : float = 1e-14,\n",
    "                 *args, \n",
    "                 **kwargs\n",
    "    ) -> None:\n",
    "        super().__init__(*args, **kwargs)\n",
    "\n",
    "        self.input_dim = input_dim\n",
    "        self.output_dim = output_dim\n",
    "        self.epsilon = epsilon\n",
    "\n",
    "        self.layer1 = torch.nn.Linear(input_dim, 512).to(device)\n",
    "        self.layer2 = torch.nn.Linear(512, output_dim).to(device)\n",
    "        self.elu = torch.nn.ELU().to(device)\n",
    "        self.relu = torch.nn.ReLU().to(device)\n",
    "\n",
    "    def forward(self, x: torch.Tensor):\n",
    "        x = self.layer1(x)\n",
    "        x = self.relu(x)\n",
    "        x = self.layer2(x)\n",
    "        x = self.elu(x)\n",
    "        x += 1 + self.epsilon\n",
    "\n",
    "        # return torch.diag(x)\n",
    "        return torch.diag(x.squeeze())"
   ]
  },
  {
   "cell_type": "code",
   "execution_count": 15,
   "metadata": {},
   "outputs": [],
   "source": [
    "input_dim = 768\n",
    "output_dim = 64\n",
    "\n",
    "f_mean = F_mean(\n",
    "    input_dim,\n",
    "    output_dim\n",
    ")\n",
    "\n",
    "f_cov = F_cov(\n",
    "    input_dim,\n",
    "    output_dim\n",
    ")"
   ]
  },
  {
   "cell_type": "code",
   "execution_count": 16,
   "metadata": {},
   "outputs": [
    {
     "data": {
      "text/plain": [
       "torch.Size([1, 768])"
      ]
     },
     "execution_count": 16,
     "metadata": {},
     "output_type": "execute_result"
    }
   ],
   "source": [
    "out.last_hidden_state[:,0, :].shape"
   ]
  },
  {
   "cell_type": "code",
   "execution_count": 17,
   "metadata": {},
   "outputs": [],
   "source": [
    "params = list(f_mean.parameters()) + list(f_cov.parameters()) + list(model.parameters())\n",
    "optimizer = torch.optim.Adam(\n",
    "    params,\n",
    "    lr = 1e-4\n",
    ")"
   ]
  },
  {
   "cell_type": "markdown",
   "metadata": {},
   "source": [
    "## Train on source set"
   ]
  },
  {
   "cell_type": "code",
   "execution_count": 18,
   "metadata": {},
   "outputs": [],
   "source": [
    "def KL_div(\n",
    "    mu_1 : torch.Tensor,\n",
    "    mu_2 : torch.Tensor,\n",
    "    cov_1: torch.Tensor,\n",
    "    cov_2: torch.Tensor\n",
    "):\n",
    "    l = cov_1.shape[0]\n",
    "    inv_1 = cov_1.inverse()\n",
    "    # inv_2 = cov_2.inverse()\n",
    "    kl = 1/2 * (mu_1 - mu_2).T @ inv_1 @ (mu_1 - mu_2)\n",
    "    kl+= 1/2 * torch.trace(inv_1 @ cov_2)\n",
    "    kl+= -l/2\n",
    "    kl+= torch.log(\n",
    "        torch.det(cov_1)/torch.det(cov_2)\n",
    "    )\n",
    "\n",
    "    return kl"
   ]
  },
  {
   "cell_type": "code",
   "execution_count": 19,
   "metadata": {},
   "outputs": [
    {
     "data": {
      "text/plain": [
       "tensor([-100], device='cuda:0')"
      ]
     },
     "execution_count": 19,
     "metadata": {},
     "output_type": "execute_result"
    }
   ],
   "source": [
    "source_df[0]['labels'][:,3]"
   ]
  },
  {
   "cell_type": "code",
   "execution_count": 20,
   "metadata": {},
   "outputs": [],
   "source": [
    "total_samples = len(source_df)\n",
    "minibatch_size = 5\n",
    "total_batches = total_samples // minibatch_size\n",
    "\n",
    "# Initialize a list to store minibatches\n",
    "minibatches = []\n",
    "\n",
    "# Loop over the total number of batches\n",
    "for _ in range(total_batches):\n",
    "    # Generate random indices for the minibatch\n",
    "    random_indices = np.random.choice(total_samples, minibatch_size, replace=False)\n",
    "    # Append the minibatch to the list\n",
    "    minibatches.append(random_indices)"
   ]
  },
  {
   "cell_type": "code",
   "execution_count": 21,
   "metadata": {},
   "outputs": [
    {
     "data": {
      "text/plain": [
       "29"
      ]
     },
     "execution_count": 21,
     "metadata": {},
     "output_type": "execute_result"
    }
   ],
   "source": [
    "len(minibatches)"
   ]
  },
  {
   "cell_type": "code",
   "execution_count": 22,
   "metadata": {},
   "outputs": [],
   "source": [
    "checkpoint_f_mean = \"/Data/pedro.silva/f_mean_funsd.pt\"\n",
    "checkpoint_f_cov = \"/Data/pedro.silva/f_cov_funsd.pt\"\n",
    "checkpoint_llm = \"peulsilva/container-source-funsd-checkpoint\""
   ]
  },
  {
   "cell_type": "code",
   "execution_count": 23,
   "metadata": {},
   "outputs": [
    {
     "name": "stdout",
     "output_type": "stream",
     "text": [
      "batch 19\n",
      "loss: 0.05647583678364754\n"
     ]
    },
    {
     "data": {
      "application/vnd.jupyter.widget-view+json": {
       "model_id": "786b6f70f8564430b9b386ccdd7e0b4f",
       "version_major": 2,
       "version_minor": 0
      },
      "text/plain": [
       "model.safetensors:   0%|          | 0.00/451M [00:00<?, ?B/s]"
      ]
     },
     "metadata": {},
     "output_type": "display_data"
    }
   ],
   "source": [
    "num_batches = 20\n",
    "for batch_idx in range(num_batches):\n",
    "    loss = 0\n",
    "    total_points = 0\n",
    "    for document_idx in tqdm(minibatches[batch_idx]):\n",
    "        means = {}\n",
    "        covs = {}\n",
    "        X_p = 0\n",
    "        s_X = 0\n",
    "        n_p = 0\n",
    "\n",
    "        size = source_df[document_idx]['labels'].shape[1]\n",
    "        input = source_df[document_idx]\n",
    "\n",
    "        out = model(\n",
    "            input_ids=input['input_ids'].reshape(1,-1), \n",
    "            bbox= input['bbox'].reshape([1, 512, 4]),\n",
    "            attention_mask=input['attention_mask'].reshape(1,-1), \n",
    "            token_type_ids=input['token_type_ids'].reshape(1,-1),\n",
    "        )\n",
    "\n",
    "        for i in range(size):\n",
    "            if source_df[document_idx]['labels'][:,i] == -100:\n",
    "                continue\n",
    "            mu_i = f_mean(out.last_hidden_state[:,i,:])\n",
    "            cov_i = f_cov(out.last_hidden_state[:,i, :])\n",
    "\n",
    "            means[i] = mu_i\n",
    "            covs[i] = cov_i\n",
    "\n",
    "        del out\n",
    "\n",
    "        for i in range(size):\n",
    "            if source_df[document_idx]['labels'][:,i] == -100:\n",
    "                continue\n",
    "\n",
    "\n",
    "            total_points+= 1\n",
    "            for j in range(i+1, size):\n",
    "                if source_df[document_idx]['labels'][:,j] == -100:\n",
    "                    continue\n",
    "\n",
    "                # mu_i = f_mean(out.last_hidden_state[:,i,:])\n",
    "                # cov_i = f_cov(out.last_hidden_state[:,i, :])\n",
    "                # mu_j = f_mean(out.last_hidden_state[:,j,:])\n",
    "                # cov_j = f_cov(out.last_hidden_state[:,j, :])\n",
    "                mu_i = means[i]\n",
    "                cov_i = covs[i]\n",
    "                mu_j = means[j]\n",
    "                cov_j = covs[j]\n",
    "                d_ij = 1/2 * (KL_div(mu_i, mu_j, cov_i, cov_j) + KL_div(mu_j, mu_i, cov_j, cov_i))\n",
    "\n",
    "                if source_df[document_idx]['labels'][:,i] == source_df[document_idx]['labels'][:,j]:\n",
    "                    X_p += torch.exp(-d_ij)\n",
    "                    n_p += 1\n",
    "\n",
    "                s_X += torch.exp(-d_ij)\n",
    "\n",
    "        del means\n",
    "        del covs\n",
    "\n",
    "        loss -= torch.log(X_p / n_p / s_X)\n",
    "        \n",
    "\n",
    "    loss = loss/total_points\n",
    "    clear_output()\n",
    "    print(f\"batch {batch_idx}\")\n",
    "    print(f\"loss: {loss.item()}\")\n",
    "\n",
    "    loss.backward()\n",
    "\n",
    "    optimizer.step()\n",
    "\n",
    "    optimizer.zero_grad()\n",
    "\n",
    "model.push_to_hub(checkpoint_llm)\n",
    "torch.save(f_mean.state_dict(), checkpoint_f_mean)\n",
    "torch.save(f_cov.state_dict(), checkpoint_f_cov)\n"
   ]
  },
  {
   "cell_type": "code",
   "execution_count": 24,
   "metadata": {},
   "outputs": [
    {
     "data": {
      "text/plain": [
       "tensor(0.0565, device='cuda:0', grad_fn=<DivBackward0>)"
      ]
     },
     "execution_count": 24,
     "metadata": {},
     "output_type": "execute_result"
    }
   ],
   "source": [
    "loss"
   ]
  },
  {
   "cell_type": "markdown",
   "metadata": {},
   "source": [
    "## Few shot learning on support domain - 2 shots"
   ]
  },
  {
   "cell_type": "code",
   "execution_count": 25,
   "metadata": {},
   "outputs": [
    {
     "data": {
      "text/plain": [
       "['O',\n",
       " 'B-COMPANY',\n",
       " 'I-COMPANY',\n",
       " 'B-DATE',\n",
       " 'I-DATE',\n",
       " 'B-ADDRESS',\n",
       " 'I-ADDRESS',\n",
       " 'B-TOTAL',\n",
       " 'I-TOTAL']"
      ]
     },
     "execution_count": 25,
     "metadata": {},
     "output_type": "execute_result"
    }
   ],
   "source": [
    "support_dataset['train'].features['ner_tags'].feature.names"
   ]
  },
  {
   "cell_type": "code",
   "execution_count": 27,
   "metadata": {},
   "outputs": [
    {
     "name": "stderr",
     "output_type": "stream",
     "text": [
      "100%|██████████| 626/626 [00:05<00:00, 119.71it/s]\n"
     ]
    }
   ],
   "source": [
    "n_shots = 2\n",
    "valid_labels_funsd = {\n",
    "    0: 0,\n",
    "    1:1,\n",
    "    2:1,\n",
    "    3:2,\n",
    "    4:2,\n",
    "    5:3,\n",
    "    6:3,\n",
    "    7: 4,\n",
    "    8: 4\n",
    "}\n",
    "\n",
    "support_df = ImageLayoutDataset(\n",
    "    support_dataset['train'],\n",
    "    tokenizer,\n",
    "    valid_labels_keymap=valid_labels_funsd\n",
    ")"
   ]
  },
  {
   "cell_type": "code",
   "execution_count": 28,
   "metadata": {},
   "outputs": [
    {
     "data": {
      "application/vnd.jupyter.widget-view+json": {
       "model_id": "eba71261ac644dc4b46d8e0aac75bcdf",
       "version_major": 2,
       "version_minor": 0
      },
      "text/plain": [
       "config.json:   0%|          | 0.00/676 [00:00<?, ?B/s]"
      ]
     },
     "metadata": {},
     "output_type": "display_data"
    },
    {
     "data": {
      "application/vnd.jupyter.widget-view+json": {
       "model_id": "2c19e4f1acb94b7eb1b37f34fbf0aa50",
       "version_major": 2,
       "version_minor": 0
      },
      "text/plain": [
       "model.safetensors:   0%|          | 0.00/451M [00:00<?, ?B/s]"
      ]
     },
     "metadata": {},
     "output_type": "display_data"
    }
   ],
   "source": [
    "input_dim = 768\n",
    "output_dim = 64\n",
    "\n",
    "f_mean = F_mean(\n",
    "    input_dim,\n",
    "    output_dim\n",
    ")\n",
    "\n",
    "f_cov = F_cov(\n",
    "    input_dim,\n",
    "    output_dim\n",
    ")\n",
    "\n",
    "f_mean.load_state_dict(torch.load(checkpoint_f_mean))\n",
    "f_cov.load_state_dict(torch.load(checkpoint_f_cov))\n",
    "\n",
    "model =AutoModel.from_pretrained(\n",
    "    checkpoint_llm,\n",
    "    cache_dir = '/Data/pedro.silva/'\n",
    ").to(device)"
   ]
  },
  {
   "cell_type": "code",
   "execution_count": 29,
   "metadata": {},
   "outputs": [],
   "source": [
    "params = list(f_mean.parameters()) + list(f_cov.parameters()) + list(model.parameters())\n",
    "optimizer_support = torch.optim.Adam(\n",
    "    params,\n",
    "    lr = 1e-4\n",
    ")"
   ]
  },
  {
   "cell_type": "code",
   "execution_count": 30,
   "metadata": {},
   "outputs": [
    {
     "data": {
      "text/plain": [
       "True"
      ]
     },
     "execution_count": 30,
     "metadata": {},
     "output_type": "execute_result"
    }
   ],
   "source": [
    "loss_prev = torch.inf\n",
    "loss_ft = 1e100\n",
    "loss_ft < loss_prev"
   ]
  },
  {
   "cell_type": "code",
   "execution_count": 31,
   "metadata": {},
   "outputs": [
    {
     "name": "stderr",
     "output_type": "stream",
     "text": [
      "  0%|          | 0/626 [00:00<?, ?it/s]"
     ]
    },
    {
     "name": "stderr",
     "output_type": "stream",
     "text": [
      "100%|██████████| 626/626 [00:06<00:00, 103.99it/s]\n"
     ]
    }
   ],
   "source": [
    "val_df = ImageLayoutDataset(\n",
    "    support_dataset['train'],\n",
    "    tokenizer,\n",
    "    tokenize_all_labels=True,\n",
    "    valid_labels_keymap=valid_labels_funsd\n",
    ")"
   ]
  },
  {
   "cell_type": "code",
   "execution_count": 32,
   "metadata": {},
   "outputs": [
    {
     "name": "stdout",
     "output_type": "stream",
     "text": [
      "epoch 9\n",
      "loss: 0.08546370267868042\n",
      "running validation\n"
     ]
    },
    {
     "name": "stderr",
     "output_type": "stream",
     "text": [
      "100%|██████████| 2/2 [00:00<00:00, 14.27it/s]\n",
      "100%|██████████| 100/100 [00:04<00:00, 22.96it/s]\n"
     ]
    },
    {
     "name": "stdout",
     "output_type": "stream",
     "text": [
      "f1: 0.8327995134806406\n",
      "[[17765   500     0  2176     0]\n",
      " [  152   501     0   151     0]\n",
      " [  410     8     0    61     0]\n",
      " [  108   238     0  2275     0]\n",
      " [  312     3     0     5     0]]\n"
     ]
    },
    {
     "data": {
      "application/vnd.jupyter.widget-view+json": {
       "model_id": "851edb916d064fc2a7cf05690eb979ab",
       "version_major": 2,
       "version_minor": 0
      },
      "text/plain": [
       "model.safetensors:   0%|          | 0.00/451M [00:00<?, ?B/s]"
      ]
     },
     "metadata": {},
     "output_type": "display_data"
    }
   ],
   "source": [
    "loss_prev = torch.inf\n",
    "loss_ft = 1e100\n",
    "n_epochs = 10\n",
    "\n",
    "knn = KNeighborsClassifier(n_neighbors=5)\n",
    "\n",
    "best_f1 = -1\n",
    "history = []\n",
    "\n",
    "for epoch in range(n_epochs):\n",
    "    \n",
    "\n",
    "    loss_prev = loss_ft\n",
    "    loss_ft = 0\n",
    "    total_points = 0\n",
    "    for document_idx in tqdm(range(n_shots)):\n",
    "        means = {}\n",
    "        covs = {}\n",
    "        X_p = 0\n",
    "        s_X = 0\n",
    "        n_p = 0\n",
    "\n",
    "        size = support_df[document_idx]['labels'].shape[1]\n",
    "        input = support_df[document_idx]\n",
    "\n",
    "        out = model(\n",
    "            input_ids=input['input_ids'].reshape(1,-1), \n",
    "            bbox= input['bbox'].reshape([1, 512, 4]),\n",
    "            attention_mask=input['attention_mask'].reshape(1,-1), \n",
    "            token_type_ids=input['token_type_ids'].reshape(1,-1),\n",
    "        )\n",
    "\n",
    "        for i in range(size):\n",
    "            if support_df[document_idx]['labels'][:,i] == -100:\n",
    "                continue\n",
    "            mu_i = f_mean(out.last_hidden_state[:,i,:])\n",
    "            cov_i = f_cov(out.last_hidden_state[:,i, :])\n",
    "\n",
    "            means[i] = mu_i\n",
    "            covs[i] = cov_i\n",
    "\n",
    "        del out\n",
    "\n",
    "        for i in range(size):\n",
    "            if support_df[document_idx]['labels'][:,i] == -100:\n",
    "                continue\n",
    "\n",
    "            total_points+= 1\n",
    "            for j in range(i+1, size):\n",
    "                if support_df[document_idx]['labels'][:,j] == -100:\n",
    "                    continue\n",
    "\n",
    "                # mu_i = f_mean(out.last_hidden_state[:,i,:])\n",
    "                # cov_i = f_cov(out.last_hidden_state[:,i, :])\n",
    "                # mu_j = f_mean(out.last_hidden_state[:,j,:])\n",
    "                # cov_j = f_cov(out.last_hidden_state[:,j, :])\n",
    "                mu_i = means[i]\n",
    "                cov_i = covs[i]\n",
    "                mu_j = means[j]\n",
    "                cov_j = covs[j]\n",
    "                d_ij = 1/2 * (KL_div(mu_i, mu_j, cov_i, cov_j) + KL_div(mu_j, mu_i, cov_j, cov_i))\n",
    "\n",
    "                if support_df[document_idx]['labels'][:,i] == support_df[document_idx]['labels'][:,j]:\n",
    "                    X_p += torch.exp(-d_ij)\n",
    "                    n_p += 1\n",
    "\n",
    "                s_X += torch.exp(-d_ij)\n",
    "\n",
    "        del means\n",
    "        del covs\n",
    "\n",
    "        loss_ft -= torch.log(X_p / n_p / s_X)\n",
    "        \n",
    "\n",
    "    loss_ft = loss_ft/total_points\n",
    "    clear_output()\n",
    "    print(f\"epoch {epoch}\")\n",
    "    print(f\"loss: {loss_ft.item()}\")\n",
    "\n",
    "    loss_ft.backward()\n",
    "\n",
    "    optimizer_support.step()\n",
    "\n",
    "    optimizer_support.zero_grad()\n",
    "\n",
    "    # validation\n",
    "    print(\"running validation\")\n",
    "    \n",
    "    with torch.no_grad():\n",
    "        h = []\n",
    "        y = []\n",
    "        for document_idx in tqdm(range(n_shots)):\n",
    "            \n",
    "\n",
    "            X_p = 0\n",
    "            s_X = 0\n",
    "            n_p = 0\n",
    "\n",
    "            size = support_df[document_idx]['labels'].shape[1]\n",
    "            input = support_df[document_idx]\n",
    "\n",
    "            out = model(\n",
    "                input_ids=input['input_ids'].reshape(1,-1), \n",
    "                bbox= input['bbox'].reshape([1, 512, 4]),\n",
    "                attention_mask=input['attention_mask'].reshape(1,-1), \n",
    "                token_type_ids=input['token_type_ids'].reshape(1,-1),\n",
    "            )\n",
    "\n",
    "            for i in range(size):\n",
    "                if support_df[document_idx]['labels'][:,i] == -100:\n",
    "                    continue\n",
    "                v = out\\\n",
    "                    .last_hidden_state[:,i,:]\\\n",
    "                    .cpu()\\\n",
    "                    .numpy()\\\n",
    "                    .reshape(-1)\n",
    "                \n",
    "                label = support_df[document_idx]['labels'][:,i].item()\n",
    "                \n",
    "                h.append(v)\n",
    "                y.append(label)\n",
    "\n",
    "        knn.fit(h,y)\n",
    "        h = []\n",
    "        y = []\n",
    "        for document_idx in tqdm(range(n_shots, n_shots+100)):\n",
    "            \n",
    "\n",
    "            \n",
    "            size = val_df[document_idx]['labels'].shape[1]\n",
    "            input = val_df[document_idx]\n",
    "\n",
    "            out = model(\n",
    "                input_ids=input['input_ids'].reshape(1,-1), \n",
    "                bbox= input['bbox'].reshape([1, 512, 4]),\n",
    "                attention_mask=input['attention_mask'].reshape(1,-1), \n",
    "                token_type_ids=input['token_type_ids'].reshape(1,-1),\n",
    "            )\n",
    "\n",
    "            for i in range(size):\n",
    "                if val_df[document_idx]['labels'][:,i] == -100:\n",
    "                    continue\n",
    "                v = out\\\n",
    "                    .last_hidden_state[:,i,:]\\\n",
    "                    .cpu()\\\n",
    "                    .numpy()\\\n",
    "                    .reshape(-1)\n",
    "                \n",
    "                label = val_df[document_idx]['labels'][:,i].item()\n",
    "                \n",
    "                h.append(v)\n",
    "                y.append(label)\n",
    "\n",
    "        pred = knn.predict(h)\n",
    "        f1= f1_score(y, pred, average='micro')\n",
    "        conf_matrix = confusion_matrix(y, pred)\n",
    "\n",
    "        print(f\"f1: {f1}\")\n",
    "        print(conf_matrix)\n",
    "\n",
    "        history.append(f1)\n",
    "        if f1 > best_f1:\n",
    "            best_model = deepcopy(model)\n",
    "            best_f1 = f1\n",
    "\n",
    "\n",
    "best_model.push_to_hub(f\"peulsilva/container-source-funsd-sroie-2shots\")\n",
    "torch.save(f_mean.state_dict(), \"/Data/pedro.silva/f_mean_funsd-2.pt\")\n",
    "torch.save(f_cov.state_dict(), \"/Data/pedro.silva/f_cov_funsd-2.pt\")\n"
   ]
  },
  {
   "cell_type": "code",
   "execution_count": 33,
   "metadata": {},
   "outputs": [
    {
     "data": {
      "text/plain": [
       "[<matplotlib.lines.Line2D at 0x7f260bb555b0>]"
      ]
     },
     "execution_count": 33,
     "metadata": {},
     "output_type": "execute_result"
    },
    {
     "data": {
      "image/png": "[encoded data removed]",
      "text/plain": [
       "<Figure size 640x480 with 1 Axes>"
      ]
     },
     "metadata": {},
     "output_type": "display_data"
    }
   ],
   "source": [
    "plt.plot(history)"
   ]
  },
  {
   "cell_type": "code",
   "execution_count": 34,
   "metadata": {},
   "outputs": [
    {
     "data": {
      "text/plain": [
       "tensor([-100], device='cuda:0')"
      ]
     },
     "execution_count": 34,
     "metadata": {},
     "output_type": "execute_result"
    }
   ],
   "source": [
    "val_df[0]['labels'][:,0]"
   ]
  },
  {
   "cell_type": "code",
   "execution_count": 35,
   "metadata": {},
   "outputs": [
    {
     "data": {
      "text/plain": [
       "[0,\n",
       " 0,\n",
       " 0,\n",
       " 1,\n",
       " 2,\n",
       " 2,\n",
       " 2,\n",
       " 2,\n",
       " 2,\n",
       " 2,\n",
       " 5,\n",
       " 6,\n",
       " 6,\n",
       " 6,\n",
       " 6,\n",
       " 6,\n",
       " 6,\n",
       " 6,\n",
       " 6,\n",
       " 6,\n",
       " 6,\n",
       " 6,\n",
       " 6,\n",
       " 6,\n",
       " 0,\n",
       " 0,\n",
       " 0,\n",
       " 0,\n",
       " 0,\n",
       " 0,\n",
       " 3,\n",
       " 0,\n",
       " 0,\n",
       " 0,\n",
       " 0,\n",
       " 0,\n",
       " 0,\n",
       " 0,\n",
       " 0,\n",
       " 0,\n",
       " 0,\n",
       " 0,\n",
       " 0,\n",
       " 0,\n",
       " 0,\n",
       " 0,\n",
       " 0,\n",
       " 0,\n",
       " 0,\n",
       " 0,\n",
       " 0,\n",
       " 0,\n",
       " 0,\n",
       " 0,\n",
       " 0,\n",
       " 7,\n",
       " 0,\n",
       " 0,\n",
       " 0,\n",
       " 0,\n",
       " 0,\n",
       " 0,\n",
       " 0,\n",
       " 0,\n",
       " 0,\n",
       " 0,\n",
       " 0,\n",
       " 0,\n",
       " 0,\n",
       " 0,\n",
       " 0,\n",
       " 0,\n",
       " 0,\n",
       " 0,\n",
       " 0,\n",
       " 0,\n",
       " 0,\n",
       " 0,\n",
       " 0,\n",
       " 0,\n",
       " 0,\n",
       " 0,\n",
       " 0,\n",
       " 0,\n",
       " 0,\n",
       " 0,\n",
       " 0,\n",
       " 0,\n",
       " 0]"
      ]
     },
     "execution_count": 35,
     "metadata": {},
     "output_type": "execute_result"
    }
   ],
   "source": [
    "support_dataset['train']['ner_tags'][0]"
   ]
  },
  {
   "cell_type": "markdown",
   "metadata": {},
   "source": [
    "## Evaluation"
   ]
  },
  {
   "cell_type": "code",
   "execution_count": 36,
   "metadata": {},
   "outputs": [
    {
     "name": "stderr",
     "output_type": "stream",
     "text": [
      "  0%|          | 0/347 [00:00<?, ?it/s]"
     ]
    },
    {
     "name": "stderr",
     "output_type": "stream",
     "text": [
      "100%|██████████| 347/347 [00:02<00:00, 143.48it/s]\n"
     ]
    }
   ],
   "source": [
    "test_df = ImageLayoutDataset(\n",
    "    support_dataset['test'],\n",
    "    tokenizer,\n",
    "    tokenize_all_labels=True,\n",
    "    valid_labels_keymap=valid_labels_funsd\n",
    ")"
   ]
  },
  {
   "cell_type": "code",
   "execution_count": 37,
   "metadata": {},
   "outputs": [
    {
     "name": "stderr",
     "output_type": "stream",
     "text": [
      "  0%|          | 0/2 [00:00<?, ?it/s]"
     ]
    },
    {
     "name": "stderr",
     "output_type": "stream",
     "text": [
      "100%|██████████| 2/2 [00:00<00:00, 24.42it/s]\n",
      "100%|██████████| 347/347 [00:15<00:00, 23.09it/s]\n"
     ]
    },
    {
     "name": "stdout",
     "output_type": "stream",
     "text": [
      "f1: 0.8366101310340915\n",
      "[[64072  1978     0  7657     0]\n",
      " [  435  2058     0   414     0]\n",
      " [ 1545    29     0   126     0]\n",
      " [  371   716     0  7613     0]\n",
      " [ 1093     8     0    30     0]]\n"
     ]
    }
   ],
   "source": [
    "with torch.no_grad():\n",
    "    h = []\n",
    "    y = []\n",
    "    for document_idx in tqdm(range(n_shots)):\n",
    "\n",
    "        X_p = 0\n",
    "        s_X = 0\n",
    "        n_p = 0\n",
    "\n",
    "        size = support_df[document_idx]['labels'].shape[1]\n",
    "        input = support_df[document_idx]\n",
    "\n",
    "        out = model(\n",
    "            input_ids=input['input_ids'].reshape(1,-1), \n",
    "            bbox= input['bbox'].reshape([1, 512, 4]),\n",
    "            attention_mask=input['attention_mask'].reshape(1,-1), \n",
    "            token_type_ids=input['token_type_ids'].reshape(1,-1),\n",
    "        )\n",
    "\n",
    "        for i in range(size):\n",
    "            if support_df[document_idx]['labels'][:,i] == -100:\n",
    "                continue\n",
    "            v = out\\\n",
    "                .last_hidden_state[:,i,:]\\\n",
    "                .cpu()\\\n",
    "                .numpy()\\\n",
    "                .reshape(-1)\n",
    "            \n",
    "            label = support_df[document_idx]['labels'][:,i].item()\n",
    "            \n",
    "            h.append(v)\n",
    "            y.append(label)\n",
    "\n",
    "    knn.fit(h,y)\n",
    "\n",
    "    h = []\n",
    "    y = []\n",
    "    for document_idx in tqdm((range(len(test_df)))):\n",
    "    \n",
    "\n",
    "        X_p = 0\n",
    "        s_X = 0\n",
    "        n_p = 0\n",
    "\n",
    "        size = test_df[document_idx]['labels'].shape[1]\n",
    "        input = test_df[document_idx]\n",
    "\n",
    "        out = model(\n",
    "            input_ids=input['input_ids'].reshape(1,-1), \n",
    "            bbox= input['bbox'].reshape([1, 512, 4]),\n",
    "            attention_mask=input['attention_mask'].reshape(1,-1), \n",
    "            token_type_ids=input['token_type_ids'].reshape(1,-1),\n",
    "        )\n",
    "\n",
    "        for i in range(size):\n",
    "            if test_df[document_idx]['labels'][:,i] == -100:\n",
    "                continue\n",
    "            v = out\\\n",
    "                .last_hidden_state[:,i,:]\\\n",
    "                .cpu()\\\n",
    "                .numpy()\\\n",
    "                .reshape(-1)\n",
    "            \n",
    "            label = test_df[document_idx]['labels'][:,i].item()\n",
    "            \n",
    "            h.append(v)\n",
    "            y.append(label)\n",
    "\n",
    "    pred = knn.predict(h)\n",
    "    f1= f1_score(y, pred, average='micro')\n",
    "    conf_matrix = confusion_matrix(y, pred)\n",
    "\n",
    "    print(f\"f1: {f1}\")\n",
    "    print(conf_matrix)"
   ]
  },
  {
   "cell_type": "code",
   "execution_count": null,
   "metadata": {},
   "outputs": [],
   "source": []
  },
  {
   "cell_type": "markdown",
   "metadata": {},
   "source": [
    "## Few shot learning on support domain - 5 shots"
   ]
  },
  {
   "cell_type": "code",
   "execution_count": 34,
   "metadata": {},
   "outputs": [
    {
     "data": {
      "text/plain": [
       "['O',\n",
       " 'B-HEADER',\n",
       " 'I-HEADER',\n",
       " 'B-QUESTION',\n",
       " 'I-QUESTION',\n",
       " 'B-ANSWER',\n",
       " 'I-ANSWER']"
      ]
     },
     "execution_count": 34,
     "metadata": {},
     "output_type": "execute_result"
    }
   ],
   "source": [
    "support_dataset['train'].features['ner_tags'].feature.names"
   ]
  },
  {
   "cell_type": "code",
   "execution_count": 38,
   "metadata": {},
   "outputs": [
    {
     "name": "stderr",
     "output_type": "stream",
     "text": [
      "100%|██████████| 626/626 [00:04<00:00, 144.31it/s]\n"
     ]
    }
   ],
   "source": [
    "n_shots = 5\n",
    "# valid_labels_funsd = {\n",
    "#     0: 0,\n",
    "#     1:1,\n",
    "#     2:1,\n",
    "#     3:2,\n",
    "#     4:2,\n",
    "#     5:3,\n",
    "#     6:3\n",
    "# }\n",
    "\n",
    "support_df = ImageLayoutDataset(\n",
    "    support_dataset['train'],\n",
    "    tokenizer,\n",
    "    valid_labels_keymap=valid_labels_funsd\n",
    ")"
   ]
  },
  {
   "cell_type": "code",
   "execution_count": 39,
   "metadata": {},
   "outputs": [],
   "source": [
    "input_dim = 768\n",
    "output_dim = 64\n",
    "\n",
    "f_mean = F_mean(\n",
    "    input_dim,\n",
    "    output_dim\n",
    ")\n",
    "\n",
    "f_cov = F_cov(\n",
    "    input_dim,\n",
    "    output_dim\n",
    ")\n",
    "\n",
    "f_mean.load_state_dict(torch.load(checkpoint_f_mean))\n",
    "f_cov.load_state_dict(torch.load(checkpoint_f_cov))\n",
    "\n",
    "model =AutoModel.from_pretrained(\n",
    "    checkpoint_llm,\n",
    "    cache_dir = '/Data/pedro.silva/'\n",
    ").to(device)"
   ]
  },
  {
   "cell_type": "code",
   "execution_count": 40,
   "metadata": {},
   "outputs": [],
   "source": [
    "params = list(f_mean.parameters()) + list(f_cov.parameters()) + list(model.parameters())\n",
    "optimizer_support = torch.optim.Adam(\n",
    "    params,\n",
    "    lr = 1e-4\n",
    ")"
   ]
  },
  {
   "cell_type": "code",
   "execution_count": 41,
   "metadata": {},
   "outputs": [
    {
     "data": {
      "text/plain": [
       "True"
      ]
     },
     "execution_count": 41,
     "metadata": {},
     "output_type": "execute_result"
    }
   ],
   "source": [
    "loss_prev = torch.inf\n",
    "loss_ft = 1e100\n",
    "loss_ft < loss_prev"
   ]
  },
  {
   "cell_type": "code",
   "execution_count": 42,
   "metadata": {},
   "outputs": [
    {
     "name": "stderr",
     "output_type": "stream",
     "text": [
      "100%|██████████| 626/626 [00:05<00:00, 120.78it/s]\n"
     ]
    }
   ],
   "source": [
    "val_df = ImageLayoutDataset(\n",
    "    support_dataset['train'],\n",
    "    tokenizer,\n",
    "    tokenize_all_labels=True,\n",
    "    valid_labels_keymap=valid_labels_funsd\n",
    ")"
   ]
  },
  {
   "cell_type": "code",
   "execution_count": 43,
   "metadata": {},
   "outputs": [
    {
     "name": "stdout",
     "output_type": "stream",
     "text": [
      "epoch 4\n",
      "loss: 0.0746937245130539\n",
      "running validation\n"
     ]
    },
    {
     "name": "stderr",
     "output_type": "stream",
     "text": [
      "100%|██████████| 5/5 [00:00<00:00, 11.87it/s]\n",
      "100%|██████████| 100/100 [00:04<00:00, 22.87it/s]\n"
     ]
    },
    {
     "name": "stdout",
     "output_type": "stream",
     "text": [
      "f1: 0.8577475680735887\n",
      "[[18431   449     0  1554     0]\n",
      " [  184   584     1    31     0]\n",
      " [  409    32     0    36     0]\n",
      " [  177   302     0  2059     0]\n",
      " [  320     0     0     0     0]]\n"
     ]
    },
    {
     "data": {
      "application/vnd.jupyter.widget-view+json": {
       "model_id": "1b5e92f233154f159e6682cff5b6308c",
       "version_major": 2,
       "version_minor": 0
      },
      "text/plain": [
       "model.safetensors:   0%|          | 0.00/451M [00:00<?, ?B/s]"
      ]
     },
     "metadata": {},
     "output_type": "display_data"
    }
   ],
   "source": [
    "loss_prev = torch.inf\n",
    "loss_ft = 1e100\n",
    "n_epochs = 5\n",
    "n_shots = 5\n",
    "\n",
    "knn = KNeighborsClassifier(n_neighbors=5)\n",
    "\n",
    "best_f1 = -1\n",
    "history = []\n",
    "\n",
    "for epoch in range(n_epochs):\n",
    "    \n",
    "\n",
    "    loss_prev = loss_ft\n",
    "    loss_ft = 0\n",
    "    total_points = 0\n",
    "    for document_idx in tqdm(range(n_shots)):\n",
    "        means = {}\n",
    "        covs = {}\n",
    "        X_p = 0\n",
    "        s_X = 0\n",
    "        n_p = 0\n",
    "\n",
    "        size = support_df[document_idx]['labels'].shape[1]\n",
    "        input = support_df[document_idx]\n",
    "\n",
    "        out = model(\n",
    "            input_ids=input['input_ids'].reshape(1,-1), \n",
    "            bbox= input['bbox'].reshape([1, 512, 4]),\n",
    "            attention_mask=input['attention_mask'].reshape(1,-1), \n",
    "            token_type_ids=input['token_type_ids'].reshape(1,-1),\n",
    "        )\n",
    "\n",
    "        for i in range(size):\n",
    "            if support_df[document_idx]['labels'][:,i] == -100:\n",
    "                continue\n",
    "            mu_i = f_mean(out.last_hidden_state[:,i,:])\n",
    "            cov_i = f_cov(out.last_hidden_state[:,i, :])\n",
    "\n",
    "            means[i] = mu_i\n",
    "            covs[i] = cov_i\n",
    "\n",
    "        del out\n",
    "\n",
    "        for i in range(size):\n",
    "            if support_df[document_idx]['labels'][:,i] == -100:\n",
    "                continue\n",
    "\n",
    "            total_points+= 1\n",
    "            for j in range(i+1, size):\n",
    "                if support_df[document_idx]['labels'][:,j] == -100:\n",
    "                    continue\n",
    "\n",
    "                # mu_i = f_mean(out.last_hidden_state[:,i,:])\n",
    "                # cov_i = f_cov(out.last_hidden_state[:,i, :])\n",
    "                # mu_j = f_mean(out.last_hidden_state[:,j,:])\n",
    "                # cov_j = f_cov(out.last_hidden_state[:,j, :])\n",
    "                mu_i = means[i]\n",
    "                cov_i = covs[i]\n",
    "                mu_j = means[j]\n",
    "                cov_j = covs[j]\n",
    "                d_ij = 1/2 * (KL_div(mu_i, mu_j, cov_i, cov_j) + KL_div(mu_j, mu_i, cov_j, cov_i))\n",
    "\n",
    "                if support_df[document_idx]['labels'][:,i] == support_df[document_idx]['labels'][:,j]:\n",
    "                    X_p += torch.exp(-d_ij)\n",
    "                    n_p += 1\n",
    "\n",
    "                s_X += torch.exp(-d_ij)\n",
    "\n",
    "        del means\n",
    "        del covs\n",
    "\n",
    "        loss_ft -= torch.log(X_p / n_p / s_X)\n",
    "        \n",
    "\n",
    "    loss_ft = loss_ft/total_points\n",
    "    clear_output()\n",
    "    print(f\"epoch {epoch}\")\n",
    "    print(f\"loss: {loss_ft.item()}\")\n",
    "\n",
    "    loss_ft.backward()\n",
    "\n",
    "    optimizer_support.step()\n",
    "\n",
    "    optimizer_support.zero_grad()\n",
    "\n",
    "    # validation\n",
    "    print(\"running validation\")\n",
    "    \n",
    "    with torch.no_grad():\n",
    "        h = []\n",
    "        y = []\n",
    "        for document_idx in tqdm(range(n_shots)):\n",
    "            \n",
    "\n",
    "            X_p = 0\n",
    "            s_X = 0\n",
    "            n_p = 0\n",
    "\n",
    "            size = support_df[document_idx]['labels'].shape[1]\n",
    "            input = support_df[document_idx]\n",
    "\n",
    "            out = model(\n",
    "                input_ids=input['input_ids'].reshape(1,-1), \n",
    "                bbox= input['bbox'].reshape([1, 512, 4]),\n",
    "                attention_mask=input['attention_mask'].reshape(1,-1), \n",
    "                token_type_ids=input['token_type_ids'].reshape(1,-1),\n",
    "            )\n",
    "\n",
    "            for i in range(size):\n",
    "                if support_df[document_idx]['labels'][:,i] == -100:\n",
    "                    continue\n",
    "                v = out\\\n",
    "                    .last_hidden_state[:,i,:]\\\n",
    "                    .cpu()\\\n",
    "                    .numpy()\\\n",
    "                    .reshape(-1)\n",
    "                \n",
    "                label = support_df[document_idx]['labels'][:,i].item()\n",
    "                \n",
    "                h.append(v)\n",
    "                y.append(label)\n",
    "\n",
    "        knn.fit(h,y)\n",
    "        h = []\n",
    "        y = []\n",
    "        for document_idx in tqdm(range(n_shots, n_shots+100)):\n",
    "            \n",
    "\n",
    "            \n",
    "            size = val_df[document_idx]['labels'].shape[1]\n",
    "            input = val_df[document_idx]\n",
    "\n",
    "            out = model(\n",
    "                input_ids=input['input_ids'].reshape(1,-1), \n",
    "                bbox= input['bbox'].reshape([1, 512, 4]),\n",
    "                attention_mask=input['attention_mask'].reshape(1,-1), \n",
    "                token_type_ids=input['token_type_ids'].reshape(1,-1),\n",
    "            )\n",
    "\n",
    "            for i in range(size):\n",
    "                if val_df[document_idx]['labels'][:,i] == -100:\n",
    "                    continue\n",
    "                v = out\\\n",
    "                    .last_hidden_state[:,i,:]\\\n",
    "                    .cpu()\\\n",
    "                    .numpy()\\\n",
    "                    .reshape(-1)\n",
    "                \n",
    "                label = val_df[document_idx]['labels'][:,i].item()\n",
    "                \n",
    "                h.append(v)\n",
    "                y.append(label)\n",
    "\n",
    "        pred = knn.predict(h)\n",
    "        f1= f1_score(y, pred, average='micro')\n",
    "        conf_matrix = confusion_matrix(y, pred)\n",
    "\n",
    "        print(f\"f1: {f1}\")\n",
    "        print(conf_matrix)\n",
    "\n",
    "        history.append(f1)\n",
    "        if f1 > best_f1:\n",
    "            best_model = deepcopy(model)\n",
    "            best_f1 = f1\n",
    "\n",
    "\n",
    "best_model.push_to_hub(f\"peulsilva/container-source-funsd-sroie-{n_shots}shots\")\n",
    "torch.save(f_mean.state_dict(), f\"/Data/pedro.silva/f_mean_funsd-{n_shots}.pt\")\n",
    "torch.save(f_cov.state_dict(), f\"/Data/pedro.silva/f_cov_funsd-{n_shots}.pt\")\n"
   ]
  },
  {
   "cell_type": "code",
   "execution_count": 44,
   "metadata": {},
   "outputs": [
    {
     "data": {
      "text/plain": [
       "[<matplotlib.lines.Line2D at 0x7f26fe0b3e80>]"
      ]
     },
     "execution_count": 44,
     "metadata": {},
     "output_type": "execute_result"
    },
    {
     "data": {
      "image/png": "[encoded data removed]",
      "text/plain": [
       "<Figure size 640x480 with 1 Axes>"
      ]
     },
     "metadata": {},
     "output_type": "display_data"
    }
   ],
   "source": [
    "plt.plot(history)"
   ]
  },
  {
   "cell_type": "code",
   "execution_count": 45,
   "metadata": {},
   "outputs": [
    {
     "data": {
      "text/plain": [
       "tensor([-100], device='cuda:0')"
      ]
     },
     "execution_count": 45,
     "metadata": {},
     "output_type": "execute_result"
    }
   ],
   "source": [
    "val_df[0]['labels'][:,0]"
   ]
  },
  {
   "cell_type": "code",
   "execution_count": 46,
   "metadata": {},
   "outputs": [
    {
     "data": {
      "text/plain": [
       "[0,\n",
       " 0,\n",
       " 0,\n",
       " 1,\n",
       " 2,\n",
       " 2,\n",
       " 2,\n",
       " 2,\n",
       " 2,\n",
       " 2,\n",
       " 5,\n",
       " 6,\n",
       " 6,\n",
       " 6,\n",
       " 6,\n",
       " 6,\n",
       " 6,\n",
       " 6,\n",
       " 6,\n",
       " 6,\n",
       " 6,\n",
       " 6,\n",
       " 6,\n",
       " 6,\n",
       " 0,\n",
       " 0,\n",
       " 0,\n",
       " 0,\n",
       " 0,\n",
       " 0,\n",
       " 3,\n",
       " 0,\n",
       " 0,\n",
       " 0,\n",
       " 0,\n",
       " 0,\n",
       " 0,\n",
       " 0,\n",
       " 0,\n",
       " 0,\n",
       " 0,\n",
       " 0,\n",
       " 0,\n",
       " 0,\n",
       " 0,\n",
       " 0,\n",
       " 0,\n",
       " 0,\n",
       " 0,\n",
       " 0,\n",
       " 0,\n",
       " 0,\n",
       " 0,\n",
       " 0,\n",
       " 0,\n",
       " 7,\n",
       " 0,\n",
       " 0,\n",
       " 0,\n",
       " 0,\n",
       " 0,\n",
       " 0,\n",
       " 0,\n",
       " 0,\n",
       " 0,\n",
       " 0,\n",
       " 0,\n",
       " 0,\n",
       " 0,\n",
       " 0,\n",
       " 0,\n",
       " 0,\n",
       " 0,\n",
       " 0,\n",
       " 0,\n",
       " 0,\n",
       " 0,\n",
       " 0,\n",
       " 0,\n",
       " 0,\n",
       " 0,\n",
       " 0,\n",
       " 0,\n",
       " 0,\n",
       " 0,\n",
       " 0,\n",
       " 0,\n",
       " 0,\n",
       " 0]"
      ]
     },
     "execution_count": 46,
     "metadata": {},
     "output_type": "execute_result"
    }
   ],
   "source": [
    "support_dataset['train']['ner_tags'][0]"
   ]
  },
  {
   "cell_type": "markdown",
   "metadata": {},
   "source": [
    "## Evaluation"
   ]
  },
  {
   "cell_type": "code",
   "execution_count": 47,
   "metadata": {},
   "outputs": [
    {
     "name": "stderr",
     "output_type": "stream",
     "text": [
      "  0%|          | 0/347 [00:00<?, ?it/s]"
     ]
    },
    {
     "name": "stderr",
     "output_type": "stream",
     "text": [
      "100%|██████████| 347/347 [00:02<00:00, 145.39it/s]\n"
     ]
    }
   ],
   "source": [
    "test_df = ImageLayoutDataset(\n",
    "    support_dataset['test'],\n",
    "    tokenizer,\n",
    "    tokenize_all_labels=True,\n",
    "    valid_labels_keymap=valid_labels_funsd\n",
    ")"
   ]
  },
  {
   "cell_type": "code",
   "execution_count": 48,
   "metadata": {},
   "outputs": [
    {
     "name": "stderr",
     "output_type": "stream",
     "text": [
      "  0%|          | 0/5 [00:00<?, ?it/s]"
     ]
    },
    {
     "name": "stderr",
     "output_type": "stream",
     "text": [
      "100%|██████████| 5/5 [00:00<00:00, 25.48it/s]\n",
      "100%|██████████| 347/347 [00:15<00:00, 23.09it/s]\n"
     ]
    },
    {
     "name": "stdout",
     "output_type": "stream",
     "text": [
      "f1: 0.8552044925974247\n",
      "[[66045  1529     3  6130     0]\n",
      " [  552  2267     2    86     0]\n",
      " [ 1550    57     0    93     0]\n",
      " [  666   964     0  7070     0]\n",
      " [ 1131     0     0     0     0]]\n"
     ]
    }
   ],
   "source": [
    "with torch.no_grad():\n",
    "    h = []\n",
    "    y = []\n",
    "    for document_idx in tqdm(range(n_shots)):\n",
    "\n",
    "        X_p = 0\n",
    "        s_X = 0\n",
    "        n_p = 0\n",
    "\n",
    "        size = support_df[document_idx]['labels'].shape[1]\n",
    "        input = support_df[document_idx]\n",
    "\n",
    "        out = model(\n",
    "            input_ids=input['input_ids'].reshape(1,-1), \n",
    "            bbox= input['bbox'].reshape([1, 512, 4]),\n",
    "            attention_mask=input['attention_mask'].reshape(1,-1), \n",
    "            token_type_ids=input['token_type_ids'].reshape(1,-1),\n",
    "        )\n",
    "\n",
    "        for i in range(size):\n",
    "            if support_df[document_idx]['labels'][:,i] == -100:\n",
    "                continue\n",
    "            v = out\\\n",
    "                .last_hidden_state[:,i,:]\\\n",
    "                .cpu()\\\n",
    "                .numpy()\\\n",
    "                .reshape(-1)\n",
    "            \n",
    "            label = support_df[document_idx]['labels'][:,i].item()\n",
    "            \n",
    "            h.append(v)\n",
    "            y.append(label)\n",
    "\n",
    "    knn.fit(h,y)\n",
    "\n",
    "    h = []\n",
    "    y = []\n",
    "    for document_idx in tqdm((range(len(test_df)))):\n",
    "    \n",
    "\n",
    "        X_p = 0\n",
    "        s_X = 0\n",
    "        n_p = 0\n",
    "\n",
    "        size = test_df[document_idx]['labels'].shape[1]\n",
    "        input = test_df[document_idx]\n",
    "\n",
    "        out = model(\n",
    "            input_ids=input['input_ids'].reshape(1,-1), \n",
    "            bbox= input['bbox'].reshape([1, 512, 4]),\n",
    "            attention_mask=input['attention_mask'].reshape(1,-1), \n",
    "            token_type_ids=input['token_type_ids'].reshape(1,-1),\n",
    "        )\n",
    "\n",
    "        for i in range(size):\n",
    "            if test_df[document_idx]['labels'][:,i] == -100:\n",
    "                continue\n",
    "            v = out\\\n",
    "                .last_hidden_state[:,i,:]\\\n",
    "                .cpu()\\\n",
    "                .numpy()\\\n",
    "                .reshape(-1)\n",
    "            \n",
    "            label = test_df[document_idx]['labels'][:,i].item()\n",
    "            \n",
    "            h.append(v)\n",
    "            y.append(label)\n",
    "\n",
    "    pred = knn.predict(h)\n",
    "    f1= f1_score(y, pred, average='micro')\n",
    "    conf_matrix = confusion_matrix(y, pred)\n",
    "\n",
    "    print(f\"f1: {f1}\")\n",
    "    print(conf_matrix)"
   ]
  },
  {
   "cell_type": "code",
   "execution_count": null,
   "metadata": {},
   "outputs": [],
   "source": []
  },
  {
   "cell_type": "markdown",
   "metadata": {},
   "source": [
    "## Few shot learning on support domain - 10 shots"
   ]
  },
  {
   "cell_type": "code",
   "execution_count": 21,
   "metadata": {},
   "outputs": [
    {
     "data": {
      "text/plain": [
       "['O',\n",
       " 'B-HEADER',\n",
       " 'I-HEADER',\n",
       " 'B-QUESTION',\n",
       " 'I-QUESTION',\n",
       " 'B-ANSWER',\n",
       " 'I-ANSWER']"
      ]
     },
     "execution_count": 21,
     "metadata": {},
     "output_type": "execute_result"
    }
   ],
   "source": [
    "support_dataset['train'].features['ner_tags'].feature.names"
   ]
  },
  {
   "cell_type": "code",
   "execution_count": 22,
   "metadata": {},
   "outputs": [
    {
     "name": "stderr",
     "output_type": "stream",
     "text": [
      "  0%|          | 0/149 [00:00<?, ?it/s]"
     ]
    },
    {
     "name": "stderr",
     "output_type": "stream",
     "text": [
      "100%|██████████| 149/149 [00:01<00:00, 131.71it/s]\n"
     ]
    }
   ],
   "source": [
    "n_shots = 10\n",
    "valid_labels_funsd = {\n",
    "    0: 0,\n",
    "    1:1,\n",
    "    2:1,\n",
    "    3:2,\n",
    "    4:2,\n",
    "    5:3,\n",
    "    6:3\n",
    "}\n",
    "\n",
    "support_df = ImageLayoutDataset(\n",
    "    support_dataset['train'],\n",
    "    tokenizer,\n",
    "    valid_labels_keymap=valid_labels_funsd\n",
    ")"
   ]
  },
  {
   "cell_type": "code",
   "execution_count": 23,
   "metadata": {},
   "outputs": [],
   "source": [
    "input_dim = 768\n",
    "output_dim = 64\n",
    "\n",
    "f_mean = F_mean(\n",
    "    input_dim,\n",
    "    output_dim\n",
    ")\n",
    "\n",
    "f_cov = F_cov(\n",
    "    input_dim,\n",
    "    output_dim\n",
    ")\n",
    "\n",
    "f_mean.load_state_dict(torch.load(checkpoint_f_mean))\n",
    "f_cov.load_state_dict(torch.load(checkpoint_f_cov))\n",
    "\n",
    "model =AutoModel.from_pretrained(\n",
    "    checkpoint_llm,\n",
    "    cache_dir = '/Data/pedro.silva/'\n",
    ").to(device)"
   ]
  },
  {
   "cell_type": "code",
   "execution_count": 24,
   "metadata": {},
   "outputs": [],
   "source": [
    "params = list(f_mean.parameters()) + list(f_cov.parameters()) + list(model.parameters())\n",
    "optimizer_support = torch.optim.Adam(\n",
    "    params,\n",
    "    lr = 1e-4\n",
    ")"
   ]
  },
  {
   "cell_type": "code",
   "execution_count": 25,
   "metadata": {},
   "outputs": [
    {
     "data": {
      "text/plain": [
       "True"
      ]
     },
     "execution_count": 25,
     "metadata": {},
     "output_type": "execute_result"
    }
   ],
   "source": [
    "loss_prev = torch.inf\n",
    "loss_ft = 1e100\n",
    "loss_ft < loss_prev"
   ]
  },
  {
   "cell_type": "code",
   "execution_count": 26,
   "metadata": {},
   "outputs": [
    {
     "name": "stderr",
     "output_type": "stream",
     "text": [
      "  0%|          | 0/149 [00:00<?, ?it/s]"
     ]
    },
    {
     "name": "stderr",
     "output_type": "stream",
     "text": [
      "100%|██████████| 149/149 [00:01<00:00, 137.94it/s]\n"
     ]
    }
   ],
   "source": [
    "val_df = ImageLayoutDataset(\n",
    "    support_dataset['train'],\n",
    "    tokenizer,\n",
    "    tokenize_all_labels=True,\n",
    "    valid_labels_keymap=valid_labels_funsd\n",
    ")"
   ]
  },
  {
   "cell_type": "code",
   "execution_count": 27,
   "metadata": {},
   "outputs": [
    {
     "name": "stdout",
     "output_type": "stream",
     "text": [
      "epoch 9\n",
      "loss: 0.05265926569700241\n",
      "running validation\n"
     ]
    },
    {
     "name": "stderr",
     "output_type": "stream",
     "text": [
      "100%|██████████| 10/10 [00:02<00:00,  4.51it/s]\n",
      "100%|██████████| 100/100 [00:04<00:00, 23.60it/s]\n"
     ]
    },
    {
     "name": "stdout",
     "output_type": "stream",
     "text": [
      "f1: 0.4387384269274033\n",
      "[[ 783  318  994 1662]\n",
      " [ 130  504  320  293]\n",
      " [1307  667 2424 3164]\n",
      " [1530  461 2127 6430]]\n"
     ]
    },
    {
     "data": {
      "application/vnd.jupyter.widget-view+json": {
       "model_id": "70b036725b4d4b468da638d2e365acf2",
       "version_major": 2,
       "version_minor": 0
      },
      "text/plain": [
       "model.safetensors:   0%|          | 0.00/451M [00:00<?, ?B/s]"
      ]
     },
     "metadata": {},
     "output_type": "display_data"
    }
   ],
   "source": [
    "loss_prev = torch.inf\n",
    "loss_ft = 1e100\n",
    "n_epochs = 10\n",
    "n_shots = 10\n",
    "\n",
    "knn = KNeighborsClassifier(n_neighbors=5)\n",
    "\n",
    "best_f1 = -1\n",
    "history = []\n",
    "\n",
    "for epoch in range(n_epochs):\n",
    "    \n",
    "\n",
    "    loss_prev = loss_ft\n",
    "    loss_ft = 0\n",
    "    total_points = 0\n",
    "    for document_idx in tqdm(range(n_shots)):\n",
    "        means = {}\n",
    "        covs = {}\n",
    "        X_p = 0\n",
    "        s_X = 0\n",
    "        n_p = 0\n",
    "\n",
    "        size = support_df[document_idx]['labels'].shape[1]\n",
    "        input = support_df[document_idx]\n",
    "\n",
    "        out = model(\n",
    "            input_ids=input['input_ids'].reshape(1,-1), \n",
    "            bbox= input['bbox'].reshape([1, 512, 4]),\n",
    "            attention_mask=input['attention_mask'].reshape(1,-1), \n",
    "            token_type_ids=input['token_type_ids'].reshape(1,-1),\n",
    "        )\n",
    "\n",
    "        for i in range(size):\n",
    "            if support_df[document_idx]['labels'][:,i] == -100:\n",
    "                continue\n",
    "            mu_i = f_mean(out.last_hidden_state[:,i,:])\n",
    "            cov_i = f_cov(out.last_hidden_state[:,i, :])\n",
    "\n",
    "            means[i] = mu_i\n",
    "            covs[i] = cov_i\n",
    "\n",
    "        del out\n",
    "\n",
    "        for i in range(size):\n",
    "            if support_df[document_idx]['labels'][:,i] == -100:\n",
    "                continue\n",
    "\n",
    "            total_points+= 1\n",
    "            for j in range(i+1, size):\n",
    "                if support_df[document_idx]['labels'][:,j] == -100:\n",
    "                    continue\n",
    "\n",
    "                # mu_i = f_mean(out.last_hidden_state[:,i,:])\n",
    "                # cov_i = f_cov(out.last_hidden_state[:,i, :])\n",
    "                # mu_j = f_mean(out.last_hidden_state[:,j,:])\n",
    "                # cov_j = f_cov(out.last_hidden_state[:,j, :])\n",
    "                mu_i = means[i]\n",
    "                cov_i = covs[i]\n",
    "                mu_j = means[j]\n",
    "                cov_j = covs[j]\n",
    "                d_ij = 1/2 * (KL_div(mu_i, mu_j, cov_i, cov_j) + KL_div(mu_j, mu_i, cov_j, cov_i))\n",
    "\n",
    "                if support_df[document_idx]['labels'][:,i] == support_df[document_idx]['labels'][:,j]:\n",
    "                    X_p += torch.exp(-d_ij)\n",
    "                    n_p += 1\n",
    "\n",
    "                s_X += torch.exp(-d_ij)\n",
    "\n",
    "        del means\n",
    "        del covs\n",
    "\n",
    "        loss_ft -= torch.log(X_p / n_p / s_X)\n",
    "        \n",
    "\n",
    "    loss_ft = loss_ft/total_points\n",
    "    clear_output()\n",
    "    print(f\"epoch {epoch}\")\n",
    "    print(f\"loss: {loss_ft.item()}\")\n",
    "\n",
    "    loss_ft.backward()\n",
    "\n",
    "    optimizer_support.step()\n",
    "\n",
    "    optimizer_support.zero_grad()\n",
    "\n",
    "    # validation\n",
    "    print(\"running validation\")\n",
    "    \n",
    "    with torch.no_grad():\n",
    "        h = []\n",
    "        y = []\n",
    "        for document_idx in tqdm(range(n_shots)):\n",
    "            \n",
    "\n",
    "            X_p = 0\n",
    "            s_X = 0\n",
    "            n_p = 0\n",
    "\n",
    "            size = support_df[document_idx]['labels'].shape[1]\n",
    "            input = support_df[document_idx]\n",
    "\n",
    "            out = model(\n",
    "                input_ids=input['input_ids'].reshape(1,-1), \n",
    "                bbox= input['bbox'].reshape([1, 512, 4]),\n",
    "                attention_mask=input['attention_mask'].reshape(1,-1), \n",
    "                token_type_ids=input['token_type_ids'].reshape(1,-1),\n",
    "            )\n",
    "\n",
    "            for i in range(size):\n",
    "                if support_df[document_idx]['labels'][:,i] == -100:\n",
    "                    continue\n",
    "                v = out\\\n",
    "                    .last_hidden_state[:,i,:]\\\n",
    "                    .cpu()\\\n",
    "                    .numpy()\\\n",
    "                    .reshape(-1)\n",
    "                \n",
    "                label = support_df[document_idx]['labels'][:,i].item()\n",
    "                \n",
    "                h.append(v)\n",
    "                y.append(label)\n",
    "\n",
    "        knn.fit(h,y)\n",
    "        h = []\n",
    "        y = []\n",
    "        for document_idx in tqdm(range(n_shots, n_shots+100)):\n",
    "            \n",
    "\n",
    "            \n",
    "            size = val_df[document_idx]['labels'].shape[1]\n",
    "            input = val_df[document_idx]\n",
    "\n",
    "            out = model(\n",
    "                input_ids=input['input_ids'].reshape(1,-1), \n",
    "                bbox= input['bbox'].reshape([1, 512, 4]),\n",
    "                attention_mask=input['attention_mask'].reshape(1,-1), \n",
    "                token_type_ids=input['token_type_ids'].reshape(1,-1),\n",
    "            )\n",
    "\n",
    "            for i in range(size):\n",
    "                if val_df[document_idx]['labels'][:,i] == -100:\n",
    "                    continue\n",
    "                v = out\\\n",
    "                    .last_hidden_state[:,i,:]\\\n",
    "                    .cpu()\\\n",
    "                    .numpy()\\\n",
    "                    .reshape(-1)\n",
    "                \n",
    "                label = val_df[document_idx]['labels'][:,i].item()\n",
    "                \n",
    "                h.append(v)\n",
    "                y.append(label)\n",
    "\n",
    "        pred = knn.predict(h)\n",
    "        f1= f1_score(y, pred, average='micro')\n",
    "        conf_matrix = confusion_matrix(y, pred)\n",
    "\n",
    "        print(f\"f1: {f1}\")\n",
    "        print(conf_matrix)\n",
    "\n",
    "        history.append(f1)\n",
    "        if f1 > best_f1:\n",
    "            best_model = deepcopy(model)\n",
    "            best_f1 = f1\n",
    "\n",
    "\n",
    "best_model.push_to_hub(f\"peulsilva/container-source-sroie-funsd-{n_shots}shots\")\n",
    "torch.save(f_mean.state_dict(), f\"/Data/pedro.silva/f_mean_sroie-{n_shots}.pt\")\n",
    "torch.save(f_cov.state_dict(), f\"/Data/pedro.silva/f_cov_sroie-{n_shots}.pt\")\n"
   ]
  },
  {
   "cell_type": "code",
   "execution_count": 28,
   "metadata": {},
   "outputs": [
    {
     "data": {
      "text/plain": [
       "[<matplotlib.lines.Line2D at 0x7f48f2288b20>]"
      ]
     },
     "execution_count": 28,
     "metadata": {},
     "output_type": "execute_result"
    },
    {
     "data": {
      "image/png": "[encoded data removed]",
      "text/plain": [
       "<Figure size 640x480 with 1 Axes>"
      ]
     },
     "metadata": {},
     "output_type": "display_data"
    }
   ],
   "source": [
    "plt.plot(history)"
   ]
  },
  {
   "cell_type": "code",
   "execution_count": 29,
   "metadata": {},
   "outputs": [
    {
     "data": {
      "text/plain": [
       "tensor([-100], device='cuda:0')"
      ]
     },
     "execution_count": 29,
     "metadata": {},
     "output_type": "execute_result"
    }
   ],
   "source": [
    "val_df[0]['labels'][:,0]"
   ]
  },
  {
   "cell_type": "code",
   "execution_count": 30,
   "metadata": {},
   "outputs": [
    {
     "data": {
      "text/plain": [
       "[0,\n",
       " 3,\n",
       " 3,\n",
       " 3,\n",
       " 5,\n",
       " 3,\n",
       " 3,\n",
       " 0,\n",
       " 1,\n",
       " 2,\n",
       " 2,\n",
       " 2,\n",
       " 2,\n",
       " 2,\n",
       " 3,\n",
       " 4,\n",
       " 4,\n",
       " 4,\n",
       " 4,\n",
       " 5,\n",
       " 6,\n",
       " 6,\n",
       " 6,\n",
       " 6,\n",
       " 6,\n",
       " 5,\n",
       " 6,\n",
       " 6,\n",
       " 3,\n",
       " 4,\n",
       " 5,\n",
       " 6,\n",
       " 6,\n",
       " 3,\n",
       " 4,\n",
       " 4,\n",
       " 5,\n",
       " 6,\n",
       " 6,\n",
       " 6,\n",
       " 6,\n",
       " 6,\n",
       " 6,\n",
       " 6,\n",
       " 6,\n",
       " 6,\n",
       " 6,\n",
       " 6,\n",
       " 6,\n",
       " 6,\n",
       " 6,\n",
       " 6,\n",
       " 6,\n",
       " 6,\n",
       " 6,\n",
       " 6,\n",
       " 6,\n",
       " 6,\n",
       " 6,\n",
       " 6,\n",
       " 6,\n",
       " 6,\n",
       " 6,\n",
       " 6,\n",
       " 6,\n",
       " 6,\n",
       " 6,\n",
       " 6,\n",
       " 6,\n",
       " 6,\n",
       " 6,\n",
       " 6,\n",
       " 6,\n",
       " 6,\n",
       " 6,\n",
       " 6,\n",
       " 6,\n",
       " 6,\n",
       " 6,\n",
       " 6,\n",
       " 6,\n",
       " 6,\n",
       " 6,\n",
       " 6,\n",
       " 6,\n",
       " 6,\n",
       " 6,\n",
       " 6,\n",
       " 6,\n",
       " 6,\n",
       " 3,\n",
       " 4,\n",
       " 4,\n",
       " 4,\n",
       " 5,\n",
       " 6,\n",
       " 6,\n",
       " 6,\n",
       " 6,\n",
       " 6,\n",
       " 6,\n",
       " 6,\n",
       " 6,\n",
       " 6,\n",
       " 6,\n",
       " 6,\n",
       " 6,\n",
       " 6,\n",
       " 6,\n",
       " 6,\n",
       " 6,\n",
       " 6,\n",
       " 6,\n",
       " 6,\n",
       " 6,\n",
       " 6,\n",
       " 6,\n",
       " 6,\n",
       " 6,\n",
       " 6,\n",
       " 6,\n",
       " 6,\n",
       " 6,\n",
       " 1,\n",
       " 2,\n",
       " 2,\n",
       " 2,\n",
       " 2,\n",
       " 2,\n",
       " 3,\n",
       " 4,\n",
       " 5,\n",
       " 6,\n",
       " 6,\n",
       " 6,\n",
       " 6,\n",
       " 6,\n",
       " 5,\n",
       " 6,\n",
       " 6,\n",
       " 6,\n",
       " 6,\n",
       " 0,\n",
       " 0,\n",
       " 0]"
      ]
     },
     "execution_count": 30,
     "metadata": {},
     "output_type": "execute_result"
    }
   ],
   "source": [
    "support_dataset['train']['ner_tags'][0]"
   ]
  },
  {
   "cell_type": "markdown",
   "metadata": {},
   "source": [
    "## Evaluation"
   ]
  },
  {
   "cell_type": "code",
   "execution_count": 31,
   "metadata": {},
   "outputs": [
    {
     "name": "stderr",
     "output_type": "stream",
     "text": [
      "  0%|          | 0/50 [00:00<?, ?it/s]"
     ]
    },
    {
     "name": "stderr",
     "output_type": "stream",
     "text": [
      "100%|██████████| 50/50 [00:00<00:00, 101.79it/s]\n"
     ]
    }
   ],
   "source": [
    "test_df = ImageLayoutDataset(\n",
    "    support_dataset['test'],\n",
    "    tokenizer,\n",
    "    tokenize_all_labels=True,\n",
    "    valid_labels_keymap=valid_labels_funsd\n",
    ")"
   ]
  },
  {
   "cell_type": "code",
   "execution_count": 32,
   "metadata": {},
   "outputs": [
    {
     "name": "stderr",
     "output_type": "stream",
     "text": [
      "100%|██████████| 10/10 [00:00<00:00, 24.33it/s]\n",
      "100%|██████████| 50/50 [00:02<00:00, 22.88it/s]\n"
     ]
    },
    {
     "name": "stdout",
     "output_type": "stream",
     "text": [
      "f1: 0.44657361406829116\n",
      "[[1244  292  747 1145]\n",
      " [  83  211   97  116]\n",
      " [ 561  339 1073 1681]\n",
      " [ 829  176  952 3135]]\n"
     ]
    }
   ],
   "source": [
    "with torch.no_grad():\n",
    "    h = []\n",
    "    y = []\n",
    "    for document_idx in tqdm(range(n_shots)):\n",
    "\n",
    "        X_p = 0\n",
    "        s_X = 0\n",
    "        n_p = 0\n",
    "\n",
    "        size = support_df[document_idx]['labels'].shape[1]\n",
    "        input = support_df[document_idx]\n",
    "\n",
    "        out = model(\n",
    "            input_ids=input['input_ids'].reshape(1,-1), \n",
    "            bbox= input['bbox'].reshape([1, 512, 4]),\n",
    "            attention_mask=input['attention_mask'].reshape(1,-1), \n",
    "            token_type_ids=input['token_type_ids'].reshape(1,-1),\n",
    "        )\n",
    "\n",
    "        for i in range(size):\n",
    "            if support_df[document_idx]['labels'][:,i] == -100:\n",
    "                continue\n",
    "            v = out\\\n",
    "                .last_hidden_state[:,i,:]\\\n",
    "                .cpu()\\\n",
    "                .numpy()\\\n",
    "                .reshape(-1)\n",
    "            \n",
    "            label = support_df[document_idx]['labels'][:,i].item()\n",
    "            \n",
    "            h.append(v)\n",
    "            y.append(label)\n",
    "\n",
    "    knn.fit(h,y)\n",
    "\n",
    "    h = []\n",
    "    y = []\n",
    "    for document_idx in tqdm((range(len(test_df)))):\n",
    "    \n",
    "\n",
    "        X_p = 0\n",
    "        s_X = 0\n",
    "        n_p = 0\n",
    "\n",
    "        size = test_df[document_idx]['labels'].shape[1]\n",
    "        input = test_df[document_idx]\n",
    "\n",
    "        out = model(\n",
    "            input_ids=input['input_ids'].reshape(1,-1), \n",
    "            bbox= input['bbox'].reshape([1, 512, 4]),\n",
    "            attention_mask=input['attention_mask'].reshape(1,-1), \n",
    "            token_type_ids=input['token_type_ids'].reshape(1,-1),\n",
    "        )\n",
    "\n",
    "        for i in range(size):\n",
    "            if test_df[document_idx]['labels'][:,i] == -100:\n",
    "                continue\n",
    "            v = out\\\n",
    "                .last_hidden_state[:,i,:]\\\n",
    "                .cpu()\\\n",
    "                .numpy()\\\n",
    "                .reshape(-1)\n",
    "            \n",
    "            label = test_df[document_idx]['labels'][:,i].item()\n",
    "            \n",
    "            h.append(v)\n",
    "            y.append(label)\n",
    "\n",
    "    pred = knn.predict(h)\n",
    "    f1= f1_score(y, pred, average='micro')\n",
    "    conf_matrix = confusion_matrix(y, pred)\n",
    "\n",
    "    print(f\"f1: {f1}\")\n",
    "    print(conf_matrix)"
   ]
  },
  {
   "cell_type": "code",
   "execution_count": null,
   "metadata": {},
   "outputs": [],
   "source": []
  }
 ],
 "metadata": {
  "kernelspec": {
   "display_name": ".venv",
   "language": "python",
   "name": "python3"
  },
  "language_info": {
   "codemirror_mode": {
    "name": "ipython",
    "version": 3
   },
   "file_extension": ".py",
   "mimetype": "text/x-python",
   "name": "python",
   "nbconvert_exporter": "python",
   "pygments_lexer": "ipython3",
   "version": "3.9.18"
  }
 },
 "nbformat": 4,
 "nbformat_minor": 2
}
