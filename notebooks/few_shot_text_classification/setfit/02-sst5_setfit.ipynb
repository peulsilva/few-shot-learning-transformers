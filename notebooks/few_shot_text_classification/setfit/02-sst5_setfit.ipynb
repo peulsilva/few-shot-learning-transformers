{
 "cells": [
  {
   "cell_type": "code",
   "execution_count": null,
   "metadata": {},
   "outputs": [],
   "source": []
  },
  {
   "cell_type": "code",
   "execution_count": 1,
   "metadata": {},
   "outputs": [],
   "source": [
    "%load_ext autoreload\n",
    "%autoreload 2"
   ]
  },
  {
   "cell_type": "code",
   "execution_count": 2,
   "metadata": {},
   "outputs": [],
   "source": [
    "import transformers\n",
    "from transformers import AutoTokenizer, AutoModelForSequenceClassification, AutoModel\n",
    "from datasets import load_dataset\n",
    "import torch\n",
    "from torch.nn.functional import cross_entropy\n",
    "import matplotlib.pyplot as plt\n",
    "import numpy as np\n",
    "from tqdm import tqdm\n",
    "import logging\n",
    "from torcheval.metrics.functional import multiclass_f1_score, multiclass_confusion_matrix, binary_f1_score\n",
    "from copy import deepcopy, copy\n",
    "import seaborn as sns\n",
    "import pandas as pd\n",
    "from huggingface_hub import notebook_login\n",
    "from torch.utils.data import DataLoader, Dataset\n",
    "from collections import defaultdict, deque\n",
    "from sklearn.model_selection import train_test_split\n",
    "import random\n",
    "from sentence_transformers import SentenceTransformer, InputExample, losses, evaluation\n",
    "\n",
    "import os \n",
    "while 'notebooks' in os.getcwd():\n",
    "    os.chdir(\"..\")\n",
    "\n",
    "import re\n",
    "from typing import List, Dict\n",
    "    \n",
    "from src.preprocessing.sequence_classification.dataset import get_n_shots_per_class, get_dataloader\n",
    "from src.preprocessing.sequence_classification.set_fit_dataset import SetFitDataset\n",
    "from src.model.sequence_classification.setfit_trainer import SetFitTrainer\n",
    "from src.model.sequence_classification.trainer import SequenceClassificationTrainer\n",
    "import warnings\n",
    "warnings.filterwarnings(\"ignore\")"
   ]
  },
  {
   "cell_type": "code",
   "execution_count": 3,
   "metadata": {},
   "outputs": [
    {
     "name": "stdout",
     "output_type": "stream",
     "text": [
      "mkdir: cannot create directory ‘logs’: File exists\n"
     ]
    }
   ],
   "source": [
    "!mkdir logs\n",
    "model_name = \"SetFit\"\n",
    "dataset_name = \"SST5\"\n",
    "device = \"cuda\" if torch.cuda.is_available() else \"cpu\"\n",
    "# device = \"cpu\"\n",
    "# logging.basicConfig(filename=f'logs/{model_name}_{dataset_name}.log', encoding='utf-8', level= logging.INFO)"
   ]
  },
  {
   "cell_type": "code",
   "execution_count": null,
   "metadata": {},
   "outputs": [],
   "source": []
  },
  {
   "cell_type": "code",
   "execution_count": 4,
   "metadata": {},
   "outputs": [],
   "source": [
    "# model = SentenceTransformer(\"whaleloops/phrase-bert\")"
   ]
  },
  {
   "cell_type": "code",
   "execution_count": 5,
   "metadata": {},
   "outputs": [],
   "source": [
    "try:\n",
    "    from torch.hub import _get_torch_home\n",
    "\n",
    "    torch_cache_home = _get_torch_home()\n",
    "except ImportError:\n",
    "    torch_cache_home = os.path.expanduser(os.getenv('TORCH_HOME', os.path.join(os.getenv('XDG_CACHE_HOME', '~/.cache'), 'torch')))\n",
    "\n",
    "cache_folder = os.path.join(torch_cache_home, 'sentence_transformers')"
   ]
  },
  {
   "cell_type": "code",
   "execution_count": 6,
   "metadata": {},
   "outputs": [
    {
     "data": {
      "text/plain": [
       "'/users/eleves-a/2022/pedro.silva/.cache/torch/sentence_transformers'"
      ]
     },
     "execution_count": 6,
     "metadata": {},
     "output_type": "execute_result"
    }
   ],
   "source": [
    "cache_folder"
   ]
  },
  {
   "cell_type": "markdown",
   "metadata": {},
   "source": [
    "## Loading SST5 data"
   ]
  },
  {
   "cell_type": "code",
   "execution_count": 4,
   "metadata": {},
   "outputs": [
    {
     "name": "stderr",
     "output_type": "stream",
     "text": [
      "Repo card metadata block was not found. Setting CardData to empty.\n"
     ]
    }
   ],
   "source": [
    "sst5_dataset = load_dataset(\"SetFit/sst5\")"
   ]
  },
  {
   "cell_type": "code",
   "execution_count": 5,
   "metadata": {},
   "outputs": [
    {
     "data": {
      "text/plain": [
       "(array([0, 1, 2, 3, 4]), array([1092, 2218, 1624, 2322, 1288]))"
      ]
     },
     "execution_count": 5,
     "metadata": {},
     "output_type": "execute_result"
    }
   ],
   "source": [
    "classes = np.unique(sst5_dataset['train']['label'], return_counts=True)\n",
    "classes"
   ]
  },
  {
   "cell_type": "code",
   "execution_count": 6,
   "metadata": {},
   "outputs": [],
   "source": [
    "num_classes = len(classes[0])"
   ]
  },
  {
   "cell_type": "code",
   "execution_count": 7,
   "metadata": {},
   "outputs": [
    {
     "data": {
      "text/plain": [
       "5"
      ]
     },
     "execution_count": 7,
     "metadata": {},
     "output_type": "execute_result"
    }
   ],
   "source": [
    "num_classes"
   ]
  },
  {
   "cell_type": "code",
   "execution_count": 8,
   "metadata": {},
   "outputs": [
    {
     "data": {
      "text/plain": [
       "8544"
      ]
     },
     "execution_count": 8,
     "metadata": {},
     "output_type": "execute_result"
    }
   ],
   "source": [
    "data_size = len(sst5_dataset['train'])\n",
    "data_size"
   ]
  },
  {
   "cell_type": "code",
   "execution_count": 9,
   "metadata": {},
   "outputs": [],
   "source": [
    "train_text = sst5_dataset['train']['text'][0:data_size*3//5]\n",
    "train_labels = sst5_dataset['train']['label'][0:data_size*3//5]\n",
    "\n",
    "val_text = sst5_dataset['train']['text'][data_size*3//5:]\n",
    "val_labels = sst5_dataset['train']['label'][data_size*3//5:]"
   ]
  },
  {
   "cell_type": "code",
   "execution_count": null,
   "metadata": {},
   "outputs": [],
   "source": []
  },
  {
   "cell_type": "markdown",
   "metadata": {},
   "source": [
    "## Normal Finetune"
   ]
  },
  {
   "cell_type": "code",
   "execution_count": 14,
   "metadata": {},
   "outputs": [
    {
     "name": "stderr",
     "output_type": "stream",
     "text": [
      "Some weights of BertForSequenceClassification were not initialized from the model checkpoint at bert-base-uncased and are newly initialized: ['classifier.weight', 'classifier.bias']\n",
      "You should probably TRAIN this model on a down-stream task to be able to use it for predictions and inference.\n"
     ]
    }
   ],
   "source": [
    "bert = AutoModelForSequenceClassification.from_pretrained(\"bert-base-uncased\", num_labels = num_classes)\\\n",
    "    .to(device)\n",
    "tokenizer = AutoTokenizer.from_pretrained(\"bert-base-uncased\")"
   ]
  },
  {
   "cell_type": "code",
   "execution_count": 15,
   "metadata": {},
   "outputs": [],
   "source": [
    "train_dataloader = get_dataloader(\n",
    "    train_text,\n",
    "    train_labels,\n",
    "    tokenizer,\n",
    "    n_shots = 200,\n",
    "    num_classes= num_classes,\n",
    "    equalize_class=False,\n",
    "    batch_size = 8\n",
    ")\n",
    "\n",
    "val_dataloader = get_dataloader(\n",
    "    val_text,\n",
    "    val_labels,\n",
    "    tokenizer,\n",
    "    n_shots = 100,\n",
    "    equalize_class=False,\n",
    "    num_classes=num_classes\n",
    ")"
   ]
  },
  {
   "cell_type": "code",
   "execution_count": 16,
   "metadata": {},
   "outputs": [
    {
     "data": {
      "text/plain": [
       "{'input_ids': tensor([[  101,  1037, 18385,  ...,     0,     0,     0],\n",
       "         [  101,  4593,  2128,  ...,     0,     0,     0],\n",
       "         [  101,  2027,  3653,  ...,     0,     0,     0],\n",
       "         ...,\n",
       "         [  101,  1998,  2111,  ...,     0,     0,     0],\n",
       "         [  101,  1996,  4616,  ...,     0,     0,     0],\n",
       "         [  101,  1012,  1012,  ...,     0,     0,     0]]),\n",
       " 'attention_mask': tensor([[1, 1, 1,  ..., 0, 0, 0],\n",
       "         [1, 1, 1,  ..., 0, 0, 0],\n",
       "         [1, 1, 1,  ..., 0, 0, 0],\n",
       "         ...,\n",
       "         [1, 1, 1,  ..., 0, 0, 0],\n",
       "         [1, 1, 1,  ..., 0, 0, 0],\n",
       "         [1, 1, 1,  ..., 0, 0, 0]]),\n",
       " 'labels': tensor([4, 1, 1, 2, 3, 2, 3, 3, 1, 4, 1, 1, 3, 1, 1, 4, 3, 3, 1, 4, 0, 1, 1, 4,\n",
       "         1, 2, 1, 2, 0, 3, 4, 1, 4, 1, 2, 1, 2, 2, 3, 2, 3, 3, 2, 2, 3, 1, 2, 2,\n",
       "         2, 2, 1, 1, 4, 3, 3, 2, 3, 3, 1, 4, 0, 3, 3, 3, 4, 1, 2, 3, 4, 4, 2, 0,\n",
       "         3, 0, 3, 2, 4, 2, 3, 4, 3, 3, 3, 4, 1, 0, 0, 2, 4, 3, 1, 4, 3, 3, 4, 2,\n",
       "         4, 3, 1, 1, 2, 1, 1, 4, 1, 1, 1, 1, 4, 2, 3, 4, 0, 3, 4, 3, 1, 3, 3, 2,\n",
       "         3, 3, 3, 1, 1, 1, 3, 3, 1, 1, 3, 1, 1, 3, 2, 3, 1, 1, 1, 4, 2, 3, 2, 3,\n",
       "         2, 4, 0, 0, 1, 2, 3, 3, 2, 2, 2, 0, 3, 2, 4, 3, 4, 1, 3, 1, 1, 2, 0, 2,\n",
       "         2, 4, 2, 2, 4, 1, 0, 1, 0, 1, 3, 2, 0, 3, 3, 0, 3, 4, 4, 1, 4, 3, 4, 3,\n",
       "         3, 0, 4, 1, 2, 1, 3, 0, 2, 1, 1, 1, 1, 3, 0, 4, 4, 1, 0, 1, 0, 4, 4, 4,\n",
       "         2, 3, 3, 1, 1, 3, 2, 1, 3, 3, 1, 4, 4, 2, 4, 2, 2, 2, 4, 0, 1, 3, 2, 3,\n",
       "         3, 4, 0, 1, 4, 1, 2, 3, 4, 0, 4, 1, 4, 3, 1, 2, 4, 2, 4, 4, 4, 1, 1, 3,\n",
       "         1, 3, 0, 1, 1, 3, 3, 0, 0, 2, 3, 3, 4, 2, 4, 3, 1, 1, 4, 3, 3, 1, 0, 1,\n",
       "         3, 3, 2, 3, 3, 3, 3, 3, 1, 3, 4, 0, 2, 0, 2, 0, 2, 2, 0, 3, 0, 2, 2, 1,\n",
       "         3, 3, 4, 0, 0, 3, 2, 3, 3, 1, 4, 0, 4, 3, 1, 0, 3, 1, 4, 4, 0, 1, 3, 0,\n",
       "         4, 1, 0, 3, 3, 3, 3, 2, 3, 3, 4, 0, 4, 2, 3, 3, 2, 3, 1, 2, 1, 0, 0, 2,\n",
       "         3, 3, 4, 2, 1, 2, 3, 2, 1, 1, 0, 3, 1, 1, 4, 0, 3, 3, 1, 3, 1, 1, 1, 1,\n",
       "         3, 3, 0, 4, 2, 2, 2, 1, 0, 0, 0, 4, 4, 2, 3, 3, 4, 2, 1, 1, 0, 0, 2, 2,\n",
       "         4, 3, 3, 3, 1, 1, 0, 2, 3, 0, 1, 1, 3, 0, 3, 3, 3, 1, 2, 3, 0, 3, 1, 2,\n",
       "         2, 3, 3, 2, 3, 1, 1, 0, 2, 2, 4, 2, 3, 1, 0, 3, 0, 3, 4, 3, 1, 2, 1, 0,\n",
       "         1, 0, 3, 1, 1, 4, 2, 2, 1, 0, 1, 1, 0, 4, 2, 1, 3, 4, 3, 4, 3, 1, 3, 1,\n",
       "         4, 1, 3, 1, 2, 3, 3, 1, 1, 3, 2, 1, 1, 1, 0, 3, 4, 3, 2, 3, 3, 2, 1, 2,\n",
       "         3, 0, 2, 4, 4, 1, 4, 0, 1, 1, 2, 2, 2, 0, 3, 1, 3, 2, 0, 4, 4, 0, 2, 2,\n",
       "         1, 3, 3, 1, 4, 3, 2, 3, 3, 0, 0, 2, 1, 4, 2, 3, 2, 2, 0, 0, 1, 3, 1, 3,\n",
       "         1, 3, 2, 0, 1, 1, 3, 3, 3, 1, 2, 3, 0, 1, 0, 1, 4, 3, 3, 1, 3, 1, 1, 0,\n",
       "         2, 1, 1, 0, 4, 0, 2, 0, 2, 2, 1, 3, 4, 1, 2, 3, 0, 1, 1, 1, 3, 1, 3, 0,\n",
       "         1, 3, 3, 0, 2, 0, 4, 2, 1, 3, 3, 1, 2, 3, 3, 0, 3, 1, 1, 3, 3, 3, 3, 4,\n",
       "         2, 4, 2, 3, 3, 1, 4, 3, 2, 3, 3, 1, 1, 1, 1, 1, 2, 1, 2, 4, 4, 1, 0, 2,\n",
       "         1, 3, 3, 0, 4, 1, 3, 1, 2, 1, 2, 3, 1, 4, 3, 1, 0, 4, 3, 0, 4, 1, 1, 3,\n",
       "         1, 3, 1, 1, 0, 1, 1, 4, 2, 2, 1, 4, 2, 4, 2, 2, 1, 1, 4, 3, 3, 4, 1, 1,\n",
       "         1, 3, 4, 0, 0, 1, 3, 2, 3, 4, 1, 4, 3, 4, 1, 0, 4, 2, 4, 2, 1, 1, 2, 1,\n",
       "         1, 2, 3, 1, 4, 2, 0, 0, 1, 1, 3, 3, 2, 2, 4, 2, 0, 3, 4, 3, 1, 1, 3, 3,\n",
       "         1, 2, 2, 3, 4, 4, 0, 1, 3, 0, 0, 0, 3, 2, 2, 1, 1, 3, 3, 4, 0, 2, 3, 4,\n",
       "         3, 3, 1, 1, 4, 3, 3, 1, 1, 4, 3, 3, 2, 3, 2, 3, 1, 4, 4, 4, 3, 3, 2, 3,\n",
       "         1, 2, 1, 1, 2, 3, 3, 0, 0, 1, 3, 3, 0, 0, 1, 4, 1, 4, 1, 3, 1, 1, 4, 1,\n",
       "         0, 3, 1, 3, 3, 3, 2, 4, 4, 3, 4, 3, 4, 3, 1, 3, 1, 4, 0, 4, 4, 1, 4, 2,\n",
       "         4, 1, 2, 0, 0, 2, 2, 1, 2, 0, 1, 1, 3, 2, 3, 0, 3, 0, 3, 1, 3, 1, 3, 3,\n",
       "         1, 0, 4, 0, 1, 4, 4, 3, 3, 0, 4, 0, 4, 4, 3, 1, 3, 2, 2, 3, 3, 1, 1, 3,\n",
       "         3, 3, 1, 3, 2, 3, 3, 4, 3, 3, 1, 1, 1, 2, 1, 4, 2, 2, 0, 3, 4, 2, 0, 2,\n",
       "         4, 2, 3, 4, 2, 1, 1, 4, 4, 2, 0, 1, 1, 1, 0, 3, 0, 0, 3, 3, 3, 3, 3, 2,\n",
       "         3, 1, 0, 3, 0, 1, 2, 3, 4, 1, 3, 2, 3, 0, 3, 3, 0, 3, 1, 3, 3, 3, 2, 1,\n",
       "         2, 1, 4, 1, 0, 4, 4, 1, 1, 3, 3, 2, 1, 3, 4, 1, 1, 3, 2, 1, 1, 0, 3, 0,\n",
       "         0, 1, 1, 1, 0, 2, 0, 4, 4, 0, 1, 1, 1, 1, 2, 1])}"
      ]
     },
     "execution_count": 16,
     "metadata": {},
     "output_type": "execute_result"
    }
   ],
   "source": [
    "train_dataloader.dataset[0:]"
   ]
  },
  {
   "cell_type": "code",
   "execution_count": 17,
   "metadata": {},
   "outputs": [
    {
     "data": {
      "text/plain": [
       "(array([0, 1, 2, 3, 4]), array([132, 261, 174, 279, 154]))"
      ]
     },
     "execution_count": 17,
     "metadata": {},
     "output_type": "execute_result"
    }
   ],
   "source": [
    "np.unique(\n",
    "    train_dataloader.dataset[0:]['labels'],\n",
    "    return_counts= True\n",
    "\n",
    ")"
   ]
  },
  {
   "cell_type": "code",
   "execution_count": null,
   "metadata": {},
   "outputs": [],
   "source": []
  },
  {
   "cell_type": "code",
   "execution_count": 19,
   "metadata": {},
   "outputs": [
    {
     "name": "stderr",
     "output_type": "stream",
     "text": [
      "Some weights of BertForSequenceClassification were not initialized from the model checkpoint at bert-base-uncased and are newly initialized: ['classifier.weight', 'classifier.bias']\n",
      "You should probably TRAIN this model on a down-stream task to be able to use it for predictions and inference.\n",
      "100%|██████████| 500/500 [00:22<00:00, 22.25it/s]\n",
      "100%|██████████| 500/500 [00:22<00:00, 22.20it/s]\n",
      "100%|██████████| 500/500 [00:22<00:00, 22.18it/s]\n",
      "100%|██████████| 500/500 [00:22<00:00, 22.17it/s]\n",
      "100%|██████████| 500/500 [00:22<00:00, 22.14it/s]\n",
      "100%|██████████| 500/500 [00:22<00:00, 22.13it/s]\n",
      "100%|██████████| 500/500 [00:22<00:00, 22.14it/s]\n",
      "100%|██████████| 500/500 [00:22<00:00, 22.14it/s]\n",
      "100%|██████████| 500/500 [00:22<00:00, 22.14it/s]\n",
      "100%|██████████| 500/500 [00:22<00:00, 22.15it/s]\n",
      "Some weights of BertForSequenceClassification were not initialized from the model checkpoint at bert-base-uncased and are newly initialized: ['classifier.weight', 'classifier.bias']\n",
      "You should probably TRAIN this model on a down-stream task to be able to use it for predictions and inference.\n",
      "100%|██████████| 250/250 [00:11<00:00, 22.19it/s]\n",
      "100%|██████████| 250/250 [00:11<00:00, 22.17it/s]\n",
      "100%|██████████| 250/250 [00:11<00:00, 22.19it/s]\n",
      "100%|██████████| 250/250 [00:11<00:00, 22.17it/s]\n",
      "100%|██████████| 250/250 [00:11<00:00, 22.19it/s]\n",
      "100%|██████████| 250/250 [00:11<00:00, 22.16it/s]\n",
      "100%|██████████| 250/250 [00:11<00:00, 22.17it/s]\n",
      "100%|██████████| 250/250 [00:11<00:00, 22.17it/s]\n",
      "100%|██████████| 250/250 [00:11<00:00, 22.20it/s]\n",
      "100%|██████████| 250/250 [00:11<00:00, 22.17it/s]\n",
      "Some weights of BertForSequenceClassification were not initialized from the model checkpoint at bert-base-uncased and are newly initialized: ['classifier.weight', 'classifier.bias']\n",
      "You should probably TRAIN this model on a down-stream task to be able to use it for predictions and inference.\n",
      "100%|██████████| 125/125 [00:05<00:00, 22.26it/s]\n",
      "100%|██████████| 125/125 [00:05<00:00, 22.24it/s]\n",
      "100%|██████████| 125/125 [00:05<00:00, 22.25it/s]\n",
      "100%|██████████| 125/125 [00:05<00:00, 22.25it/s]\n",
      "100%|██████████| 125/125 [00:05<00:00, 22.27it/s]\n",
      "100%|██████████| 125/125 [00:05<00:00, 22.24it/s]\n",
      "100%|██████████| 125/125 [00:05<00:00, 22.27it/s]\n",
      "100%|██████████| 125/125 [00:05<00:00, 22.24it/s]\n",
      "100%|██████████| 125/125 [00:05<00:00, 22.24it/s]\n",
      "100%|██████████| 125/125 [00:05<00:00, 22.25it/s]\n",
      "Some weights of BertForSequenceClassification were not initialized from the model checkpoint at bert-base-uncased and are newly initialized: ['classifier.weight', 'classifier.bias']\n",
      "You should probably TRAIN this model on a down-stream task to be able to use it for predictions and inference.\n",
      "100%|██████████| 60/60 [00:02<00:00, 22.39it/s]\n",
      "100%|██████████| 60/60 [00:02<00:00, 22.40it/s]\n",
      "100%|██████████| 60/60 [00:02<00:00, 22.38it/s]\n",
      "100%|██████████| 60/60 [00:02<00:00, 22.39it/s]\n",
      "100%|██████████| 60/60 [00:02<00:00, 22.38it/s]\n",
      "100%|██████████| 60/60 [00:02<00:00, 22.39it/s]\n",
      "100%|██████████| 60/60 [00:02<00:00, 22.39it/s]\n",
      "100%|██████████| 60/60 [00:02<00:00, 22.42it/s]\n",
      "100%|██████████| 60/60 [00:02<00:00, 22.38it/s]\n",
      "100%|██████████| 60/60 [00:02<00:00, 22.38it/s]\n",
      "Some weights of BertForSequenceClassification were not initialized from the model checkpoint at bert-base-uncased and are newly initialized: ['classifier.weight', 'classifier.bias']\n",
      "You should probably TRAIN this model on a down-stream task to be able to use it for predictions and inference.\n",
      "100%|██████████| 30/30 [00:01<00:00, 22.70it/s]\n",
      "100%|██████████| 30/30 [00:01<00:00, 22.73it/s]\n",
      "100%|██████████| 30/30 [00:01<00:00, 22.69it/s]\n",
      "100%|██████████| 30/30 [00:01<00:00, 22.68it/s]\n",
      "100%|██████████| 30/30 [00:01<00:00, 22.69it/s]\n",
      "100%|██████████| 30/30 [00:01<00:00, 22.68it/s]\n",
      "100%|██████████| 30/30 [00:01<00:00, 22.68it/s]\n",
      "100%|██████████| 30/30 [00:01<00:00, 22.69it/s]\n",
      "100%|██████████| 30/30 [00:01<00:00, 22.66it/s]\n",
      "100%|██████████| 30/30 [00:01<00:00, 22.66it/s]\n",
      "Some weights of BertForSequenceClassification were not initialized from the model checkpoint at bert-base-uncased and are newly initialized: ['classifier.weight', 'classifier.bias']\n",
      "You should probably TRAIN this model on a down-stream task to be able to use it for predictions and inference.\n",
      "100%|██████████| 15/15 [00:00<00:00, 23.12it/s]\n",
      "100%|██████████| 15/15 [00:00<00:00, 23.30it/s]\n",
      "100%|██████████| 15/15 [00:00<00:00, 23.27it/s]\n",
      "100%|██████████| 15/15 [00:00<00:00, 23.30it/s]\n",
      "100%|██████████| 15/15 [00:00<00:00, 23.27it/s]\n",
      "100%|██████████| 15/15 [00:00<00:00, 23.27it/s]\n",
      "100%|██████████| 15/15 [00:00<00:00, 23.30it/s]\n",
      "100%|██████████| 15/15 [00:00<00:00, 23.32it/s]\n",
      "100%|██████████| 15/15 [00:00<00:00, 23.21it/s]\n",
      "100%|██████████| 15/15 [00:00<00:00, 23.28it/s]\n"
     ]
    }
   ],
   "source": [
    "histories = {}\n",
    "\n",
    "def seed_worker(worker_id):\n",
    "    worker_seed = torch.initial_seed() % 2**32\n",
    "    np.random.seed(worker_seed)\n",
    "    random.seed(worker_seed)\n",
    "\n",
    "g = torch.Generator()\n",
    "g.manual_seed(0)\n",
    "\n",
    "for i in range(6):\n",
    "\n",
    "    bert = AutoModelForSequenceClassification\\\n",
    "        .from_pretrained(\"bert-base-uncased\", num_labels = num_classes)\\\n",
    "        .to(device)\n",
    "\n",
    "    trainer = SequenceClassificationTrainer(\n",
    "        bert,\n",
    "        num_classes\n",
    "    )\n",
    "    n_shots = 100//2**i\n",
    "    \n",
    "    train_dataloader = get_dataloader(\n",
    "        train_text,\n",
    "        train_labels,\n",
    "        tokenizer,\n",
    "        n_shots= n_shots,\n",
    "        num_classes= num_classes,\n",
    "        shuffle = True,\n",
    "        worker_init_fn=seed_worker,\n",
    "        generator=g\n",
    "    )\n",
    "\n",
    "    val_dataloader = get_dataloader(\n",
    "        val_text,\n",
    "        val_labels,\n",
    "        tokenizer,\n",
    "        n_shots = 250,\n",
    "        num_classes=num_classes,\n",
    "        equalize_class=False\n",
    "    )\n",
    "\n",
    "    history = trainer.compile(\n",
    "        train_dataloader,\n",
    "        val_dataloader,\n",
    "        n_epochs=10\n",
    "    )\n",
    "\n",
    "    histories[100//2**i] = history"
   ]
  },
  {
   "cell_type": "code",
   "execution_count": 20,
   "metadata": {},
   "outputs": [
    {
     "data": {
      "image/png": "[encoded data removed]",
      "text/plain": [
       "<Figure size 640x480 with 1 Axes>"
      ]
     },
     "metadata": {},
     "output_type": "display_data"
    }
   ],
   "source": [
    "results = {}\n",
    "for k, v in histories.items():\n",
    "    plt.plot(v['val_f1'],\n",
    "             label = f\"n-shots = {k}\")\n",
    "    \n",
    "plt.title(\"Performance decay with # of shots-SST5\")\n",
    "    \n",
    "plt.grid()\n",
    "plt.legend()\n",
    "plt.xlabel(\"epoch\")\n",
    "plt.ylabel(\"f1-score\")\n",
    "plt.show()"
   ]
  },
  {
   "cell_type": "code",
   "execution_count": null,
   "metadata": {},
   "outputs": [],
   "source": []
  },
  {
   "cell_type": "markdown",
   "metadata": {},
   "source": [
    "## SetFit"
   ]
  },
  {
   "cell_type": "code",
   "execution_count": 34,
   "metadata": {},
   "outputs": [],
   "source": [
    "X_train, y_train = get_n_shots_per_class(\n",
    "    train_text,\n",
    "    train_labels,\n",
    "    n_shots= 8,\n",
    "    num_classes= num_classes\n",
    ")"
   ]
  },
  {
   "cell_type": "code",
   "execution_count": 35,
   "metadata": {},
   "outputs": [],
   "source": [
    "X_val, y_val = get_n_shots_per_class(\n",
    "    val_text, \n",
    "    val_labels,\n",
    "    n_shots = 6,\n",
    "    num_classes=num_classes\n",
    ")"
   ]
  },
  {
   "cell_type": "code",
   "execution_count": 36,
   "metadata": {},
   "outputs": [],
   "source": [
    "set_fit_data_train = SetFitDataset(\n",
    "    X_train,\n",
    "    y_train, \n",
    "    input_example_format= True\n",
    "    # R = 5\n",
    ")\n",
    "\n",
    "set_fit_data_val = SetFitDataset(\n",
    "    X_val,\n",
    "    y_val,\n",
    "    # R = 5,\n",
    "    input_example_format= False\n",
    ")"
   ]
  },
  {
   "cell_type": "code",
   "execution_count": 37,
   "metadata": {},
   "outputs": [],
   "source": [
    "train_dataloader = DataLoader(\n",
    "    set_fit_data_train.data,\n",
    "    shuffle=True\n",
    ")\n",
    "\n",
    "val_dataloader = DataLoader(\n",
    "    set_fit_data_val\n",
    ")"
   ]
  },
  {
   "cell_type": "code",
   "execution_count": 73,
   "metadata": {},
   "outputs": [],
   "source": [
    "class CLF(torch.nn.Module):\n",
    "    def __init__(\n",
    "        self,\n",
    "        in_features : int,\n",
    "        out_features : int, \n",
    "        activation_fn : callable = torch.nn.ReLU(),\n",
    "        *args, \n",
    "        **kwargs\n",
    "    ) -> None:\n",
    "        super().__init__(*args, **kwargs)\n",
    "\n",
    "        self.layer1 = torch.nn.Linear(in_features, 512)\n",
    "        self.activation = activation_fn\n",
    "        self.layer2 = torch.nn.Linear(512, 256)\n",
    "        self.layer3 = torch.nn.Linear(256, out_features)\n",
    "\n",
    "    def forward(self, x : torch.Tensor):\n",
    "        x = self.layer1(x)\n",
    "        x = self.activation(x)\n",
    "        x = self.layer2(x)\n",
    "        x = self.activation(x)\n",
    "        x= self.layer3(x)\n",
    "        return x\n",
    "    "
   ]
  },
  {
   "cell_type": "code",
   "execution_count": 58,
   "metadata": {},
   "outputs": [],
   "source": [
    "embedding_model = SentenceTransformer(\"sentence-transformers/all-roberta-large-v1\")\n",
    "clf = CLF(embedding_model.get_sentence_embedding_dimension(),\n",
    "          num_classes)\n",
    "setfit_trainer = SetFitTrainer(\n",
    "    embedding_model,\n",
    "    clf,\n",
    "    \"sst5\",\n",
    "    num_classes\n",
    ")"
   ]
  },
  {
   "cell_type": "code",
   "execution_count": 59,
   "metadata": {},
   "outputs": [
    {
     "data": {
      "application/vnd.jupyter.widget-view+json": {
       "model_id": "39e4170d9493417685a6b686382bdca1",
       "version_major": 2,
       "version_minor": 0
      },
      "text/plain": [
       "Epoch:   0%|          | 0/1 [00:00<?, ?it/s]"
      ]
     },
     "metadata": {},
     "output_type": "display_data"
    },
    {
     "data": {
      "application/vnd.jupyter.widget-view+json": {
       "model_id": "34c8f94927f64a94857d7305bcf8850b",
       "version_major": 2,
       "version_minor": 0
      },
      "text/plain": [
       "Iteration:   0%|          | 0/780 [00:00<?, ?it/s]"
      ]
     },
     "metadata": {},
     "output_type": "display_data"
    },
    {
     "name": "stdout",
     "output_type": "stream",
     "text": [
      "Running validation after 0 epochs\n"
     ]
    },
    {
     "name": "stderr",
     "output_type": "stream",
     "text": [
      "100%|██████████| 435/435 [00:06<00:00, 64.98it/s]"
     ]
    },
    {
     "name": "stdout",
     "output_type": "stream",
     "text": [
      "f1 score: 0.0\n",
      "tensor([[360,   0],\n",
      "        [ 75,   0]], device='cuda:0')\n"
     ]
    },
    {
     "name": "stderr",
     "output_type": "stream",
     "text": [
      "\n"
     ]
    },
    {
     "data": {
      "application/vnd.jupyter.widget-view+json": {
       "model_id": "7122c4510f8e4eb7aef07635b2c5d168",
       "version_major": 2,
       "version_minor": 0
      },
      "text/plain": [
       "Epoch:   0%|          | 0/1 [00:00<?, ?it/s]"
      ]
     },
     "metadata": {},
     "output_type": "display_data"
    },
    {
     "data": {
      "application/vnd.jupyter.widget-view+json": {
       "model_id": "14118b54d1b447ea89e39963fe71bf16",
       "version_major": 2,
       "version_minor": 0
      },
      "text/plain": [
       "Iteration:   0%|          | 0/780 [00:00<?, ?it/s]"
      ]
     },
     "metadata": {},
     "output_type": "display_data"
    },
    {
     "name": "stdout",
     "output_type": "stream",
     "text": [
      "Running validation after 1 epochs\n"
     ]
    },
    {
     "name": "stderr",
     "output_type": "stream",
     "text": [
      "100%|██████████| 435/435 [00:06<00:00, 64.63it/s]"
     ]
    },
    {
     "name": "stdout",
     "output_type": "stream",
     "text": [
      "f1 score: 0.0\n",
      "tensor([[360,   0],\n",
      "        [ 75,   0]], device='cuda:0')\n"
     ]
    },
    {
     "name": "stderr",
     "output_type": "stream",
     "text": [
      "\n"
     ]
    },
    {
     "data": {
      "application/vnd.jupyter.widget-view+json": {
       "model_id": "438ce80ce6c94ae3a6874e09dc6ee4c5",
       "version_major": 2,
       "version_minor": 0
      },
      "text/plain": [
       "Epoch:   0%|          | 0/1 [00:00<?, ?it/s]"
      ]
     },
     "metadata": {},
     "output_type": "display_data"
    },
    {
     "data": {
      "application/vnd.jupyter.widget-view+json": {
       "model_id": "4c6905a25b6949b5961e4e5f99d118fe",
       "version_major": 2,
       "version_minor": 0
      },
      "text/plain": [
       "Iteration:   0%|          | 0/780 [00:00<?, ?it/s]"
      ]
     },
     "metadata": {},
     "output_type": "display_data"
    },
    {
     "name": "stdout",
     "output_type": "stream",
     "text": [
      "Running validation after 2 epochs\n"
     ]
    },
    {
     "name": "stderr",
     "output_type": "stream",
     "text": [
      "100%|██████████| 435/435 [00:06<00:00, 64.56it/s]"
     ]
    },
    {
     "name": "stdout",
     "output_type": "stream",
     "text": [
      "f1 score: 0.0\n",
      "tensor([[360,   0],\n",
      "        [ 75,   0]], device='cuda:0')\n"
     ]
    },
    {
     "name": "stderr",
     "output_type": "stream",
     "text": [
      "\n"
     ]
    },
    {
     "data": {
      "application/vnd.jupyter.widget-view+json": {
       "model_id": "c4f3e70ae0ba4dd6956558b2c8271003",
       "version_major": 2,
       "version_minor": 0
      },
      "text/plain": [
       "Epoch:   0%|          | 0/1 [00:00<?, ?it/s]"
      ]
     },
     "metadata": {},
     "output_type": "display_data"
    },
    {
     "data": {
      "application/vnd.jupyter.widget-view+json": {
       "model_id": "9c6dc97b748c4d37833ff066862be32d",
       "version_major": 2,
       "version_minor": 0
      },
      "text/plain": [
       "Iteration:   0%|          | 0/780 [00:00<?, ?it/s]"
      ]
     },
     "metadata": {},
     "output_type": "display_data"
    },
    {
     "name": "stdout",
     "output_type": "stream",
     "text": [
      "Running validation after 3 epochs\n"
     ]
    },
    {
     "name": "stderr",
     "output_type": "stream",
     "text": [
      "100%|██████████| 435/435 [00:06<00:00, 63.50it/s]"
     ]
    },
    {
     "name": "stdout",
     "output_type": "stream",
     "text": [
      "f1 score: 0.0\n",
      "tensor([[360,   0],\n",
      "        [ 75,   0]], device='cuda:0')\n"
     ]
    },
    {
     "name": "stderr",
     "output_type": "stream",
     "text": [
      "\n"
     ]
    },
    {
     "data": {
      "application/vnd.jupyter.widget-view+json": {
       "model_id": "bbc81c623d7f4fc9b4d1d6fc157f3fcd",
       "version_major": 2,
       "version_minor": 0
      },
      "text/plain": [
       "Epoch:   0%|          | 0/1 [00:00<?, ?it/s]"
      ]
     },
     "metadata": {},
     "output_type": "display_data"
    },
    {
     "data": {
      "application/vnd.jupyter.widget-view+json": {
       "model_id": "977a004c12c8481e809fb73ac338dc12",
       "version_major": 2,
       "version_minor": 0
      },
      "text/plain": [
       "Iteration:   0%|          | 0/780 [00:00<?, ?it/s]"
      ]
     },
     "metadata": {},
     "output_type": "display_data"
    },
    {
     "name": "stdout",
     "output_type": "stream",
     "text": [
      "Running validation after 4 epochs\n"
     ]
    },
    {
     "name": "stderr",
     "output_type": "stream",
     "text": [
      "100%|██████████| 435/435 [00:06<00:00, 63.50it/s]"
     ]
    },
    {
     "name": "stdout",
     "output_type": "stream",
     "text": [
      "f1 score: 0.0\n",
      "tensor([[359,   1],\n",
      "        [ 75,   0]], device='cuda:0')\n"
     ]
    },
    {
     "name": "stderr",
     "output_type": "stream",
     "text": [
      "\n"
     ]
    },
    {
     "data": {
      "application/vnd.jupyter.widget-view+json": {
       "model_id": "0afb256814664e859a3514d0b428a81a",
       "version_major": 2,
       "version_minor": 0
      },
      "text/plain": [
       "Epoch:   0%|          | 0/1 [00:00<?, ?it/s]"
      ]
     },
     "metadata": {},
     "output_type": "display_data"
    },
    {
     "data": {
      "application/vnd.jupyter.widget-view+json": {
       "model_id": "a9b2d0e1bac64fcf90b0f68f56df35e7",
       "version_major": 2,
       "version_minor": 0
      },
      "text/plain": [
       "Iteration:   0%|          | 0/780 [00:00<?, ?it/s]"
      ]
     },
     "metadata": {},
     "output_type": "display_data"
    },
    {
     "name": "stdout",
     "output_type": "stream",
     "text": [
      "Running validation after 5 epochs\n"
     ]
    },
    {
     "name": "stderr",
     "output_type": "stream",
     "text": [
      "100%|██████████| 435/435 [00:06<00:00, 64.32it/s]\n"
     ]
    },
    {
     "name": "stdout",
     "output_type": "stream",
     "text": [
      "f1 score: 0.04878048598766327\n",
      "tensor([[355,   5],\n",
      "        [ 73,   2]], device='cuda:0')\n"
     ]
    },
    {
     "data": {
      "application/vnd.jupyter.widget-view+json": {
       "model_id": "b0329c3ba726418085d2937ef2425a28",
       "version_major": 2,
       "version_minor": 0
      },
      "text/plain": [
       "Epoch:   0%|          | 0/1 [00:00<?, ?it/s]"
      ]
     },
     "metadata": {},
     "output_type": "display_data"
    },
    {
     "data": {
      "application/vnd.jupyter.widget-view+json": {
       "model_id": "4969725beec54483857484bcabb711ed",
       "version_major": 2,
       "version_minor": 0
      },
      "text/plain": [
       "Iteration:   0%|          | 0/780 [00:00<?, ?it/s]"
      ]
     },
     "metadata": {},
     "output_type": "display_data"
    },
    {
     "name": "stdout",
     "output_type": "stream",
     "text": [
      "Running validation after 6 epochs\n"
     ]
    },
    {
     "name": "stderr",
     "output_type": "stream",
     "text": [
      "100%|██████████| 435/435 [00:06<00:00, 64.41it/s]\n"
     ]
    },
    {
     "name": "stdout",
     "output_type": "stream",
     "text": [
      "f1 score: 0.21052631735801697\n",
      "tensor([[333,  27],\n",
      "        [ 63,  12]], device='cuda:0')\n"
     ]
    },
    {
     "data": {
      "application/vnd.jupyter.widget-view+json": {
       "model_id": "1aa2abff54b74c0eb76ff9dc3cfa591f",
       "version_major": 2,
       "version_minor": 0
      },
      "text/plain": [
       "Epoch:   0%|          | 0/1 [00:00<?, ?it/s]"
      ]
     },
     "metadata": {},
     "output_type": "display_data"
    },
    {
     "data": {
      "application/vnd.jupyter.widget-view+json": {
       "model_id": "90b3b7b42efe43799afa7ae5fa9cb504",
       "version_major": 2,
       "version_minor": 0
      },
      "text/plain": [
       "Iteration:   0%|          | 0/780 [00:00<?, ?it/s]"
      ]
     },
     "metadata": {},
     "output_type": "display_data"
    },
    {
     "name": "stdout",
     "output_type": "stream",
     "text": [
      "Running validation after 7 epochs\n"
     ]
    },
    {
     "name": "stderr",
     "output_type": "stream",
     "text": [
      "100%|██████████| 435/435 [00:06<00:00, 63.39it/s]"
     ]
    },
    {
     "name": "stdout",
     "output_type": "stream",
     "text": [
      "f1 score: 0.2682926654815674\n",
      "tensor([[293,  67],\n",
      "        [ 53,  22]], device='cuda:0')\n"
     ]
    },
    {
     "name": "stderr",
     "output_type": "stream",
     "text": [
      "\n"
     ]
    },
    {
     "data": {
      "application/vnd.jupyter.widget-view+json": {
       "model_id": "8b2205e876c549a0ac00a069d3211ada",
       "version_major": 2,
       "version_minor": 0
      },
      "text/plain": [
       "Epoch:   0%|          | 0/1 [00:00<?, ?it/s]"
      ]
     },
     "metadata": {},
     "output_type": "display_data"
    },
    {
     "data": {
      "application/vnd.jupyter.widget-view+json": {
       "model_id": "eab8735340384a198a6fb8a9c4522ff3",
       "version_major": 2,
       "version_minor": 0
      },
      "text/plain": [
       "Iteration:   0%|          | 0/780 [00:00<?, ?it/s]"
      ]
     },
     "metadata": {},
     "output_type": "display_data"
    },
    {
     "name": "stdout",
     "output_type": "stream",
     "text": [
      "Running validation after 8 epochs\n"
     ]
    },
    {
     "name": "stderr",
     "output_type": "stream",
     "text": [
      "100%|██████████| 435/435 [00:06<00:00, 63.16it/s]\n"
     ]
    },
    {
     "name": "stdout",
     "output_type": "stream",
     "text": [
      "f1 score: 0.30434781312942505\n",
      "tensor([[279,  81],\n",
      "        [ 47,  28]], device='cuda:0')\n"
     ]
    },
    {
     "data": {
      "application/vnd.jupyter.widget-view+json": {
       "model_id": "05f999ad61e84920873ae50111b3fb86",
       "version_major": 2,
       "version_minor": 0
      },
      "text/plain": [
       "Epoch:   0%|          | 0/1 [00:00<?, ?it/s]"
      ]
     },
     "metadata": {},
     "output_type": "display_data"
    },
    {
     "data": {
      "application/vnd.jupyter.widget-view+json": {
       "model_id": "4a629f1bb1f54c2e8538d5300521ef4c",
       "version_major": 2,
       "version_minor": 0
      },
      "text/plain": [
       "Iteration:   0%|          | 0/780 [00:00<?, ?it/s]"
      ]
     },
     "metadata": {},
     "output_type": "display_data"
    },
    {
     "name": "stdout",
     "output_type": "stream",
     "text": [
      "Running validation after 9 epochs\n"
     ]
    },
    {
     "name": "stderr",
     "output_type": "stream",
     "text": [
      "100%|██████████| 435/435 [00:06<00:00, 64.37it/s]"
     ]
    },
    {
     "name": "stdout",
     "output_type": "stream",
     "text": [
      "f1 score: 0.3236994445323944\n",
      "tensor([[290,  70],\n",
      "        [ 47,  28]], device='cuda:0')\n"
     ]
    },
    {
     "name": "stderr",
     "output_type": "stream",
     "text": [
      "\n"
     ]
    },
    {
     "data": {
      "application/vnd.jupyter.widget-view+json": {
       "model_id": "8df03de426ec46dba9a4fe734efbe115",
       "version_major": 2,
       "version_minor": 0
      },
      "text/plain": [
       "Epoch:   0%|          | 0/1 [00:00<?, ?it/s]"
      ]
     },
     "metadata": {},
     "output_type": "display_data"
    },
    {
     "data": {
      "application/vnd.jupyter.widget-view+json": {
       "model_id": "6221d034752e4296bd5899f72a79d4fe",
       "version_major": 2,
       "version_minor": 0
      },
      "text/plain": [
       "Iteration:   0%|          | 0/780 [00:00<?, ?it/s]"
      ]
     },
     "metadata": {},
     "output_type": "display_data"
    },
    {
     "name": "stdout",
     "output_type": "stream",
     "text": [
      "Running validation after 10 epochs\n"
     ]
    },
    {
     "name": "stderr",
     "output_type": "stream",
     "text": [
      "100%|██████████| 435/435 [00:06<00:00, 64.97it/s]\n"
     ]
    },
    {
     "name": "stdout",
     "output_type": "stream",
     "text": [
      "f1 score: 0.32768362760543823\n",
      "tensor([[287,  73],\n",
      "        [ 46,  29]], device='cuda:0')\n"
     ]
    },
    {
     "data": {
      "application/vnd.jupyter.widget-view+json": {
       "model_id": "bce7352758ba484a92a241fb14e8e153",
       "version_major": 2,
       "version_minor": 0
      },
      "text/plain": [
       "Epoch:   0%|          | 0/1 [00:00<?, ?it/s]"
      ]
     },
     "metadata": {},
     "output_type": "display_data"
    },
    {
     "data": {
      "application/vnd.jupyter.widget-view+json": {
       "model_id": "41507eb0fc664597b7bfa9768632fadd",
       "version_major": 2,
       "version_minor": 0
      },
      "text/plain": [
       "Iteration:   0%|          | 0/780 [00:00<?, ?it/s]"
      ]
     },
     "metadata": {},
     "output_type": "display_data"
    },
    {
     "name": "stdout",
     "output_type": "stream",
     "text": [
      "Running validation after 11 epochs\n"
     ]
    },
    {
     "name": "stderr",
     "output_type": "stream",
     "text": [
      "100%|██████████| 435/435 [00:06<00:00, 64.69it/s]"
     ]
    },
    {
     "name": "stdout",
     "output_type": "stream",
     "text": [
      "f1 score: 0.2906976640224457\n",
      "tensor([[288,  72],\n",
      "        [ 50,  25]], device='cuda:0')\n"
     ]
    },
    {
     "name": "stderr",
     "output_type": "stream",
     "text": [
      "\n"
     ]
    },
    {
     "data": {
      "application/vnd.jupyter.widget-view+json": {
       "model_id": "e87a1a2c3fc244e88c18eba899d7cf56",
       "version_major": 2,
       "version_minor": 0
      },
      "text/plain": [
       "Epoch:   0%|          | 0/1 [00:00<?, ?it/s]"
      ]
     },
     "metadata": {},
     "output_type": "display_data"
    },
    {
     "data": {
      "application/vnd.jupyter.widget-view+json": {
       "model_id": "4c8376829edb47c58d74b6765f057088",
       "version_major": 2,
       "version_minor": 0
      },
      "text/plain": [
       "Iteration:   0%|          | 0/780 [00:00<?, ?it/s]"
      ]
     },
     "metadata": {},
     "output_type": "display_data"
    },
    {
     "name": "stdout",
     "output_type": "stream",
     "text": [
      "Running validation after 12 epochs\n"
     ]
    },
    {
     "name": "stderr",
     "output_type": "stream",
     "text": [
      "100%|██████████| 435/435 [00:07<00:00, 59.15it/s]"
     ]
    },
    {
     "name": "stdout",
     "output_type": "stream",
     "text": [
      "f1 score: 0.3212434947490692\n",
      "tensor([[273,  87],\n",
      "        [ 44,  31]], device='cuda:0')\n"
     ]
    },
    {
     "name": "stderr",
     "output_type": "stream",
     "text": [
      "\n"
     ]
    },
    {
     "data": {
      "application/vnd.jupyter.widget-view+json": {
       "model_id": "3e248e6d8b1a45a8845ab93c8e6e5c44",
       "version_major": 2,
       "version_minor": 0
      },
      "text/plain": [
       "Epoch:   0%|          | 0/1 [00:00<?, ?it/s]"
      ]
     },
     "metadata": {},
     "output_type": "display_data"
    },
    {
     "data": {
      "application/vnd.jupyter.widget-view+json": {
       "model_id": "d032fbf0873a4a6785b66835edf52564",
       "version_major": 2,
       "version_minor": 0
      },
      "text/plain": [
       "Iteration:   0%|          | 0/780 [00:00<?, ?it/s]"
      ]
     },
     "metadata": {},
     "output_type": "display_data"
    },
    {
     "name": "stdout",
     "output_type": "stream",
     "text": [
      "Running validation after 13 epochs\n"
     ]
    },
    {
     "name": "stderr",
     "output_type": "stream",
     "text": [
      "100%|██████████| 435/435 [00:06<00:00, 64.67it/s]"
     ]
    },
    {
     "name": "stdout",
     "output_type": "stream",
     "text": [
      "f1 score: 0.28248587250709534\n",
      "tensor([[283,  77],\n",
      "        [ 50,  25]], device='cuda:0')\n"
     ]
    },
    {
     "name": "stderr",
     "output_type": "stream",
     "text": [
      "\n"
     ]
    },
    {
     "data": {
      "application/vnd.jupyter.widget-view+json": {
       "model_id": "e59a1d979419401f902e85d61a371281",
       "version_major": 2,
       "version_minor": 0
      },
      "text/plain": [
       "Epoch:   0%|          | 0/1 [00:00<?, ?it/s]"
      ]
     },
     "metadata": {},
     "output_type": "display_data"
    },
    {
     "data": {
      "application/vnd.jupyter.widget-view+json": {
       "model_id": "932ef10c3d4e48bd86f92340ed4c1288",
       "version_major": 2,
       "version_minor": 0
      },
      "text/plain": [
       "Iteration:   0%|          | 0/780 [00:00<?, ?it/s]"
      ]
     },
     "metadata": {},
     "output_type": "display_data"
    },
    {
     "name": "stdout",
     "output_type": "stream",
     "text": [
      "Running validation after 14 epochs\n"
     ]
    },
    {
     "name": "stderr",
     "output_type": "stream",
     "text": [
      "100%|██████████| 435/435 [00:06<00:00, 63.74it/s]\n"
     ]
    },
    {
     "name": "stdout",
     "output_type": "stream",
     "text": [
      "f1 score: 0.2857142686843872\n",
      "tensor([[291,  69],\n",
      "        [ 51,  24]], device='cuda:0')\n"
     ]
    },
    {
     "data": {
      "application/vnd.jupyter.widget-view+json": {
       "model_id": "ec4568927a494b3c842efda5165cac9b",
       "version_major": 2,
       "version_minor": 0
      },
      "text/plain": [
       "Epoch:   0%|          | 0/1 [00:00<?, ?it/s]"
      ]
     },
     "metadata": {},
     "output_type": "display_data"
    },
    {
     "data": {
      "application/vnd.jupyter.widget-view+json": {
       "model_id": "9628c5c69dca4a8482ab5211eaf625c1",
       "version_major": 2,
       "version_minor": 0
      },
      "text/plain": [
       "Iteration:   0%|          | 0/780 [00:00<?, ?it/s]"
      ]
     },
     "metadata": {},
     "output_type": "display_data"
    },
    {
     "name": "stdout",
     "output_type": "stream",
     "text": [
      "Running validation after 15 epochs\n"
     ]
    },
    {
     "name": "stderr",
     "output_type": "stream",
     "text": [
      "100%|██████████| 435/435 [00:06<00:00, 66.32it/s]"
     ]
    },
    {
     "name": "stdout",
     "output_type": "stream",
     "text": [
      "f1 score: 0.2958579957485199\n",
      "tensor([[291,  69],\n",
      "        [ 50,  25]], device='cuda:0')\n"
     ]
    },
    {
     "name": "stderr",
     "output_type": "stream",
     "text": [
      "\n"
     ]
    },
    {
     "data": {
      "application/vnd.jupyter.widget-view+json": {
       "model_id": "75a49a1b23044989b05ea293ee7cc597",
       "version_major": 2,
       "version_minor": 0
      },
      "text/plain": [
       "Epoch:   0%|          | 0/1 [00:00<?, ?it/s]"
      ]
     },
     "metadata": {},
     "output_type": "display_data"
    },
    {
     "data": {
      "application/vnd.jupyter.widget-view+json": {
       "model_id": "054de788dd434575b002ad02f20973da",
       "version_major": 2,
       "version_minor": 0
      },
      "text/plain": [
       "Iteration:   0%|          | 0/780 [00:00<?, ?it/s]"
      ]
     },
     "metadata": {},
     "output_type": "display_data"
    },
    {
     "name": "stdout",
     "output_type": "stream",
     "text": [
      "Running validation after 16 epochs\n"
     ]
    },
    {
     "name": "stderr",
     "output_type": "stream",
     "text": [
      "100%|██████████| 435/435 [00:06<00:00, 66.35it/s]"
     ]
    },
    {
     "name": "stdout",
     "output_type": "stream",
     "text": [
      "f1 score: 0.277777761220932\n",
      "tensor([[280,  80],\n",
      "        [ 50,  25]], device='cuda:0')\n"
     ]
    },
    {
     "name": "stderr",
     "output_type": "stream",
     "text": [
      "\n"
     ]
    },
    {
     "data": {
      "application/vnd.jupyter.widget-view+json": {
       "model_id": "d3e7c70118d445c490abe4e4a76f64b1",
       "version_major": 2,
       "version_minor": 0
      },
      "text/plain": [
       "Epoch:   0%|          | 0/1 [00:00<?, ?it/s]"
      ]
     },
     "metadata": {},
     "output_type": "display_data"
    },
    {
     "data": {
      "application/vnd.jupyter.widget-view+json": {
       "model_id": "5a167414964c49d9b4344d2f3e512da5",
       "version_major": 2,
       "version_minor": 0
      },
      "text/plain": [
       "Iteration:   0%|          | 0/780 [00:00<?, ?it/s]"
      ]
     },
     "metadata": {},
     "output_type": "display_data"
    },
    {
     "name": "stdout",
     "output_type": "stream",
     "text": [
      "Running validation after 17 epochs\n"
     ]
    },
    {
     "name": "stderr",
     "output_type": "stream",
     "text": [
      "100%|██████████| 435/435 [00:06<00:00, 66.38it/s]"
     ]
    },
    {
     "name": "stdout",
     "output_type": "stream",
     "text": [
      "f1 score: 0.2921348214149475\n",
      "tensor([[283,  77],\n",
      "        [ 49,  26]], device='cuda:0')\n"
     ]
    },
    {
     "name": "stderr",
     "output_type": "stream",
     "text": [
      "\n"
     ]
    },
    {
     "data": {
      "application/vnd.jupyter.widget-view+json": {
       "model_id": "bc30ee475ef9455dae220604da76a96f",
       "version_major": 2,
       "version_minor": 0
      },
      "text/plain": [
       "Epoch:   0%|          | 0/1 [00:00<?, ?it/s]"
      ]
     },
     "metadata": {},
     "output_type": "display_data"
    },
    {
     "data": {
      "application/vnd.jupyter.widget-view+json": {
       "model_id": "6607731e81454a62b28cd79529d48e8c",
       "version_major": 2,
       "version_minor": 0
      },
      "text/plain": [
       "Iteration:   0%|          | 0/780 [00:00<?, ?it/s]"
      ]
     },
     "metadata": {},
     "output_type": "display_data"
    },
    {
     "name": "stdout",
     "output_type": "stream",
     "text": [
      "Running validation after 18 epochs\n"
     ]
    },
    {
     "name": "stderr",
     "output_type": "stream",
     "text": [
      "100%|██████████| 435/435 [00:06<00:00, 66.36it/s]"
     ]
    },
    {
     "name": "stdout",
     "output_type": "stream",
     "text": [
      "f1 score: 0.32222220301628113\n",
      "tensor([[284,  76],\n",
      "        [ 46,  29]], device='cuda:0')\n"
     ]
    },
    {
     "name": "stderr",
     "output_type": "stream",
     "text": [
      "\n"
     ]
    },
    {
     "data": {
      "application/vnd.jupyter.widget-view+json": {
       "model_id": "98d4b69e9c234907a3b923c2dca48583",
       "version_major": 2,
       "version_minor": 0
      },
      "text/plain": [
       "Epoch:   0%|          | 0/1 [00:00<?, ?it/s]"
      ]
     },
     "metadata": {},
     "output_type": "display_data"
    },
    {
     "data": {
      "application/vnd.jupyter.widget-view+json": {
       "model_id": "15a53266957145bea77b657c8f25c655",
       "version_major": 2,
       "version_minor": 0
      },
      "text/plain": [
       "Iteration:   0%|          | 0/780 [00:00<?, ?it/s]"
      ]
     },
     "metadata": {},
     "output_type": "display_data"
    },
    {
     "name": "stdout",
     "output_type": "stream",
     "text": [
      "Running validation after 19 epochs\n"
     ]
    },
    {
     "name": "stderr",
     "output_type": "stream",
     "text": [
      "100%|██████████| 435/435 [00:06<00:00, 66.37it/s]\n"
     ]
    },
    {
     "name": "stdout",
     "output_type": "stream",
     "text": [
      "f1 score: 0.2696629464626312\n",
      "tensor([[281,  79],\n",
      "        [ 51,  24]], device='cuda:0')\n"
     ]
    },
    {
     "ename": "HfHubHTTPError",
     "evalue": "409 Client Error: Conflict for url: https://huggingface.co/api/repos/create (Request ID: Root=1-6578935d-076e285f586daa0f6f65e646;9244725e-6f07-4ec6-b6fe-d10b1f8a9ec8)\n\nYou already created this model repo",
     "output_type": "error",
     "traceback": [
      "\u001b[0;31m---------------------------------------------------------------------------\u001b[0m",
      "\u001b[0;31mHTTPError\u001b[0m                                 Traceback (most recent call last)",
      "File \u001b[0;32m~/few-shot-learning-transformers/.venv/lib64/python3.9/site-packages/huggingface_hub/utils/_errors.py:261\u001b[0m, in \u001b[0;36mhf_raise_for_status\u001b[0;34m(response, endpoint_name)\u001b[0m\n\u001b[1;32m    260\u001b[0m \u001b[39mtry\u001b[39;00m:\n\u001b[0;32m--> 261\u001b[0m     response\u001b[39m.\u001b[39;49mraise_for_status()\n\u001b[1;32m    262\u001b[0m \u001b[39mexcept\u001b[39;00m HTTPError \u001b[39mas\u001b[39;00m e:\n",
      "File \u001b[0;32m~/few-shot-learning-transformers/.venv/lib64/python3.9/site-packages/requests/models.py:1021\u001b[0m, in \u001b[0;36mResponse.raise_for_status\u001b[0;34m(self)\u001b[0m\n\u001b[1;32m   1020\u001b[0m \u001b[39mif\u001b[39;00m http_error_msg:\n\u001b[0;32m-> 1021\u001b[0m     \u001b[39mraise\u001b[39;00m HTTPError(http_error_msg, response\u001b[39m=\u001b[39m\u001b[39mself\u001b[39m)\n",
      "\u001b[0;31mHTTPError\u001b[0m: 409 Client Error: Conflict for url: https://huggingface.co/api/repos/create",
      "\nThe above exception was the direct cause of the following exception:\n",
      "\u001b[0;31mHfHubHTTPError\u001b[0m                            Traceback (most recent call last)",
      "\u001b[1;32m/users/eleves-a/2022/pedro.silva/few-shot-learning-transformers/notebooks/few_shot_text_classification/setfit/02-sst5_setfit.ipynb Cell 33\u001b[0m line \u001b[0;36m1\n\u001b[0;32m----> <a href='vscode-notebook-cell://ssh-remote%2B129.104.254.98/users/eleves-a/2022/pedro.silva/few-shot-learning-transformers/notebooks/few_shot_text_classification/setfit/02-sst5_setfit.ipynb#X45sdnNjb2RlLXJlbW90ZQ%3D%3D?line=0'>1</a>\u001b[0m setfit_trainer\u001b[39m.\u001b[39;49mtrain_embedding(\n\u001b[1;32m      <a href='vscode-notebook-cell://ssh-remote%2B129.104.254.98/users/eleves-a/2022/pedro.silva/few-shot-learning-transformers/notebooks/few_shot_text_classification/setfit/02-sst5_setfit.ipynb#X45sdnNjb2RlLXJlbW90ZQ%3D%3D?line=1'>2</a>\u001b[0m     train_dataloader,\n\u001b[1;32m      <a href='vscode-notebook-cell://ssh-remote%2B129.104.254.98/users/eleves-a/2022/pedro.silva/few-shot-learning-transformers/notebooks/few_shot_text_classification/setfit/02-sst5_setfit.ipynb#X45sdnNjb2RlLXJlbW90ZQ%3D%3D?line=2'>3</a>\u001b[0m     val_dataloader,\n\u001b[1;32m      <a href='vscode-notebook-cell://ssh-remote%2B129.104.254.98/users/eleves-a/2022/pedro.silva/few-shot-learning-transformers/notebooks/few_shot_text_classification/setfit/02-sst5_setfit.ipynb#X45sdnNjb2RlLXJlbW90ZQ%3D%3D?line=3'>4</a>\u001b[0m     n_shots\u001b[39m=\u001b[39;49m\u001b[39m8\u001b[39;49m,\n\u001b[1;32m      <a href='vscode-notebook-cell://ssh-remote%2B129.104.254.98/users/eleves-a/2022/pedro.silva/few-shot-learning-transformers/notebooks/few_shot_text_classification/setfit/02-sst5_setfit.ipynb#X45sdnNjb2RlLXJlbW90ZQ%3D%3D?line=4'>5</a>\u001b[0m     show_progress_bar \u001b[39m=\u001b[39;49m \u001b[39mTrue\u001b[39;49;00m,\n\u001b[1;32m      <a href='vscode-notebook-cell://ssh-remote%2B129.104.254.98/users/eleves-a/2022/pedro.silva/few-shot-learning-transformers/notebooks/few_shot_text_classification/setfit/02-sst5_setfit.ipynb#X45sdnNjb2RlLXJlbW90ZQ%3D%3D?line=5'>6</a>\u001b[0m     n_epochs\u001b[39m=\u001b[39;49m\u001b[39m20\u001b[39;49m\n\u001b[1;32m      <a href='vscode-notebook-cell://ssh-remote%2B129.104.254.98/users/eleves-a/2022/pedro.silva/few-shot-learning-transformers/notebooks/few_shot_text_classification/setfit/02-sst5_setfit.ipynb#X45sdnNjb2RlLXJlbW90ZQ%3D%3D?line=6'>7</a>\u001b[0m )\n",
      "File \u001b[0;32m~/few-shot-learning-transformers/src/model/sequence_classification/setfit_trainer.py:87\u001b[0m, in \u001b[0;36mSetFitTrainer.train_embedding\u001b[0;34m(self, train_dataloader, val_dataloader, n_shots, n_epochs, **kwargs)\u001b[0m\n\u001b[1;32m     84\u001b[0m     \u001b[39mprint\u001b[39m(\u001b[39mf\u001b[39m\u001b[39m'\u001b[39m\u001b[39mf1 score: \u001b[39m\u001b[39m{\u001b[39;00mf1\u001b[39m.\u001b[39mitem()\u001b[39m}\u001b[39;00m\u001b[39m'\u001b[39m)\n\u001b[1;32m     85\u001b[0m     \u001b[39mprint\u001b[39m(conf_matrix)\n\u001b[0;32m---> 87\u001b[0m \u001b[39mself\u001b[39;49m\u001b[39m.\u001b[39;49membedding_model\u001b[39m.\u001b[39;49msave_to_hub(\u001b[39mf\u001b[39;49m\u001b[39m\"\u001b[39;49m\u001b[39mpeulsilva/phrase-bert-setfit-\u001b[39;49m\u001b[39m{\u001b[39;49;00mn_shots\u001b[39m}\u001b[39;49;00m\u001b[39mshots-\u001b[39;49m\u001b[39m{\u001b[39;49;00m\u001b[39mself\u001b[39;49m\u001b[39m.\u001b[39;49mdataset_name\u001b[39m}\u001b[39;49;00m\u001b[39m\"\u001b[39;49m)\n",
      "File \u001b[0;32m~/few-shot-learning-transformers/.venv/lib64/python3.9/site-packages/sentence_transformers/SentenceTransformer.py:467\u001b[0m, in \u001b[0;36mSentenceTransformer.save_to_hub\u001b[0;34m(self, repo_name, organization, private, commit_message, local_model_path, exist_ok, replace_model_card, train_datasets)\u001b[0m\n\u001b[1;32m    464\u001b[0m         \u001b[39mraise\u001b[39;00m \u001b[39mValueError\u001b[39;00m(\u001b[39m\"\u001b[39m\u001b[39mYou passed and invalid repository name: \u001b[39m\u001b[39m{}\u001b[39;00m\u001b[39m.\u001b[39m\u001b[39m\"\u001b[39m\u001b[39m.\u001b[39mformat(repo_name))\n\u001b[1;32m    466\u001b[0m endpoint \u001b[39m=\u001b[39m \u001b[39m\"\u001b[39m\u001b[39mhttps://huggingface.co\u001b[39m\u001b[39m\"\u001b[39m\n\u001b[0;32m--> 467\u001b[0m repo_url \u001b[39m=\u001b[39m HfApi(endpoint\u001b[39m=\u001b[39;49mendpoint)\u001b[39m.\u001b[39;49mcreate_repo(\n\u001b[1;32m    468\u001b[0m         repo_name,\n\u001b[1;32m    469\u001b[0m         token \u001b[39m=\u001b[39;49m token,\n\u001b[1;32m    470\u001b[0m         \u001b[39m# organization=organization,\u001b[39;49;00m\n\u001b[1;32m    471\u001b[0m         \u001b[39m# private=private,\u001b[39;49;00m\n\u001b[1;32m    472\u001b[0m         \u001b[39m# repo_type=None,\u001b[39;49;00m\n\u001b[1;32m    473\u001b[0m         \u001b[39m# exist_ok=exist_ok,\u001b[39;49;00m\n\u001b[1;32m    474\u001b[0m     )\n\u001b[1;32m    475\u001b[0m full_model_name \u001b[39m=\u001b[39m repo_url[\u001b[39mlen\u001b[39m(endpoint)\u001b[39m+\u001b[39m\u001b[39m1\u001b[39m:]\u001b[39m.\u001b[39mstrip(\u001b[39m\"\u001b[39m\u001b[39m/\u001b[39m\u001b[39m\"\u001b[39m)\n\u001b[1;32m    477\u001b[0m \u001b[39mwith\u001b[39;00m tempfile\u001b[39m.\u001b[39mTemporaryDirectory() \u001b[39mas\u001b[39;00m tmp_dir:\n\u001b[1;32m    478\u001b[0m     \u001b[39m# First create the repo (and clone its content if it's nonempty).\u001b[39;00m\n",
      "File \u001b[0;32m~/few-shot-learning-transformers/.venv/lib64/python3.9/site-packages/huggingface_hub/utils/_validators.py:118\u001b[0m, in \u001b[0;36mvalidate_hf_hub_args.<locals>._inner_fn\u001b[0;34m(*args, **kwargs)\u001b[0m\n\u001b[1;32m    115\u001b[0m \u001b[39mif\u001b[39;00m check_use_auth_token:\n\u001b[1;32m    116\u001b[0m     kwargs \u001b[39m=\u001b[39m smoothly_deprecate_use_auth_token(fn_name\u001b[39m=\u001b[39mfn\u001b[39m.\u001b[39m\u001b[39m__name__\u001b[39m, has_token\u001b[39m=\u001b[39mhas_token, kwargs\u001b[39m=\u001b[39mkwargs)\n\u001b[0;32m--> 118\u001b[0m \u001b[39mreturn\u001b[39;00m fn(\u001b[39m*\u001b[39;49margs, \u001b[39m*\u001b[39;49m\u001b[39m*\u001b[39;49mkwargs)\n",
      "File \u001b[0;32m~/few-shot-learning-transformers/.venv/lib64/python3.9/site-packages/huggingface_hub/hf_api.py:2546\u001b[0m, in \u001b[0;36mHfApi.create_repo\u001b[0;34m(self, repo_id, token, private, repo_type, exist_ok, space_sdk, space_hardware, space_storage, space_sleep_time, space_secrets, space_variables)\u001b[0m\n\u001b[1;32m   2543\u001b[0m r \u001b[39m=\u001b[39m get_session()\u001b[39m.\u001b[39mpost(path, headers\u001b[39m=\u001b[39mheaders, json\u001b[39m=\u001b[39mjson)\n\u001b[1;32m   2545\u001b[0m \u001b[39mtry\u001b[39;00m:\n\u001b[0;32m-> 2546\u001b[0m     hf_raise_for_status(r)\n\u001b[1;32m   2547\u001b[0m \u001b[39mexcept\u001b[39;00m HTTPError \u001b[39mas\u001b[39;00m err:\n\u001b[1;32m   2548\u001b[0m     \u001b[39mif\u001b[39;00m exist_ok \u001b[39mand\u001b[39;00m err\u001b[39m.\u001b[39mresponse\u001b[39m.\u001b[39mstatus_code \u001b[39m==\u001b[39m \u001b[39m409\u001b[39m:\n\u001b[1;32m   2549\u001b[0m         \u001b[39m# Repo already exists and `exist_ok=True`\u001b[39;00m\n",
      "File \u001b[0;32m~/few-shot-learning-transformers/.venv/lib64/python3.9/site-packages/huggingface_hub/utils/_errors.py:303\u001b[0m, in \u001b[0;36mhf_raise_for_status\u001b[0;34m(response, endpoint_name)\u001b[0m\n\u001b[1;32m    299\u001b[0m     \u001b[39mraise\u001b[39;00m BadRequestError(message, response\u001b[39m=\u001b[39mresponse) \u001b[39mfrom\u001b[39;00m \u001b[39me\u001b[39;00m\n\u001b[1;32m    301\u001b[0m \u001b[39m# Convert `HTTPError` into a `HfHubHTTPError` to display request information\u001b[39;00m\n\u001b[1;32m    302\u001b[0m \u001b[39m# as well (request id and/or server error message)\u001b[39;00m\n\u001b[0;32m--> 303\u001b[0m \u001b[39mraise\u001b[39;00m HfHubHTTPError(\u001b[39mstr\u001b[39m(e), response\u001b[39m=\u001b[39mresponse) \u001b[39mfrom\u001b[39;00m \u001b[39me\u001b[39;00m\n",
      "\u001b[0;31mHfHubHTTPError\u001b[0m: 409 Client Error: Conflict for url: https://huggingface.co/api/repos/create (Request ID: Root=1-6578935d-076e285f586daa0f6f65e646;9244725e-6f07-4ec6-b6fe-d10b1f8a9ec8)\n\nYou already created this model repo"
     ]
    }
   ],
   "source": [
    "setfit_trainer.train_embedding(\n",
    "    train_dataloader,\n",
    "    val_dataloader,\n",
    "    n_shots=8,\n",
    "    show_progress_bar = True,\n",
    "    n_epochs=20\n",
    ")\n"
   ]
  },
  {
   "cell_type": "code",
   "execution_count": 62,
   "metadata": {},
   "outputs": [
    {
     "name": "stderr",
     "output_type": "stream",
     "text": [
      "huggingface/tokenizers: The current process just got forked, after parallelism has already been used. Disabling parallelism to avoid deadlocks...\n",
      "To disable this warning, you can either:\n",
      "\t- Avoid using `tokenizers` before the fork if possible\n",
      "\t- Explicitly set the environment variable TOKENIZERS_PARALLELISM=(true | false)\n",
      "huggingface/tokenizers: The current process just got forked, after parallelism has already been used. Disabling parallelism to avoid deadlocks...\n",
      "To disable this warning, you can either:\n",
      "\t- Avoid using `tokenizers` before the fork if possible\n",
      "\t- Explicitly set the environment variable TOKENIZERS_PARALLELISM=(true | false)\n",
      "huggingface/tokenizers: The current process just got forked, after parallelism has already been used. Disabling parallelism to avoid deadlocks...\n",
      "To disable this warning, you can either:\n",
      "\t- Avoid using `tokenizers` before the fork if possible\n",
      "\t- Explicitly set the environment variable TOKENIZERS_PARALLELISM=(true | false)\n",
      "Cloning https://huggingface.co/peulsilva/roberta-large-setfit-8shots-sst5 into local empty directory.\n",
      "huggingface/tokenizers: The current process just got forked, after parallelism has already been used. Disabling parallelism to avoid deadlocks...\n",
      "To disable this warning, you can either:\n",
      "\t- Avoid using `tokenizers` before the fork if possible\n",
      "\t- Explicitly set the environment variable TOKENIZERS_PARALLELISM=(true | false)\n",
      "huggingface/tokenizers: The current process just got forked, after parallelism has already been used. Disabling parallelism to avoid deadlocks...\n",
      "To disable this warning, you can either:\n",
      "\t- Avoid using `tokenizers` before the fork if possible\n",
      "\t- Explicitly set the environment variable TOKENIZERS_PARALLELISM=(true | false)\n",
      "huggingface/tokenizers: The current process just got forked, after parallelism has already been used. Disabling parallelism to avoid deadlocks...\n",
      "To disable this warning, you can either:\n",
      "\t- Avoid using `tokenizers` before the fork if possible\n",
      "\t- Explicitly set the environment variable TOKENIZERS_PARALLELISM=(true | false)\n",
      "huggingface/tokenizers: The current process just got forked, after parallelism has already been used. Disabling parallelism to avoid deadlocks...\n",
      "To disable this warning, you can either:\n",
      "\t- Avoid using `tokenizers` before the fork if possible\n",
      "\t- Explicitly set the environment variable TOKENIZERS_PARALLELISM=(true | false)\n",
      "huggingface/tokenizers: The current process just got forked, after parallelism has already been used. Disabling parallelism to avoid deadlocks...\n",
      "To disable this warning, you can either:\n",
      "\t- Avoid using `tokenizers` before the fork if possible\n",
      "\t- Explicitly set the environment variable TOKENIZERS_PARALLELISM=(true | false)\n",
      "huggingface/tokenizers: The current process just got forked, after parallelism has already been used. Disabling parallelism to avoid deadlocks...\n",
      "To disable this warning, you can either:\n",
      "\t- Avoid using `tokenizers` before the fork if possible\n",
      "\t- Explicitly set the environment variable TOKENIZERS_PARALLELISM=(true | false)\n",
      "huggingface/tokenizers: The current process just got forked, after parallelism has already been used. Disabling parallelism to avoid deadlocks...\n",
      "To disable this warning, you can either:\n",
      "\t- Avoid using `tokenizers` before the fork if possible\n",
      "\t- Explicitly set the environment variable TOKENIZERS_PARALLELISM=(true | false)\n",
      "huggingface/tokenizers: The current process just got forked, after parallelism has already been used. Disabling parallelism to avoid deadlocks...\n",
      "To disable this warning, you can either:\n",
      "\t- Avoid using `tokenizers` before the fork if possible\n",
      "\t- Explicitly set the environment variable TOKENIZERS_PARALLELISM=(true | false)\n",
      "huggingface/tokenizers: The current process just got forked, after parallelism has already been used. Disabling parallelism to avoid deadlocks...\n",
      "To disable this warning, you can either:\n",
      "\t- Avoid using `tokenizers` before the fork if possible\n",
      "\t- Explicitly set the environment variable TOKENIZERS_PARALLELISM=(true | false)\n",
      "huggingface/tokenizers: The current process just got forked, after parallelism has already been used. Disabling parallelism to avoid deadlocks...\n",
      "To disable this warning, you can either:\n",
      "\t- Avoid using `tokenizers` before the fork if possible\n",
      "\t- Explicitly set the environment variable TOKENIZERS_PARALLELISM=(true | false)\n",
      "huggingface/tokenizers: The current process just got forked, after parallelism has already been used. Disabling parallelism to avoid deadlocks...\n",
      "To disable this warning, you can either:\n",
      "\t- Avoid using `tokenizers` before the fork if possible\n",
      "\t- Explicitly set the environment variable TOKENIZERS_PARALLELISM=(true | false)\n",
      "huggingface/tokenizers: The current process just got forked, after parallelism has already been used. Disabling parallelism to avoid deadlocks...\n",
      "To disable this warning, you can either:\n",
      "\t- Avoid using `tokenizers` before the fork if possible\n",
      "\t- Explicitly set the environment variable TOKENIZERS_PARALLELISM=(true | false)\n",
      "huggingface/tokenizers: The current process just got forked, after parallelism has already been used. Disabling parallelism to avoid deadlocks...\n",
      "To disable this warning, you can either:\n",
      "\t- Avoid using `tokenizers` before the fork if possible\n",
      "\t- Explicitly set the environment variable TOKENIZERS_PARALLELISM=(true | false)\n",
      "huggingface/tokenizers: The current process just got forked, after parallelism has already been used. Disabling parallelism to avoid deadlocks...\n",
      "To disable this warning, you can either:\n",
      "\t- Avoid using `tokenizers` before the fork if possible\n",
      "\t- Explicitly set the environment variable TOKENIZERS_PARALLELISM=(true | false)\n",
      "huggingface/tokenizers: The current process just got forked, after parallelism has already been used. Disabling parallelism to avoid deadlocks...\n",
      "To disable this warning, you can either:\n",
      "\t- Avoid using `tokenizers` before the fork if possible\n",
      "\t- Explicitly set the environment variable TOKENIZERS_PARALLELISM=(true | false)\n",
      "huggingface/tokenizers: The current process just got forked, after parallelism has already been used. Disabling parallelism to avoid deadlocks...\n",
      "To disable this warning, you can either:\n",
      "\t- Avoid using `tokenizers` before the fork if possible\n",
      "\t- Explicitly set the environment variable TOKENIZERS_PARALLELISM=(true | false)\n",
      "huggingface/tokenizers: The current process just got forked, after parallelism has already been used. Disabling parallelism to avoid deadlocks...\n",
      "To disable this warning, you can either:\n",
      "\t- Avoid using `tokenizers` before the fork if possible\n",
      "\t- Explicitly set the environment variable TOKENIZERS_PARALLELISM=(true | false)\n",
      "huggingface/tokenizers: The current process just got forked, after parallelism has already been used. Disabling parallelism to avoid deadlocks...\n",
      "To disable this warning, you can either:\n",
      "\t- Avoid using `tokenizers` before the fork if possible\n",
      "\t- Explicitly set the environment variable TOKENIZERS_PARALLELISM=(true | false)\n",
      "huggingface/tokenizers: The current process just got forked, after parallelism has already been used. Disabling parallelism to avoid deadlocks...\n",
      "To disable this warning, you can either:\n",
      "\t- Avoid using `tokenizers` before the fork if possible\n",
      "\t- Explicitly set the environment variable TOKENIZERS_PARALLELISM=(true | false)\n",
      "huggingface/tokenizers: The current process just got forked, after parallelism has already been used. Disabling parallelism to avoid deadlocks...\n",
      "To disable this warning, you can either:\n",
      "\t- Avoid using `tokenizers` before the fork if possible\n",
      "\t- Explicitly set the environment variable TOKENIZERS_PARALLELISM=(true | false)\n",
      "huggingface/tokenizers: The current process just got forked, after parallelism has already been used. Disabling parallelism to avoid deadlocks...\n",
      "To disable this warning, you can either:\n",
      "\t- Avoid using `tokenizers` before the fork if possible\n",
      "\t- Explicitly set the environment variable TOKENIZERS_PARALLELISM=(true | false)\n",
      "huggingface/tokenizers: The current process just got forked, after parallelism has already been used. Disabling parallelism to avoid deadlocks...\n",
      "To disable this warning, you can either:\n",
      "\t- Avoid using `tokenizers` before the fork if possible\n",
      "\t- Explicitly set the environment variable TOKENIZERS_PARALLELISM=(true | false)\n",
      "huggingface/tokenizers: The current process just got forked, after parallelism has already been used. Disabling parallelism to avoid deadlocks...\n",
      "To disable this warning, you can either:\n",
      "\t- Avoid using `tokenizers` before the fork if possible\n",
      "\t- Explicitly set the environment variable TOKENIZERS_PARALLELISM=(true | false)\n",
      "huggingface/tokenizers: The current process just got forked, after parallelism has already been used. Disabling parallelism to avoid deadlocks...\n",
      "To disable this warning, you can either:\n",
      "\t- Avoid using `tokenizers` before the fork if possible\n",
      "\t- Explicitly set the environment variable TOKENIZERS_PARALLELISM=(true | false)\n",
      "huggingface/tokenizers: The current process just got forked, after parallelism has already been used. Disabling parallelism to avoid deadlocks...\n",
      "To disable this warning, you can either:\n",
      "\t- Avoid using `tokenizers` before the fork if possible\n",
      "\t- Explicitly set the environment variable TOKENIZERS_PARALLELISM=(true | false)\n",
      "huggingface/tokenizers: The current process just got forked, after parallelism has already been used. Disabling parallelism to avoid deadlocks...\n",
      "To disable this warning, you can either:\n",
      "\t- Avoid using `tokenizers` before the fork if possible\n",
      "\t- Explicitly set the environment variable TOKENIZERS_PARALLELISM=(true | false)\n",
      "huggingface/tokenizers: The current process just got forked, after parallelism has already been used. Disabling parallelism to avoid deadlocks...\n",
      "To disable this warning, you can either:\n",
      "\t- Avoid using `tokenizers` before the fork if possible\n",
      "\t- Explicitly set the environment variable TOKENIZERS_PARALLELISM=(true | false)\n",
      "huggingface/tokenizers: The current process just got forked, after parallelism has already been used. Disabling parallelism to avoid deadlocks...\n",
      "To disable this warning, you can either:\n",
      "\t- Avoid using `tokenizers` before the fork if possible\n",
      "\t- Explicitly set the environment variable TOKENIZERS_PARALLELISM=(true | false)\n",
      "huggingface/tokenizers: The current process just got forked, after parallelism has already been used. Disabling parallelism to avoid deadlocks...\n",
      "To disable this warning, you can either:\n",
      "\t- Avoid using `tokenizers` before the fork if possible\n",
      "\t- Explicitly set the environment variable TOKENIZERS_PARALLELISM=(true | false)\n",
      "huggingface/tokenizers: The current process just got forked, after parallelism has already been used. Disabling parallelism to avoid deadlocks...\n",
      "To disable this warning, you can either:\n",
      "\t- Avoid using `tokenizers` before the fork if possible\n",
      "\t- Explicitly set the environment variable TOKENIZERS_PARALLELISM=(true | false)\n",
      "huggingface/tokenizers: The current process just got forked, after parallelism has already been used. Disabling parallelism to avoid deadlocks...\n",
      "To disable this warning, you can either:\n",
      "\t- Avoid using `tokenizers` before the fork if possible\n",
      "\t- Explicitly set the environment variable TOKENIZERS_PARALLELISM=(true | false)\n",
      "huggingface/tokenizers: The current process just got forked, after parallelism has already been used. Disabling parallelism to avoid deadlocks...\n",
      "To disable this warning, you can either:\n",
      "\t- Avoid using `tokenizers` before the fork if possible\n",
      "\t- Explicitly set the environment variable TOKENIZERS_PARALLELISM=(true | false)\n",
      "huggingface/tokenizers: The current process just got forked, after parallelism has already been used. Disabling parallelism to avoid deadlocks...\n",
      "To disable this warning, you can either:\n",
      "\t- Avoid using `tokenizers` before the fork if possible\n",
      "\t- Explicitly set the environment variable TOKENIZERS_PARALLELISM=(true | false)\n",
      "huggingface/tokenizers: The current process just got forked, after parallelism has already been used. Disabling parallelism to avoid deadlocks...\n",
      "To disable this warning, you can either:\n",
      "\t- Avoid using `tokenizers` before the fork if possible\n",
      "\t- Explicitly set the environment variable TOKENIZERS_PARALLELISM=(true | false)\n",
      "huggingface/tokenizers: The current process just got forked, after parallelism has already been used. Disabling parallelism to avoid deadlocks...\n",
      "To disable this warning, you can either:\n",
      "\t- Avoid using `tokenizers` before the fork if possible\n",
      "\t- Explicitly set the environment variable TOKENIZERS_PARALLELISM=(true | false)\n",
      "huggingface/tokenizers: The current process just got forked, after parallelism has already been used. Disabling parallelism to avoid deadlocks...\n",
      "To disable this warning, you can either:\n",
      "\t- Avoid using `tokenizers` before the fork if possible\n",
      "\t- Explicitly set the environment variable TOKENIZERS_PARALLELISM=(true | false)\n",
      "huggingface/tokenizers: The current process just got forked, after parallelism has already been used. Disabling parallelism to avoid deadlocks...\n",
      "To disable this warning, you can either:\n",
      "\t- Avoid using `tokenizers` before the fork if possible\n",
      "\t- Explicitly set the environment variable TOKENIZERS_PARALLELISM=(true | false)\n",
      "huggingface/tokenizers: The current process just got forked, after parallelism has already been used. Disabling parallelism to avoid deadlocks...\n",
      "To disable this warning, you can either:\n",
      "\t- Avoid using `tokenizers` before the fork if possible\n",
      "\t- Explicitly set the environment variable TOKENIZERS_PARALLELISM=(true | false)\n",
      "huggingface/tokenizers: The current process just got forked, after parallelism has already been used. Disabling parallelism to avoid deadlocks...\n",
      "To disable this warning, you can either:\n",
      "\t- Avoid using `tokenizers` before the fork if possible\n",
      "\t- Explicitly set the environment variable TOKENIZERS_PARALLELISM=(true | false)\n",
      "huggingface/tokenizers: The current process just got forked, after parallelism has already been used. Disabling parallelism to avoid deadlocks...\n",
      "To disable this warning, you can either:\n",
      "\t- Avoid using `tokenizers` before the fork if possible\n",
      "\t- Explicitly set the environment variable TOKENIZERS_PARALLELISM=(true | false)\n",
      "huggingface/tokenizers: The current process just got forked, after parallelism has already been used. Disabling parallelism to avoid deadlocks...\n",
      "To disable this warning, you can either:\n",
      "\t- Avoid using `tokenizers` before the fork if possible\n",
      "\t- Explicitly set the environment variable TOKENIZERS_PARALLELISM=(true | false)\n",
      "huggingface/tokenizers: The current process just got forked, after parallelism has already been used. Disabling parallelism to avoid deadlocks...\n",
      "To disable this warning, you can either:\n",
      "\t- Avoid using `tokenizers` before the fork if possible\n",
      "\t- Explicitly set the environment variable TOKENIZERS_PARALLELISM=(true | false)\n",
      "huggingface/tokenizers: The current process just got forked, after parallelism has already been used. Disabling parallelism to avoid deadlocks...\n",
      "To disable this warning, you can either:\n",
      "\t- Avoid using `tokenizers` before the fork if possible\n",
      "\t- Explicitly set the environment variable TOKENIZERS_PARALLELISM=(true | false)\n"
     ]
    },
    {
     "data": {
      "application/vnd.jupyter.widget-view+json": {
       "model_id": "3ac8bb5e7a684c109659d6a1052d2eaa",
       "version_major": 2,
       "version_minor": 0
      },
      "text/plain": [
       "Upload file model.safetensors:   0%|          | 1.00/1.32G [00:00<?, ?B/s]"
      ]
     },
     "metadata": {},
     "output_type": "display_data"
    },
    {
     "name": "stderr",
     "output_type": "stream",
     "text": [
      "To https://huggingface.co/peulsilva/roberta-large-setfit-8shots-sst5\n",
      "   7a12be6..be250ea  main -> main\n",
      "\n",
      "huggingface/tokenizers: The current process just got forked, after parallelism has already been used. Disabling parallelism to avoid deadlocks...\n",
      "To disable this warning, you can either:\n",
      "\t- Avoid using `tokenizers` before the fork if possible\n",
      "\t- Explicitly set the environment variable TOKENIZERS_PARALLELISM=(true | false)\n",
      "huggingface/tokenizers: The current process just got forked, after parallelism has already been used. Disabling parallelism to avoid deadlocks...\n",
      "To disable this warning, you can either:\n",
      "\t- Avoid using `tokenizers` before the fork if possible\n",
      "\t- Explicitly set the environment variable TOKENIZERS_PARALLELISM=(true | false)\n"
     ]
    },
    {
     "data": {
      "text/plain": [
       "'https://huggingface.co/peulsilva/roberta-large-setfit-8shots-sst5/commit/be250ea554b37bcb563ad836bb0f00f98bb4d4cb'"
      ]
     },
     "execution_count": 62,
     "metadata": {},
     "output_type": "execute_result"
    }
   ],
   "source": [
    "setfit_trainer.best_model.save_to_hub(\"peulsilva/roberta-large-setfit-8shots-sst5\")"
   ]
  },
  {
   "cell_type": "code",
   "execution_count": 63,
   "metadata": {},
   "outputs": [],
   "source": [
    "X_train, y_train = get_n_shots_per_class(\n",
    "    train_text,\n",
    "    train_labels,\n",
    "    n_shots= 8,\n",
    "    num_classes= num_classes\n",
    ")\n",
    "\n",
    "X_val, y_val = get_n_shots_per_class(\n",
    "    val_text, \n",
    "    val_labels,\n",
    "    n_shots = 100,\n",
    "    num_classes=num_classes,\n",
    ")\n",
    "\n",
    "from random import shuffle\n",
    "def shuffle_two_lists(X, y ):\n",
    "    X_shuff = []\n",
    "    y_shuff = []\n",
    "    index_shuf = list(range(len(X)))\n",
    "    shuffle(index_shuf)\n",
    "    for i in index_shuf:\n",
    "        X_shuff.append(X[i])\n",
    "        y_shuff.append(y[i])\n",
    "\n",
    "\n",
    "    return X_shuff, y_shuff\n",
    "X_train_shuffled , y_train_shuffled = shuffle_two_lists(X_train, y_train)"
   ]
  },
  {
   "cell_type": "code",
   "execution_count": 74,
   "metadata": {},
   "outputs": [
    {
     "name": "stdout",
     "output_type": "stream",
     "text": [
      "---------Epoch: 49-----------\n",
      "f1 score: 0.36399999260902405\n",
      "tensor([[65, 19, 14,  2,  0],\n",
      "        [45, 19, 19, 10,  7],\n",
      "        [18, 27, 27, 19,  9],\n",
      "        [ 6, 13, 26, 30, 25],\n",
      "        [ 1, 16, 13, 29, 41]], device='cuda:0')\n"
     ]
    },
    {
     "data": {
      "text/plain": [
       "[0.20000001788139343,\n",
       " 0.20000001788139343,\n",
       " 0.20400001108646393,\n",
       " 0.22200000286102295,\n",
       " 0.22599999606609344,\n",
       " 0.23600000143051147,\n",
       " 0.30000001192092896,\n",
       " 0.31200000643730164,\n",
       " 0.33399999141693115,\n",
       " 0.35199999809265137,\n",
       " 0.34599998593330383,\n",
       " 0.3499999940395355,\n",
       " 0.35199999809265137,\n",
       " 0.35600000619888306,\n",
       " 0.35600000619888306,\n",
       " 0.3659999966621399,\n",
       " 0.3659999966621399,\n",
       " 0.36800000071525574,\n",
       " 0.3779999613761902,\n",
       " 0.37400001287460327,\n",
       " 0.3700000047683716,\n",
       " 0.36399999260902405,\n",
       " 0.3619999587535858,\n",
       " 0.3619999587535858,\n",
       " 0.35999998450279236,\n",
       " 0.35999998450279236,\n",
       " 0.3619999587535858,\n",
       " 0.3619999587535858,\n",
       " 0.36399999260902405,\n",
       " 0.3580000102519989,\n",
       " 0.35999998450279236,\n",
       " 0.3619999587535858,\n",
       " 0.35999998450279236,\n",
       " 0.35999998450279236,\n",
       " 0.3619999587535858,\n",
       " 0.35999998450279236,\n",
       " 0.35999998450279236,\n",
       " 0.35999998450279236,\n",
       " 0.35999998450279236,\n",
       " 0.3619999587535858,\n",
       " 0.3619999587535858,\n",
       " 0.3619999587535858,\n",
       " 0.3619999587535858,\n",
       " 0.3619999587535858,\n",
       " 0.3619999587535858,\n",
       " 0.3619999587535858,\n",
       " 0.3619999587535858,\n",
       " 0.36399999260902405,\n",
       " 0.36399999260902405,\n",
       " 0.36399999260902405]"
      ]
     },
     "execution_count": 74,
     "metadata": {},
     "output_type": "execute_result"
    }
   ],
   "source": [
    "setfit_trainer.classifier_model = CLF(\n",
    "    embedding_model.get_sentence_embedding_dimension(),\n",
    "    num_classes,\n",
    "    activation_fn= torch.nn.ReLU()\n",
    ")\n",
    "setfit_trainer.classifier_model.to(device)\n",
    "setfit_trainer.train_classifier(\n",
    "    X_train_shuffled,\n",
    "    y_train_shuffled,\n",
    "    X_val,\n",
    "    y_val ,\n",
    "    n_epochs=50   \n",
    ")"
   ]
  },
  {
   "cell_type": "code",
   "execution_count": 75,
   "metadata": {},
   "outputs": [
    {
     "data": {
      "image/png": "[encoded data removed]",
      "text/plain": [
       "<Figure size 640x480 with 1 Axes>"
      ]
     },
     "metadata": {},
     "output_type": "display_data"
    }
   ],
   "source": [
    "history = setfit_trainer.history\n",
    "best_f1, best_epoch = np.max(history), np.argmax(history)\n",
    "plt.plot(setfit_trainer.history)\n",
    "\n",
    "plt.grid()\n",
    "plt.scatter(\n",
    "    [best_epoch],\n",
    "        [best_f1],\n",
    "    color = \"green\",\n",
    "    label = f\"Best f1 : {round(best_f1,3)}\"\n",
    ")\n",
    "plt.legend()\n",
    "plt.ylabel(\"f1 score\")\n",
    "plt.xlabel(\"epoch\")\n",
    "plt.title(\"SetFit training results- SST5 - 8 shots\")\n",
    "plt.tight_layout()"
   ]
  }
 ],
 "metadata": {
  "kernelspec": {
   "display_name": ".venv",
   "language": "python",
   "name": "python3"
  },
  "language_info": {
   "codemirror_mode": {
    "name": "ipython",
    "version": 3
   },
   "file_extension": ".py",
   "mimetype": "text/x-python",
   "name": "python",
   "nbconvert_exporter": "python",
   "pygments_lexer": "ipython3",
   "version": "3.9.18"
  }
 },
 "nbformat": 4,
 "nbformat_minor": 2
}
