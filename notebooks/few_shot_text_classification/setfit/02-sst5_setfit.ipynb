{
 "cells": [
  {
   "cell_type": "code",
   "execution_count": 1,
   "metadata": {},
   "outputs": [],
   "source": [
    "%load_ext autoreload\n",
    "%autoreload 2\n"
   ]
  },
  {
   "cell_type": "code",
   "execution_count": 2,
   "metadata": {},
   "outputs": [],
   "source": [
    "import transformers\n",
    "from transformers import AutoTokenizer, AutoModelForSequenceClassification, AutoModel\n",
    "from datasets import load_dataset\n",
    "import torch\n",
    "from torch.nn.functional import cross_entropy\n",
    "import matplotlib.pyplot as plt\n",
    "import numpy as np\n",
    "from tqdm import tqdm\n",
    "import logging\n",
    "from torcheval.metrics.functional import multiclass_f1_score, multiclass_confusion_matrix, binary_f1_score\n",
    "from copy import deepcopy, copy\n",
    "import seaborn as sns\n",
    "import pandas as pd\n",
    "from huggingface_hub import notebook_login\n",
    "from torch.utils.data import DataLoader, Dataset\n",
    "from collections import defaultdict, deque\n",
    "from sklearn.model_selection import train_test_split\n",
    "import random\n",
    "from sentence_transformers import SentenceTransformer, InputExample, losses, evaluation\n",
    "\n",
    "import os \n",
    "while 'notebooks' in os.getcwd():\n",
    "    os.chdir(\"..\")\n",
    "\n",
    "import re\n",
    "from typing import List, Dict\n",
    "    \n",
    "from src.preprocessing.sequence_classification.dataset import get_n_shots_per_class, get_dataloader\n",
    "from src.preprocessing.sequence_classification.set_fit_dataset import SetFitDataset\n",
    "from src.model.sequence_classification.setfit_trainer import SetFitTrainer\n",
    "from src.model.sequence_classification.trainer import SequenceClassificationTrainer\n",
    "import warnings\n",
    "warnings.filterwarnings(\"ignore\")"
   ]
  },
  {
   "cell_type": "code",
   "execution_count": 3,
   "metadata": {},
   "outputs": [
    {
     "name": "stdout",
     "output_type": "stream",
     "text": [
      "mkdir: cannot create directory ‘logs’: File exists\n"
     ]
    }
   ],
   "source": [
    "!mkdir logs\n",
    "model_name = \"SetFit\"\n",
    "dataset_name = \"SST5\"\n",
    "device = \"cuda\" if torch.cuda.is_available() else \"cpu\"\n",
    "# device = \"cpu\"\n",
    "# logging.basicConfig(filename=f'logs/{model_name}_{dataset_name}.log', encoding='utf-8', level= logging.INFO)"
   ]
  },
  {
   "cell_type": "code",
   "execution_count": 4,
   "metadata": {},
   "outputs": [
    {
     "data": {
      "application/vnd.jupyter.widget-view+json": {
       "model_id": "38837f58a5e24928b6da7b21ca505e8f",
       "version_major": 2,
       "version_minor": 0
      },
      "text/plain": [
       "VBox(children=(HTML(value='<center> <img\\nsrc=https://huggingface.co/front/assets/huggingface_logo-noborder.sv…"
      ]
     },
     "metadata": {},
     "output_type": "display_data"
    }
   ],
   "source": [
    "notebook_login()"
   ]
  },
  {
   "cell_type": "code",
   "execution_count": 4,
   "metadata": {},
   "outputs": [],
   "source": [
    "model = SentenceTransformer(\"whaleloops/phrase-bert\")"
   ]
  },
  {
   "cell_type": "code",
   "execution_count": 5,
   "metadata": {},
   "outputs": [],
   "source": [
    "try:\n",
    "    from torch.hub import _get_torch_home\n",
    "\n",
    "    torch_cache_home = _get_torch_home()\n",
    "except ImportError:\n",
    "    torch_cache_home = os.path.expanduser(os.getenv('TORCH_HOME', os.path.join(os.getenv('XDG_CACHE_HOME', '~/.cache'), 'torch')))\n",
    "\n",
    "cache_folder = os.path.join(torch_cache_home, 'sentence_transformers')"
   ]
  },
  {
   "cell_type": "code",
   "execution_count": 6,
   "metadata": {},
   "outputs": [
    {
     "data": {
      "text/plain": [
       "'/users/eleves-a/2022/pedro.silva/.cache/torch/sentence_transformers'"
      ]
     },
     "execution_count": 6,
     "metadata": {},
     "output_type": "execute_result"
    }
   ],
   "source": [
    "cache_folder"
   ]
  },
  {
   "cell_type": "markdown",
   "metadata": {},
   "source": [
    "## Loading SST5 data"
   ]
  },
  {
   "cell_type": "code",
   "execution_count": 4,
   "metadata": {},
   "outputs": [],
   "source": [
    "sst5_dataset = load_dataset(\"SetFit/sst5\")"
   ]
  },
  {
   "cell_type": "code",
   "execution_count": 5,
   "metadata": {},
   "outputs": [
    {
     "data": {
      "text/plain": [
       "(array([0, 1, 2, 3, 4]), array([1092, 2218, 1624, 2322, 1288]))"
      ]
     },
     "execution_count": 5,
     "metadata": {},
     "output_type": "execute_result"
    }
   ],
   "source": [
    "classes = np.unique(sst5_dataset['train']['label'], return_counts=True)\n",
    "classes"
   ]
  },
  {
   "cell_type": "code",
   "execution_count": 6,
   "metadata": {},
   "outputs": [],
   "source": [
    "num_classes = len(classes[0])"
   ]
  },
  {
   "cell_type": "code",
   "execution_count": 7,
   "metadata": {},
   "outputs": [
    {
     "data": {
      "text/plain": [
       "5"
      ]
     },
     "execution_count": 7,
     "metadata": {},
     "output_type": "execute_result"
    }
   ],
   "source": [
    "num_classes"
   ]
  },
  {
   "cell_type": "code",
   "execution_count": 8,
   "metadata": {},
   "outputs": [
    {
     "data": {
      "text/plain": [
       "8544"
      ]
     },
     "execution_count": 8,
     "metadata": {},
     "output_type": "execute_result"
    }
   ],
   "source": [
    "data_size = len(sst5_dataset['train'])\n",
    "data_size"
   ]
  },
  {
   "cell_type": "code",
   "execution_count": 9,
   "metadata": {},
   "outputs": [],
   "source": [
    "train_text = sst5_dataset['train']['text'][0:data_size*3//5]\n",
    "train_labels = sst5_dataset['train']['label'][0:data_size*3//5]\n",
    "\n",
    "val_text = sst5_dataset['train']['text'][data_size*3//5:]\n",
    "val_labels = sst5_dataset['train']['label'][data_size*3//5:]"
   ]
  },
  {
   "cell_type": "code",
   "execution_count": null,
   "metadata": {},
   "outputs": [],
   "source": []
  },
  {
   "cell_type": "markdown",
   "metadata": {},
   "source": [
    "## Normal Finetune"
   ]
  },
  {
   "cell_type": "code",
   "execution_count": 14,
   "metadata": {},
   "outputs": [
    {
     "name": "stderr",
     "output_type": "stream",
     "text": [
      "Some weights of BertForSequenceClassification were not initialized from the model checkpoint at bert-base-uncased and are newly initialized: ['classifier.weight', 'classifier.bias']\n",
      "You should probably TRAIN this model on a down-stream task to be able to use it for predictions and inference.\n"
     ]
    }
   ],
   "source": [
    "bert = AutoModelForSequenceClassification.from_pretrained(\"bert-base-uncased\", num_labels = num_classes)\\\n",
    "    .to(device)\n",
    "tokenizer = AutoTokenizer.from_pretrained(\"bert-base-uncased\")"
   ]
  },
  {
   "cell_type": "code",
   "execution_count": 15,
   "metadata": {},
   "outputs": [],
   "source": [
    "train_dataloader = get_dataloader(\n",
    "    train_text,\n",
    "    train_labels,\n",
    "    tokenizer,\n",
    "    n_shots = 200,\n",
    "    num_classes= num_classes,\n",
    "    equalize_class=False,\n",
    "    batch_size = 8\n",
    ")\n",
    "\n",
    "val_dataloader = get_dataloader(\n",
    "    val_text,\n",
    "    val_labels,\n",
    "    tokenizer,\n",
    "    n_shots = 100,\n",
    "    equalize_class=False,\n",
    "    num_classes=num_classes\n",
    ")"
   ]
  },
  {
   "cell_type": "code",
   "execution_count": 16,
   "metadata": {},
   "outputs": [
    {
     "data": {
      "text/plain": [
       "{'input_ids': tensor([[  101,  1037, 18385,  ...,     0,     0,     0],\n",
       "         [  101,  4593,  2128,  ...,     0,     0,     0],\n",
       "         [  101,  2027,  3653,  ...,     0,     0,     0],\n",
       "         ...,\n",
       "         [  101,  1998,  2111,  ...,     0,     0,     0],\n",
       "         [  101,  1996,  4616,  ...,     0,     0,     0],\n",
       "         [  101,  1012,  1012,  ...,     0,     0,     0]]),\n",
       " 'attention_mask': tensor([[1, 1, 1,  ..., 0, 0, 0],\n",
       "         [1, 1, 1,  ..., 0, 0, 0],\n",
       "         [1, 1, 1,  ..., 0, 0, 0],\n",
       "         ...,\n",
       "         [1, 1, 1,  ..., 0, 0, 0],\n",
       "         [1, 1, 1,  ..., 0, 0, 0],\n",
       "         [1, 1, 1,  ..., 0, 0, 0]]),\n",
       " 'labels': tensor([4, 1, 1, 2, 3, 2, 3, 3, 1, 4, 1, 1, 3, 1, 1, 4, 3, 3, 1, 4, 0, 1, 1, 4,\n",
       "         1, 2, 1, 2, 0, 3, 4, 1, 4, 1, 2, 1, 2, 2, 3, 2, 3, 3, 2, 2, 3, 1, 2, 2,\n",
       "         2, 2, 1, 1, 4, 3, 3, 2, 3, 3, 1, 4, 0, 3, 3, 3, 4, 1, 2, 3, 4, 4, 2, 0,\n",
       "         3, 0, 3, 2, 4, 2, 3, 4, 3, 3, 3, 4, 1, 0, 0, 2, 4, 3, 1, 4, 3, 3, 4, 2,\n",
       "         4, 3, 1, 1, 2, 1, 1, 4, 1, 1, 1, 1, 4, 2, 3, 4, 0, 3, 4, 3, 1, 3, 3, 2,\n",
       "         3, 3, 3, 1, 1, 1, 3, 3, 1, 1, 3, 1, 1, 3, 2, 3, 1, 1, 1, 4, 2, 3, 2, 3,\n",
       "         2, 4, 0, 0, 1, 2, 3, 3, 2, 2, 2, 0, 3, 2, 4, 3, 4, 1, 3, 1, 1, 2, 0, 2,\n",
       "         2, 4, 2, 2, 4, 1, 0, 1, 0, 1, 3, 2, 0, 3, 3, 0, 3, 4, 4, 1, 4, 3, 4, 3,\n",
       "         3, 0, 4, 1, 2, 1, 3, 0, 2, 1, 1, 1, 1, 3, 0, 4, 4, 1, 0, 1, 0, 4, 4, 4,\n",
       "         2, 3, 3, 1, 1, 3, 2, 1, 3, 3, 1, 4, 4, 2, 4, 2, 2, 2, 4, 0, 1, 3, 2, 3,\n",
       "         3, 4, 0, 1, 4, 1, 2, 3, 4, 0, 4, 1, 4, 3, 1, 2, 4, 2, 4, 4, 4, 1, 1, 3,\n",
       "         1, 3, 0, 1, 1, 3, 3, 0, 0, 2, 3, 3, 4, 2, 4, 3, 1, 1, 4, 3, 3, 1, 0, 1,\n",
       "         3, 3, 2, 3, 3, 3, 3, 3, 1, 3, 4, 0, 2, 0, 2, 0, 2, 2, 0, 3, 0, 2, 2, 1,\n",
       "         3, 3, 4, 0, 0, 3, 2, 3, 3, 1, 4, 0, 4, 3, 1, 0, 3, 1, 4, 4, 0, 1, 3, 0,\n",
       "         4, 1, 0, 3, 3, 3, 3, 2, 3, 3, 4, 0, 4, 2, 3, 3, 2, 3, 1, 2, 1, 0, 0, 2,\n",
       "         3, 3, 4, 2, 1, 2, 3, 2, 1, 1, 0, 3, 1, 1, 4, 0, 3, 3, 1, 3, 1, 1, 1, 1,\n",
       "         3, 3, 0, 4, 2, 2, 2, 1, 0, 0, 0, 4, 4, 2, 3, 3, 4, 2, 1, 1, 0, 0, 2, 2,\n",
       "         4, 3, 3, 3, 1, 1, 0, 2, 3, 0, 1, 1, 3, 0, 3, 3, 3, 1, 2, 3, 0, 3, 1, 2,\n",
       "         2, 3, 3, 2, 3, 1, 1, 0, 2, 2, 4, 2, 3, 1, 0, 3, 0, 3, 4, 3, 1, 2, 1, 0,\n",
       "         1, 0, 3, 1, 1, 4, 2, 2, 1, 0, 1, 1, 0, 4, 2, 1, 3, 4, 3, 4, 3, 1, 3, 1,\n",
       "         4, 1, 3, 1, 2, 3, 3, 1, 1, 3, 2, 1, 1, 1, 0, 3, 4, 3, 2, 3, 3, 2, 1, 2,\n",
       "         3, 0, 2, 4, 4, 1, 4, 0, 1, 1, 2, 2, 2, 0, 3, 1, 3, 2, 0, 4, 4, 0, 2, 2,\n",
       "         1, 3, 3, 1, 4, 3, 2, 3, 3, 0, 0, 2, 1, 4, 2, 3, 2, 2, 0, 0, 1, 3, 1, 3,\n",
       "         1, 3, 2, 0, 1, 1, 3, 3, 3, 1, 2, 3, 0, 1, 0, 1, 4, 3, 3, 1, 3, 1, 1, 0,\n",
       "         2, 1, 1, 0, 4, 0, 2, 0, 2, 2, 1, 3, 4, 1, 2, 3, 0, 1, 1, 1, 3, 1, 3, 0,\n",
       "         1, 3, 3, 0, 2, 0, 4, 2, 1, 3, 3, 1, 2, 3, 3, 0, 3, 1, 1, 3, 3, 3, 3, 4,\n",
       "         2, 4, 2, 3, 3, 1, 4, 3, 2, 3, 3, 1, 1, 1, 1, 1, 2, 1, 2, 4, 4, 1, 0, 2,\n",
       "         1, 3, 3, 0, 4, 1, 3, 1, 2, 1, 2, 3, 1, 4, 3, 1, 0, 4, 3, 0, 4, 1, 1, 3,\n",
       "         1, 3, 1, 1, 0, 1, 1, 4, 2, 2, 1, 4, 2, 4, 2, 2, 1, 1, 4, 3, 3, 4, 1, 1,\n",
       "         1, 3, 4, 0, 0, 1, 3, 2, 3, 4, 1, 4, 3, 4, 1, 0, 4, 2, 4, 2, 1, 1, 2, 1,\n",
       "         1, 2, 3, 1, 4, 2, 0, 0, 1, 1, 3, 3, 2, 2, 4, 2, 0, 3, 4, 3, 1, 1, 3, 3,\n",
       "         1, 2, 2, 3, 4, 4, 0, 1, 3, 0, 0, 0, 3, 2, 2, 1, 1, 3, 3, 4, 0, 2, 3, 4,\n",
       "         3, 3, 1, 1, 4, 3, 3, 1, 1, 4, 3, 3, 2, 3, 2, 3, 1, 4, 4, 4, 3, 3, 2, 3,\n",
       "         1, 2, 1, 1, 2, 3, 3, 0, 0, 1, 3, 3, 0, 0, 1, 4, 1, 4, 1, 3, 1, 1, 4, 1,\n",
       "         0, 3, 1, 3, 3, 3, 2, 4, 4, 3, 4, 3, 4, 3, 1, 3, 1, 4, 0, 4, 4, 1, 4, 2,\n",
       "         4, 1, 2, 0, 0, 2, 2, 1, 2, 0, 1, 1, 3, 2, 3, 0, 3, 0, 3, 1, 3, 1, 3, 3,\n",
       "         1, 0, 4, 0, 1, 4, 4, 3, 3, 0, 4, 0, 4, 4, 3, 1, 3, 2, 2, 3, 3, 1, 1, 3,\n",
       "         3, 3, 1, 3, 2, 3, 3, 4, 3, 3, 1, 1, 1, 2, 1, 4, 2, 2, 0, 3, 4, 2, 0, 2,\n",
       "         4, 2, 3, 4, 2, 1, 1, 4, 4, 2, 0, 1, 1, 1, 0, 3, 0, 0, 3, 3, 3, 3, 3, 2,\n",
       "         3, 1, 0, 3, 0, 1, 2, 3, 4, 1, 3, 2, 3, 0, 3, 3, 0, 3, 1, 3, 3, 3, 2, 1,\n",
       "         2, 1, 4, 1, 0, 4, 4, 1, 1, 3, 3, 2, 1, 3, 4, 1, 1, 3, 2, 1, 1, 0, 3, 0,\n",
       "         0, 1, 1, 1, 0, 2, 0, 4, 4, 0, 1, 1, 1, 1, 2, 1])}"
      ]
     },
     "execution_count": 16,
     "metadata": {},
     "output_type": "execute_result"
    }
   ],
   "source": [
    "train_dataloader.dataset[0:]"
   ]
  },
  {
   "cell_type": "code",
   "execution_count": 17,
   "metadata": {},
   "outputs": [
    {
     "data": {
      "text/plain": [
       "(array([0, 1, 2, 3, 4]), array([132, 261, 174, 279, 154]))"
      ]
     },
     "execution_count": 17,
     "metadata": {},
     "output_type": "execute_result"
    }
   ],
   "source": [
    "np.unique(\n",
    "    train_dataloader.dataset[0:]['labels'],\n",
    "    return_counts= True\n",
    "\n",
    ")"
   ]
  },
  {
   "cell_type": "code",
   "execution_count": null,
   "metadata": {},
   "outputs": [],
   "source": []
  },
  {
   "cell_type": "code",
   "execution_count": 19,
   "metadata": {},
   "outputs": [
    {
     "name": "stderr",
     "output_type": "stream",
     "text": [
      "Some weights of BertForSequenceClassification were not initialized from the model checkpoint at bert-base-uncased and are newly initialized: ['classifier.weight', 'classifier.bias']\n",
      "You should probably TRAIN this model on a down-stream task to be able to use it for predictions and inference.\n",
      "100%|██████████| 500/500 [00:22<00:00, 22.25it/s]\n",
      "100%|██████████| 500/500 [00:22<00:00, 22.20it/s]\n",
      "100%|██████████| 500/500 [00:22<00:00, 22.18it/s]\n",
      "100%|██████████| 500/500 [00:22<00:00, 22.17it/s]\n",
      "100%|██████████| 500/500 [00:22<00:00, 22.14it/s]\n",
      "100%|██████████| 500/500 [00:22<00:00, 22.13it/s]\n",
      "100%|██████████| 500/500 [00:22<00:00, 22.14it/s]\n",
      "100%|██████████| 500/500 [00:22<00:00, 22.14it/s]\n",
      "100%|██████████| 500/500 [00:22<00:00, 22.14it/s]\n",
      "100%|██████████| 500/500 [00:22<00:00, 22.15it/s]\n",
      "Some weights of BertForSequenceClassification were not initialized from the model checkpoint at bert-base-uncased and are newly initialized: ['classifier.weight', 'classifier.bias']\n",
      "You should probably TRAIN this model on a down-stream task to be able to use it for predictions and inference.\n",
      "100%|██████████| 250/250 [00:11<00:00, 22.19it/s]\n",
      "100%|██████████| 250/250 [00:11<00:00, 22.17it/s]\n",
      "100%|██████████| 250/250 [00:11<00:00, 22.19it/s]\n",
      "100%|██████████| 250/250 [00:11<00:00, 22.17it/s]\n",
      "100%|██████████| 250/250 [00:11<00:00, 22.19it/s]\n",
      "100%|██████████| 250/250 [00:11<00:00, 22.16it/s]\n",
      "100%|██████████| 250/250 [00:11<00:00, 22.17it/s]\n",
      "100%|██████████| 250/250 [00:11<00:00, 22.17it/s]\n",
      "100%|██████████| 250/250 [00:11<00:00, 22.20it/s]\n",
      "100%|██████████| 250/250 [00:11<00:00, 22.17it/s]\n",
      "Some weights of BertForSequenceClassification were not initialized from the model checkpoint at bert-base-uncased and are newly initialized: ['classifier.weight', 'classifier.bias']\n",
      "You should probably TRAIN this model on a down-stream task to be able to use it for predictions and inference.\n",
      "100%|██████████| 125/125 [00:05<00:00, 22.26it/s]\n",
      "100%|██████████| 125/125 [00:05<00:00, 22.24it/s]\n",
      "100%|██████████| 125/125 [00:05<00:00, 22.25it/s]\n",
      "100%|██████████| 125/125 [00:05<00:00, 22.25it/s]\n",
      "100%|██████████| 125/125 [00:05<00:00, 22.27it/s]\n",
      "100%|██████████| 125/125 [00:05<00:00, 22.24it/s]\n",
      "100%|██████████| 125/125 [00:05<00:00, 22.27it/s]\n",
      "100%|██████████| 125/125 [00:05<00:00, 22.24it/s]\n",
      "100%|██████████| 125/125 [00:05<00:00, 22.24it/s]\n",
      "100%|██████████| 125/125 [00:05<00:00, 22.25it/s]\n",
      "Some weights of BertForSequenceClassification were not initialized from the model checkpoint at bert-base-uncased and are newly initialized: ['classifier.weight', 'classifier.bias']\n",
      "You should probably TRAIN this model on a down-stream task to be able to use it for predictions and inference.\n",
      "100%|██████████| 60/60 [00:02<00:00, 22.39it/s]\n",
      "100%|██████████| 60/60 [00:02<00:00, 22.40it/s]\n",
      "100%|██████████| 60/60 [00:02<00:00, 22.38it/s]\n",
      "100%|██████████| 60/60 [00:02<00:00, 22.39it/s]\n",
      "100%|██████████| 60/60 [00:02<00:00, 22.38it/s]\n",
      "100%|██████████| 60/60 [00:02<00:00, 22.39it/s]\n",
      "100%|██████████| 60/60 [00:02<00:00, 22.39it/s]\n",
      "100%|██████████| 60/60 [00:02<00:00, 22.42it/s]\n",
      "100%|██████████| 60/60 [00:02<00:00, 22.38it/s]\n",
      "100%|██████████| 60/60 [00:02<00:00, 22.38it/s]\n",
      "Some weights of BertForSequenceClassification were not initialized from the model checkpoint at bert-base-uncased and are newly initialized: ['classifier.weight', 'classifier.bias']\n",
      "You should probably TRAIN this model on a down-stream task to be able to use it for predictions and inference.\n",
      "100%|██████████| 30/30 [00:01<00:00, 22.70it/s]\n",
      "100%|██████████| 30/30 [00:01<00:00, 22.73it/s]\n",
      "100%|██████████| 30/30 [00:01<00:00, 22.69it/s]\n",
      "100%|██████████| 30/30 [00:01<00:00, 22.68it/s]\n",
      "100%|██████████| 30/30 [00:01<00:00, 22.69it/s]\n",
      "100%|██████████| 30/30 [00:01<00:00, 22.68it/s]\n",
      "100%|██████████| 30/30 [00:01<00:00, 22.68it/s]\n",
      "100%|██████████| 30/30 [00:01<00:00, 22.69it/s]\n",
      "100%|██████████| 30/30 [00:01<00:00, 22.66it/s]\n",
      "100%|██████████| 30/30 [00:01<00:00, 22.66it/s]\n",
      "Some weights of BertForSequenceClassification were not initialized from the model checkpoint at bert-base-uncased and are newly initialized: ['classifier.weight', 'classifier.bias']\n",
      "You should probably TRAIN this model on a down-stream task to be able to use it for predictions and inference.\n",
      "100%|██████████| 15/15 [00:00<00:00, 23.12it/s]\n",
      "100%|██████████| 15/15 [00:00<00:00, 23.30it/s]\n",
      "100%|██████████| 15/15 [00:00<00:00, 23.27it/s]\n",
      "100%|██████████| 15/15 [00:00<00:00, 23.30it/s]\n",
      "100%|██████████| 15/15 [00:00<00:00, 23.27it/s]\n",
      "100%|██████████| 15/15 [00:00<00:00, 23.27it/s]\n",
      "100%|██████████| 15/15 [00:00<00:00, 23.30it/s]\n",
      "100%|██████████| 15/15 [00:00<00:00, 23.32it/s]\n",
      "100%|██████████| 15/15 [00:00<00:00, 23.21it/s]\n",
      "100%|██████████| 15/15 [00:00<00:00, 23.28it/s]\n"
     ]
    }
   ],
   "source": [
    "histories = {}\n",
    "\n",
    "def seed_worker(worker_id):\n",
    "    worker_seed = torch.initial_seed() % 2**32\n",
    "    np.random.seed(worker_seed)\n",
    "    random.seed(worker_seed)\n",
    "\n",
    "g = torch.Generator()\n",
    "g.manual_seed(0)\n",
    "\n",
    "for i in range(6):\n",
    "\n",
    "    bert = AutoModelForSequenceClassification\\\n",
    "        .from_pretrained(\"bert-base-uncased\", num_labels = num_classes)\\\n",
    "        .to(device)\n",
    "\n",
    "    trainer = SequenceClassificationTrainer(\n",
    "        bert,\n",
    "        num_classes\n",
    "    )\n",
    "    n_shots = 100//2**i\n",
    "    \n",
    "    train_dataloader = get_dataloader(\n",
    "        train_text,\n",
    "        train_labels,\n",
    "        tokenizer,\n",
    "        n_shots= n_shots,\n",
    "        num_classes= num_classes,\n",
    "        shuffle = True,\n",
    "        worker_init_fn=seed_worker,\n",
    "        generator=g\n",
    "    )\n",
    "\n",
    "    val_dataloader = get_dataloader(\n",
    "        val_text,\n",
    "        val_labels,\n",
    "        tokenizer,\n",
    "        n_shots = 250,\n",
    "        num_classes=num_classes,\n",
    "        equalize_class=False\n",
    "    )\n",
    "\n",
    "    history = trainer.compile(\n",
    "        train_dataloader,\n",
    "        val_dataloader,\n",
    "        n_epochs=10\n",
    "    )\n",
    "\n",
    "    histories[100//2**i] = history"
   ]
  },
  {
   "cell_type": "code",
   "execution_count": 20,
   "metadata": {},
   "outputs": [
    {
     "data": {
      "image/png": "[encoded data removed]",
      "text/plain": [
       "<Figure size 640x480 with 1 Axes>"
      ]
     },
     "metadata": {},
     "output_type": "display_data"
    }
   ],
   "source": [
    "results = {}\n",
    "for k, v in histories.items():\n",
    "    plt.plot(v['val_f1'],\n",
    "             label = f\"n-shots = {k}\")\n",
    "    \n",
    "plt.title(\"Performance decay with # of shots-SST5\")\n",
    "    \n",
    "plt.grid()\n",
    "plt.legend()\n",
    "plt.xlabel(\"epoch\")\n",
    "plt.ylabel(\"f1-score\")\n",
    "plt.show()"
   ]
  },
  {
   "cell_type": "code",
   "execution_count": null,
   "metadata": {},
   "outputs": [],
   "source": []
  },
  {
   "cell_type": "markdown",
   "metadata": {},
   "source": [
    "## 2 Shots"
   ]
  },
  {
   "cell_type": "code",
   "execution_count": 13,
   "metadata": {},
   "outputs": [],
   "source": [
    "n_shots =2 "
   ]
  },
  {
   "cell_type": "code",
   "execution_count": 14,
   "metadata": {},
   "outputs": [],
   "source": [
    "X_train, y_train = get_n_shots_per_class(\n",
    "    train_text,\n",
    "    train_labels,\n",
    "    n_shots= n_shots,\n",
    "    num_classes= num_classes\n",
    ")"
   ]
  },
  {
   "cell_type": "code",
   "execution_count": 15,
   "metadata": {},
   "outputs": [],
   "source": [
    "X_val, y_val = get_n_shots_per_class(\n",
    "    val_text, \n",
    "    val_labels,\n",
    "    n_shots = 10,\n",
    "    num_classes=num_classes\n",
    ")"
   ]
  },
  {
   "cell_type": "code",
   "execution_count": 16,
   "metadata": {},
   "outputs": [],
   "source": [
    "set_fit_data_train = SetFitDataset(\n",
    "    X_train,\n",
    "    y_train, \n",
    "    input_example_format= True\n",
    "    # R = 5\n",
    ")\n",
    "\n",
    "set_fit_data_val = SetFitDataset(\n",
    "    X_val,\n",
    "    y_val,\n",
    "    # R = 5,\n",
    "    input_example_format= False\n",
    ")"
   ]
  },
  {
   "cell_type": "code",
   "execution_count": 17,
   "metadata": {},
   "outputs": [],
   "source": [
    "train_dataloader = DataLoader(\n",
    "    set_fit_data_train.data,\n",
    "    shuffle=True\n",
    ")\n",
    "\n",
    "val_dataloader = DataLoader(\n",
    "    set_fit_data_val\n",
    ")"
   ]
  },
  {
   "cell_type": "markdown",
   "metadata": {},
   "source": [
    "### Train embedding"
   ]
  },
  {
   "cell_type": "code",
   "execution_count": 19,
   "metadata": {},
   "outputs": [
    {
     "name": "stdout",
     "output_type": "stream",
     "text": [
      "Running validation after 0 epochs\n"
     ]
    },
    {
     "name": "stderr",
     "output_type": "stream",
     "text": [
      "100%|██████████| 1225/1225 [00:08<00:00, 139.07it/s]\n"
     ]
    },
    {
     "name": "stdout",
     "output_type": "stream",
     "text": [
      "f1 score: 0.30127662420272827\n",
      "tensor([[227, 773],\n",
      "        [ 48, 177]], device='cuda:0')\n",
      "Running validation after 1 epochs\n"
     ]
    },
    {
     "name": "stderr",
     "output_type": "stream",
     "text": [
      "100%|██████████| 1225/1225 [00:08<00:00, 138.81it/s]\n"
     ]
    },
    {
     "name": "stdout",
     "output_type": "stream",
     "text": [
      "f1 score: 0.29871243238449097\n",
      "tensor([[234, 766],\n",
      "        [ 51, 174]], device='cuda:0')\n",
      "Running validation after 2 epochs\n"
     ]
    },
    {
     "name": "stderr",
     "output_type": "stream",
     "text": [
      "100%|██████████| 1225/1225 [00:08<00:00, 137.89it/s]\n"
     ]
    },
    {
     "name": "stdout",
     "output_type": "stream",
     "text": [
      "f1 score: 0.2970638871192932\n",
      "tensor([[239, 761],\n",
      "        [ 53, 172]], device='cuda:0')\n",
      "Running validation after 3 epochs\n"
     ]
    },
    {
     "name": "stderr",
     "output_type": "stream",
     "text": [
      "100%|██████████| 1225/1225 [00:08<00:00, 136.62it/s]\n"
     ]
    },
    {
     "name": "stdout",
     "output_type": "stream",
     "text": [
      "f1 score: 0.2986111044883728\n",
      "tensor([[245, 755],\n",
      "        [ 53, 172]], device='cuda:0')\n",
      "Running validation after 4 epochs\n"
     ]
    },
    {
     "name": "stderr",
     "output_type": "stream",
     "text": [
      "100%|██████████| 1225/1225 [00:08<00:00, 136.74it/s]\n"
     ]
    },
    {
     "name": "stdout",
     "output_type": "stream",
     "text": [
      "f1 score: 0.29649123549461365\n",
      "tensor([[254, 746],\n",
      "        [ 56, 169]], device='cuda:0')\n",
      "Running validation after 5 epochs\n"
     ]
    },
    {
     "name": "stderr",
     "output_type": "stream",
     "text": [
      "100%|██████████| 1225/1225 [00:08<00:00, 137.73it/s]\n"
     ]
    },
    {
     "name": "stdout",
     "output_type": "stream",
     "text": [
      "f1 score: 0.29427313804626465\n",
      "tensor([[257, 743],\n",
      "        [ 58, 167]], device='cuda:0')\n",
      "Running validation after 6 epochs\n"
     ]
    },
    {
     "name": "stderr",
     "output_type": "stream",
     "text": [
      "100%|██████████| 1225/1225 [00:08<00:00, 136.84it/s]\n"
     ]
    },
    {
     "name": "stdout",
     "output_type": "stream",
     "text": [
      "f1 score: 0.29081180691719055\n",
      "tensor([[267, 733],\n",
      "        [ 62, 163]], device='cuda:0')\n",
      "Running validation after 7 epochs\n"
     ]
    },
    {
     "name": "stderr",
     "output_type": "stream",
     "text": [
      "100%|██████████| 1225/1225 [00:08<00:00, 137.23it/s]\n"
     ]
    },
    {
     "name": "stdout",
     "output_type": "stream",
     "text": [
      "f1 score: 0.2887892425060272\n",
      "tensor([[271, 729],\n",
      "        [ 64, 161]], device='cuda:0')\n",
      "Running validation after 8 epochs\n"
     ]
    },
    {
     "name": "stderr",
     "output_type": "stream",
     "text": [
      "100%|██████████| 1225/1225 [00:08<00:00, 136.79it/s]\n"
     ]
    },
    {
     "name": "stdout",
     "output_type": "stream",
     "text": [
      "f1 score: 0.2862318754196167\n",
      "tensor([[279, 721],\n",
      "        [ 67, 158]], device='cuda:0')\n",
      "Running validation after 9 epochs\n"
     ]
    },
    {
     "name": "stderr",
     "output_type": "stream",
     "text": [
      "100%|██████████| 1225/1225 [00:08<00:00, 137.62it/s]\n"
     ]
    },
    {
     "name": "stdout",
     "output_type": "stream",
     "text": [
      "f1 score: 0.28545287251472473\n",
      "tensor([[288, 712],\n",
      "        [ 69, 156]], device='cuda:0')\n"
     ]
    },
    {
     "name": "stderr",
     "output_type": "stream",
     "text": [
      "huggingface/tokenizers: The current process just got forked, after parallelism has already been used. Disabling parallelism to avoid deadlocks...\n",
      "To disable this warning, you can either:\n",
      "\t- Avoid using `tokenizers` before the fork if possible\n",
      "\t- Explicitly set the environment variable TOKENIZERS_PARALLELISM=(true | false)\n",
      "huggingface/tokenizers: The current process just got forked, after parallelism has already been used. Disabling parallelism to avoid deadlocks...\n",
      "To disable this warning, you can either:\n",
      "\t- Avoid using `tokenizers` before the fork if possible\n",
      "\t- Explicitly set the environment variable TOKENIZERS_PARALLELISM=(true | false)\n",
      "huggingface/tokenizers: The current process just got forked, after parallelism has already been used. Disabling parallelism to avoid deadlocks...\n",
      "To disable this warning, you can either:\n",
      "\t- Avoid using `tokenizers` before the fork if possible\n",
      "\t- Explicitly set the environment variable TOKENIZERS_PARALLELISM=(true | false)\n",
      "Cloning https://huggingface.co/peulsilva/phrase-bert-setfit-sst5-2shots into local empty directory.\n",
      "huggingface/tokenizers: The current process just got forked, after parallelism has already been used. Disabling parallelism to avoid deadlocks...\n",
      "To disable this warning, you can either:\n",
      "\t- Avoid using `tokenizers` before the fork if possible\n",
      "\t- Explicitly set the environment variable TOKENIZERS_PARALLELISM=(true | false)\n",
      "huggingface/tokenizers: The current process just got forked, after parallelism has already been used. Disabling parallelism to avoid deadlocks...\n",
      "To disable this warning, you can either:\n",
      "\t- Avoid using `tokenizers` before the fork if possible\n",
      "\t- Explicitly set the environment variable TOKENIZERS_PARALLELISM=(true | false)\n",
      "huggingface/tokenizers: The current process just got forked, after parallelism has already been used. Disabling parallelism to avoid deadlocks...\n",
      "To disable this warning, you can either:\n",
      "\t- Avoid using `tokenizers` before the fork if possible\n",
      "\t- Explicitly set the environment variable TOKENIZERS_PARALLELISM=(true | false)\n",
      "huggingface/tokenizers: The current process just got forked, after parallelism has already been used. Disabling parallelism to avoid deadlocks...\n",
      "To disable this warning, you can either:\n",
      "\t- Avoid using `tokenizers` before the fork if possible\n",
      "\t- Explicitly set the environment variable TOKENIZERS_PARALLELISM=(true | false)\n",
      "huggingface/tokenizers: The current process just got forked, after parallelism has already been used. Disabling parallelism to avoid deadlocks...\n",
      "To disable this warning, you can either:\n",
      "\t- Avoid using `tokenizers` before the fork if possible\n",
      "\t- Explicitly set the environment variable TOKENIZERS_PARALLELISM=(true | false)\n",
      "huggingface/tokenizers: The current process just got forked, after parallelism has already been used. Disabling parallelism to avoid deadlocks...\n",
      "To disable this warning, you can either:\n",
      "\t- Avoid using `tokenizers` before the fork if possible\n",
      "\t- Explicitly set the environment variable TOKENIZERS_PARALLELISM=(true | false)\n",
      "huggingface/tokenizers: The current process just got forked, after parallelism has already been used. Disabling parallelism to avoid deadlocks...\n",
      "To disable this warning, you can either:\n",
      "\t- Avoid using `tokenizers` before the fork if possible\n",
      "\t- Explicitly set the environment variable TOKENIZERS_PARALLELISM=(true | false)\n",
      "huggingface/tokenizers: The current process just got forked, after parallelism has already been used. Disabling parallelism to avoid deadlocks...\n",
      "To disable this warning, you can either:\n",
      "\t- Avoid using `tokenizers` before the fork if possible\n",
      "\t- Explicitly set the environment variable TOKENIZERS_PARALLELISM=(true | false)\n",
      "huggingface/tokenizers: The current process just got forked, after parallelism has already been used. Disabling parallelism to avoid deadlocks...\n",
      "To disable this warning, you can either:\n",
      "\t- Avoid using `tokenizers` before the fork if possible\n",
      "\t- Explicitly set the environment variable TOKENIZERS_PARALLELISM=(true | false)\n",
      "huggingface/tokenizers: The current process just got forked, after parallelism has already been used. Disabling parallelism to avoid deadlocks...\n",
      "To disable this warning, you can either:\n",
      "\t- Avoid using `tokenizers` before the fork if possible\n",
      "\t- Explicitly set the environment variable TOKENIZERS_PARALLELISM=(true | false)\n",
      "huggingface/tokenizers: The current process just got forked, after parallelism has already been used. Disabling parallelism to avoid deadlocks...\n",
      "To disable this warning, you can either:\n",
      "\t- Avoid using `tokenizers` before the fork if possible\n",
      "\t- Explicitly set the environment variable TOKENIZERS_PARALLELISM=(true | false)\n",
      "huggingface/tokenizers: The current process just got forked, after parallelism has already been used. Disabling parallelism to avoid deadlocks...\n",
      "To disable this warning, you can either:\n",
      "\t- Avoid using `tokenizers` before the fork if possible\n",
      "\t- Explicitly set the environment variable TOKENIZERS_PARALLELISM=(true | false)\n",
      "huggingface/tokenizers: The current process just got forked, after parallelism has already been used. Disabling parallelism to avoid deadlocks...\n",
      "To disable this warning, you can either:\n",
      "\t- Avoid using `tokenizers` before the fork if possible\n",
      "\t- Explicitly set the environment variable TOKENIZERS_PARALLELISM=(true | false)\n",
      "huggingface/tokenizers: The current process just got forked, after parallelism has already been used. Disabling parallelism to avoid deadlocks...\n",
      "To disable this warning, you can either:\n",
      "\t- Avoid using `tokenizers` before the fork if possible\n",
      "\t- Explicitly set the environment variable TOKENIZERS_PARALLELISM=(true | false)\n",
      "huggingface/tokenizers: The current process just got forked, after parallelism has already been used. Disabling parallelism to avoid deadlocks...\n",
      "To disable this warning, you can either:\n",
      "\t- Avoid using `tokenizers` before the fork if possible\n",
      "\t- Explicitly set the environment variable TOKENIZERS_PARALLELISM=(true | false)\n",
      "huggingface/tokenizers: The current process just got forked, after parallelism has already been used. Disabling parallelism to avoid deadlocks...\n",
      "To disable this warning, you can either:\n",
      "\t- Avoid using `tokenizers` before the fork if possible\n",
      "\t- Explicitly set the environment variable TOKENIZERS_PARALLELISM=(true | false)\n",
      "huggingface/tokenizers: The current process just got forked, after parallelism has already been used. Disabling parallelism to avoid deadlocks...\n",
      "To disable this warning, you can either:\n",
      "\t- Avoid using `tokenizers` before the fork if possible\n",
      "\t- Explicitly set the environment variable TOKENIZERS_PARALLELISM=(true | false)\n",
      "huggingface/tokenizers: The current process just got forked, after parallelism has already been used. Disabling parallelism to avoid deadlocks...\n",
      "To disable this warning, you can either:\n",
      "\t- Avoid using `tokenizers` before the fork if possible\n",
      "\t- Explicitly set the environment variable TOKENIZERS_PARALLELISM=(true | false)\n",
      "huggingface/tokenizers: The current process just got forked, after parallelism has already been used. Disabling parallelism to avoid deadlocks...\n",
      "To disable this warning, you can either:\n",
      "\t- Avoid using `tokenizers` before the fork if possible\n",
      "\t- Explicitly set the environment variable TOKENIZERS_PARALLELISM=(true | false)\n",
      "huggingface/tokenizers: The current process just got forked, after parallelism has already been used. Disabling parallelism to avoid deadlocks...\n",
      "To disable this warning, you can either:\n",
      "\t- Avoid using `tokenizers` before the fork if possible\n",
      "\t- Explicitly set the environment variable TOKENIZERS_PARALLELISM=(true | false)\n",
      "huggingface/tokenizers: The current process just got forked, after parallelism has already been used. Disabling parallelism to avoid deadlocks...\n",
      "To disable this warning, you can either:\n",
      "\t- Avoid using `tokenizers` before the fork if possible\n",
      "\t- Explicitly set the environment variable TOKENIZERS_PARALLELISM=(true | false)\n",
      "huggingface/tokenizers: The current process just got forked, after parallelism has already been used. Disabling parallelism to avoid deadlocks...\n",
      "To disable this warning, you can either:\n",
      "\t- Avoid using `tokenizers` before the fork if possible\n",
      "\t- Explicitly set the environment variable TOKENIZERS_PARALLELISM=(true | false)\n",
      "huggingface/tokenizers: The current process just got forked, after parallelism has already been used. Disabling parallelism to avoid deadlocks...\n",
      "To disable this warning, you can either:\n",
      "\t- Avoid using `tokenizers` before the fork if possible\n",
      "\t- Explicitly set the environment variable TOKENIZERS_PARALLELISM=(true | false)\n",
      "huggingface/tokenizers: The current process just got forked, after parallelism has already been used. Disabling parallelism to avoid deadlocks...\n",
      "To disable this warning, you can either:\n",
      "\t- Avoid using `tokenizers` before the fork if possible\n",
      "\t- Explicitly set the environment variable TOKENIZERS_PARALLELISM=(true | false)\n",
      "huggingface/tokenizers: The current process just got forked, after parallelism has already been used. Disabling parallelism to avoid deadlocks...\n",
      "To disable this warning, you can either:\n",
      "\t- Avoid using `tokenizers` before the fork if possible\n",
      "\t- Explicitly set the environment variable TOKENIZERS_PARALLELISM=(true | false)\n",
      "huggingface/tokenizers: The current process just got forked, after parallelism has already been used. Disabling parallelism to avoid deadlocks...\n",
      "To disable this warning, you can either:\n",
      "\t- Avoid using `tokenizers` before the fork if possible\n",
      "\t- Explicitly set the environment variable TOKENIZERS_PARALLELISM=(true | false)\n",
      "huggingface/tokenizers: The current process just got forked, after parallelism has already been used. Disabling parallelism to avoid deadlocks...\n",
      "To disable this warning, you can either:\n",
      "\t- Avoid using `tokenizers` before the fork if possible\n",
      "\t- Explicitly set the environment variable TOKENIZERS_PARALLELISM=(true | false)\n",
      "huggingface/tokenizers: The current process just got forked, after parallelism has already been used. Disabling parallelism to avoid deadlocks...\n",
      "To disable this warning, you can either:\n",
      "\t- Avoid using `tokenizers` before the fork if possible\n",
      "\t- Explicitly set the environment variable TOKENIZERS_PARALLELISM=(true | false)\n",
      "huggingface/tokenizers: The current process just got forked, after parallelism has already been used. Disabling parallelism to avoid deadlocks...\n",
      "To disable this warning, you can either:\n",
      "\t- Avoid using `tokenizers` before the fork if possible\n",
      "\t- Explicitly set the environment variable TOKENIZERS_PARALLELISM=(true | false)\n",
      "huggingface/tokenizers: The current process just got forked, after parallelism has already been used. Disabling parallelism to avoid deadlocks...\n",
      "To disable this warning, you can either:\n",
      "\t- Avoid using `tokenizers` before the fork if possible\n",
      "\t- Explicitly set the environment variable TOKENIZERS_PARALLELISM=(true | false)\n",
      "huggingface/tokenizers: The current process just got forked, after parallelism has already been used. Disabling parallelism to avoid deadlocks...\n",
      "To disable this warning, you can either:\n",
      "\t- Avoid using `tokenizers` before the fork if possible\n",
      "\t- Explicitly set the environment variable TOKENIZERS_PARALLELISM=(true | false)\n",
      "huggingface/tokenizers: The current process just got forked, after parallelism has already been used. Disabling parallelism to avoid deadlocks...\n",
      "To disable this warning, you can either:\n",
      "\t- Avoid using `tokenizers` before the fork if possible\n",
      "\t- Explicitly set the environment variable TOKENIZERS_PARALLELISM=(true | false)\n",
      "huggingface/tokenizers: The current process just got forked, after parallelism has already been used. Disabling parallelism to avoid deadlocks...\n",
      "To disable this warning, you can either:\n",
      "\t- Avoid using `tokenizers` before the fork if possible\n",
      "\t- Explicitly set the environment variable TOKENIZERS_PARALLELISM=(true | false)\n",
      "huggingface/tokenizers: The current process just got forked, after parallelism has already been used. Disabling parallelism to avoid deadlocks...\n",
      "To disable this warning, you can either:\n",
      "\t- Avoid using `tokenizers` before the fork if possible\n",
      "\t- Explicitly set the environment variable TOKENIZERS_PARALLELISM=(true | false)\n",
      "huggingface/tokenizers: The current process just got forked, after parallelism has already been used. Disabling parallelism to avoid deadlocks...\n",
      "To disable this warning, you can either:\n",
      "\t- Avoid using `tokenizers` before the fork if possible\n",
      "\t- Explicitly set the environment variable TOKENIZERS_PARALLELISM=(true | false)\n",
      "huggingface/tokenizers: The current process just got forked, after parallelism has already been used. Disabling parallelism to avoid deadlocks...\n",
      "To disable this warning, you can either:\n",
      "\t- Avoid using `tokenizers` before the fork if possible\n",
      "\t- Explicitly set the environment variable TOKENIZERS_PARALLELISM=(true | false)\n",
      "huggingface/tokenizers: The current process just got forked, after parallelism has already been used. Disabling parallelism to avoid deadlocks...\n",
      "To disable this warning, you can either:\n",
      "\t- Avoid using `tokenizers` before the fork if possible\n",
      "\t- Explicitly set the environment variable TOKENIZERS_PARALLELISM=(true | false)\n",
      "huggingface/tokenizers: The current process just got forked, after parallelism has already been used. Disabling parallelism to avoid deadlocks...\n",
      "To disable this warning, you can either:\n",
      "\t- Avoid using `tokenizers` before the fork if possible\n",
      "\t- Explicitly set the environment variable TOKENIZERS_PARALLELISM=(true | false)\n",
      "huggingface/tokenizers: The current process just got forked, after parallelism has already been used. Disabling parallelism to avoid deadlocks...\n",
      "To disable this warning, you can either:\n",
      "\t- Avoid using `tokenizers` before the fork if possible\n",
      "\t- Explicitly set the environment variable TOKENIZERS_PARALLELISM=(true | false)\n",
      "huggingface/tokenizers: The current process just got forked, after parallelism has already been used. Disabling parallelism to avoid deadlocks...\n",
      "To disable this warning, you can either:\n",
      "\t- Avoid using `tokenizers` before the fork if possible\n",
      "\t- Explicitly set the environment variable TOKENIZERS_PARALLELISM=(true | false)\n",
      "huggingface/tokenizers: The current process just got forked, after parallelism has already been used. Disabling parallelism to avoid deadlocks...\n",
      "To disable this warning, you can either:\n",
      "\t- Avoid using `tokenizers` before the fork if possible\n",
      "\t- Explicitly set the environment variable TOKENIZERS_PARALLELISM=(true | false)\n"
     ]
    },
    {
     "data": {
      "application/vnd.jupyter.widget-view+json": {
       "model_id": "2ad96d4e4bfd45aea61e527b419bcb72",
       "version_major": 2,
       "version_minor": 0
      },
      "text/plain": [
       "Upload file model.safetensors:   0%|          | 1.00/418M [00:00<?, ?B/s]"
      ]
     },
     "metadata": {},
     "output_type": "display_data"
    },
    {
     "name": "stderr",
     "output_type": "stream",
     "text": [
      "To https://huggingface.co/peulsilva/phrase-bert-setfit-sst5-2shots\n",
      "   139b537..18efeb5  main -> main\n",
      "\n",
      "huggingface/tokenizers: The current process just got forked, after parallelism has already been used. Disabling parallelism to avoid deadlocks...\n",
      "To disable this warning, you can either:\n",
      "\t- Avoid using `tokenizers` before the fork if possible\n",
      "\t- Explicitly set the environment variable TOKENIZERS_PARALLELISM=(true | false)\n",
      "huggingface/tokenizers: The current process just got forked, after parallelism has already been used. Disabling parallelism to avoid deadlocks...\n",
      "To disable this warning, you can either:\n",
      "\t- Avoid using `tokenizers` before the fork if possible\n",
      "\t- Explicitly set the environment variable TOKENIZERS_PARALLELISM=(true | false)\n"
     ]
    },
    {
     "data": {
      "text/plain": [
       "'https://huggingface.co/peulsilva/phrase-bert-setfit-sst5-2shots/commit/18efeb551b53825356316dbe1eed7d1e4efe4074'"
      ]
     },
     "execution_count": 19,
     "metadata": {},
     "output_type": "execute_result"
    }
   ],
   "source": [
    "model = SentenceTransformer(\"whaleloops/phrase-bert\")\n",
    "loss_fn = losses.CosineSimilarityLoss(model)\n",
    "cos_sim = torch.nn.CosineSimilarity(dim = 1)\n",
    "\n",
    "n_epochs = 10\n",
    "best_f1 = 0\n",
    "best_model = None\n",
    "\n",
    "for epoch in range(n_epochs):\n",
    "    model.fit(\n",
    "        train_objectives=[ (train_dataloader, loss_fn)],\n",
    "        epochs = 1,\n",
    "        show_progress_bar=False\n",
    "    )\n",
    "\n",
    "    y_true_val = torch.tensor([],device=device)\n",
    "    y_pred_val = torch.tensor([],device=device)\n",
    "\n",
    "    print(f\"Running validation after {epoch} epochs\")\n",
    "\n",
    "    for [x1, x2, y] in tqdm(val_dataloader):\n",
    "        with torch.no_grad():\n",
    "            v1 = model.encode(x1, convert_to_tensor= True)\n",
    "            v2 = model.encode(x2, convert_to_tensor= True)\n",
    "\n",
    "            cos = cos_sim(v1, v2)\n",
    "\n",
    "            y_pred = round(cos.item())\n",
    "            y_true = y\n",
    "\n",
    "            y_pred_val = torch.cat([\n",
    "                y_pred_val, \n",
    "                torch.tensor([y_pred]).to(device)\n",
    "            ])\n",
    "\n",
    "            y_true_val = torch.cat([\n",
    "                y_true_val, \n",
    "                torch.tensor([y_true]).to(device)\n",
    "            ])\n",
    "            \n",
    "    f1 = binary_f1_score(\n",
    "        y_pred_val,\n",
    "        y_true_val,\n",
    "    )\n",
    "    if f1 > best_f1:\n",
    "        best_f1 = f1\n",
    "        best_model = deepcopy(model)\n",
    "\n",
    "    conf_matrix= multiclass_confusion_matrix(\n",
    "        y_pred_val.to(torch.int64),\n",
    "        y_true_val.to(torch.int64),\n",
    "        num_classes=2\n",
    "    )\n",
    "\n",
    "    print(f'f1 score: {f1.item()}')\n",
    "    print(conf_matrix)\n",
    "\n",
    "best_model.save_to_hub(f\"peulsilva/phrase-bert-setfit-sst5-{n_shots}shots\")"
   ]
  },
  {
   "cell_type": "markdown",
   "metadata": {},
   "source": [
    "### Training classifier "
   ]
  },
  {
   "cell_type": "code",
   "execution_count": 20,
   "metadata": {},
   "outputs": [],
   "source": [
    "class CLF(torch.nn.Module):\n",
    "    def __init__(\n",
    "        self,\n",
    "        in_features : int,\n",
    "        out_features : int, \n",
    "        *args, \n",
    "        **kwargs\n",
    "    ) -> None:\n",
    "        super().__init__(*args, **kwargs)\n",
    "\n",
    "        self.layer1 = torch.nn.Linear(in_features, 512)\n",
    "        self.relu = torch.nn.ReLU()\n",
    "        self.layer2 = torch.nn.Linear(512, 256)\n",
    "        self.layer3 = torch.nn.Linear(256, out_features)\n",
    "\n",
    "    def forward(self, x : torch.Tensor):\n",
    "        x = self.layer1(x)\n",
    "        x = self.relu(x)\n",
    "        x = self.layer2(x)\n",
    "        x = self.relu(x)\n",
    "        return self.layer3(x)\n",
    "    "
   ]
  },
  {
   "cell_type": "code",
   "execution_count": 21,
   "metadata": {},
   "outputs": [],
   "source": [
    "X_train, y_train = get_n_shots_per_class(\n",
    "    train_text,\n",
    "    train_labels,\n",
    "    n_shots= n_shots,\n",
    "    num_classes= num_classes\n",
    ")\n",
    "X_val, y_val = get_n_shots_per_class(\n",
    "    val_text, \n",
    "    val_labels,\n",
    "    n_shots = 100,\n",
    "    num_classes=num_classes\n",
    ")"
   ]
  },
  {
   "cell_type": "code",
   "execution_count": 22,
   "metadata": {},
   "outputs": [],
   "source": [
    "from random import shuffle\n",
    "def shuffle_two_lists(X, y ):\n",
    "    X_shuff = []\n",
    "    y_shuff = []\n",
    "    index_shuf = list(range(len(X)))\n",
    "    shuffle(index_shuf)\n",
    "    for i in index_shuf:\n",
    "        X_shuff.append(X[i])\n",
    "        y_shuff.append(y[i])\n",
    "\n",
    "\n",
    "    return X_shuff, y_shuff"
   ]
  },
  {
   "cell_type": "code",
   "execution_count": 23,
   "metadata": {},
   "outputs": [],
   "source": [
    "X_train_shuffled , y_train_shuffled = shuffle_two_lists(X_train, y_train)"
   ]
  },
  {
   "cell_type": "code",
   "execution_count": 24,
   "metadata": {},
   "outputs": [],
   "source": [
    "from IPython.display import clear_output"
   ]
  },
  {
   "cell_type": "code",
   "execution_count": 25,
   "metadata": {},
   "outputs": [
    {
     "name": "stdout",
     "output_type": "stream",
     "text": [
      "---------Epoch: 99-----------\n",
      "f1 score: 0.2280000001192093\n",
      "tensor([[ 8, 40, 18, 26,  8],\n",
      "        [22, 35, 14, 21,  8],\n",
      "        [16, 40, 11, 25,  8],\n",
      "        [10, 28, 12, 32, 18],\n",
      "        [ 7, 14, 12, 39, 28]], device='cuda:0')\n"
     ]
    }
   ],
   "source": [
    "embedding_model = SentenceTransformer(f\"peulsilva/phrase-bert-setfit-sst5-{n_shots}shots\")\\\n",
    "    .to(device)\n",
    "\n",
    "in_features = embedding_model.get_sentence_embedding_dimension()\n",
    "clf = CLF(\n",
    "    in_features,\n",
    "    num_classes,\n",
    ").to(device)\n",
    "\n",
    "\n",
    "loss_fn = torch.nn.CrossEntropyLoss()\n",
    "\n",
    "optimizer = torch.optim.Adam(\n",
    "    clf.parameters(),\n",
    "    lr = 1e-5\n",
    ")\n",
    "\n",
    "best_model = None\n",
    "best_f1 = 0\n",
    "n_epochs = 100\n",
    "\n",
    "history = []\n",
    "\n",
    "for epoch in (range(n_epochs)):\n",
    "    for i in tqdm(range(len(X_train))):\n",
    "        text = X_train_shuffled[i]\n",
    "        label = torch.tensor(y_train_shuffled[i])\\\n",
    "            .to(device)\n",
    "\n",
    "        with torch.no_grad():\n",
    "            embedding = embedding_model.encode(text, convert_to_tensor=True)\n",
    "\n",
    "        optimizer.zero_grad()\n",
    "        output = clf(embedding)\n",
    "        loss = loss_fn(output, label)\n",
    "\n",
    "\n",
    "        loss.backward()\n",
    "        optimizer.step()\n",
    "\n",
    "    y_true_val = torch.tensor([],device=device)\n",
    "    y_pred_val = torch.tensor([],device=device)\n",
    "\n",
    "    for i in range(len(X_val)):\n",
    "        text = X_val[i]\n",
    "        label = torch.tensor(y_val[i])\\\n",
    "            .to(device)\n",
    "\n",
    "        with torch.no_grad():\n",
    "            embedding = embedding_model.encode(text, convert_to_tensor=True)\n",
    "\n",
    "            y_pred = clf(embedding)\\\n",
    "                .argmax()\n",
    "            \n",
    "            y_pred_val = torch.cat([\n",
    "                y_pred_val, \n",
    "                torch.tensor([y_pred]).to(device)\n",
    "            ])\n",
    "\n",
    "            y_true_val = torch.cat([\n",
    "                y_true_val, \n",
    "                torch.tensor([y_val[i]]).to(device)\n",
    "            ])\n",
    "            \n",
    "    f1 = multiclass_f1_score(\n",
    "        y_pred_val,\n",
    "        y_true_val,\n",
    "        num_classes=num_classes\n",
    "    )\n",
    "    \n",
    "    history.append(f1.item())\n",
    "    if f1 > best_f1:\n",
    "        best_f1 = f1\n",
    "        best_model = deepcopy(clf)\n",
    "\n",
    "    conf_matrix= multiclass_confusion_matrix(\n",
    "        y_pred_val.to(torch.int64),\n",
    "        y_true_val.to(torch.int64),\n",
    "        num_classes=num_classes\n",
    "    )\n",
    "\n",
    "    clear_output()\n",
    "    print(f\"---------Epoch: {epoch}-----------\")\n",
    "    print(f'f1 score: {f1.item()}')\n",
    "    print(conf_matrix)"
   ]
  },
  {
   "cell_type": "code",
   "execution_count": 30,
   "metadata": {},
   "outputs": [],
   "source": [
    "best_epoch = 0\n",
    "for idx, f1 in enumerate(history):\n",
    "    if f1 == best_f1.item():\n",
    "        best_epoch = idx"
   ]
  },
  {
   "cell_type": "code",
   "execution_count": 31,
   "metadata": {},
   "outputs": [
    {
     "data": {
      "text/plain": [
       "18"
      ]
     },
     "execution_count": 31,
     "metadata": {},
     "output_type": "execute_result"
    }
   ],
   "source": [
    "best_epoch"
   ]
  },
  {
   "cell_type": "code",
   "execution_count": 32,
   "metadata": {},
   "outputs": [
    {
     "data": {
      "text/plain": [
       "Text(0.5, 1.0, 'SetFit training results- SST5 - 2 shots')"
      ]
     },
     "execution_count": 32,
     "metadata": {},
     "output_type": "execute_result"
    },
    {
     "data": {
      "image/png": "[encoded data removed]",
      "text/plain": [
       "<Figure size 640x480 with 1 Axes>"
      ]
     },
     "metadata": {},
     "output_type": "display_data"
    }
   ],
   "source": [
    "# history = ([k.to('cpu').numpy() for k in history])\n",
    "plt.plot(history)\n",
    "plt.scatter(\n",
    "    [best_epoch], \n",
    "    best_f1.item(),\n",
    "    color = \"green\",\n",
    "    label = f\"Best f1 : {round(best_f1.item(),3)}\"\n",
    ")\n",
    "plt.grid()\n",
    "plt.legend()\n",
    "plt.ylabel(\"f1 score\")\n",
    "plt.xlabel(\"epoch\")\n",
    "plt.tight_layout()\n",
    "plt.title(\"SetFit training results- SST5 - 2 shots\")"
   ]
  },
  {
   "cell_type": "markdown",
   "metadata": {},
   "source": [
    "## 5 shots"
   ]
  },
  {
   "cell_type": "code",
   "execution_count": 39,
   "metadata": {},
   "outputs": [],
   "source": [
    "n_shots = 5"
   ]
  },
  {
   "cell_type": "code",
   "execution_count": 40,
   "metadata": {},
   "outputs": [],
   "source": [
    "X_train, y_train = get_n_shots_per_class(\n",
    "    train_text,\n",
    "    train_labels,\n",
    "    n_shots= n_shots,\n",
    "    num_classes= num_classes\n",
    ")"
   ]
  },
  {
   "cell_type": "code",
   "execution_count": 41,
   "metadata": {},
   "outputs": [],
   "source": [
    "X_val, y_val = get_n_shots_per_class(\n",
    "    val_text, \n",
    "    val_labels,\n",
    "    n_shots = 10,\n",
    "    num_classes=num_classes\n",
    ")"
   ]
  },
  {
   "cell_type": "code",
   "execution_count": 42,
   "metadata": {},
   "outputs": [],
   "source": [
    "set_fit_data_train = SetFitDataset(\n",
    "    X_train,\n",
    "    y_train, \n",
    "    input_example_format= True\n",
    "    # R = 5\n",
    ")\n",
    "\n",
    "set_fit_data_val = SetFitDataset(\n",
    "    X_val,\n",
    "    y_val,\n",
    "    # R = 5,\n",
    "    input_example_format= False\n",
    ")"
   ]
  },
  {
   "cell_type": "code",
   "execution_count": 43,
   "metadata": {},
   "outputs": [],
   "source": [
    "train_dataloader = DataLoader(\n",
    "    set_fit_data_train.data,\n",
    "    shuffle=True\n",
    ")\n",
    "\n",
    "val_dataloader = DataLoader(\n",
    "    set_fit_data_val\n",
    ")"
   ]
  },
  {
   "cell_type": "markdown",
   "metadata": {},
   "source": [
    "### Train embedding"
   ]
  },
  {
   "cell_type": "code",
   "execution_count": 44,
   "metadata": {},
   "outputs": [
    {
     "name": "stdout",
     "output_type": "stream",
     "text": [
      "Running validation after 0 epochs\n"
     ]
    },
    {
     "name": "stderr",
     "output_type": "stream",
     "text": [
      "100%|██████████| 1225/1225 [00:08<00:00, 138.60it/s]\n"
     ]
    },
    {
     "name": "stdout",
     "output_type": "stream",
     "text": [
      "f1 score: 0.24581004679203033\n",
      "tensor([[597, 403],\n",
      "        [137,  88]], device='cuda:0')\n",
      "Running validation after 1 epochs\n"
     ]
    },
    {
     "name": "stderr",
     "output_type": "stream",
     "text": [
      "100%|██████████| 1225/1225 [00:08<00:00, 136.19it/s]\n"
     ]
    },
    {
     "name": "stdout",
     "output_type": "stream",
     "text": [
      "f1 score: 0.16267941892147064\n",
      "tensor([[841, 159],\n",
      "        [191,  34]], device='cuda:0')\n",
      "Running validation after 2 epochs\n"
     ]
    },
    {
     "name": "stderr",
     "output_type": "stream",
     "text": [
      "100%|██████████| 1225/1225 [00:09<00:00, 135.97it/s]\n"
     ]
    },
    {
     "name": "stdout",
     "output_type": "stream",
     "text": [
      "f1 score: 0.10158730298280716\n",
      "tensor([[926,  74],\n",
      "        [209,  16]], device='cuda:0')\n",
      "Running validation after 3 epochs\n"
     ]
    },
    {
     "name": "stderr",
     "output_type": "stream",
     "text": [
      "100%|██████████| 1225/1225 [00:08<00:00, 136.20it/s]\n"
     ]
    },
    {
     "name": "stdout",
     "output_type": "stream",
     "text": [
      "f1 score: 0.07352941483259201\n",
      "tensor([[963,  37],\n",
      "        [215,  10]], device='cuda:0')\n",
      "Running validation after 4 epochs\n"
     ]
    },
    {
     "name": "stderr",
     "output_type": "stream",
     "text": [
      "100%|██████████| 1225/1225 [00:09<00:00, 135.37it/s]\n"
     ]
    },
    {
     "name": "stdout",
     "output_type": "stream",
     "text": [
      "f1 score: 0.05511811003088951\n",
      "tensor([[978,  22],\n",
      "        [218,   7]], device='cuda:0')\n",
      "Running validation after 5 epochs\n"
     ]
    },
    {
     "name": "stderr",
     "output_type": "stream",
     "text": [
      "100%|██████████| 1225/1225 [00:08<00:00, 136.47it/s]\n"
     ]
    },
    {
     "name": "stdout",
     "output_type": "stream",
     "text": [
      "f1 score: 0.04838709905743599\n",
      "tensor([[983,  17],\n",
      "        [219,   6]], device='cuda:0')\n",
      "Running validation after 6 epochs\n"
     ]
    },
    {
     "name": "stderr",
     "output_type": "stream",
     "text": [
      "100%|██████████| 1225/1225 [00:09<00:00, 135.38it/s]\n"
     ]
    },
    {
     "name": "stdout",
     "output_type": "stream",
     "text": [
      "f1 score: 0.032786887139081955\n",
      "tensor([[985,  15],\n",
      "        [221,   4]], device='cuda:0')\n",
      "Running validation after 7 epochs\n"
     ]
    },
    {
     "name": "stderr",
     "output_type": "stream",
     "text": [
      "100%|██████████| 1225/1225 [00:09<00:00, 135.42it/s]\n"
     ]
    },
    {
     "name": "stdout",
     "output_type": "stream",
     "text": [
      "f1 score: 0.03292180970311165\n",
      "tensor([[986,  14],\n",
      "        [221,   4]], device='cuda:0')\n",
      "Running validation after 8 epochs\n"
     ]
    },
    {
     "name": "stderr",
     "output_type": "stream",
     "text": [
      "100%|██████████| 1225/1225 [00:09<00:00, 134.76it/s]\n"
     ]
    },
    {
     "name": "stdout",
     "output_type": "stream",
     "text": [
      "f1 score: 0.02489626407623291\n",
      "tensor([[987,  13],\n",
      "        [222,   3]], device='cuda:0')\n",
      "Running validation after 9 epochs\n"
     ]
    },
    {
     "name": "stderr",
     "output_type": "stream",
     "text": [
      "100%|██████████| 1225/1225 [00:09<00:00, 134.70it/s]\n"
     ]
    },
    {
     "name": "stdout",
     "output_type": "stream",
     "text": [
      "f1 score: 0.01666666753590107\n",
      "tensor([[987,  13],\n",
      "        [223,   2]], device='cuda:0')\n"
     ]
    },
    {
     "name": "stderr",
     "output_type": "stream",
     "text": [
      "huggingface/tokenizers: The current process just got forked, after parallelism has already been used. Disabling parallelism to avoid deadlocks...\n",
      "To disable this warning, you can either:\n",
      "\t- Avoid using `tokenizers` before the fork if possible\n",
      "\t- Explicitly set the environment variable TOKENIZERS_PARALLELISM=(true | false)\n",
      "huggingface/tokenizers: The current process just got forked, after parallelism has already been used. Disabling parallelism to avoid deadlocks...\n",
      "To disable this warning, you can either:\n",
      "\t- Avoid using `tokenizers` before the fork if possible\n",
      "\t- Explicitly set the environment variable TOKENIZERS_PARALLELISM=(true | false)\n",
      "huggingface/tokenizers: The current process just got forked, after parallelism has already been used. Disabling parallelism to avoid deadlocks...\n",
      "To disable this warning, you can either:\n",
      "\t- Avoid using `tokenizers` before the fork if possible\n",
      "\t- Explicitly set the environment variable TOKENIZERS_PARALLELISM=(true | false)\n",
      "Cloning https://huggingface.co/peulsilva/phrase-bert-setfit-sst5-5shots into local empty directory.\n",
      "huggingface/tokenizers: The current process just got forked, after parallelism has already been used. Disabling parallelism to avoid deadlocks...\n",
      "To disable this warning, you can either:\n",
      "\t- Avoid using `tokenizers` before the fork if possible\n",
      "\t- Explicitly set the environment variable TOKENIZERS_PARALLELISM=(true | false)\n",
      "huggingface/tokenizers: The current process just got forked, after parallelism has already been used. Disabling parallelism to avoid deadlocks...\n",
      "To disable this warning, you can either:\n",
      "\t- Avoid using `tokenizers` before the fork if possible\n",
      "\t- Explicitly set the environment variable TOKENIZERS_PARALLELISM=(true | false)\n",
      "huggingface/tokenizers: The current process just got forked, after parallelism has already been used. Disabling parallelism to avoid deadlocks...\n",
      "To disable this warning, you can either:\n",
      "\t- Avoid using `tokenizers` before the fork if possible\n",
      "\t- Explicitly set the environment variable TOKENIZERS_PARALLELISM=(true | false)\n",
      "huggingface/tokenizers: The current process just got forked, after parallelism has already been used. Disabling parallelism to avoid deadlocks...\n",
      "To disable this warning, you can either:\n",
      "\t- Avoid using `tokenizers` before the fork if possible\n",
      "\t- Explicitly set the environment variable TOKENIZERS_PARALLELISM=(true | false)\n",
      "huggingface/tokenizers: The current process just got forked, after parallelism has already been used. Disabling parallelism to avoid deadlocks...\n",
      "To disable this warning, you can either:\n",
      "\t- Avoid using `tokenizers` before the fork if possible\n",
      "\t- Explicitly set the environment variable TOKENIZERS_PARALLELISM=(true | false)\n",
      "huggingface/tokenizers: The current process just got forked, after parallelism has already been used. Disabling parallelism to avoid deadlocks...\n",
      "To disable this warning, you can either:\n",
      "\t- Avoid using `tokenizers` before the fork if possible\n",
      "\t- Explicitly set the environment variable TOKENIZERS_PARALLELISM=(true | false)\n",
      "huggingface/tokenizers: The current process just got forked, after parallelism has already been used. Disabling parallelism to avoid deadlocks...\n",
      "To disable this warning, you can either:\n",
      "\t- Avoid using `tokenizers` before the fork if possible\n",
      "\t- Explicitly set the environment variable TOKENIZERS_PARALLELISM=(true | false)\n",
      "huggingface/tokenizers: The current process just got forked, after parallelism has already been used. Disabling parallelism to avoid deadlocks...\n",
      "To disable this warning, you can either:\n",
      "\t- Avoid using `tokenizers` before the fork if possible\n",
      "\t- Explicitly set the environment variable TOKENIZERS_PARALLELISM=(true | false)\n",
      "huggingface/tokenizers: The current process just got forked, after parallelism has already been used. Disabling parallelism to avoid deadlocks...\n",
      "To disable this warning, you can either:\n",
      "\t- Avoid using `tokenizers` before the fork if possible\n",
      "\t- Explicitly set the environment variable TOKENIZERS_PARALLELISM=(true | false)\n",
      "huggingface/tokenizers: The current process just got forked, after parallelism has already been used. Disabling parallelism to avoid deadlocks...\n",
      "To disable this warning, you can either:\n",
      "\t- Avoid using `tokenizers` before the fork if possible\n",
      "\t- Explicitly set the environment variable TOKENIZERS_PARALLELISM=(true | false)\n",
      "huggingface/tokenizers: The current process just got forked, after parallelism has already been used. Disabling parallelism to avoid deadlocks...\n",
      "To disable this warning, you can either:\n",
      "\t- Avoid using `tokenizers` before the fork if possible\n",
      "\t- Explicitly set the environment variable TOKENIZERS_PARALLELISM=(true | false)\n",
      "huggingface/tokenizers: The current process just got forked, after parallelism has already been used. Disabling parallelism to avoid deadlocks...\n",
      "To disable this warning, you can either:\n",
      "\t- Avoid using `tokenizers` before the fork if possible\n",
      "\t- Explicitly set the environment variable TOKENIZERS_PARALLELISM=(true | false)\n",
      "huggingface/tokenizers: The current process just got forked, after parallelism has already been used. Disabling parallelism to avoid deadlocks...\n",
      "To disable this warning, you can either:\n",
      "\t- Avoid using `tokenizers` before the fork if possible\n",
      "\t- Explicitly set the environment variable TOKENIZERS_PARALLELISM=(true | false)\n",
      "huggingface/tokenizers: The current process just got forked, after parallelism has already been used. Disabling parallelism to avoid deadlocks...\n",
      "To disable this warning, you can either:\n",
      "\t- Avoid using `tokenizers` before the fork if possible\n",
      "\t- Explicitly set the environment variable TOKENIZERS_PARALLELISM=(true | false)\n",
      "huggingface/tokenizers: The current process just got forked, after parallelism has already been used. Disabling parallelism to avoid deadlocks...\n",
      "To disable this warning, you can either:\n",
      "\t- Avoid using `tokenizers` before the fork if possible\n",
      "\t- Explicitly set the environment variable TOKENIZERS_PARALLELISM=(true | false)\n",
      "huggingface/tokenizers: The current process just got forked, after parallelism has already been used. Disabling parallelism to avoid deadlocks...\n",
      "To disable this warning, you can either:\n",
      "\t- Avoid using `tokenizers` before the fork if possible\n",
      "\t- Explicitly set the environment variable TOKENIZERS_PARALLELISM=(true | false)\n",
      "huggingface/tokenizers: The current process just got forked, after parallelism has already been used. Disabling parallelism to avoid deadlocks...\n",
      "To disable this warning, you can either:\n",
      "\t- Avoid using `tokenizers` before the fork if possible\n",
      "\t- Explicitly set the environment variable TOKENIZERS_PARALLELISM=(true | false)\n",
      "huggingface/tokenizers: The current process just got forked, after parallelism has already been used. Disabling parallelism to avoid deadlocks...\n",
      "To disable this warning, you can either:\n",
      "\t- Avoid using `tokenizers` before the fork if possible\n",
      "\t- Explicitly set the environment variable TOKENIZERS_PARALLELISM=(true | false)\n",
      "huggingface/tokenizers: The current process just got forked, after parallelism has already been used. Disabling parallelism to avoid deadlocks...\n",
      "To disable this warning, you can either:\n",
      "\t- Avoid using `tokenizers` before the fork if possible\n",
      "\t- Explicitly set the environment variable TOKENIZERS_PARALLELISM=(true | false)\n",
      "huggingface/tokenizers: The current process just got forked, after parallelism has already been used. Disabling parallelism to avoid deadlocks...\n",
      "To disable this warning, you can either:\n",
      "\t- Avoid using `tokenizers` before the fork if possible\n",
      "\t- Explicitly set the environment variable TOKENIZERS_PARALLELISM=(true | false)\n",
      "huggingface/tokenizers: The current process just got forked, after parallelism has already been used. Disabling parallelism to avoid deadlocks...\n",
      "To disable this warning, you can either:\n",
      "\t- Avoid using `tokenizers` before the fork if possible\n",
      "\t- Explicitly set the environment variable TOKENIZERS_PARALLELISM=(true | false)\n",
      "huggingface/tokenizers: The current process just got forked, after parallelism has already been used. Disabling parallelism to avoid deadlocks...\n",
      "To disable this warning, you can either:\n",
      "\t- Avoid using `tokenizers` before the fork if possible\n",
      "\t- Explicitly set the environment variable TOKENIZERS_PARALLELISM=(true | false)\n",
      "huggingface/tokenizers: The current process just got forked, after parallelism has already been used. Disabling parallelism to avoid deadlocks...\n",
      "To disable this warning, you can either:\n",
      "\t- Avoid using `tokenizers` before the fork if possible\n",
      "\t- Explicitly set the environment variable TOKENIZERS_PARALLELISM=(true | false)\n",
      "huggingface/tokenizers: The current process just got forked, after parallelism has already been used. Disabling parallelism to avoid deadlocks...\n",
      "To disable this warning, you can either:\n",
      "\t- Avoid using `tokenizers` before the fork if possible\n",
      "\t- Explicitly set the environment variable TOKENIZERS_PARALLELISM=(true | false)\n",
      "huggingface/tokenizers: The current process just got forked, after parallelism has already been used. Disabling parallelism to avoid deadlocks...\n",
      "To disable this warning, you can either:\n",
      "\t- Avoid using `tokenizers` before the fork if possible\n",
      "\t- Explicitly set the environment variable TOKENIZERS_PARALLELISM=(true | false)\n",
      "huggingface/tokenizers: The current process just got forked, after parallelism has already been used. Disabling parallelism to avoid deadlocks...\n",
      "To disable this warning, you can either:\n",
      "\t- Avoid using `tokenizers` before the fork if possible\n",
      "\t- Explicitly set the environment variable TOKENIZERS_PARALLELISM=(true | false)\n",
      "huggingface/tokenizers: The current process just got forked, after parallelism has already been used. Disabling parallelism to avoid deadlocks...\n",
      "To disable this warning, you can either:\n",
      "\t- Avoid using `tokenizers` before the fork if possible\n",
      "\t- Explicitly set the environment variable TOKENIZERS_PARALLELISM=(true | false)\n",
      "huggingface/tokenizers: The current process just got forked, after parallelism has already been used. Disabling parallelism to avoid deadlocks...\n",
      "To disable this warning, you can either:\n",
      "\t- Avoid using `tokenizers` before the fork if possible\n",
      "\t- Explicitly set the environment variable TOKENIZERS_PARALLELISM=(true | false)\n",
      "huggingface/tokenizers: The current process just got forked, after parallelism has already been used. Disabling parallelism to avoid deadlocks...\n",
      "To disable this warning, you can either:\n",
      "\t- Avoid using `tokenizers` before the fork if possible\n",
      "\t- Explicitly set the environment variable TOKENIZERS_PARALLELISM=(true | false)\n",
      "huggingface/tokenizers: The current process just got forked, after parallelism has already been used. Disabling parallelism to avoid deadlocks...\n",
      "To disable this warning, you can either:\n",
      "\t- Avoid using `tokenizers` before the fork if possible\n",
      "\t- Explicitly set the environment variable TOKENIZERS_PARALLELISM=(true | false)\n",
      "huggingface/tokenizers: The current process just got forked, after parallelism has already been used. Disabling parallelism to avoid deadlocks...\n",
      "To disable this warning, you can either:\n",
      "\t- Avoid using `tokenizers` before the fork if possible\n",
      "\t- Explicitly set the environment variable TOKENIZERS_PARALLELISM=(true | false)\n",
      "huggingface/tokenizers: The current process just got forked, after parallelism has already been used. Disabling parallelism to avoid deadlocks...\n",
      "To disable this warning, you can either:\n",
      "\t- Avoid using `tokenizers` before the fork if possible\n",
      "\t- Explicitly set the environment variable TOKENIZERS_PARALLELISM=(true | false)\n",
      "huggingface/tokenizers: The current process just got forked, after parallelism has already been used. Disabling parallelism to avoid deadlocks...\n",
      "To disable this warning, you can either:\n",
      "\t- Avoid using `tokenizers` before the fork if possible\n",
      "\t- Explicitly set the environment variable TOKENIZERS_PARALLELISM=(true | false)\n",
      "huggingface/tokenizers: The current process just got forked, after parallelism has already been used. Disabling parallelism to avoid deadlocks...\n",
      "To disable this warning, you can either:\n",
      "\t- Avoid using `tokenizers` before the fork if possible\n",
      "\t- Explicitly set the environment variable TOKENIZERS_PARALLELISM=(true | false)\n",
      "huggingface/tokenizers: The current process just got forked, after parallelism has already been used. Disabling parallelism to avoid deadlocks...\n",
      "To disable this warning, you can either:\n",
      "\t- Avoid using `tokenizers` before the fork if possible\n",
      "\t- Explicitly set the environment variable TOKENIZERS_PARALLELISM=(true | false)\n",
      "huggingface/tokenizers: The current process just got forked, after parallelism has already been used. Disabling parallelism to avoid deadlocks...\n",
      "To disable this warning, you can either:\n",
      "\t- Avoid using `tokenizers` before the fork if possible\n",
      "\t- Explicitly set the environment variable TOKENIZERS_PARALLELISM=(true | false)\n",
      "huggingface/tokenizers: The current process just got forked, after parallelism has already been used. Disabling parallelism to avoid deadlocks...\n",
      "To disable this warning, you can either:\n",
      "\t- Avoid using `tokenizers` before the fork if possible\n",
      "\t- Explicitly set the environment variable TOKENIZERS_PARALLELISM=(true | false)\n",
      "huggingface/tokenizers: The current process just got forked, after parallelism has already been used. Disabling parallelism to avoid deadlocks...\n",
      "To disable this warning, you can either:\n",
      "\t- Avoid using `tokenizers` before the fork if possible\n",
      "\t- Explicitly set the environment variable TOKENIZERS_PARALLELISM=(true | false)\n",
      "huggingface/tokenizers: The current process just got forked, after parallelism has already been used. Disabling parallelism to avoid deadlocks...\n",
      "To disable this warning, you can either:\n",
      "\t- Avoid using `tokenizers` before the fork if possible\n",
      "\t- Explicitly set the environment variable TOKENIZERS_PARALLELISM=(true | false)\n",
      "huggingface/tokenizers: The current process just got forked, after parallelism has already been used. Disabling parallelism to avoid deadlocks...\n",
      "To disable this warning, you can either:\n",
      "\t- Avoid using `tokenizers` before the fork if possible\n",
      "\t- Explicitly set the environment variable TOKENIZERS_PARALLELISM=(true | false)\n",
      "huggingface/tokenizers: The current process just got forked, after parallelism has already been used. Disabling parallelism to avoid deadlocks...\n",
      "To disable this warning, you can either:\n",
      "\t- Avoid using `tokenizers` before the fork if possible\n",
      "\t- Explicitly set the environment variable TOKENIZERS_PARALLELISM=(true | false)\n"
     ]
    },
    {
     "data": {
      "application/vnd.jupyter.widget-view+json": {
       "model_id": "9a718bfb58be4633ab2dfd17d899900a",
       "version_major": 2,
       "version_minor": 0
      },
      "text/plain": [
       "Upload file model.safetensors:   0%|          | 1.00/418M [00:00<?, ?B/s]"
      ]
     },
     "metadata": {},
     "output_type": "display_data"
    },
    {
     "name": "stderr",
     "output_type": "stream",
     "text": [
      "To https://huggingface.co/peulsilva/phrase-bert-setfit-sst5-5shots\n",
      "   fcbddfe..03c9d06  main -> main\n",
      "\n",
      "huggingface/tokenizers: The current process just got forked, after parallelism has already been used. Disabling parallelism to avoid deadlocks...\n",
      "To disable this warning, you can either:\n",
      "\t- Avoid using `tokenizers` before the fork if possible\n",
      "\t- Explicitly set the environment variable TOKENIZERS_PARALLELISM=(true | false)\n",
      "huggingface/tokenizers: The current process just got forked, after parallelism has already been used. Disabling parallelism to avoid deadlocks...\n",
      "To disable this warning, you can either:\n",
      "\t- Avoid using `tokenizers` before the fork if possible\n",
      "\t- Explicitly set the environment variable TOKENIZERS_PARALLELISM=(true | false)\n"
     ]
    },
    {
     "data": {
      "text/plain": [
       "'https://huggingface.co/peulsilva/phrase-bert-setfit-sst5-5shots/commit/03c9d0641f4c3713f87fba2cdf80a1f17ac4a707'"
      ]
     },
     "execution_count": 44,
     "metadata": {},
     "output_type": "execute_result"
    }
   ],
   "source": [
    "model = SentenceTransformer(\"whaleloops/phrase-bert\")\n",
    "loss_fn = losses.CosineSimilarityLoss(model)\n",
    "cos_sim = torch.nn.CosineSimilarity(dim = 1)\n",
    "\n",
    "n_epochs = 10\n",
    "best_f1 = 0\n",
    "best_model = None\n",
    "\n",
    "for epoch in range(n_epochs):\n",
    "    model.fit(\n",
    "        train_objectives=[ (train_dataloader, loss_fn)],\n",
    "        epochs = 1,\n",
    "        show_progress_bar=False\n",
    "    )\n",
    "\n",
    "    y_true_val = torch.tensor([],device=device)\n",
    "    y_pred_val = torch.tensor([],device=device)\n",
    "\n",
    "    print(f\"Running validation after {epoch} epochs\")\n",
    "\n",
    "    for [x1, x2, y] in tqdm(val_dataloader):\n",
    "        with torch.no_grad():\n",
    "            v1 = model.encode(x1, convert_to_tensor= True)\n",
    "            v2 = model.encode(x2, convert_to_tensor= True)\n",
    "\n",
    "            cos = cos_sim(v1, v2)\n",
    "\n",
    "            y_pred = round(cos.item())\n",
    "            y_true = y\n",
    "\n",
    "            y_pred_val = torch.cat([\n",
    "                y_pred_val, \n",
    "                torch.tensor([y_pred]).to(device)\n",
    "            ])\n",
    "\n",
    "            y_true_val = torch.cat([\n",
    "                y_true_val, \n",
    "                torch.tensor([y_true]).to(device)\n",
    "            ])\n",
    "            \n",
    "    f1 = binary_f1_score(\n",
    "        y_pred_val,\n",
    "        y_true_val,\n",
    "    )\n",
    "    if f1 > best_f1:\n",
    "        best_f1 = f1\n",
    "        best_model = deepcopy(model)\n",
    "\n",
    "    conf_matrix= multiclass_confusion_matrix(\n",
    "        y_pred_val.to(torch.int64),\n",
    "        y_true_val.to(torch.int64),\n",
    "        num_classes=2\n",
    "    )\n",
    "\n",
    "    print(f'f1 score: {f1.item()}')\n",
    "    print(conf_matrix)\n",
    "\n",
    "best_model.save_to_hub(f\"peulsilva/phrase-bert-setfit-sst5-{n_shots}shots\")"
   ]
  },
  {
   "cell_type": "markdown",
   "metadata": {},
   "source": [
    "### Training classifier "
   ]
  },
  {
   "cell_type": "code",
   "execution_count": 45,
   "metadata": {},
   "outputs": [],
   "source": [
    "class CLF(torch.nn.Module):\n",
    "    def __init__(\n",
    "        self,\n",
    "        in_features : int,\n",
    "        out_features : int, \n",
    "        *args, \n",
    "        **kwargs\n",
    "    ) -> None:\n",
    "        super().__init__(*args, **kwargs)\n",
    "\n",
    "        self.layer1 = torch.nn.Linear(in_features, 512)\n",
    "        self.relu = torch.nn.ReLU()\n",
    "        self.layer2 = torch.nn.Linear(512, 256)\n",
    "        self.layer3 = torch.nn.Linear(256, out_features)\n",
    "\n",
    "    def forward(self, x : torch.Tensor):\n",
    "        x = self.layer1(x)\n",
    "        x = self.relu(x)\n",
    "        x = self.layer2(x)\n",
    "        x = self.relu(x)\n",
    "        return self.layer3(x)\n",
    "    "
   ]
  },
  {
   "cell_type": "code",
   "execution_count": 46,
   "metadata": {},
   "outputs": [],
   "source": [
    "X_train, y_train = get_n_shots_per_class(\n",
    "    train_text,\n",
    "    train_labels,\n",
    "    n_shots= n_shots,\n",
    "    num_classes= num_classes\n",
    ")\n",
    "X_val, y_val = get_n_shots_per_class(\n",
    "    val_text, \n",
    "    val_labels,\n",
    "    n_shots = 100,\n",
    "    num_classes=num_classes\n",
    ")"
   ]
  },
  {
   "cell_type": "code",
   "execution_count": 47,
   "metadata": {},
   "outputs": [],
   "source": [
    "from random import shuffle\n",
    "def shuffle_two_lists(X, y ):\n",
    "    X_shuff = []\n",
    "    y_shuff = []\n",
    "    index_shuf = list(range(len(X)))\n",
    "    shuffle(index_shuf)\n",
    "    for i in index_shuf:\n",
    "        X_shuff.append(X[i])\n",
    "        y_shuff.append(y[i])\n",
    "\n",
    "\n",
    "    return X_shuff, y_shuff"
   ]
  },
  {
   "cell_type": "code",
   "execution_count": 48,
   "metadata": {},
   "outputs": [],
   "source": [
    "X_train_shuffled , y_train_shuffled = shuffle_two_lists(X_train, y_train)"
   ]
  },
  {
   "cell_type": "code",
   "execution_count": 49,
   "metadata": {},
   "outputs": [],
   "source": [
    "from IPython.display import clear_output"
   ]
  },
  {
   "cell_type": "code",
   "execution_count": 50,
   "metadata": {},
   "outputs": [
    {
     "name": "stdout",
     "output_type": "stream",
     "text": [
      "---------Epoch: 99-----------\n",
      "f1 score: 0.27799999713897705\n",
      "tensor([[23, 22, 34, 20,  1],\n",
      "        [24, 20, 30, 21,  5],\n",
      "        [27, 15, 28, 23,  7],\n",
      "        [10, 10, 30, 28, 22],\n",
      "        [ 8,  9, 26, 17, 40]], device='cuda:0')\n"
     ]
    }
   ],
   "source": [
    "embedding_model = SentenceTransformer(f\"peulsilva/phrase-bert-setfit-sst5-{n_shots}shots\")\\\n",
    "    .to(device)\n",
    "\n",
    "in_features = embedding_model.get_sentence_embedding_dimension()\n",
    "clf = CLF(\n",
    "    in_features,\n",
    "    num_classes,\n",
    ").to(device)\n",
    "\n",
    "\n",
    "loss_fn = torch.nn.CrossEntropyLoss()\n",
    "\n",
    "optimizer = torch.optim.Adam(\n",
    "    clf.parameters(),\n",
    "    lr = 1e-5\n",
    ")\n",
    "\n",
    "best_model = None\n",
    "best_f1 = 0\n",
    "n_epochs = 100\n",
    "\n",
    "history = []\n",
    "\n",
    "for epoch in (range(n_epochs)):\n",
    "    for i in tqdm(range(len(X_train))):\n",
    "        text = X_train_shuffled[i]\n",
    "        label = torch.tensor(y_train_shuffled[i])\\\n",
    "            .to(device)\n",
    "\n",
    "        with torch.no_grad():\n",
    "            embedding = embedding_model.encode(text, convert_to_tensor=True)\n",
    "\n",
    "        optimizer.zero_grad()\n",
    "        output = clf(embedding)\n",
    "        loss = loss_fn(output, label)\n",
    "\n",
    "\n",
    "        loss.backward()\n",
    "        optimizer.step()\n",
    "\n",
    "    y_true_val = torch.tensor([],device=device)\n",
    "    y_pred_val = torch.tensor([],device=device)\n",
    "\n",
    "    for i in range(len(X_val)):\n",
    "        text = X_val[i]\n",
    "        label = torch.tensor(y_val[i])\\\n",
    "            .to(device)\n",
    "\n",
    "        with torch.no_grad():\n",
    "            embedding = embedding_model.encode(text, convert_to_tensor=True)\n",
    "\n",
    "            y_pred = clf(embedding)\\\n",
    "                .argmax()\n",
    "            \n",
    "            y_pred_val = torch.cat([\n",
    "                y_pred_val, \n",
    "                torch.tensor([y_pred]).to(device)\n",
    "            ])\n",
    "\n",
    "            y_true_val = torch.cat([\n",
    "                y_true_val, \n",
    "                torch.tensor([y_val[i]]).to(device)\n",
    "            ])\n",
    "            \n",
    "    f1 = multiclass_f1_score(\n",
    "        y_pred_val,\n",
    "        y_true_val,\n",
    "        num_classes=num_classes\n",
    "    )\n",
    "    \n",
    "    history.append(f1.item())\n",
    "    if f1 > best_f1:\n",
    "        best_f1 = f1\n",
    "        best_model = deepcopy(clf)\n",
    "\n",
    "    conf_matrix= multiclass_confusion_matrix(\n",
    "        y_pred_val.to(torch.int64),\n",
    "        y_true_val.to(torch.int64),\n",
    "        num_classes=num_classes\n",
    "    )\n",
    "\n",
    "    clear_output()\n",
    "    print(f\"---------Epoch: {epoch}-----------\")\n",
    "    print(f'f1 score: {f1.item()}')\n",
    "    print(conf_matrix)"
   ]
  },
  {
   "cell_type": "code",
   "execution_count": 54,
   "metadata": {},
   "outputs": [],
   "source": [
    "best_epoch = 0\n",
    "for idx, f1 in enumerate(history):\n",
    "    if f1 == best_f1.item():\n",
    "        best_epoch = idx"
   ]
  },
  {
   "cell_type": "code",
   "execution_count": 55,
   "metadata": {},
   "outputs": [
    {
     "data": {
      "text/plain": [
       "36"
      ]
     },
     "execution_count": 55,
     "metadata": {},
     "output_type": "execute_result"
    }
   ],
   "source": [
    "best_epoch"
   ]
  },
  {
   "cell_type": "code",
   "execution_count": 56,
   "metadata": {},
   "outputs": [
    {
     "data": {
      "text/plain": [
       "Text(0.5, 1.0, 'SetFit training results- SST5 - 5 shots')"
      ]
     },
     "execution_count": 56,
     "metadata": {},
     "output_type": "execute_result"
    },
    {
     "data": {
      "image/png": "[encoded data removed]",
      "text/plain": [
       "<Figure size 640x480 with 1 Axes>"
      ]
     },
     "metadata": {},
     "output_type": "display_data"
    }
   ],
   "source": [
    "# history = ([k.to('cpu').numpy() for k in history])\n",
    "plt.plot(history)\n",
    "plt.scatter(\n",
    "    [best_epoch], \n",
    "    best_f1.item(),\n",
    "    color = \"green\",\n",
    "    label = f\"Best f1 : {round(best_f1.item(),3)}\"\n",
    ")\n",
    "plt.grid()\n",
    "plt.legend()\n",
    "plt.ylabel(\"f1 score\")\n",
    "plt.xlabel(\"epoch\")\n",
    "plt.tight_layout()\n",
    "plt.title(\"SetFit training results- SST5 - 5 shots\")"
   ]
  },
  {
   "cell_type": "markdown",
   "metadata": {},
   "source": [
    "## 10 shots"
   ]
  },
  {
   "cell_type": "code",
   "execution_count": null,
   "metadata": {},
   "outputs": [],
   "source": []
  },
  {
   "cell_type": "code",
   "execution_count": 57,
   "metadata": {},
   "outputs": [],
   "source": [
    "n_shots = 10"
   ]
  },
  {
   "cell_type": "code",
   "execution_count": 58,
   "metadata": {},
   "outputs": [],
   "source": [
    "X_train, y_train = get_n_shots_per_class(\n",
    "    train_text,\n",
    "    train_labels,\n",
    "    n_shots= n_shots,\n",
    "    num_classes= num_classes\n",
    ")"
   ]
  },
  {
   "cell_type": "code",
   "execution_count": 59,
   "metadata": {},
   "outputs": [],
   "source": [
    "X_val, y_val = get_n_shots_per_class(\n",
    "    val_text, \n",
    "    val_labels,\n",
    "    n_shots = 10,\n",
    "    num_classes=num_classes\n",
    ")"
   ]
  },
  {
   "cell_type": "code",
   "execution_count": 60,
   "metadata": {},
   "outputs": [],
   "source": [
    "set_fit_data_train = SetFitDataset(\n",
    "    X_train,\n",
    "    y_train, \n",
    "    input_example_format= True\n",
    "    # R = 5\n",
    ")\n",
    "\n",
    "set_fit_data_val = SetFitDataset(\n",
    "    X_val,\n",
    "    y_val,\n",
    "    # R = 5,\n",
    "    input_example_format= False\n",
    ")"
   ]
  },
  {
   "cell_type": "code",
   "execution_count": 61,
   "metadata": {},
   "outputs": [],
   "source": [
    "train_dataloader = DataLoader(\n",
    "    set_fit_data_train.data,\n",
    "    shuffle=True\n",
    ")\n",
    "\n",
    "val_dataloader = DataLoader(\n",
    "    set_fit_data_val\n",
    ")"
   ]
  },
  {
   "cell_type": "markdown",
   "metadata": {},
   "source": [
    "### Train embedding"
   ]
  },
  {
   "cell_type": "code",
   "execution_count": null,
   "metadata": {},
   "outputs": [],
   "source": [
    "model = SentenceTransformer(\"whaleloops/phrase-bert\")\n",
    "loss_fn = losses.CosineSimilarityLoss(model)\n",
    "cos_sim = torch.nn.CosineSimilarity(dim = 1)\n",
    "\n",
    "n_epochs = 50\n",
    "best_f1 = 0\n",
    "best_model = None\n",
    "\n",
    "for epoch in range(n_epochs):\n",
    "    model.fit(\n",
    "        train_objectives=[ (train_dataloader, loss_fn)],\n",
    "        epochs = 1,\n",
    "        show_progress_bar=False\n",
    "    )\n",
    "\n",
    "    y_true_val = torch.tensor([],device=device)\n",
    "    y_pred_val = torch.tensor([],device=device)\n",
    "\n",
    "    print(f\"Running validation after {epoch} epochs\")\n",
    "\n",
    "    for [x1, x2, y] in tqdm(val_dataloader):\n",
    "        with torch.no_grad():\n",
    "            v1 = model.encode(x1, convert_to_tensor= True)\n",
    "            v2 = model.encode(x2, convert_to_tensor= True)\n",
    "\n",
    "            cos = cos_sim(v1, v2)\n",
    "\n",
    "            y_pred = round(cos.item())\n",
    "            y_true = y\n",
    "\n",
    "            y_pred_val = torch.cat([\n",
    "                y_pred_val, \n",
    "                torch.tensor([y_pred]).to(device)\n",
    "            ])\n",
    "\n",
    "            y_true_val = torch.cat([\n",
    "                y_true_val, \n",
    "                torch.tensor([y_true]).to(device)\n",
    "            ])\n",
    "            \n",
    "    f1 = binary_f1_score(\n",
    "        y_pred_val,\n",
    "        y_true_val,\n",
    "    )\n",
    "    if f1 > best_f1:\n",
    "        best_f1 = f1\n",
    "        best_model = deepcopy(model)\n",
    "\n",
    "    conf_matrix= multiclass_confusion_matrix(\n",
    "        y_pred_val.to(torch.int64),\n",
    "        y_true_val.to(torch.int64),\n",
    "        num_classes=2\n",
    "    )\n",
    "\n",
    "    print(f'f1 score: {f1.item()}')\n",
    "    print(conf_matrix)\n",
    "\n",
    "best_model.save_to_hub(f\"peulsilva/phrase-bert-setfit-sst5-{n_shots}shots\")"
   ]
  },
  {
   "cell_type": "markdown",
   "metadata": {},
   "source": [
    "### Training classifier "
   ]
  },
  {
   "cell_type": "code",
   "execution_count": 13,
   "metadata": {},
   "outputs": [],
   "source": [
    "class CLF(torch.nn.Module):\n",
    "    def __init__(\n",
    "        self,\n",
    "        in_features : int,\n",
    "        out_features : int, \n",
    "        *args, \n",
    "        **kwargs\n",
    "    ) -> None:\n",
    "        super().__init__(*args, **kwargs)\n",
    "\n",
    "        self.layer1 = torch.nn.Linear(in_features, 512)\n",
    "        self.relu = torch.nn.ReLU()\n",
    "        self.layer2 = torch.nn.Linear(512, 256)\n",
    "        self.layer3 = torch.nn.Linear(256, out_features)\n",
    "\n",
    "    def forward(self, x : torch.Tensor):\n",
    "        x = self.layer1(x)\n",
    "        x = self.relu(x)\n",
    "        x = self.layer2(x)\n",
    "        x = self.relu(x)\n",
    "        return self.layer3(x)\n",
    "    "
   ]
  },
  {
   "cell_type": "code",
   "execution_count": 14,
   "metadata": {},
   "outputs": [],
   "source": [
    "X_train, y_train = get_n_shots_per_class(\n",
    "    train_text,\n",
    "    train_labels,\n",
    "    n_shots= n_shots,\n",
    "    num_classes= num_classes\n",
    ")\n",
    "X_val, y_val = get_n_shots_per_class(\n",
    "    val_text, \n",
    "    val_labels,\n",
    "    n_shots = 100,\n",
    "    num_classes=num_classes\n",
    ")"
   ]
  },
  {
   "cell_type": "code",
   "execution_count": 17,
   "metadata": {},
   "outputs": [],
   "source": [
    "from random import shuffle\n",
    "def shuffle_two_lists(X, y ):\n",
    "    X_shuff = []\n",
    "    y_shuff = []\n",
    "    index_shuf = list(range(len(X)))\n",
    "    shuffle(index_shuf)\n",
    "    for i in index_shuf:\n",
    "        X_shuff.append(X[i])\n",
    "        y_shuff.append(y[i])\n",
    "\n",
    "\n",
    "    return X_shuff, y_shuff"
   ]
  },
  {
   "cell_type": "code",
   "execution_count": 18,
   "metadata": {},
   "outputs": [],
   "source": [
    "X_train_shuffled , y_train_shuffled = shuffle_two_lists(X_train, y_train)"
   ]
  },
  {
   "cell_type": "code",
   "execution_count": 19,
   "metadata": {},
   "outputs": [],
   "source": [
    "from IPython.display import clear_output"
   ]
  },
  {
   "cell_type": "code",
   "execution_count": 20,
   "metadata": {},
   "outputs": [
    {
     "name": "stdout",
     "output_type": "stream",
     "text": [
      "---------Epoch: 99-----------\n",
      "f1 score: 0.3319999873638153\n",
      "tensor([[43, 17, 16, 16,  8],\n",
      "        [36, 10, 18, 30,  6],\n",
      "        [17, 24, 16, 36,  7],\n",
      "        [ 9,  7, 15, 49, 20],\n",
      "        [ 5,  9, 12, 26, 48]], device='cuda:0')\n"
     ]
    }
   ],
   "source": [
    "embedding_model = SentenceTransformer(f\"peulsilva/phrase-bert-setfit-sst5-{n_shots}shots\")\\\n",
    "    .to(device)\n",
    "\n",
    "in_features = embedding_model.get_sentence_embedding_dimension()\n",
    "clf = CLF(\n",
    "    in_features,\n",
    "    num_classes,\n",
    ").to(device)\n",
    "\n",
    "\n",
    "loss_fn = torch.nn.CrossEntropyLoss()\n",
    "\n",
    "optimizer = torch.optim.Adam(\n",
    "    clf.parameters(),\n",
    "    lr = 1e-5\n",
    ")\n",
    "\n",
    "best_model = None\n",
    "best_f1 = 0\n",
    "n_epochs = 100\n",
    "\n",
    "history = []\n",
    "\n",
    "for epoch in (range(n_epochs)):\n",
    "    for i in tqdm(range(len(X_train))):\n",
    "        text = X_train_shuffled[i]\n",
    "        label = torch.tensor(y_train_shuffled[i])\\\n",
    "            .to(device)\n",
    "\n",
    "        with torch.no_grad():\n",
    "            embedding = embedding_model.encode(text, convert_to_tensor=True)\n",
    "\n",
    "        optimizer.zero_grad()\n",
    "        output = clf(embedding)\n",
    "        loss = loss_fn(output, label)\n",
    "\n",
    "\n",
    "        loss.backward()\n",
    "        optimizer.step()\n",
    "\n",
    "    y_true_val = torch.tensor([],device=device)\n",
    "    y_pred_val = torch.tensor([],device=device)\n",
    "\n",
    "    for i in range(len(X_val)):\n",
    "        text = X_val[i]\n",
    "        label = torch.tensor(y_val[i])\\\n",
    "            .to(device)\n",
    "\n",
    "        with torch.no_grad():\n",
    "            embedding = embedding_model.encode(text, convert_to_tensor=True)\n",
    "\n",
    "            y_pred = clf(embedding)\\\n",
    "                .argmax()\n",
    "            \n",
    "            y_pred_val = torch.cat([\n",
    "                y_pred_val, \n",
    "                torch.tensor([y_pred]).to(device)\n",
    "            ])\n",
    "\n",
    "            y_true_val = torch.cat([\n",
    "                y_true_val, \n",
    "                torch.tensor([y_val[i]]).to(device)\n",
    "            ])\n",
    "            \n",
    "    f1 = multiclass_f1_score(\n",
    "        y_pred_val,\n",
    "        y_true_val,\n",
    "        num_classes=num_classes\n",
    "    )\n",
    "    \n",
    "    history.append(f1.item())\n",
    "    if f1 > best_f1:\n",
    "        best_f1 = f1\n",
    "        best_model = deepcopy(clf)\n",
    "\n",
    "    conf_matrix= multiclass_confusion_matrix(\n",
    "        y_pred_val.to(torch.int64),\n",
    "        y_true_val.to(torch.int64),\n",
    "        num_classes=num_classes\n",
    "    )\n",
    "\n",
    "    clear_output()\n",
    "    print(f\"---------Epoch: {epoch}-----------\")\n",
    "    print(f'f1 score: {f1.item()}')\n",
    "    print(conf_matrix)"
   ]
  },
  {
   "cell_type": "code",
   "execution_count": 21,
   "metadata": {},
   "outputs": [],
   "source": [
    "best_epoch = 0\n",
    "for idx, f1 in enumerate(history):\n",
    "    if f1 == best_f1.item():\n",
    "        best_epoch = idx"
   ]
  },
  {
   "cell_type": "code",
   "execution_count": 22,
   "metadata": {},
   "outputs": [
    {
     "data": {
      "text/plain": [
       "2"
      ]
     },
     "execution_count": 22,
     "metadata": {},
     "output_type": "execute_result"
    }
   ],
   "source": [
    "best_epoch"
   ]
  },
  {
   "cell_type": "code",
   "execution_count": 23,
   "metadata": {},
   "outputs": [
    {
     "data": {
      "text/plain": [
       "Text(0.5, 1.0, 'SetFit training results- SST5 - 10 shots')"
      ]
     },
     "execution_count": 23,
     "metadata": {},
     "output_type": "execute_result"
    },
    {
     "data": {
      "image/png": "[encoded data removed]",
      "text/plain": [
       "<Figure size 640x480 with 1 Axes>"
      ]
     },
     "metadata": {},
     "output_type": "display_data"
    }
   ],
   "source": [
    "# history = ([k.to('cpu').numpy() for k in history])\n",
    "plt.plot(history)\n",
    "plt.scatter(\n",
    "    [best_epoch], \n",
    "    best_f1.item(),\n",
    "    color = \"green\",\n",
    "    label = f\"Best f1 : {round(best_f1.item(),3)}\"\n",
    ")\n",
    "plt.grid()\n",
    "plt.legend()\n",
    "plt.ylabel(\"f1 score\")\n",
    "plt.xlabel(\"epoch\")\n",
    "plt.tight_layout()\n",
    "plt.title(f\"SetFit training results- SST5 - {n_shots} shots\")"
   ]
  }
 ],
 "metadata": {
  "kernelspec": {
   "display_name": ".venv",
   "language": "python",
   "name": "python3"
  },
  "language_info": {
   "codemirror_mode": {
    "name": "ipython",
    "version": 3
   },
   "file_extension": ".py",
   "mimetype": "text/x-python",
   "name": "python",
   "nbconvert_exporter": "python",
   "pygments_lexer": "ipython3",
   "version": "3.9.18"
  }
 },
 "nbformat": 4,
 "nbformat_minor": 2
}
