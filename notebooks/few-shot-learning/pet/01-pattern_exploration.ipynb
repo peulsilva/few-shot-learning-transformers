{
 "cells": [
  {
   "cell_type": "code",
   "execution_count": 1,
   "metadata": {},
   "outputs": [],
   "source": [
    "%load_ext autoreload\n",
    "%autoreload 2"
   ]
  },
  {
   "cell_type": "code",
   "execution_count": 2,
   "metadata": {},
   "outputs": [
    {
     "name": "stderr",
     "output_type": "stream",
     "text": [
      "/users/eleves-a/2022/pedro.silva/few-shot-learning-transformers/.venv/lib64/python3.9/site-packages/tqdm/auto.py:21: TqdmWarning: IProgress not found. Please update jupyter and ipywidgets. See https://ipywidgets.readthedocs.io/en/stable/user_install.html\n",
      "  from .autonotebook import tqdm as notebook_tqdm\n"
     ]
    }
   ],
   "source": [
    "import transformers\n",
    "from transformers import LayoutLMv2Processor, LayoutLMForTokenClassification, AdamW, BertForTokenClassification,\\\n",
    "    BertTokenizer, LayoutLMTokenizer, AutoTokenizer, AutoModelForMaskedLM, pipeline, DataCollatorForLanguageModeling\n",
    "from datasets import load_dataset\n",
    "import torch\n",
    "from torch.nn.functional import cross_entropy\n",
    "import matplotlib.pyplot as plt\n",
    "import numpy as np\n",
    "from tqdm import tqdm\n",
    "import logging\n",
    "from torch.utils.data import DataLoader, Dataset\n",
    "from torcheval.metrics.functional import multiclass_f1_score, multiclass_confusion_matrix\n",
    "from copy import deepcopy, copy\n",
    "import seaborn as sns\n",
    "import pandas as pd\n",
    "\n",
    "import os \n",
    "while 'notebooks' in os.getcwd():\n",
    "    os.chdir(\"..\")\n",
    "\n",
    "import re\n",
    "from typing import List, Dict\n",
    "    \n",
    "from src.preprocessing.make_dataset import ImageLayoutDataset, PatternExploitingDataset, SplitWordsDataset\n",
    "from src.model.trainer import BertTrainer, LayoutLMTrainer\n",
    "import warnings\n",
    "warnings.filterwarnings(\"ignore\")"
   ]
  },
  {
   "cell_type": "markdown",
   "metadata": {},
   "source": [
    "## Importing dataset"
   ]
  },
  {
   "cell_type": "code",
   "execution_count": 3,
   "metadata": {},
   "outputs": [],
   "source": [
    "dataset = load_dataset(\"nielsr/funsd\")"
   ]
  },
  {
   "cell_type": "code",
   "execution_count": 4,
   "metadata": {},
   "outputs": [],
   "source": [
    "tokenizer = AutoTokenizer.from_pretrained(\"distilbert-base-uncased\")"
   ]
  },
  {
   "cell_type": "code",
   "execution_count": 5,
   "metadata": {},
   "outputs": [
    {
     "name": "stdout",
     "output_type": "stream",
     "text": [
      "mkdir: cannot create directory ‘logs’: File exists\n"
     ]
    }
   ],
   "source": [
    "!mkdir logs\n",
    "model_name = \"PET\"\n",
    "dataset_name = \"FUNSD\"\n",
    "logging.basicConfig(filename=f'logs/{model_name}_{dataset_name}.log', encoding='utf-8', level= logging.INFO)"
   ]
  },
  {
   "cell_type": "markdown",
   "metadata": {},
   "source": [
    "## Adding sequence"
   ]
  },
  {
   "cell_type": "code",
   "execution_count": 6,
   "metadata": {},
   "outputs": [],
   "source": [
    "def pattern1(\n",
    "    phrase : str,\n",
    "    word: str,\n",
    "    tokenizer\n",
    "):\n",
    "    return f\"In the phrase '{phrase}', the {word} is in the header, in a question, or in an answer? {tokenizer.mask_token}\""
   ]
  },
  {
   "cell_type": "code",
   "execution_count": 7,
   "metadata": {},
   "outputs": [],
   "source": [
    "def pattern2(\n",
    "    phrase : str,\n",
    "    word : str,\n",
    "    tokenizer\n",
    "):\n",
    "    return f\"In the phrase '{phrase}', is '{word}' located in the header, a question, an answer, or none ? {tokenizer.mask_token}\""
   ]
  },
  {
   "cell_type": "markdown",
   "metadata": {},
   "source": [
    "### Instantiate class Dataset"
   ]
  },
  {
   "cell_type": "code",
   "execution_count": 8,
   "metadata": {},
   "outputs": [],
   "source": [
    "pattern = pattern1"
   ]
  },
  {
   "cell_type": "code",
   "execution_count": 9,
   "metadata": {},
   "outputs": [
    {
     "name": "stderr",
     "output_type": "stream",
     "text": [
      "  0%|          | 0/149 [00:00<?, ?it/s]"
     ]
    },
    {
     "name": "stderr",
     "output_type": "stream",
     "text": [
      "100%|██████████| 149/149 [00:00<00:00, 989.00it/s]\n"
     ]
    }
   ],
   "source": [
    "splitted_dataset = SplitWordsDataset(\n",
    "    dataset['train'],\n",
    "    tokenizer,\n",
    "    pattern,\n",
    ")"
   ]
  },
  {
   "cell_type": "code",
   "execution_count": 10,
   "metadata": {},
   "outputs": [
    {
     "name": "stderr",
     "output_type": "stream",
     "text": [
      "100%|██████████| 50/50 [00:00<00:00, 941.37it/s]\n"
     ]
    }
   ],
   "source": [
    "validation_dataset = SplitWordsDataset(\n",
    "    dataset['test'],\n",
    "    tokenizer,\n",
    "    pattern,\n",
    ")"
   ]
  },
  {
   "cell_type": "code",
   "execution_count": 11,
   "metadata": {},
   "outputs": [
    {
     "data": {
      "text/plain": [
       "[{'pattern': \"In the phrase 'R&D . Suggestion. Date', the R&D is in the header, in a question, or in an answer? [MASK]\",\n",
       "  'label': 'NONE'},\n",
       " {'pattern': \"In the phrase 'R&D . Suggestion. Date', the Suggestion. is in the header, in a question, or in an answer? [MASK]\",\n",
       "  'label': 'QUESTION'},\n",
       " {'pattern': \"In the phrase 'R&D . Suggestion. Date', the Date is in the header, in a question, or in an answer? [MASK]\",\n",
       "  'label': 'QUESTION'},\n",
       " {'pattern': \"In the phrase ' Licensee Yes No 597005708 R&D QUALITY IMPROVEMENT SUGGESTION/ SOLUTION FORM Name / Phone Ext. . M', the Licensee is in the header, in a question, or in an answer? [MASK]\",\n",
       "  'label': 'ANSWER'},\n",
       " {'pattern': \"In the phrase ' Licensee Yes No 597005708 R&D QUALITY IMPROVEMENT SUGGESTION/ SOLUTION FORM Name / Phone Ext. . M', the Yes is in the header, in a question, or in an answer? [MASK]\",\n",
       "  'label': 'QUESTION'},\n",
       " {'pattern': \"In the phrase ' Licensee Yes No 597005708 R&D QUALITY IMPROVEMENT SUGGESTION/ SOLUTION FORM Name / Phone Ext. . M', the No is in the header, in a question, or in an answer? [MASK]\",\n",
       "  'label': 'QUESTION'},\n",
       " {'pattern': \"In the phrase ' Licensee Yes No 597005708 R&D QUALITY IMPROVEMENT SUGGESTION/ SOLUTION FORM Name / Phone Ext. . M', the 597005708 is in the header, in a question, or in an answer? [MASK]\",\n",
       "  'label': 'NONE'},\n",
       " {'pattern': \"In the phrase ' Licensee Yes No 597005708 R&D QUALITY IMPROVEMENT SUGGESTION/ SOLUTION FORM Name / Phone Ext. . M', the R&D is in the header, in a question, or in an answer? [MASK]\",\n",
       "  'label': 'HEADER'},\n",
       " {'pattern': \"In the phrase ' Licensee Yes No 597005708 R&D QUALITY IMPROVEMENT SUGGESTION/ SOLUTION FORM Name / Phone Ext. . M', the QUALITY is in the header, in a question, or in an answer? [MASK]\",\n",
       "  'label': 'HEADER'},\n",
       " {'pattern': \"In the phrase ' Licensee Yes No 597005708 R&D QUALITY IMPROVEMENT SUGGESTION/ SOLUTION FORM Name / Phone Ext. . M', the IMPROVEMENT is in the header, in a question, or in an answer? [MASK]\",\n",
       "  'label': 'HEADER'},\n",
       " {'pattern': \"In the phrase ' Licensee Yes No 597005708 R&D QUALITY IMPROVEMENT SUGGESTION/ SOLUTION FORM Name / Phone Ext. . M', the SUGGESTION/ is in the header, in a question, or in an answer? [MASK]\",\n",
       "  'label': 'HEADER'},\n",
       " {'pattern': \"In the phrase ' Licensee Yes No 597005708 R&D QUALITY IMPROVEMENT SUGGESTION/ SOLUTION FORM Name / Phone Ext. . M', the SOLUTION is in the header, in a question, or in an answer? [MASK]\",\n",
       "  'label': 'HEADER'},\n",
       " {'pattern': \"In the phrase ' Licensee Yes No 597005708 R&D QUALITY IMPROVEMENT SUGGESTION/ SOLUTION FORM Name / Phone Ext. . M', the FORM is in the header, in a question, or in an answer? [MASK]\",\n",
       "  'label': 'HEADER'},\n",
       " {'pattern': \"In the phrase ' Licensee Yes No 597005708 R&D QUALITY IMPROVEMENT SUGGESTION/ SOLUTION FORM Name / Phone Ext. . M', the Name is in the header, in a question, or in an answer? [MASK]\",\n",
       "  'label': 'QUESTION'},\n",
       " {'pattern': \"In the phrase ' Licensee Yes No 597005708 R&D QUALITY IMPROVEMENT SUGGESTION/ SOLUTION FORM Name / Phone Ext. . M', the Phone is in the header, in a question, or in an answer? [MASK]\",\n",
       "  'label': 'QUESTION'},\n",
       " {'pattern': \"In the phrase ' Licensee Yes No 597005708 R&D QUALITY IMPROVEMENT SUGGESTION/ SOLUTION FORM Name / Phone Ext. . M', the Ext. is in the header, in a question, or in an answer? [MASK]\",\n",
       "  'label': 'QUESTION'},\n",
       " {'pattern': \"In the phrase ' Hamann P. Harper, P. Martinez 9/ 3/ 92 R&D Group', the Hamann is in the header, in a question, or in an answer? [MASK]\",\n",
       "  'label': 'ANSWER'},\n",
       " {'pattern': \"In the phrase ' Hamann P. Harper, P. Martinez 9/ 3/ 92 R&D Group', the P. is in the header, in a question, or in an answer? [MASK]\",\n",
       "  'label': 'ANSWER'},\n",
       " {'pattern': \"In the phrase ' Hamann P. Harper, P. Martinez 9/ 3/ 92 R&D Group', the Harper, is in the header, in a question, or in an answer? [MASK]\",\n",
       "  'label': 'ANSWER'},\n",
       " {'pattern': \"In the phrase ' Hamann P. Harper, P. Martinez 9/ 3/ 92 R&D Group', the P. is in the header, in a question, or in an answer? [MASK]\",\n",
       "  'label': 'ANSWER'},\n",
       " {'pattern': \"In the phrase ' Hamann P. Harper, P. Martinez 9/ 3/ 92 R&D Group', the Martinez is in the header, in a question, or in an answer? [MASK]\",\n",
       "  'label': 'ANSWER'},\n",
       " {'pattern': \"In the phrase ' Hamann P. Harper, P. Martinez 9/ 3/ 92 R&D Group', the 9/ is in the header, in a question, or in an answer? [MASK]\",\n",
       "  'label': 'ANSWER'},\n",
       " {'pattern': \"In the phrase ' Hamann P. Harper, P. Martinez 9/ 3/ 92 R&D Group', the 3/ is in the header, in a question, or in an answer? [MASK]\",\n",
       "  'label': 'ANSWER'},\n",
       " {'pattern': \"In the phrase ' Hamann P. Harper, P. Martinez 9/ 3/ 92 R&D Group', the 92 is in the header, in a question, or in an answer? [MASK]\",\n",
       "  'label': 'ANSWER'},\n",
       " {'pattern': \"In the phrase ' Hamann P. Harper, P. Martinez 9/ 3/ 92 R&D Group', the R&D is in the header, in a question, or in an answer? [MASK]\",\n",
       "  'label': 'QUESTION'},\n",
       " {'pattern': \"In the phrase ' Hamann P. Harper, P. Martinez 9/ 3/ 92 R&D Group', the Group is in the header, in a question, or in an answer? [MASK]\",\n",
       "  'label': 'QUESTION'},\n",
       " {'pattern': \"In the phrase ' J. S. Wigand Supervisor / Manager Discontinue coal retention analyses on licensee submitted product samples (Note ', the J. is in the header, in a question, or in an answer? [MASK]\",\n",
       "  'label': 'ANSWER'},\n",
       " {'pattern': \"In the phrase ' J. S. Wigand Supervisor / Manager Discontinue coal retention analyses on licensee submitted product samples (Note ', the S. is in the header, in a question, or in an answer? [MASK]\",\n",
       "  'label': 'ANSWER'},\n",
       " {'pattern': \"In the phrase ' J. S. Wigand Supervisor / Manager Discontinue coal retention analyses on licensee submitted product samples (Note ', the Wigand is in the header, in a question, or in an answer? [MASK]\",\n",
       "  'label': 'ANSWER'},\n",
       " {'pattern': \"In the phrase ' J. S. Wigand Supervisor / Manager Discontinue coal retention analyses on licensee submitted product samples (Note ', the Supervisor is in the header, in a question, or in an answer? [MASK]\",\n",
       "  'label': 'QUESTION'},\n",
       " {'pattern': \"In the phrase ' J. S. Wigand Supervisor / Manager Discontinue coal retention analyses on licensee submitted product samples (Note ', the Manager is in the header, in a question, or in an answer? [MASK]\",\n",
       "  'label': 'QUESTION'},\n",
       " {'pattern': \"In the phrase ' J. S. Wigand Supervisor / Manager Discontinue coal retention analyses on licensee submitted product samples (Note ', the Discontinue is in the header, in a question, or in an answer? [MASK]\",\n",
       "  'label': 'ANSWER'},\n",
       " {'pattern': \"In the phrase ' J. S. Wigand Supervisor / Manager Discontinue coal retention analyses on licensee submitted product samples (Note ', the coal is in the header, in a question, or in an answer? [MASK]\",\n",
       "  'label': 'ANSWER'},\n",
       " {'pattern': \"In the phrase ' J. S. Wigand Supervisor / Manager Discontinue coal retention analyses on licensee submitted product samples (Note ', the retention is in the header, in a question, or in an answer? [MASK]\",\n",
       "  'label': 'ANSWER'},\n",
       " {'pattern': \"In the phrase ' J. S. Wigand Supervisor / Manager Discontinue coal retention analyses on licensee submitted product samples (Note ', the analyses is in the header, in a question, or in an answer? [MASK]\",\n",
       "  'label': 'ANSWER'},\n",
       " {'pattern': \"In the phrase ' J. S. Wigand Supervisor / Manager Discontinue coal retention analyses on licensee submitted product samples (Note ', the on is in the header, in a question, or in an answer? [MASK]\",\n",
       "  'label': 'ANSWER'},\n",
       " {'pattern': \"In the phrase ' J. S. Wigand Supervisor / Manager Discontinue coal retention analyses on licensee submitted product samples (Note ', the licensee is in the header, in a question, or in an answer? [MASK]\",\n",
       "  'label': 'ANSWER'},\n",
       " {'pattern': \"In the phrase ' J. S. Wigand Supervisor / Manager Discontinue coal retention analyses on licensee submitted product samples (Note ', the submitted is in the header, in a question, or in an answer? [MASK]\",\n",
       "  'label': 'ANSWER'},\n",
       " {'pattern': \"In the phrase ' J. S. Wigand Supervisor / Manager Discontinue coal retention analyses on licensee submitted product samples (Note ', the product is in the header, in a question, or in an answer? [MASK]\",\n",
       "  'label': 'ANSWER'},\n",
       " {'pattern': \"In the phrase ' J. S. Wigand Supervisor / Manager Discontinue coal retention analyses on licensee submitted product samples (Note ', the samples is in the header, in a question, or in an answer? [MASK]\",\n",
       "  'label': 'ANSWER'},\n",
       " {'pattern': \"In the phrase ' J. S. Wigand Supervisor / Manager Discontinue coal retention analyses on licensee submitted product samples (Note ', the (Note is in the header, in a question, or in an answer? [MASK]\",\n",
       "  'label': 'ANSWER'},\n",
       " {'pattern': \"In the phrase ' Coal Retention testing is not performed by most licensees. Other B&W physical measurements as ends stability and inspection for soft spots in ciparettes are thought to be sufficient measures to assure cigarette physical integrity. The proposed action will increase laboratory productivity ', the Coal is in the header, in a question, or in an answer? [MASK]\",\n",
       "  'label': 'ANSWER'},\n",
       " {'pattern': \"In the phrase ' Coal Retention testing is not performed by most licensees. Other B&W physical measurements as ends stability and inspection for soft spots in ciparettes are thought to be sufficient measures to assure cigarette physical integrity. The proposed action will increase laboratory productivity ', the Retention is in the header, in a question, or in an answer? [MASK]\",\n",
       "  'label': 'ANSWER'},\n",
       " {'pattern': \"In the phrase ' Coal Retention testing is not performed by most licensees. Other B&W physical measurements as ends stability and inspection for soft spots in ciparettes are thought to be sufficient measures to assure cigarette physical integrity. The proposed action will increase laboratory productivity ', the testing is in the header, in a question, or in an answer? [MASK]\",\n",
       "  'label': 'ANSWER'},\n",
       " {'pattern': \"In the phrase ' Coal Retention testing is not performed by most licensees. Other B&W physical measurements as ends stability and inspection for soft spots in ciparettes are thought to be sufficient measures to assure cigarette physical integrity. The proposed action will increase laboratory productivity ', the is is in the header, in a question, or in an answer? [MASK]\",\n",
       "  'label': 'ANSWER'},\n",
       " {'pattern': \"In the phrase ' Coal Retention testing is not performed by most licensees. Other B&W physical measurements as ends stability and inspection for soft spots in ciparettes are thought to be sufficient measures to assure cigarette physical integrity. The proposed action will increase laboratory productivity ', the not is in the header, in a question, or in an answer? [MASK]\",\n",
       "  'label': 'ANSWER'},\n",
       " {'pattern': \"In the phrase ' Coal Retention testing is not performed by most licensees. Other B&W physical measurements as ends stability and inspection for soft spots in ciparettes are thought to be sufficient measures to assure cigarette physical integrity. The proposed action will increase laboratory productivity ', the performed is in the header, in a question, or in an answer? [MASK]\",\n",
       "  'label': 'ANSWER'},\n",
       " {'pattern': \"In the phrase ' Coal Retention testing is not performed by most licensees. Other B&W physical measurements as ends stability and inspection for soft spots in ciparettes are thought to be sufficient measures to assure cigarette physical integrity. The proposed action will increase laboratory productivity ', the by is in the header, in a question, or in an answer? [MASK]\",\n",
       "  'label': 'ANSWER'},\n",
       " {'pattern': \"In the phrase ' Coal Retention testing is not performed by most licensees. Other B&W physical measurements as ends stability and inspection for soft spots in ciparettes are thought to be sufficient measures to assure cigarette physical integrity. The proposed action will increase laboratory productivity ', the most is in the header, in a question, or in an answer? [MASK]\",\n",
       "  'label': 'ANSWER'},\n",
       " {'pattern': \"In the phrase ' Coal Retention testing is not performed by most licensees. Other B&W physical measurements as ends stability and inspection for soft spots in ciparettes are thought to be sufficient measures to assure cigarette physical integrity. The proposed action will increase laboratory productivity ', the licensees. is in the header, in a question, or in an answer? [MASK]\",\n",
       "  'label': 'ANSWER'},\n",
       " {'pattern': \"In the phrase ' Coal Retention testing is not performed by most licensees. Other B&W physical measurements as ends stability and inspection for soft spots in ciparettes are thought to be sufficient measures to assure cigarette physical integrity. The proposed action will increase laboratory productivity ', the Other is in the header, in a question, or in an answer? [MASK]\",\n",
       "  'label': 'ANSWER'},\n",
       " {'pattern': \"In the phrase ' Coal Retention testing is not performed by most licensees. Other B&W physical measurements as ends stability and inspection for soft spots in ciparettes are thought to be sufficient measures to assure cigarette physical integrity. The proposed action will increase laboratory productivity ', the B&W is in the header, in a question, or in an answer? [MASK]\",\n",
       "  'label': 'ANSWER'},\n",
       " {'pattern': \"In the phrase ' Coal Retention testing is not performed by most licensees. Other B&W physical measurements as ends stability and inspection for soft spots in ciparettes are thought to be sufficient measures to assure cigarette physical integrity. The proposed action will increase laboratory productivity ', the physical is in the header, in a question, or in an answer? [MASK]\",\n",
       "  'label': 'ANSWER'},\n",
       " {'pattern': \"In the phrase ' Coal Retention testing is not performed by most licensees. Other B&W physical measurements as ends stability and inspection for soft spots in ciparettes are thought to be sufficient measures to assure cigarette physical integrity. The proposed action will increase laboratory productivity ', the measurements is in the header, in a question, or in an answer? [MASK]\",\n",
       "  'label': 'ANSWER'},\n",
       " {'pattern': \"In the phrase ' Coal Retention testing is not performed by most licensees. Other B&W physical measurements as ends stability and inspection for soft spots in ciparettes are thought to be sufficient measures to assure cigarette physical integrity. The proposed action will increase laboratory productivity ', the as is in the header, in a question, or in an answer? [MASK]\",\n",
       "  'label': 'ANSWER'},\n",
       " {'pattern': \"In the phrase ' Coal Retention testing is not performed by most licensees. Other B&W physical measurements as ends stability and inspection for soft spots in ciparettes are thought to be sufficient measures to assure cigarette physical integrity. The proposed action will increase laboratory productivity ', the ends is in the header, in a question, or in an answer? [MASK]\",\n",
       "  'label': 'ANSWER'},\n",
       " {'pattern': \"In the phrase ' Coal Retention testing is not performed by most licensees. Other B&W physical measurements as ends stability and inspection for soft spots in ciparettes are thought to be sufficient measures to assure cigarette physical integrity. The proposed action will increase laboratory productivity ', the stability is in the header, in a question, or in an answer? [MASK]\",\n",
       "  'label': 'ANSWER'},\n",
       " {'pattern': \"In the phrase ' Coal Retention testing is not performed by most licensees. Other B&W physical measurements as ends stability and inspection for soft spots in ciparettes are thought to be sufficient measures to assure cigarette physical integrity. The proposed action will increase laboratory productivity ', the and is in the header, in a question, or in an answer? [MASK]\",\n",
       "  'label': 'ANSWER'},\n",
       " {'pattern': \"In the phrase ' Coal Retention testing is not performed by most licensees. Other B&W physical measurements as ends stability and inspection for soft spots in ciparettes are thought to be sufficient measures to assure cigarette physical integrity. The proposed action will increase laboratory productivity ', the inspection is in the header, in a question, or in an answer? [MASK]\",\n",
       "  'label': 'ANSWER'},\n",
       " {'pattern': \"In the phrase ' Coal Retention testing is not performed by most licensees. Other B&W physical measurements as ends stability and inspection for soft spots in ciparettes are thought to be sufficient measures to assure cigarette physical integrity. The proposed action will increase laboratory productivity ', the for is in the header, in a question, or in an answer? [MASK]\",\n",
       "  'label': 'ANSWER'},\n",
       " {'pattern': \"In the phrase ' Coal Retention testing is not performed by most licensees. Other B&W physical measurements as ends stability and inspection for soft spots in ciparettes are thought to be sufficient measures to assure cigarette physical integrity. The proposed action will increase laboratory productivity ', the soft is in the header, in a question, or in an answer? [MASK]\",\n",
       "  'label': 'ANSWER'},\n",
       " {'pattern': \"In the phrase ' Coal Retention testing is not performed by most licensees. Other B&W physical measurements as ends stability and inspection for soft spots in ciparettes are thought to be sufficient measures to assure cigarette physical integrity. The proposed action will increase laboratory productivity ', the spots is in the header, in a question, or in an answer? [MASK]\",\n",
       "  'label': 'ANSWER'},\n",
       " {'pattern': \"In the phrase ' Coal Retention testing is not performed by most licensees. Other B&W physical measurements as ends stability and inspection for soft spots in ciparettes are thought to be sufficient measures to assure cigarette physical integrity. The proposed action will increase laboratory productivity ', the in is in the header, in a question, or in an answer? [MASK]\",\n",
       "  'label': 'ANSWER'},\n",
       " {'pattern': \"In the phrase ' Coal Retention testing is not performed by most licensees. Other B&W physical measurements as ends stability and inspection for soft spots in ciparettes are thought to be sufficient measures to assure cigarette physical integrity. The proposed action will increase laboratory productivity ', the ciparettes is in the header, in a question, or in an answer? [MASK]\",\n",
       "  'label': 'ANSWER'},\n",
       " {'pattern': \"In the phrase ' Coal Retention testing is not performed by most licensees. Other B&W physical measurements as ends stability and inspection for soft spots in ciparettes are thought to be sufficient measures to assure cigarette physical integrity. The proposed action will increase laboratory productivity ', the are is in the header, in a question, or in an answer? [MASK]\",\n",
       "  'label': 'ANSWER'},\n",
       " {'pattern': \"In the phrase ' Coal Retention testing is not performed by most licensees. Other B&W physical measurements as ends stability and inspection for soft spots in ciparettes are thought to be sufficient measures to assure cigarette physical integrity. The proposed action will increase laboratory productivity ', the thought is in the header, in a question, or in an answer? [MASK]\",\n",
       "  'label': 'ANSWER'},\n",
       " {'pattern': \"In the phrase ' Coal Retention testing is not performed by most licensees. Other B&W physical measurements as ends stability and inspection for soft spots in ciparettes are thought to be sufficient measures to assure cigarette physical integrity. The proposed action will increase laboratory productivity ', the to is in the header, in a question, or in an answer? [MASK]\",\n",
       "  'label': 'ANSWER'},\n",
       " {'pattern': \"In the phrase ' Coal Retention testing is not performed by most licensees. Other B&W physical measurements as ends stability and inspection for soft spots in ciparettes are thought to be sufficient measures to assure cigarette physical integrity. The proposed action will increase laboratory productivity ', the be is in the header, in a question, or in an answer? [MASK]\",\n",
       "  'label': 'ANSWER'},\n",
       " {'pattern': \"In the phrase ' Coal Retention testing is not performed by most licensees. Other B&W physical measurements as ends stability and inspection for soft spots in ciparettes are thought to be sufficient measures to assure cigarette physical integrity. The proposed action will increase laboratory productivity ', the sufficient is in the header, in a question, or in an answer? [MASK]\",\n",
       "  'label': 'ANSWER'},\n",
       " {'pattern': \"In the phrase ' Coal Retention testing is not performed by most licensees. Other B&W physical measurements as ends stability and inspection for soft spots in ciparettes are thought to be sufficient measures to assure cigarette physical integrity. The proposed action will increase laboratory productivity ', the measures is in the header, in a question, or in an answer? [MASK]\",\n",
       "  'label': 'ANSWER'},\n",
       " {'pattern': \"In the phrase ' Coal Retention testing is not performed by most licensees. Other B&W physical measurements as ends stability and inspection for soft spots in ciparettes are thought to be sufficient measures to assure cigarette physical integrity. The proposed action will increase laboratory productivity ', the to is in the header, in a question, or in an answer? [MASK]\",\n",
       "  'label': 'ANSWER'},\n",
       " {'pattern': \"In the phrase ' Coal Retention testing is not performed by most licensees. Other B&W physical measurements as ends stability and inspection for soft spots in ciparettes are thought to be sufficient measures to assure cigarette physical integrity. The proposed action will increase laboratory productivity ', the assure is in the header, in a question, or in an answer? [MASK]\",\n",
       "  'label': 'ANSWER'},\n",
       " {'pattern': \"In the phrase ' Coal Retention testing is not performed by most licensees. Other B&W physical measurements as ends stability and inspection for soft spots in ciparettes are thought to be sufficient measures to assure cigarette physical integrity. The proposed action will increase laboratory productivity ', the cigarette is in the header, in a question, or in an answer? [MASK]\",\n",
       "  'label': 'ANSWER'},\n",
       " {'pattern': \"In the phrase ' Coal Retention testing is not performed by most licensees. Other B&W physical measurements as ends stability and inspection for soft spots in ciparettes are thought to be sufficient measures to assure cigarette physical integrity. The proposed action will increase laboratory productivity ', the physical is in the header, in a question, or in an answer? [MASK]\",\n",
       "  'label': 'ANSWER'},\n",
       " {'pattern': \"In the phrase ' Coal Retention testing is not performed by most licensees. Other B&W physical measurements as ends stability and inspection for soft spots in ciparettes are thought to be sufficient measures to assure cigarette physical integrity. The proposed action will increase laboratory productivity ', the integrity. is in the header, in a question, or in an answer? [MASK]\",\n",
       "  'label': 'ANSWER'},\n",
       " {'pattern': \"In the phrase ' Coal Retention testing is not performed by most licensees. Other B&W physical measurements as ends stability and inspection for soft spots in ciparettes are thought to be sufficient measures to assure cigarette physical integrity. The proposed action will increase laboratory productivity ', the The is in the header, in a question, or in an answer? [MASK]\",\n",
       "  'label': 'ANSWER'},\n",
       " {'pattern': \"In the phrase ' Coal Retention testing is not performed by most licensees. Other B&W physical measurements as ends stability and inspection for soft spots in ciparettes are thought to be sufficient measures to assure cigarette physical integrity. The proposed action will increase laboratory productivity ', the proposed is in the header, in a question, or in an answer? [MASK]\",\n",
       "  'label': 'ANSWER'},\n",
       " {'pattern': \"In the phrase ' Coal Retention testing is not performed by most licensees. Other B&W physical measurements as ends stability and inspection for soft spots in ciparettes are thought to be sufficient measures to assure cigarette physical integrity. The proposed action will increase laboratory productivity ', the action is in the header, in a question, or in an answer? [MASK]\",\n",
       "  'label': 'ANSWER'},\n",
       " {'pattern': \"In the phrase ' Coal Retention testing is not performed by most licensees. Other B&W physical measurements as ends stability and inspection for soft spots in ciparettes are thought to be sufficient measures to assure cigarette physical integrity. The proposed action will increase laboratory productivity ', the will is in the header, in a question, or in an answer? [MASK]\",\n",
       "  'label': 'ANSWER'},\n",
       " {'pattern': \"In the phrase ' Coal Retention testing is not performed by most licensees. Other B&W physical measurements as ends stability and inspection for soft spots in ciparettes are thought to be sufficient measures to assure cigarette physical integrity. The proposed action will increase laboratory productivity ', the increase is in the header, in a question, or in an answer? [MASK]\",\n",
       "  'label': 'ANSWER'},\n",
       " {'pattern': \"In the phrase ' Coal Retention testing is not performed by most licensees. Other B&W physical measurements as ends stability and inspection for soft spots in ciparettes are thought to be sufficient measures to assure cigarette physical integrity. The proposed action will increase laboratory productivity ', the laboratory is in the header, in a question, or in an answer? [MASK]\",\n",
       "  'label': 'ANSWER'},\n",
       " {'pattern': \"In the phrase ' Coal Retention testing is not performed by most licensees. Other B&W physical measurements as ends stability and inspection for soft spots in ciparettes are thought to be sufficient measures to assure cigarette physical integrity. The proposed action will increase laboratory productivity ', the productivity is in the header, in a question, or in an answer? [MASK]\",\n",
       "  'label': 'ANSWER'},\n",
       " {'pattern': \"In the phrase ' ) Suggested Solutions (s) . Delete coal retention from the list of standard analyses performed on licensee submitted product samples. Special requests for coal retention testing could still be submitted on an exception basis', the Suggested is in the header, in a question, or in an answer? [MASK]\",\n",
       "  'label': 'QUESTION'},\n",
       " {'pattern': \"In the phrase ' ) Suggested Solutions (s) . Delete coal retention from the list of standard analyses performed on licensee submitted product samples. Special requests for coal retention testing could still be submitted on an exception basis', the Solutions is in the header, in a question, or in an answer? [MASK]\",\n",
       "  'label': 'QUESTION'},\n",
       " {'pattern': \"In the phrase ' ) Suggested Solutions (s) . Delete coal retention from the list of standard analyses performed on licensee submitted product samples. Special requests for coal retention testing could still be submitted on an exception basis', the (s) is in the header, in a question, or in an answer? [MASK]\",\n",
       "  'label': 'QUESTION'},\n",
       " {'pattern': \"In the phrase ' ) Suggested Solutions (s) . Delete coal retention from the list of standard analyses performed on licensee submitted product samples. Special requests for coal retention testing could still be submitted on an exception basis', the Delete is in the header, in a question, or in an answer? [MASK]\",\n",
       "  'label': 'ANSWER'},\n",
       " {'pattern': \"In the phrase ' ) Suggested Solutions (s) . Delete coal retention from the list of standard analyses performed on licensee submitted product samples. Special requests for coal retention testing could still be submitted on an exception basis', the coal is in the header, in a question, or in an answer? [MASK]\",\n",
       "  'label': 'ANSWER'},\n",
       " {'pattern': \"In the phrase ' ) Suggested Solutions (s) . Delete coal retention from the list of standard analyses performed on licensee submitted product samples. Special requests for coal retention testing could still be submitted on an exception basis', the retention is in the header, in a question, or in an answer? [MASK]\",\n",
       "  'label': 'ANSWER'},\n",
       " {'pattern': \"In the phrase ' ) Suggested Solutions (s) . Delete coal retention from the list of standard analyses performed on licensee submitted product samples. Special requests for coal retention testing could still be submitted on an exception basis', the from is in the header, in a question, or in an answer? [MASK]\",\n",
       "  'label': 'ANSWER'},\n",
       " {'pattern': \"In the phrase ' ) Suggested Solutions (s) . Delete coal retention from the list of standard analyses performed on licensee submitted product samples. Special requests for coal retention testing could still be submitted on an exception basis', the the is in the header, in a question, or in an answer? [MASK]\",\n",
       "  'label': 'ANSWER'},\n",
       " {'pattern': \"In the phrase ' ) Suggested Solutions (s) . Delete coal retention from the list of standard analyses performed on licensee submitted product samples. Special requests for coal retention testing could still be submitted on an exception basis', the list is in the header, in a question, or in an answer? [MASK]\",\n",
       "  'label': 'ANSWER'},\n",
       " {'pattern': \"In the phrase ' ) Suggested Solutions (s) . Delete coal retention from the list of standard analyses performed on licensee submitted product samples. Special requests for coal retention testing could still be submitted on an exception basis', the of is in the header, in a question, or in an answer? [MASK]\",\n",
       "  'label': 'ANSWER'},\n",
       " {'pattern': \"In the phrase ' ) Suggested Solutions (s) . Delete coal retention from the list of standard analyses performed on licensee submitted product samples. Special requests for coal retention testing could still be submitted on an exception basis', the standard is in the header, in a question, or in an answer? [MASK]\",\n",
       "  'label': 'ANSWER'},\n",
       " {'pattern': \"In the phrase ' ) Suggested Solutions (s) . Delete coal retention from the list of standard analyses performed on licensee submitted product samples. Special requests for coal retention testing could still be submitted on an exception basis', the analyses is in the header, in a question, or in an answer? [MASK]\",\n",
       "  'label': 'ANSWER'},\n",
       " {'pattern': \"In the phrase ' ) Suggested Solutions (s) . Delete coal retention from the list of standard analyses performed on licensee submitted product samples. Special requests for coal retention testing could still be submitted on an exception basis', the performed is in the header, in a question, or in an answer? [MASK]\",\n",
       "  'label': 'ANSWER'},\n",
       " {'pattern': \"In the phrase ' ) Suggested Solutions (s) . Delete coal retention from the list of standard analyses performed on licensee submitted product samples. Special requests for coal retention testing could still be submitted on an exception basis', the on is in the header, in a question, or in an answer? [MASK]\",\n",
       "  'label': 'ANSWER'},\n",
       " {'pattern': \"In the phrase ' ) Suggested Solutions (s) . Delete coal retention from the list of standard analyses performed on licensee submitted product samples. Special requests for coal retention testing could still be submitted on an exception basis', the licensee is in the header, in a question, or in an answer? [MASK]\",\n",
       "  'label': 'ANSWER'},\n",
       " {'pattern': \"In the phrase ' ) Suggested Solutions (s) . Delete coal retention from the list of standard analyses performed on licensee submitted product samples. Special requests for coal retention testing could still be submitted on an exception basis', the submitted is in the header, in a question, or in an answer? [MASK]\",\n",
       "  'label': 'ANSWER'},\n",
       " {'pattern': \"In the phrase ' ) Suggested Solutions (s) . Delete coal retention from the list of standard analyses performed on licensee submitted product samples. Special requests for coal retention testing could still be submitted on an exception basis', the product is in the header, in a question, or in an answer? [MASK]\",\n",
       "  'label': 'ANSWER'},\n",
       " {'pattern': \"In the phrase ' ) Suggested Solutions (s) . Delete coal retention from the list of standard analyses performed on licensee submitted product samples. Special requests for coal retention testing could still be submitted on an exception basis', the samples. is in the header, in a question, or in an answer? [MASK]\",\n",
       "  'label': 'ANSWER'},\n",
       " {'pattern': \"In the phrase ' ) Suggested Solutions (s) . Delete coal retention from the list of standard analyses performed on licensee submitted product samples. Special requests for coal retention testing could still be submitted on an exception basis', the Special is in the header, in a question, or in an answer? [MASK]\",\n",
       "  'label': 'ANSWER'},\n",
       " {'pattern': \"In the phrase ' ) Suggested Solutions (s) . Delete coal retention from the list of standard analyses performed on licensee submitted product samples. Special requests for coal retention testing could still be submitted on an exception basis', the requests is in the header, in a question, or in an answer? [MASK]\",\n",
       "  'label': 'ANSWER'},\n",
       " {'pattern': \"In the phrase ' ) Suggested Solutions (s) . Delete coal retention from the list of standard analyses performed on licensee submitted product samples. Special requests for coal retention testing could still be submitted on an exception basis', the for is in the header, in a question, or in an answer? [MASK]\",\n",
       "  'label': 'ANSWER'},\n",
       " {'pattern': \"In the phrase ' ) Suggested Solutions (s) . Delete coal retention from the list of standard analyses performed on licensee submitted product samples. Special requests for coal retention testing could still be submitted on an exception basis', the coal is in the header, in a question, or in an answer? [MASK]\",\n",
       "  'label': 'ANSWER'},\n",
       " {'pattern': \"In the phrase ' ) Suggested Solutions (s) . Delete coal retention from the list of standard analyses performed on licensee submitted product samples. Special requests for coal retention testing could still be submitted on an exception basis', the retention is in the header, in a question, or in an answer? [MASK]\",\n",
       "  'label': 'ANSWER'},\n",
       " {'pattern': \"In the phrase ' ) Suggested Solutions (s) . Delete coal retention from the list of standard analyses performed on licensee submitted product samples. Special requests for coal retention testing could still be submitted on an exception basis', the testing is in the header, in a question, or in an answer? [MASK]\",\n",
       "  'label': 'ANSWER'},\n",
       " {'pattern': \"In the phrase ' ) Suggested Solutions (s) . Delete coal retention from the list of standard analyses performed on licensee submitted product samples. Special requests for coal retention testing could still be submitted on an exception basis', the could is in the header, in a question, or in an answer? [MASK]\",\n",
       "  'label': 'ANSWER'},\n",
       " {'pattern': \"In the phrase ' ) Suggested Solutions (s) . Delete coal retention from the list of standard analyses performed on licensee submitted product samples. Special requests for coal retention testing could still be submitted on an exception basis', the still is in the header, in a question, or in an answer? [MASK]\",\n",
       "  'label': 'ANSWER'},\n",
       " {'pattern': \"In the phrase ' ) Suggested Solutions (s) . Delete coal retention from the list of standard analyses performed on licensee submitted product samples. Special requests for coal retention testing could still be submitted on an exception basis', the be is in the header, in a question, or in an answer? [MASK]\",\n",
       "  'label': 'ANSWER'},\n",
       " {'pattern': \"In the phrase ' ) Suggested Solutions (s) . Delete coal retention from the list of standard analyses performed on licensee submitted product samples. Special requests for coal retention testing could still be submitted on an exception basis', the submitted is in the header, in a question, or in an answer? [MASK]\",\n",
       "  'label': 'ANSWER'},\n",
       " {'pattern': \"In the phrase ' ) Suggested Solutions (s) . Delete coal retention from the list of standard analyses performed on licensee submitted product samples. Special requests for coal retention testing could still be submitted on an exception basis', the on is in the header, in a question, or in an answer? [MASK]\",\n",
       "  'label': 'ANSWER'},\n",
       " {'pattern': \"In the phrase ' ) Suggested Solutions (s) . Delete coal retention from the list of standard analyses performed on licensee submitted product samples. Special requests for coal retention testing could still be submitted on an exception basis', the an is in the header, in a question, or in an answer? [MASK]\",\n",
       "  'label': 'ANSWER'},\n",
       " {'pattern': \"In the phrase ' ) Suggested Solutions (s) . Delete coal retention from the list of standard analyses performed on licensee submitted product samples. Special requests for coal retention testing could still be submitted on an exception basis', the exception is in the header, in a question, or in an answer? [MASK]\",\n",
       "  'label': 'ANSWER'},\n",
       " {'pattern': \"In the phrase ' ) Suggested Solutions (s) . Delete coal retention from the list of standard analyses performed on licensee submitted product samples. Special requests for coal retention testing could still be submitted on an exception basis', the basis is in the header, in a question, or in an answer? [MASK]\",\n",
       "  'label': 'ANSWER'},\n",
       " {'pattern': \"In the phrase ' Have you contacted your Manager/ Supervisor. Manager Comments. Manager, please contact suggester and forward comments to the Quality Council', the Have is in the header, in a question, or in an answer? [MASK]\",\n",
       "  'label': 'HEADER'},\n",
       " {'pattern': \"In the phrase ' Have you contacted your Manager/ Supervisor. Manager Comments. Manager, please contact suggester and forward comments to the Quality Council', the you is in the header, in a question, or in an answer? [MASK]\",\n",
       "  'label': 'HEADER'},\n",
       " {'pattern': \"In the phrase ' Have you contacted your Manager/ Supervisor. Manager Comments. Manager, please contact suggester and forward comments to the Quality Council', the contacted is in the header, in a question, or in an answer? [MASK]\",\n",
       "  'label': 'HEADER'},\n",
       " {'pattern': \"In the phrase ' Have you contacted your Manager/ Supervisor. Manager Comments. Manager, please contact suggester and forward comments to the Quality Council', the your is in the header, in a question, or in an answer? [MASK]\",\n",
       "  'label': 'HEADER'},\n",
       " {'pattern': \"In the phrase ' Have you contacted your Manager/ Supervisor. Manager Comments. Manager, please contact suggester and forward comments to the Quality Council', the Manager/ is in the header, in a question, or in an answer? [MASK]\",\n",
       "  'label': 'HEADER'},\n",
       " {'pattern': \"In the phrase ' Have you contacted your Manager/ Supervisor. Manager Comments. Manager, please contact suggester and forward comments to the Quality Council', the Supervisor. is in the header, in a question, or in an answer? [MASK]\",\n",
       "  'label': 'HEADER'},\n",
       " {'pattern': \"In the phrase ' Have you contacted your Manager/ Supervisor. Manager Comments. Manager, please contact suggester and forward comments to the Quality Council', the Manager is in the header, in a question, or in an answer? [MASK]\",\n",
       "  'label': 'QUESTION'},\n",
       " {'pattern': \"In the phrase ' Have you contacted your Manager/ Supervisor. Manager Comments. Manager, please contact suggester and forward comments to the Quality Council', the Comments. is in the header, in a question, or in an answer? [MASK]\",\n",
       "  'label': 'QUESTION'},\n",
       " {'pattern': \"In the phrase ' Have you contacted your Manager/ Supervisor. Manager Comments. Manager, please contact suggester and forward comments to the Quality Council', the Manager, is in the header, in a question, or in an answer? [MASK]\",\n",
       "  'label': 'ANSWER'},\n",
       " {'pattern': \"In the phrase ' Have you contacted your Manager/ Supervisor. Manager Comments. Manager, please contact suggester and forward comments to the Quality Council', the please is in the header, in a question, or in an answer? [MASK]\",\n",
       "  'label': 'ANSWER'},\n",
       " {'pattern': \"In the phrase ' Have you contacted your Manager/ Supervisor. Manager Comments. Manager, please contact suggester and forward comments to the Quality Council', the contact is in the header, in a question, or in an answer? [MASK]\",\n",
       "  'label': 'ANSWER'},\n",
       " {'pattern': \"In the phrase ' Have you contacted your Manager/ Supervisor. Manager Comments. Manager, please contact suggester and forward comments to the Quality Council', the suggester is in the header, in a question, or in an answer? [MASK]\",\n",
       "  'label': 'ANSWER'},\n",
       " {'pattern': \"In the phrase ' Have you contacted your Manager/ Supervisor. Manager Comments. Manager, please contact suggester and forward comments to the Quality Council', the and is in the header, in a question, or in an answer? [MASK]\",\n",
       "  'label': 'ANSWER'},\n",
       " {'pattern': \"In the phrase ' Have you contacted your Manager/ Supervisor. Manager Comments. Manager, please contact suggester and forward comments to the Quality Council', the forward is in the header, in a question, or in an answer? [MASK]\",\n",
       "  'label': 'ANSWER'},\n",
       " {'pattern': \"In the phrase ' Have you contacted your Manager/ Supervisor. Manager Comments. Manager, please contact suggester and forward comments to the Quality Council', the comments is in the header, in a question, or in an answer? [MASK]\",\n",
       "  'label': 'ANSWER'},\n",
       " {'pattern': \"In the phrase ' Have you contacted your Manager/ Supervisor. Manager Comments. Manager, please contact suggester and forward comments to the Quality Council', the to is in the header, in a question, or in an answer? [MASK]\",\n",
       "  'label': 'ANSWER'},\n",
       " {'pattern': \"In the phrase ' Have you contacted your Manager/ Supervisor. Manager Comments. Manager, please contact suggester and forward comments to the Quality Council', the the is in the header, in a question, or in an answer? [MASK]\",\n",
       "  'label': 'ANSWER'},\n",
       " {'pattern': \"In the phrase ' Have you contacted your Manager/ Supervisor. Manager Comments. Manager, please contact suggester and forward comments to the Quality Council', the Quality is in the header, in a question, or in an answer? [MASK]\",\n",
       "  'label': 'ANSWER'},\n",
       " {'pattern': \"In the phrase ' Have you contacted your Manager/ Supervisor. Manager Comments. Manager, please contact suggester and forward comments to the Quality Council', the Council is in the header, in a question, or in an answer? [MASK]\",\n",
       "  'label': 'ANSWER'},\n",
       " {'pattern': \"In the phrase ' qip . wp', the qip is in the header, in a question, or in an answer? [MASK]\",\n",
       "  'label': 'NONE'},\n",
       " {'pattern': \"In the phrase ' qip . wp', the wp is in the header, in a question, or in an answer? [MASK]\",\n",
       "  'label': 'NONE'}]"
      ]
     },
     "execution_count": 11,
     "metadata": {},
     "output_type": "execute_result"
    }
   ],
   "source": [
    "splitted_dataset[0]"
   ]
  },
  {
   "cell_type": "code",
   "execution_count": 12,
   "metadata": {},
   "outputs": [],
   "source": [
    "first_ten = []\n",
    "for i in range(10):\n",
    "    first_ten.append(pd.DataFrame(splitted_dataset[i]))\n"
   ]
  },
  {
   "cell_type": "code",
   "execution_count": 13,
   "metadata": {},
   "outputs": [
    {
     "data": {
      "text/plain": [
       "label\n",
       "ANSWER      828\n",
       "QUESTION    408\n",
       "NONE        292\n",
       "HEADER      112\n",
       "Name: count, dtype: int64"
      ]
     },
     "execution_count": 13,
     "metadata": {},
     "output_type": "execute_result"
    }
   ],
   "source": [
    "pd.concat(first_ten)['label'].value_counts()"
   ]
  },
  {
   "cell_type": "code",
   "execution_count": 14,
   "metadata": {},
   "outputs": [
    {
     "data": {
      "text/plain": [
       "DistilBertForMaskedLM(\n",
       "  (activation): GELUActivation()\n",
       "  (distilbert): DistilBertModel(\n",
       "    (embeddings): Embeddings(\n",
       "      (word_embeddings): Embedding(30522, 768, padding_idx=0)\n",
       "      (position_embeddings): Embedding(512, 768)\n",
       "      (LayerNorm): LayerNorm((768,), eps=1e-12, elementwise_affine=True)\n",
       "      (dropout): Dropout(p=0.1, inplace=False)\n",
       "    )\n",
       "    (transformer): Transformer(\n",
       "      (layer): ModuleList(\n",
       "        (0-5): 6 x TransformerBlock(\n",
       "          (attention): MultiHeadSelfAttention(\n",
       "            (dropout): Dropout(p=0.1, inplace=False)\n",
       "            (q_lin): Linear(in_features=768, out_features=768, bias=True)\n",
       "            (k_lin): Linear(in_features=768, out_features=768, bias=True)\n",
       "            (v_lin): Linear(in_features=768, out_features=768, bias=True)\n",
       "            (out_lin): Linear(in_features=768, out_features=768, bias=True)\n",
       "          )\n",
       "          (sa_layer_norm): LayerNorm((768,), eps=1e-12, elementwise_affine=True)\n",
       "          (ffn): FFN(\n",
       "            (dropout): Dropout(p=0.1, inplace=False)\n",
       "            (lin1): Linear(in_features=768, out_features=3072, bias=True)\n",
       "            (lin2): Linear(in_features=3072, out_features=768, bias=True)\n",
       "            (activation): GELUActivation()\n",
       "          )\n",
       "          (output_layer_norm): LayerNorm((768,), eps=1e-12, elementwise_affine=True)\n",
       "        )\n",
       "      )\n",
       "    )\n",
       "  )\n",
       "  (vocab_transform): Linear(in_features=768, out_features=768, bias=True)\n",
       "  (vocab_layer_norm): LayerNorm((768,), eps=1e-12, elementwise_affine=True)\n",
       "  (vocab_projector): Linear(in_features=768, out_features=30522, bias=True)\n",
       "  (mlm_loss_fct): CrossEntropyLoss()\n",
       ")"
      ]
     },
     "execution_count": 14,
     "metadata": {},
     "output_type": "execute_result"
    }
   ],
   "source": [
    "device = \"cuda\"\n",
    "model = AutoModelForMaskedLM.from_pretrained(\"distilbert-base-uncased\")\n",
    "model.to(device)"
   ]
  },
  {
   "cell_type": "code",
   "execution_count": 15,
   "metadata": {},
   "outputs": [],
   "source": [
    "labels_idx_keymap = {\n",
    "    \"none\": 0,\n",
    "    \"question\" : 1,\n",
    "    \"answer\": 2,\n",
    "    \"header\" : 3,\n",
    "}"
   ]
  },
  {
   "cell_type": "code",
   "execution_count": 16,
   "metadata": {},
   "outputs": [
    {
     "name": "stderr",
     "output_type": "stream",
     "text": [
      "  0%|          | 0/10 [00:00<?, ?it/s]"
     ]
    },
    {
     "name": "stderr",
     "output_type": "stream",
     "text": [
      "100%|██████████| 10/10 [01:34<00:00,  9.40s/it]\n",
      "100%|██████████| 10/10 [01:27<00:00,  8.80s/it]\n",
      "100%|██████████| 10/10 [01:27<00:00,  8.76s/it]\n",
      "100%|██████████| 10/10 [01:26<00:00,  8.68s/it]\n",
      "100%|██████████| 10/10 [01:27<00:00,  8.76s/it]\n",
      "100%|██████████| 10/10 [01:26<00:00,  8.69s/it]\n",
      "100%|██████████| 10/10 [01:27<00:00,  8.75s/it]\n",
      "100%|██████████| 10/10 [01:27<00:00,  8.71s/it]\n",
      "100%|██████████| 10/10 [01:27<00:00,  8.74s/it]\n",
      "100%|██████████| 10/10 [01:27<00:00,  8.77s/it]\n"
     ]
    }
   ],
   "source": [
    "device = \"cuda\"\n",
    "\n",
    "model.train()\n",
    "alpha = 1e-4\n",
    "n_epochs = 10\n",
    "\n",
    "optmizer = AdamW(model.parameters(), 1e-5)\n",
    "history_train = []\n",
    "history_val = []\n",
    "\n",
    "n_shots = 10\n",
    "\n",
    "for epoch in range(n_epochs):\n",
    "    y_true_train = torch.tensor([],device=device)\n",
    "    y_pred_train = torch.tensor([],device=device)\n",
    "\n",
    "    for i in tqdm(range(n_shots)):\n",
    "\n",
    "        for processed_data in (splitted_dataset[i]):\n",
    "            phrase = processed_data['pattern']\n",
    "            label = processed_data[\"label\"]\n",
    "\n",
    "            tokens = tokenizer(\n",
    "                phrase,\n",
    "                truncation= True,\n",
    "                padding= \"max_length\",\n",
    "                return_tensors= \"pt\",\n",
    "                max_length=256\n",
    "            )\n",
    "\n",
    "            correct_word = tokenizer.tokenize(label)[0]\n",
    "\n",
    "            label = tokenizer(\n",
    "                correct_word,\n",
    "            )\n",
    "\n",
    "            input_ids = tokens['input_ids'].to(device)\n",
    "            attention_mask = tokens['attention_mask'].to(device)\n",
    "\n",
    "            y = input_ids.clone()\n",
    "\n",
    "            y[input_ids== tokenizer.mask_token_id] = tokenizer.vocab[correct_word]\n",
    "            y[input_ids != tokenizer.mask_token_id] = -100\n",
    "\n",
    "            outputs = model(\n",
    "                input_ids =input_ids,\n",
    "                attention_mask = attention_mask,\n",
    "                labels = y\n",
    "            )\n",
    "\n",
    "            mask_token_index = torch.where(tokens[\"input_ids\"] == tokenizer.mask_token_id)[1]\n",
    "            mask_token_logits = outputs.logits[0, mask_token_index, :]\n",
    "\n",
    "            question_logits = mask_token_logits[0,tokenizer.vocab[\"question\"]].item()\n",
    "            answer_logits = mask_token_logits[0, tokenizer.vocab[\"answer\"]].item()\n",
    "            header_logits = mask_token_logits[0, tokenizer.vocab[\"header\"]].item()\n",
    "            none_logits = mask_token_logits[0, tokenizer.vocab[\"none\"]].item()\n",
    "\n",
    "            logits_list = torch.tensor([\n",
    "                none_logits,\n",
    "                question_logits, \n",
    "                answer_logits,\n",
    "                header_logits\n",
    "            ])\n",
    "\n",
    "            real_value = correct_word.lower()\n",
    "            real_value = labels_idx_keymap[real_value]\n",
    "\n",
    "            predicted_value = logits_list.argmax().item()\n",
    "\n",
    "            y_pred_train = torch.cat([\n",
    "                y_pred_train, \n",
    "                torch.tensor([predicted_value]).to(device)\n",
    "            ])\n",
    "            \n",
    "            y_true_train = torch.cat([\n",
    "                y_true_train,\n",
    "                torch.tensor([real_value]).to(device)\n",
    "            ])\n",
    "\n",
    "            # logging.info(f\"real value: {real_value}, predicted value : {predicted_value}\")\n",
    "\n",
    "            real_list = [0,0,0,0]\n",
    "            real_list[real_value] =1\n",
    "\n",
    "            real_list = torch.tensor(\n",
    "                real_list\n",
    "            )\n",
    "\n",
    "            ce_loss = cross_entropy(\n",
    "                logits_list.softmax(dim = 0).to(torch.float64),\n",
    "                real_list.to(torch.float64)\n",
    "            )\n",
    "\n",
    "            mlm_loss = outputs.loss\n",
    "            loss = (1-alpha)*ce_loss + mlm_loss*alpha\n",
    "\n",
    "            loss.backward()\n",
    "\n",
    "            optmizer.step()\n",
    "            optmizer.zero_grad()\n",
    "\n",
    "    f1 = multiclass_f1_score(\n",
    "        y_pred_train,\n",
    "        y_true_train,\n",
    "        num_classes=4\n",
    "    )\n",
    "    history_train.append(f1.item())\n",
    "\n",
    "    logging.info(f'''\n",
    "                 \n",
    "    -------------------------\n",
    "        End of epoch {epoch} \n",
    "        F1 score : {f1}     \n",
    "    ''')\n",
    "\n",
    "    logging.info(f'''\n",
    "        {multiclass_confusion_matrix(\n",
    "        y_pred_train.to(torch.int64),\n",
    "        y_true_train.to(torch.int64),\n",
    "        num_classes=4\n",
    "        )}\n",
    "    ''')\n",
    "    "
   ]
  },
  {
   "cell_type": "code",
   "execution_count": 17,
   "metadata": {},
   "outputs": [
    {
     "data": {
      "text/plain": [
       "Text(0.5, 1.0, '\\n    Confusion matrix - Train \\n    Pattern Exploited Training  \\n    alpha = 0.0001  \\n')"
      ]
     },
     "execution_count": 17,
     "metadata": {},
     "output_type": "execute_result"
    },
    {
     "data": {
      "image/png": "[encoded data removed]",
      "text/plain": [
       "<Figure size 640x480 with 2 Axes>"
      ]
     },
     "metadata": {},
     "output_type": "display_data"
    }
   ],
   "source": [
    "period = \"Train\"\n",
    "conf_matrix = multiclass_confusion_matrix(\n",
    "    y_pred_train.to(torch.int64),\n",
    "    y_true_train.to(torch.int64),\n",
    "    num_classes=4\n",
    ")\n",
    "\n",
    "confusion_df = pd.DataFrame(conf_matrix.cpu().numpy())\n",
    "\n",
    "\n",
    "confusion_df = confusion_df\\\n",
    "    .rename(columns={v:k for k, v in labels_idx_keymap.items()})\\\n",
    "    .rename(index = {v:k for k, v in labels_idx_keymap.items()})\n",
    "\n",
    "sns.heatmap(confusion_df,\n",
    "            annot= True,\n",
    "            fmt = \".0f\")\n",
    "\n",
    "plt.ylabel(\"True class\")\n",
    "plt.xlabel(\"Predicted class\")\n",
    "\n",
    "plt.title(f'''\n",
    "    Confusion matrix - {period} \n",
    "    Pattern Exploited Training  \n",
    "    alpha = {alpha}  \n",
    "''')"
   ]
  },
  {
   "cell_type": "code",
   "execution_count": 18,
   "metadata": {},
   "outputs": [
    {
     "data": {
      "text/plain": [
       "tensor(0.8604, device='cuda:0')"
      ]
     },
     "execution_count": 18,
     "metadata": {},
     "output_type": "execute_result"
    }
   ],
   "source": [
    "multiclass_f1_score(\n",
    "    y_pred_train.to(torch.int64),\n",
    "    y_true_train.to(torch.int64),\n",
    "    num_classes=4\n",
    ")"
   ]
  },
  {
   "cell_type": "markdown",
   "metadata": {},
   "source": [
    "### Validation results"
   ]
  },
  {
   "cell_type": "code",
   "execution_count": 19,
   "metadata": {},
   "outputs": [
    {
     "name": "stderr",
     "output_type": "stream",
     "text": [
      "  0%|          | 0/50 [00:00<?, ?it/s]"
     ]
    },
    {
     "name": "stderr",
     "output_type": "stream",
     "text": [
      "100%|██████████| 50/50 [00:00<00:00, 985.88it/s]\n"
     ]
    }
   ],
   "source": [
    "validation_dataset = SplitWordsDataset(\n",
    "    dataset['test'],\n",
    "    tokenizer,\n",
    "    pattern,\n",
    ")"
   ]
  },
  {
   "cell_type": "code",
   "execution_count": 34,
   "metadata": {},
   "outputs": [
    {
     "name": "stderr",
     "output_type": "stream",
     "text": [
      "100%|██████████| 50/50 [05:08<00:00,  6.16s/it]\n"
     ]
    }
   ],
   "source": [
    "y_true_val = torch.tensor([],device=device)\n",
    "y_pred_val = torch.tensor([],device=device)\n",
    "\n",
    "num_shots_validation = 50\n",
    "\n",
    "with torch.no_grad():\n",
    "    for i in tqdm(range(num_shots_validation)):\n",
    "\n",
    "        for processed_data in (validation_dataset[i]):\n",
    "\n",
    "            phrase = processed_data['pattern']\n",
    "            label = processed_data[\"label\"]\n",
    "\n",
    "            tokens = tokenizer(\n",
    "                phrase,\n",
    "                truncation= True,\n",
    "                padding= \"max_length\",\n",
    "                return_tensors= \"pt\",\n",
    "                max_length=256\n",
    "            )\n",
    "\n",
    "            correct_word = tokenizer.tokenize(label)[0]\n",
    "\n",
    "            label = tokenizer(\n",
    "                correct_word,\n",
    "            )\n",
    "\n",
    "            input_ids = tokens['input_ids'].to(device)\n",
    "            attention_mask = tokens['attention_mask'].to(device)\n",
    "\n",
    "            y = input_ids.clone()\n",
    "\n",
    "            y[input_ids== tokenizer.mask_token_id] = tokenizer.vocab[correct_word]\n",
    "            y[input_ids!= tokenizer.mask_token_id] = -100\n",
    "\n",
    "            outputs = model(\n",
    "                input_ids =input_ids,\n",
    "                attention_mask = attention_mask,\n",
    "            )\n",
    "\n",
    "            mask_token_index = torch.where(tokens[\"input_ids\"] == tokenizer.mask_token_id)[1]\n",
    "            mask_token_logits = outputs.logits[0, mask_token_index, :]\n",
    "\n",
    "            question_logits = mask_token_logits[0,tokenizer.vocab[\"question\"]].item()\n",
    "            answer_logits = mask_token_logits[0, tokenizer.vocab[\"answer\"]].item()\n",
    "            header_logits = mask_token_logits[0, tokenizer.vocab[\"header\"]].item()\n",
    "            none_logits = mask_token_logits[0, tokenizer.vocab[\"none\"]].item()\n",
    "\n",
    "            logits = {\n",
    "                \"question\": question_logits,\n",
    "                \"answer\": answer_logits,\n",
    "                \"header\": header_logits,\n",
    "                \"none\": none_logits\n",
    "            }\n",
    "\n",
    "            predicted_value = sorted(\n",
    "                logits.items(), \n",
    "                reverse= True, \n",
    "                key = lambda x: x[1]\n",
    "            )[0][0]\n",
    "\n",
    "            predicted_value = labels_idx_keymap[predicted_value]\n",
    "\n",
    "            # logging.info(predicted_value)\n",
    "\n",
    "            real_value = correct_word.lower()\n",
    "            real_value = labels_idx_keymap[real_value]\n",
    "\n",
    "            y_pred_val = torch.cat([\n",
    "                y_pred_val, \n",
    "                torch.tensor([predicted_value]).to(device)\n",
    "            ])\n",
    "            \n",
    "            y_true_val = torch.cat([\n",
    "                y_true_val,\n",
    "                torch.tensor([real_value]).to(device)\n",
    "            ])"
   ]
  },
  {
   "cell_type": "code",
   "execution_count": 35,
   "metadata": {},
   "outputs": [
    {
     "data": {
      "text/plain": [
       "Text(0.5, 1.0, '\\n    Confusion matrix - Test\\n    Pattern Exploited Training    \\n    alpha = 0.0001\\n')"
      ]
     },
     "execution_count": 35,
     "metadata": {},
     "output_type": "execute_result"
    },
    {
     "data": {
      "image/png": "[encoded data removed]",
      "text/plain": [
       "<Figure size 640x480 with 2 Axes>"
      ]
     },
     "metadata": {},
     "output_type": "display_data"
    }
   ],
   "source": [
    "period = \"Test\"\n",
    "conf_matrix = multiclass_confusion_matrix(\n",
    "    y_pred_val.to(torch.int64),\n",
    "    y_true_val.to(torch.int64),\n",
    "    num_classes=4\n",
    ")\n",
    "\n",
    "confusion_df = pd.DataFrame(conf_matrix.cpu().numpy())\n",
    "\n",
    "\n",
    "confusion_df = confusion_df\\\n",
    "    .rename(columns={v:k for k, v in labels_idx_keymap.items()})\\\n",
    "    .rename(index = {v:k for k, v in labels_idx_keymap.items()})\n",
    "\n",
    "sns.heatmap(confusion_df,\n",
    "            annot= True,\n",
    "            fmt = \".0f\")\n",
    "\n",
    "plt.ylabel(\"True class\")\n",
    "plt.xlabel(\"Predicted class\")\n",
    "\n",
    "plt.title(f'''\n",
    "    Confusion matrix - {period}\n",
    "    Pattern Exploited Training    \n",
    "    alpha = {alpha}\n",
    "''')"
   ]
  },
  {
   "cell_type": "code",
   "execution_count": 38,
   "metadata": {},
   "outputs": [
    {
     "data": {
      "text/plain": [
       "tensor(0.5378, device='cuda:0')"
      ]
     },
     "execution_count": 38,
     "metadata": {},
     "output_type": "execute_result"
    }
   ],
   "source": [
    "multiclass_f1_score(\n",
    "    y_pred_val.to(torch.int64),\n",
    "    y_true_val.to(torch.int64),\n",
    "    num_classes=4\n",
    ")"
   ]
  },
  {
   "cell_type": "code",
   "execution_count": 39,
   "metadata": {},
   "outputs": [
    {
     "data": {
      "text/plain": [
       "label\n",
       "ANSWER      3038\n",
       "QUESTION    2543\n",
       "NONE        2306\n",
       "HEADER       372\n",
       "Name: count, dtype: int64"
      ]
     },
     "execution_count": 39,
     "metadata": {},
     "output_type": "execute_result"
    }
   ],
   "source": [
    "first_ten = []\n",
    "for i in range(50):\n",
    "    first_ten.append(pd.DataFrame(validation_dataset[i]))\n",
    "\n",
    "pd.concat(first_ten)['label'].value_counts()"
   ]
  },
  {
   "cell_type": "code",
   "execution_count": null,
   "metadata": {},
   "outputs": [],
   "source": []
  }
 ],
 "metadata": {
  "kernelspec": {
   "display_name": ".venv",
   "language": "python",
   "name": "python3"
  },
  "language_info": {
   "codemirror_mode": {
    "name": "ipython",
    "version": 3
   },
   "file_extension": ".py",
   "mimetype": "text/x-python",
   "name": "python",
   "nbconvert_exporter": "python",
   "pygments_lexer": "ipython3",
   "version": "3.9.16"
  }
 },
 "nbformat": 4,
 "nbformat_minor": 2
}
