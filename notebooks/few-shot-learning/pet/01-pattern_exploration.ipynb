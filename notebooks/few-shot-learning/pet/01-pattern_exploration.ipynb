{
 "cells": [
  {
   "cell_type": "code",
   "execution_count": 1,
   "metadata": {},
   "outputs": [],
   "source": [
    "%load_ext autoreload\n",
    "%autoreload 2"
   ]
  },
  {
   "cell_type": "code",
   "execution_count": 2,
   "metadata": {},
   "outputs": [
    {
     "name": "stderr",
     "output_type": "stream",
     "text": [
      "/users/eleves-a/2022/pedro.silva/few-shot-learning-transformers/.venv/lib64/python3.9/site-packages/tqdm/auto.py:21: TqdmWarning: IProgress not found. Please update jupyter and ipywidgets. See https://ipywidgets.readthedocs.io/en/stable/user_install.html\n",
      "  from .autonotebook import tqdm as notebook_tqdm\n"
     ]
    }
   ],
   "source": [
    "import transformers\n",
    "from transformers import LayoutLMv2Processor, LayoutLMForTokenClassification, AdamW, BertForTokenClassification,\\\n",
    "    BertTokenizer, LayoutLMTokenizer, AutoTokenizer, AutoModelForMaskedLM, pipeline, DataCollatorForLanguageModeling\n",
    "from datasets import load_dataset\n",
    "import torch\n",
    "from torch.nn.functional import cross_entropy\n",
    "import matplotlib.pyplot as plt\n",
    "import numpy as np\n",
    "from tqdm import tqdm\n",
    "import logging\n",
    "from torch.utils.data import DataLoader, Dataset\n",
    "from torcheval.metrics.functional import multiclass_f1_score, multiclass_confusion_matrix\n",
    "from copy import deepcopy, copy\n",
    "import seaborn as sns\n",
    "import pandas as pd\n",
    "\n",
    "import os \n",
    "while 'notebooks' in os.getcwd():\n",
    "    os.chdir(\"..\")\n",
    "\n",
    "import re\n",
    "from typing import List, Dict\n",
    "    \n",
    "from src.preprocessing.make_dataset import ImageLayoutDataset, PatternExploitingDataset, SplitWordsDataset\n",
    "from src.model.trainer import BertTrainer, LayoutLMTrainer\n",
    "import warnings\n",
    "warnings.filterwarnings(\"ignore\")"
   ]
  },
  {
   "cell_type": "markdown",
   "metadata": {},
   "source": [
    "## Importing dataset"
   ]
  },
  {
   "cell_type": "code",
   "execution_count": 3,
   "metadata": {},
   "outputs": [],
   "source": [
    "dataset = load_dataset(\"nielsr/funsd\")"
   ]
  },
  {
   "cell_type": "code",
   "execution_count": 4,
   "metadata": {},
   "outputs": [],
   "source": [
    "tokenizer = AutoTokenizer.from_pretrained(\"distilbert-base-uncased\")"
   ]
  },
  {
   "cell_type": "code",
   "execution_count": 5,
   "metadata": {},
   "outputs": [
    {
     "name": "stdout",
     "output_type": "stream",
     "text": [
      "mkdir: cannot create directory ‘logs’: File exists\n"
     ]
    }
   ],
   "source": [
    "!mkdir logs\n",
    "model_name = \"PET\"\n",
    "dataset_name = \"FUNSD\"\n",
    "logging.basicConfig(filename=f'logs/{model_name}_{dataset_name}.log', encoding='utf-8', level= logging.INFO)"
   ]
  },
  {
   "cell_type": "markdown",
   "metadata": {},
   "source": [
    "## Adding sequence"
   ]
  },
  {
   "cell_type": "code",
   "execution_count": 6,
   "metadata": {},
   "outputs": [],
   "source": [
    "def pattern1(\n",
    "    phrase : str,\n",
    "    word: str,\n",
    "    tokenizer\n",
    "):\n",
    "    return f\"In the phrase '{phrase}', the {word} is in the header, in a question, or in an answer? {tokenizer.mask_token}\""
   ]
  },
  {
   "cell_type": "code",
   "execution_count": 7,
   "metadata": {},
   "outputs": [],
   "source": [
    "def pattern2(\n",
    "    phrase : str,\n",
    "    word : str,\n",
    "    tokenizer\n",
    "):\n",
    "    return f\"In the phrase '{phrase}', is '{word}' located in the header, a question, an answer, or none ? {tokenizer.mask_token}\""
   ]
  },
  {
   "cell_type": "markdown",
   "metadata": {},
   "source": [
    "### Instantiate class Dataset"
   ]
  },
  {
   "cell_type": "code",
   "execution_count": 13,
   "metadata": {},
   "outputs": [],
   "source": [
    "pattern = pattern1"
   ]
  },
  {
   "cell_type": "code",
   "execution_count": 14,
   "metadata": {},
   "outputs": [
    {
     "name": "stderr",
     "output_type": "stream",
     "text": [
      "  0%|          | 0/149 [00:00<?, ?it/s]"
     ]
    },
    {
     "name": "stderr",
     "output_type": "stream",
     "text": [
      "100%|██████████| 149/149 [00:00<00:00, 1099.73it/s]\n"
     ]
    }
   ],
   "source": [
    "splitted_dataset = SplitWordsDataset(\n",
    "    dataset['train'],\n",
    "    tokenizer,\n",
    "    pattern,\n",
    ")"
   ]
  },
  {
   "cell_type": "code",
   "execution_count": 15,
   "metadata": {},
   "outputs": [
    {
     "name": "stderr",
     "output_type": "stream",
     "text": [
      "  0%|          | 0/50 [00:00<?, ?it/s]"
     ]
    },
    {
     "name": "stderr",
     "output_type": "stream",
     "text": [
      "100%|██████████| 50/50 [00:00<00:00, 1018.78it/s]\n"
     ]
    }
   ],
   "source": [
    "validation_dataset = SplitWordsDataset(\n",
    "    dataset['test'],\n",
    "    tokenizer,\n",
    "    pattern,\n",
    ")"
   ]
  },
  {
   "cell_type": "code",
   "execution_count": 254,
   "metadata": {},
   "outputs": [
    {
     "data": {
      "text/plain": [
       "[{'pattern': \"In the phrase 'R&D . Suggestion. Date', is 'R&D' located in the header, a question, an answer, or none ? [MASK]\",\n",
       "  'label': 'NONE'},\n",
       " {'pattern': \"In the phrase 'R&D . Suggestion. Date', is 'Suggestion.' located in the header, a question, an answer, or none ? [MASK]\",\n",
       "  'label': 'QUESTION'},\n",
       " {'pattern': \"In the phrase 'R&D . Suggestion. Date', is 'Date' located in the header, a question, an answer, or none ? [MASK]\",\n",
       "  'label': 'QUESTION'},\n",
       " {'pattern': \"In the phrase ' Licensee Yes No 597005708 R&D QUALITY IMPROVEMENT SUGGESTION/ SOLUTION FORM Name / Phone Ext. . M', is 'Licensee' located in the header, a question, an answer, or none ? [MASK]\",\n",
       "  'label': 'ANSWER'},\n",
       " {'pattern': \"In the phrase ' Licensee Yes No 597005708 R&D QUALITY IMPROVEMENT SUGGESTION/ SOLUTION FORM Name / Phone Ext. . M', is 'Yes' located in the header, a question, an answer, or none ? [MASK]\",\n",
       "  'label': 'QUESTION'},\n",
       " {'pattern': \"In the phrase ' Licensee Yes No 597005708 R&D QUALITY IMPROVEMENT SUGGESTION/ SOLUTION FORM Name / Phone Ext. . M', is 'No' located in the header, a question, an answer, or none ? [MASK]\",\n",
       "  'label': 'QUESTION'},\n",
       " {'pattern': \"In the phrase ' Licensee Yes No 597005708 R&D QUALITY IMPROVEMENT SUGGESTION/ SOLUTION FORM Name / Phone Ext. . M', is '597005708' located in the header, a question, an answer, or none ? [MASK]\",\n",
       "  'label': 'NONE'},\n",
       " {'pattern': \"In the phrase ' Licensee Yes No 597005708 R&D QUALITY IMPROVEMENT SUGGESTION/ SOLUTION FORM Name / Phone Ext. . M', is 'R&D' located in the header, a question, an answer, or none ? [MASK]\",\n",
       "  'label': 'HEADER'},\n",
       " {'pattern': \"In the phrase ' Licensee Yes No 597005708 R&D QUALITY IMPROVEMENT SUGGESTION/ SOLUTION FORM Name / Phone Ext. . M', is 'QUALITY' located in the header, a question, an answer, or none ? [MASK]\",\n",
       "  'label': 'HEADER'},\n",
       " {'pattern': \"In the phrase ' Licensee Yes No 597005708 R&D QUALITY IMPROVEMENT SUGGESTION/ SOLUTION FORM Name / Phone Ext. . M', is 'IMPROVEMENT' located in the header, a question, an answer, or none ? [MASK]\",\n",
       "  'label': 'HEADER'},\n",
       " {'pattern': \"In the phrase ' Licensee Yes No 597005708 R&D QUALITY IMPROVEMENT SUGGESTION/ SOLUTION FORM Name / Phone Ext. . M', is 'SUGGESTION/' located in the header, a question, an answer, or none ? [MASK]\",\n",
       "  'label': 'HEADER'},\n",
       " {'pattern': \"In the phrase ' Licensee Yes No 597005708 R&D QUALITY IMPROVEMENT SUGGESTION/ SOLUTION FORM Name / Phone Ext. . M', is 'SOLUTION' located in the header, a question, an answer, or none ? [MASK]\",\n",
       "  'label': 'HEADER'},\n",
       " {'pattern': \"In the phrase ' Licensee Yes No 597005708 R&D QUALITY IMPROVEMENT SUGGESTION/ SOLUTION FORM Name / Phone Ext. . M', is 'FORM' located in the header, a question, an answer, or none ? [MASK]\",\n",
       "  'label': 'HEADER'},\n",
       " {'pattern': \"In the phrase ' Licensee Yes No 597005708 R&D QUALITY IMPROVEMENT SUGGESTION/ SOLUTION FORM Name / Phone Ext. . M', is 'Name' located in the header, a question, an answer, or none ? [MASK]\",\n",
       "  'label': 'QUESTION'},\n",
       " {'pattern': \"In the phrase ' Licensee Yes No 597005708 R&D QUALITY IMPROVEMENT SUGGESTION/ SOLUTION FORM Name / Phone Ext. . M', is 'Phone' located in the header, a question, an answer, or none ? [MASK]\",\n",
       "  'label': 'QUESTION'},\n",
       " {'pattern': \"In the phrase ' Licensee Yes No 597005708 R&D QUALITY IMPROVEMENT SUGGESTION/ SOLUTION FORM Name / Phone Ext. . M', is 'Ext.' located in the header, a question, an answer, or none ? [MASK]\",\n",
       "  'label': 'QUESTION'},\n",
       " {'pattern': \"In the phrase ' Hamann P. Harper, P. Martinez 9/ 3/ 92 R&D Group', is 'Hamann' located in the header, a question, an answer, or none ? [MASK]\",\n",
       "  'label': 'ANSWER'},\n",
       " {'pattern': \"In the phrase ' Hamann P. Harper, P. Martinez 9/ 3/ 92 R&D Group', is 'P.' located in the header, a question, an answer, or none ? [MASK]\",\n",
       "  'label': 'ANSWER'},\n",
       " {'pattern': \"In the phrase ' Hamann P. Harper, P. Martinez 9/ 3/ 92 R&D Group', is 'Harper,' located in the header, a question, an answer, or none ? [MASK]\",\n",
       "  'label': 'ANSWER'},\n",
       " {'pattern': \"In the phrase ' Hamann P. Harper, P. Martinez 9/ 3/ 92 R&D Group', is 'P.' located in the header, a question, an answer, or none ? [MASK]\",\n",
       "  'label': 'ANSWER'},\n",
       " {'pattern': \"In the phrase ' Hamann P. Harper, P. Martinez 9/ 3/ 92 R&D Group', is 'Martinez' located in the header, a question, an answer, or none ? [MASK]\",\n",
       "  'label': 'ANSWER'},\n",
       " {'pattern': \"In the phrase ' Hamann P. Harper, P. Martinez 9/ 3/ 92 R&D Group', is '9/' located in the header, a question, an answer, or none ? [MASK]\",\n",
       "  'label': 'ANSWER'},\n",
       " {'pattern': \"In the phrase ' Hamann P. Harper, P. Martinez 9/ 3/ 92 R&D Group', is '3/' located in the header, a question, an answer, or none ? [MASK]\",\n",
       "  'label': 'ANSWER'},\n",
       " {'pattern': \"In the phrase ' Hamann P. Harper, P. Martinez 9/ 3/ 92 R&D Group', is '92' located in the header, a question, an answer, or none ? [MASK]\",\n",
       "  'label': 'ANSWER'},\n",
       " {'pattern': \"In the phrase ' Hamann P. Harper, P. Martinez 9/ 3/ 92 R&D Group', is 'R&D' located in the header, a question, an answer, or none ? [MASK]\",\n",
       "  'label': 'QUESTION'},\n",
       " {'pattern': \"In the phrase ' Hamann P. Harper, P. Martinez 9/ 3/ 92 R&D Group', is 'Group' located in the header, a question, an answer, or none ? [MASK]\",\n",
       "  'label': 'QUESTION'},\n",
       " {'pattern': \"In the phrase ' J. S. Wigand Supervisor / Manager Discontinue coal retention analyses on licensee submitted product samples (Note ', is 'J.' located in the header, a question, an answer, or none ? [MASK]\",\n",
       "  'label': 'ANSWER'},\n",
       " {'pattern': \"In the phrase ' J. S. Wigand Supervisor / Manager Discontinue coal retention analyses on licensee submitted product samples (Note ', is 'S.' located in the header, a question, an answer, or none ? [MASK]\",\n",
       "  'label': 'ANSWER'},\n",
       " {'pattern': \"In the phrase ' J. S. Wigand Supervisor / Manager Discontinue coal retention analyses on licensee submitted product samples (Note ', is 'Wigand' located in the header, a question, an answer, or none ? [MASK]\",\n",
       "  'label': 'ANSWER'},\n",
       " {'pattern': \"In the phrase ' J. S. Wigand Supervisor / Manager Discontinue coal retention analyses on licensee submitted product samples (Note ', is 'Supervisor' located in the header, a question, an answer, or none ? [MASK]\",\n",
       "  'label': 'QUESTION'},\n",
       " {'pattern': \"In the phrase ' J. S. Wigand Supervisor / Manager Discontinue coal retention analyses on licensee submitted product samples (Note ', is 'Manager' located in the header, a question, an answer, or none ? [MASK]\",\n",
       "  'label': 'QUESTION'},\n",
       " {'pattern': \"In the phrase ' J. S. Wigand Supervisor / Manager Discontinue coal retention analyses on licensee submitted product samples (Note ', is 'Discontinue' located in the header, a question, an answer, or none ? [MASK]\",\n",
       "  'label': 'ANSWER'},\n",
       " {'pattern': \"In the phrase ' J. S. Wigand Supervisor / Manager Discontinue coal retention analyses on licensee submitted product samples (Note ', is 'coal' located in the header, a question, an answer, or none ? [MASK]\",\n",
       "  'label': 'ANSWER'},\n",
       " {'pattern': \"In the phrase ' J. S. Wigand Supervisor / Manager Discontinue coal retention analyses on licensee submitted product samples (Note ', is 'retention' located in the header, a question, an answer, or none ? [MASK]\",\n",
       "  'label': 'ANSWER'},\n",
       " {'pattern': \"In the phrase ' J. S. Wigand Supervisor / Manager Discontinue coal retention analyses on licensee submitted product samples (Note ', is 'analyses' located in the header, a question, an answer, or none ? [MASK]\",\n",
       "  'label': 'ANSWER'},\n",
       " {'pattern': \"In the phrase ' J. S. Wigand Supervisor / Manager Discontinue coal retention analyses on licensee submitted product samples (Note ', is 'on' located in the header, a question, an answer, or none ? [MASK]\",\n",
       "  'label': 'ANSWER'},\n",
       " {'pattern': \"In the phrase ' J. S. Wigand Supervisor / Manager Discontinue coal retention analyses on licensee submitted product samples (Note ', is 'licensee' located in the header, a question, an answer, or none ? [MASK]\",\n",
       "  'label': 'ANSWER'},\n",
       " {'pattern': \"In the phrase ' J. S. Wigand Supervisor / Manager Discontinue coal retention analyses on licensee submitted product samples (Note ', is 'submitted' located in the header, a question, an answer, or none ? [MASK]\",\n",
       "  'label': 'ANSWER'},\n",
       " {'pattern': \"In the phrase ' J. S. Wigand Supervisor / Manager Discontinue coal retention analyses on licensee submitted product samples (Note ', is 'product' located in the header, a question, an answer, or none ? [MASK]\",\n",
       "  'label': 'ANSWER'},\n",
       " {'pattern': \"In the phrase ' J. S. Wigand Supervisor / Manager Discontinue coal retention analyses on licensee submitted product samples (Note ', is 'samples' located in the header, a question, an answer, or none ? [MASK]\",\n",
       "  'label': 'ANSWER'},\n",
       " {'pattern': \"In the phrase ' J. S. Wigand Supervisor / Manager Discontinue coal retention analyses on licensee submitted product samples (Note ', is '(Note' located in the header, a question, an answer, or none ? [MASK]\",\n",
       "  'label': 'ANSWER'},\n",
       " {'pattern': \"In the phrase ' Coal Retention testing is not performed by most licensees. Other B&W physical measurements as ends stability and inspection for soft spots in ciparettes are thought to be sufficient measures to assure cigarette physical integrity. The proposed action will increase laboratory productivity ', is 'Coal' located in the header, a question, an answer, or none ? [MASK]\",\n",
       "  'label': 'ANSWER'},\n",
       " {'pattern': \"In the phrase ' Coal Retention testing is not performed by most licensees. Other B&W physical measurements as ends stability and inspection for soft spots in ciparettes are thought to be sufficient measures to assure cigarette physical integrity. The proposed action will increase laboratory productivity ', is 'Retention' located in the header, a question, an answer, or none ? [MASK]\",\n",
       "  'label': 'ANSWER'},\n",
       " {'pattern': \"In the phrase ' Coal Retention testing is not performed by most licensees. Other B&W physical measurements as ends stability and inspection for soft spots in ciparettes are thought to be sufficient measures to assure cigarette physical integrity. The proposed action will increase laboratory productivity ', is 'testing' located in the header, a question, an answer, or none ? [MASK]\",\n",
       "  'label': 'ANSWER'},\n",
       " {'pattern': \"In the phrase ' Coal Retention testing is not performed by most licensees. Other B&W physical measurements as ends stability and inspection for soft spots in ciparettes are thought to be sufficient measures to assure cigarette physical integrity. The proposed action will increase laboratory productivity ', is 'is' located in the header, a question, an answer, or none ? [MASK]\",\n",
       "  'label': 'ANSWER'},\n",
       " {'pattern': \"In the phrase ' Coal Retention testing is not performed by most licensees. Other B&W physical measurements as ends stability and inspection for soft spots in ciparettes are thought to be sufficient measures to assure cigarette physical integrity. The proposed action will increase laboratory productivity ', is 'not' located in the header, a question, an answer, or none ? [MASK]\",\n",
       "  'label': 'ANSWER'},\n",
       " {'pattern': \"In the phrase ' Coal Retention testing is not performed by most licensees. Other B&W physical measurements as ends stability and inspection for soft spots in ciparettes are thought to be sufficient measures to assure cigarette physical integrity. The proposed action will increase laboratory productivity ', is 'performed' located in the header, a question, an answer, or none ? [MASK]\",\n",
       "  'label': 'ANSWER'},\n",
       " {'pattern': \"In the phrase ' Coal Retention testing is not performed by most licensees. Other B&W physical measurements as ends stability and inspection for soft spots in ciparettes are thought to be sufficient measures to assure cigarette physical integrity. The proposed action will increase laboratory productivity ', is 'by' located in the header, a question, an answer, or none ? [MASK]\",\n",
       "  'label': 'ANSWER'},\n",
       " {'pattern': \"In the phrase ' Coal Retention testing is not performed by most licensees. Other B&W physical measurements as ends stability and inspection for soft spots in ciparettes are thought to be sufficient measures to assure cigarette physical integrity. The proposed action will increase laboratory productivity ', is 'most' located in the header, a question, an answer, or none ? [MASK]\",\n",
       "  'label': 'ANSWER'},\n",
       " {'pattern': \"In the phrase ' Coal Retention testing is not performed by most licensees. Other B&W physical measurements as ends stability and inspection for soft spots in ciparettes are thought to be sufficient measures to assure cigarette physical integrity. The proposed action will increase laboratory productivity ', is 'licensees.' located in the header, a question, an answer, or none ? [MASK]\",\n",
       "  'label': 'ANSWER'},\n",
       " {'pattern': \"In the phrase ' Coal Retention testing is not performed by most licensees. Other B&W physical measurements as ends stability and inspection for soft spots in ciparettes are thought to be sufficient measures to assure cigarette physical integrity. The proposed action will increase laboratory productivity ', is 'Other' located in the header, a question, an answer, or none ? [MASK]\",\n",
       "  'label': 'ANSWER'},\n",
       " {'pattern': \"In the phrase ' Coal Retention testing is not performed by most licensees. Other B&W physical measurements as ends stability and inspection for soft spots in ciparettes are thought to be sufficient measures to assure cigarette physical integrity. The proposed action will increase laboratory productivity ', is 'B&W' located in the header, a question, an answer, or none ? [MASK]\",\n",
       "  'label': 'ANSWER'},\n",
       " {'pattern': \"In the phrase ' Coal Retention testing is not performed by most licensees. Other B&W physical measurements as ends stability and inspection for soft spots in ciparettes are thought to be sufficient measures to assure cigarette physical integrity. The proposed action will increase laboratory productivity ', is 'physical' located in the header, a question, an answer, or none ? [MASK]\",\n",
       "  'label': 'ANSWER'},\n",
       " {'pattern': \"In the phrase ' Coal Retention testing is not performed by most licensees. Other B&W physical measurements as ends stability and inspection for soft spots in ciparettes are thought to be sufficient measures to assure cigarette physical integrity. The proposed action will increase laboratory productivity ', is 'measurements' located in the header, a question, an answer, or none ? [MASK]\",\n",
       "  'label': 'ANSWER'},\n",
       " {'pattern': \"In the phrase ' Coal Retention testing is not performed by most licensees. Other B&W physical measurements as ends stability and inspection for soft spots in ciparettes are thought to be sufficient measures to assure cigarette physical integrity. The proposed action will increase laboratory productivity ', is 'as' located in the header, a question, an answer, or none ? [MASK]\",\n",
       "  'label': 'ANSWER'},\n",
       " {'pattern': \"In the phrase ' Coal Retention testing is not performed by most licensees. Other B&W physical measurements as ends stability and inspection for soft spots in ciparettes are thought to be sufficient measures to assure cigarette physical integrity. The proposed action will increase laboratory productivity ', is 'ends' located in the header, a question, an answer, or none ? [MASK]\",\n",
       "  'label': 'ANSWER'},\n",
       " {'pattern': \"In the phrase ' Coal Retention testing is not performed by most licensees. Other B&W physical measurements as ends stability and inspection for soft spots in ciparettes are thought to be sufficient measures to assure cigarette physical integrity. The proposed action will increase laboratory productivity ', is 'stability' located in the header, a question, an answer, or none ? [MASK]\",\n",
       "  'label': 'ANSWER'},\n",
       " {'pattern': \"In the phrase ' Coal Retention testing is not performed by most licensees. Other B&W physical measurements as ends stability and inspection for soft spots in ciparettes are thought to be sufficient measures to assure cigarette physical integrity. The proposed action will increase laboratory productivity ', is 'and' located in the header, a question, an answer, or none ? [MASK]\",\n",
       "  'label': 'ANSWER'},\n",
       " {'pattern': \"In the phrase ' Coal Retention testing is not performed by most licensees. Other B&W physical measurements as ends stability and inspection for soft spots in ciparettes are thought to be sufficient measures to assure cigarette physical integrity. The proposed action will increase laboratory productivity ', is 'inspection' located in the header, a question, an answer, or none ? [MASK]\",\n",
       "  'label': 'ANSWER'},\n",
       " {'pattern': \"In the phrase ' Coal Retention testing is not performed by most licensees. Other B&W physical measurements as ends stability and inspection for soft spots in ciparettes are thought to be sufficient measures to assure cigarette physical integrity. The proposed action will increase laboratory productivity ', is 'for' located in the header, a question, an answer, or none ? [MASK]\",\n",
       "  'label': 'ANSWER'},\n",
       " {'pattern': \"In the phrase ' Coal Retention testing is not performed by most licensees. Other B&W physical measurements as ends stability and inspection for soft spots in ciparettes are thought to be sufficient measures to assure cigarette physical integrity. The proposed action will increase laboratory productivity ', is 'soft' located in the header, a question, an answer, or none ? [MASK]\",\n",
       "  'label': 'ANSWER'},\n",
       " {'pattern': \"In the phrase ' Coal Retention testing is not performed by most licensees. Other B&W physical measurements as ends stability and inspection for soft spots in ciparettes are thought to be sufficient measures to assure cigarette physical integrity. The proposed action will increase laboratory productivity ', is 'spots' located in the header, a question, an answer, or none ? [MASK]\",\n",
       "  'label': 'ANSWER'},\n",
       " {'pattern': \"In the phrase ' Coal Retention testing is not performed by most licensees. Other B&W physical measurements as ends stability and inspection for soft spots in ciparettes are thought to be sufficient measures to assure cigarette physical integrity. The proposed action will increase laboratory productivity ', is 'in' located in the header, a question, an answer, or none ? [MASK]\",\n",
       "  'label': 'ANSWER'},\n",
       " {'pattern': \"In the phrase ' Coal Retention testing is not performed by most licensees. Other B&W physical measurements as ends stability and inspection for soft spots in ciparettes are thought to be sufficient measures to assure cigarette physical integrity. The proposed action will increase laboratory productivity ', is 'ciparettes' located in the header, a question, an answer, or none ? [MASK]\",\n",
       "  'label': 'ANSWER'},\n",
       " {'pattern': \"In the phrase ' Coal Retention testing is not performed by most licensees. Other B&W physical measurements as ends stability and inspection for soft spots in ciparettes are thought to be sufficient measures to assure cigarette physical integrity. The proposed action will increase laboratory productivity ', is 'are' located in the header, a question, an answer, or none ? [MASK]\",\n",
       "  'label': 'ANSWER'},\n",
       " {'pattern': \"In the phrase ' Coal Retention testing is not performed by most licensees. Other B&W physical measurements as ends stability and inspection for soft spots in ciparettes are thought to be sufficient measures to assure cigarette physical integrity. The proposed action will increase laboratory productivity ', is 'thought' located in the header, a question, an answer, or none ? [MASK]\",\n",
       "  'label': 'ANSWER'},\n",
       " {'pattern': \"In the phrase ' Coal Retention testing is not performed by most licensees. Other B&W physical measurements as ends stability and inspection for soft spots in ciparettes are thought to be sufficient measures to assure cigarette physical integrity. The proposed action will increase laboratory productivity ', is 'to' located in the header, a question, an answer, or none ? [MASK]\",\n",
       "  'label': 'ANSWER'},\n",
       " {'pattern': \"In the phrase ' Coal Retention testing is not performed by most licensees. Other B&W physical measurements as ends stability and inspection for soft spots in ciparettes are thought to be sufficient measures to assure cigarette physical integrity. The proposed action will increase laboratory productivity ', is 'be' located in the header, a question, an answer, or none ? [MASK]\",\n",
       "  'label': 'ANSWER'},\n",
       " {'pattern': \"In the phrase ' Coal Retention testing is not performed by most licensees. Other B&W physical measurements as ends stability and inspection for soft spots in ciparettes are thought to be sufficient measures to assure cigarette physical integrity. The proposed action will increase laboratory productivity ', is 'sufficient' located in the header, a question, an answer, or none ? [MASK]\",\n",
       "  'label': 'ANSWER'},\n",
       " {'pattern': \"In the phrase ' Coal Retention testing is not performed by most licensees. Other B&W physical measurements as ends stability and inspection for soft spots in ciparettes are thought to be sufficient measures to assure cigarette physical integrity. The proposed action will increase laboratory productivity ', is 'measures' located in the header, a question, an answer, or none ? [MASK]\",\n",
       "  'label': 'ANSWER'},\n",
       " {'pattern': \"In the phrase ' Coal Retention testing is not performed by most licensees. Other B&W physical measurements as ends stability and inspection for soft spots in ciparettes are thought to be sufficient measures to assure cigarette physical integrity. The proposed action will increase laboratory productivity ', is 'to' located in the header, a question, an answer, or none ? [MASK]\",\n",
       "  'label': 'ANSWER'},\n",
       " {'pattern': \"In the phrase ' Coal Retention testing is not performed by most licensees. Other B&W physical measurements as ends stability and inspection for soft spots in ciparettes are thought to be sufficient measures to assure cigarette physical integrity. The proposed action will increase laboratory productivity ', is 'assure' located in the header, a question, an answer, or none ? [MASK]\",\n",
       "  'label': 'ANSWER'},\n",
       " {'pattern': \"In the phrase ' Coal Retention testing is not performed by most licensees. Other B&W physical measurements as ends stability and inspection for soft spots in ciparettes are thought to be sufficient measures to assure cigarette physical integrity. The proposed action will increase laboratory productivity ', is 'cigarette' located in the header, a question, an answer, or none ? [MASK]\",\n",
       "  'label': 'ANSWER'},\n",
       " {'pattern': \"In the phrase ' Coal Retention testing is not performed by most licensees. Other B&W physical measurements as ends stability and inspection for soft spots in ciparettes are thought to be sufficient measures to assure cigarette physical integrity. The proposed action will increase laboratory productivity ', is 'physical' located in the header, a question, an answer, or none ? [MASK]\",\n",
       "  'label': 'ANSWER'},\n",
       " {'pattern': \"In the phrase ' Coal Retention testing is not performed by most licensees. Other B&W physical measurements as ends stability and inspection for soft spots in ciparettes are thought to be sufficient measures to assure cigarette physical integrity. The proposed action will increase laboratory productivity ', is 'integrity.' located in the header, a question, an answer, or none ? [MASK]\",\n",
       "  'label': 'ANSWER'},\n",
       " {'pattern': \"In the phrase ' Coal Retention testing is not performed by most licensees. Other B&W physical measurements as ends stability and inspection for soft spots in ciparettes are thought to be sufficient measures to assure cigarette physical integrity. The proposed action will increase laboratory productivity ', is 'The' located in the header, a question, an answer, or none ? [MASK]\",\n",
       "  'label': 'ANSWER'},\n",
       " {'pattern': \"In the phrase ' Coal Retention testing is not performed by most licensees. Other B&W physical measurements as ends stability and inspection for soft spots in ciparettes are thought to be sufficient measures to assure cigarette physical integrity. The proposed action will increase laboratory productivity ', is 'proposed' located in the header, a question, an answer, or none ? [MASK]\",\n",
       "  'label': 'ANSWER'},\n",
       " {'pattern': \"In the phrase ' Coal Retention testing is not performed by most licensees. Other B&W physical measurements as ends stability and inspection for soft spots in ciparettes are thought to be sufficient measures to assure cigarette physical integrity. The proposed action will increase laboratory productivity ', is 'action' located in the header, a question, an answer, or none ? [MASK]\",\n",
       "  'label': 'ANSWER'},\n",
       " {'pattern': \"In the phrase ' Coal Retention testing is not performed by most licensees. Other B&W physical measurements as ends stability and inspection for soft spots in ciparettes are thought to be sufficient measures to assure cigarette physical integrity. The proposed action will increase laboratory productivity ', is 'will' located in the header, a question, an answer, or none ? [MASK]\",\n",
       "  'label': 'ANSWER'},\n",
       " {'pattern': \"In the phrase ' Coal Retention testing is not performed by most licensees. Other B&W physical measurements as ends stability and inspection for soft spots in ciparettes are thought to be sufficient measures to assure cigarette physical integrity. The proposed action will increase laboratory productivity ', is 'increase' located in the header, a question, an answer, or none ? [MASK]\",\n",
       "  'label': 'ANSWER'},\n",
       " {'pattern': \"In the phrase ' Coal Retention testing is not performed by most licensees. Other B&W physical measurements as ends stability and inspection for soft spots in ciparettes are thought to be sufficient measures to assure cigarette physical integrity. The proposed action will increase laboratory productivity ', is 'laboratory' located in the header, a question, an answer, or none ? [MASK]\",\n",
       "  'label': 'ANSWER'},\n",
       " {'pattern': \"In the phrase ' Coal Retention testing is not performed by most licensees. Other B&W physical measurements as ends stability and inspection for soft spots in ciparettes are thought to be sufficient measures to assure cigarette physical integrity. The proposed action will increase laboratory productivity ', is 'productivity' located in the header, a question, an answer, or none ? [MASK]\",\n",
       "  'label': 'ANSWER'},\n",
       " {'pattern': \"In the phrase ' ) Suggested Solutions (s) . Delete coal retention from the list of standard analyses performed on licensee submitted product samples. Special requests for coal retention testing could still be submitted on an exception basis', is 'Suggested' located in the header, a question, an answer, or none ? [MASK]\",\n",
       "  'label': 'QUESTION'},\n",
       " {'pattern': \"In the phrase ' ) Suggested Solutions (s) . Delete coal retention from the list of standard analyses performed on licensee submitted product samples. Special requests for coal retention testing could still be submitted on an exception basis', is 'Solutions' located in the header, a question, an answer, or none ? [MASK]\",\n",
       "  'label': 'QUESTION'},\n",
       " {'pattern': \"In the phrase ' ) Suggested Solutions (s) . Delete coal retention from the list of standard analyses performed on licensee submitted product samples. Special requests for coal retention testing could still be submitted on an exception basis', is '(s)' located in the header, a question, an answer, or none ? [MASK]\",\n",
       "  'label': 'QUESTION'},\n",
       " {'pattern': \"In the phrase ' ) Suggested Solutions (s) . Delete coal retention from the list of standard analyses performed on licensee submitted product samples. Special requests for coal retention testing could still be submitted on an exception basis', is 'Delete' located in the header, a question, an answer, or none ? [MASK]\",\n",
       "  'label': 'ANSWER'},\n",
       " {'pattern': \"In the phrase ' ) Suggested Solutions (s) . Delete coal retention from the list of standard analyses performed on licensee submitted product samples. Special requests for coal retention testing could still be submitted on an exception basis', is 'coal' located in the header, a question, an answer, or none ? [MASK]\",\n",
       "  'label': 'ANSWER'},\n",
       " {'pattern': \"In the phrase ' ) Suggested Solutions (s) . Delete coal retention from the list of standard analyses performed on licensee submitted product samples. Special requests for coal retention testing could still be submitted on an exception basis', is 'retention' located in the header, a question, an answer, or none ? [MASK]\",\n",
       "  'label': 'ANSWER'},\n",
       " {'pattern': \"In the phrase ' ) Suggested Solutions (s) . Delete coal retention from the list of standard analyses performed on licensee submitted product samples. Special requests for coal retention testing could still be submitted on an exception basis', is 'from' located in the header, a question, an answer, or none ? [MASK]\",\n",
       "  'label': 'ANSWER'},\n",
       " {'pattern': \"In the phrase ' ) Suggested Solutions (s) . Delete coal retention from the list of standard analyses performed on licensee submitted product samples. Special requests for coal retention testing could still be submitted on an exception basis', is 'the' located in the header, a question, an answer, or none ? [MASK]\",\n",
       "  'label': 'ANSWER'},\n",
       " {'pattern': \"In the phrase ' ) Suggested Solutions (s) . Delete coal retention from the list of standard analyses performed on licensee submitted product samples. Special requests for coal retention testing could still be submitted on an exception basis', is 'list' located in the header, a question, an answer, or none ? [MASK]\",\n",
       "  'label': 'ANSWER'},\n",
       " {'pattern': \"In the phrase ' ) Suggested Solutions (s) . Delete coal retention from the list of standard analyses performed on licensee submitted product samples. Special requests for coal retention testing could still be submitted on an exception basis', is 'of' located in the header, a question, an answer, or none ? [MASK]\",\n",
       "  'label': 'ANSWER'},\n",
       " {'pattern': \"In the phrase ' ) Suggested Solutions (s) . Delete coal retention from the list of standard analyses performed on licensee submitted product samples. Special requests for coal retention testing could still be submitted on an exception basis', is 'standard' located in the header, a question, an answer, or none ? [MASK]\",\n",
       "  'label': 'ANSWER'},\n",
       " {'pattern': \"In the phrase ' ) Suggested Solutions (s) . Delete coal retention from the list of standard analyses performed on licensee submitted product samples. Special requests for coal retention testing could still be submitted on an exception basis', is 'analyses' located in the header, a question, an answer, or none ? [MASK]\",\n",
       "  'label': 'ANSWER'},\n",
       " {'pattern': \"In the phrase ' ) Suggested Solutions (s) . Delete coal retention from the list of standard analyses performed on licensee submitted product samples. Special requests for coal retention testing could still be submitted on an exception basis', is 'performed' located in the header, a question, an answer, or none ? [MASK]\",\n",
       "  'label': 'ANSWER'},\n",
       " {'pattern': \"In the phrase ' ) Suggested Solutions (s) . Delete coal retention from the list of standard analyses performed on licensee submitted product samples. Special requests for coal retention testing could still be submitted on an exception basis', is 'on' located in the header, a question, an answer, or none ? [MASK]\",\n",
       "  'label': 'ANSWER'},\n",
       " {'pattern': \"In the phrase ' ) Suggested Solutions (s) . Delete coal retention from the list of standard analyses performed on licensee submitted product samples. Special requests for coal retention testing could still be submitted on an exception basis', is 'licensee' located in the header, a question, an answer, or none ? [MASK]\",\n",
       "  'label': 'ANSWER'},\n",
       " {'pattern': \"In the phrase ' ) Suggested Solutions (s) . Delete coal retention from the list of standard analyses performed on licensee submitted product samples. Special requests for coal retention testing could still be submitted on an exception basis', is 'submitted' located in the header, a question, an answer, or none ? [MASK]\",\n",
       "  'label': 'ANSWER'},\n",
       " {'pattern': \"In the phrase ' ) Suggested Solutions (s) . Delete coal retention from the list of standard analyses performed on licensee submitted product samples. Special requests for coal retention testing could still be submitted on an exception basis', is 'product' located in the header, a question, an answer, or none ? [MASK]\",\n",
       "  'label': 'ANSWER'},\n",
       " {'pattern': \"In the phrase ' ) Suggested Solutions (s) . Delete coal retention from the list of standard analyses performed on licensee submitted product samples. Special requests for coal retention testing could still be submitted on an exception basis', is 'samples.' located in the header, a question, an answer, or none ? [MASK]\",\n",
       "  'label': 'ANSWER'},\n",
       " {'pattern': \"In the phrase ' ) Suggested Solutions (s) . Delete coal retention from the list of standard analyses performed on licensee submitted product samples. Special requests for coal retention testing could still be submitted on an exception basis', is 'Special' located in the header, a question, an answer, or none ? [MASK]\",\n",
       "  'label': 'ANSWER'},\n",
       " {'pattern': \"In the phrase ' ) Suggested Solutions (s) . Delete coal retention from the list of standard analyses performed on licensee submitted product samples. Special requests for coal retention testing could still be submitted on an exception basis', is 'requests' located in the header, a question, an answer, or none ? [MASK]\",\n",
       "  'label': 'ANSWER'},\n",
       " {'pattern': \"In the phrase ' ) Suggested Solutions (s) . Delete coal retention from the list of standard analyses performed on licensee submitted product samples. Special requests for coal retention testing could still be submitted on an exception basis', is 'for' located in the header, a question, an answer, or none ? [MASK]\",\n",
       "  'label': 'ANSWER'},\n",
       " {'pattern': \"In the phrase ' ) Suggested Solutions (s) . Delete coal retention from the list of standard analyses performed on licensee submitted product samples. Special requests for coal retention testing could still be submitted on an exception basis', is 'coal' located in the header, a question, an answer, or none ? [MASK]\",\n",
       "  'label': 'ANSWER'},\n",
       " {'pattern': \"In the phrase ' ) Suggested Solutions (s) . Delete coal retention from the list of standard analyses performed on licensee submitted product samples. Special requests for coal retention testing could still be submitted on an exception basis', is 'retention' located in the header, a question, an answer, or none ? [MASK]\",\n",
       "  'label': 'ANSWER'},\n",
       " {'pattern': \"In the phrase ' ) Suggested Solutions (s) . Delete coal retention from the list of standard analyses performed on licensee submitted product samples. Special requests for coal retention testing could still be submitted on an exception basis', is 'testing' located in the header, a question, an answer, or none ? [MASK]\",\n",
       "  'label': 'ANSWER'},\n",
       " {'pattern': \"In the phrase ' ) Suggested Solutions (s) . Delete coal retention from the list of standard analyses performed on licensee submitted product samples. Special requests for coal retention testing could still be submitted on an exception basis', is 'could' located in the header, a question, an answer, or none ? [MASK]\",\n",
       "  'label': 'ANSWER'},\n",
       " {'pattern': \"In the phrase ' ) Suggested Solutions (s) . Delete coal retention from the list of standard analyses performed on licensee submitted product samples. Special requests for coal retention testing could still be submitted on an exception basis', is 'still' located in the header, a question, an answer, or none ? [MASK]\",\n",
       "  'label': 'ANSWER'},\n",
       " {'pattern': \"In the phrase ' ) Suggested Solutions (s) . Delete coal retention from the list of standard analyses performed on licensee submitted product samples. Special requests for coal retention testing could still be submitted on an exception basis', is 'be' located in the header, a question, an answer, or none ? [MASK]\",\n",
       "  'label': 'ANSWER'},\n",
       " {'pattern': \"In the phrase ' ) Suggested Solutions (s) . Delete coal retention from the list of standard analyses performed on licensee submitted product samples. Special requests for coal retention testing could still be submitted on an exception basis', is 'submitted' located in the header, a question, an answer, or none ? [MASK]\",\n",
       "  'label': 'ANSWER'},\n",
       " {'pattern': \"In the phrase ' ) Suggested Solutions (s) . Delete coal retention from the list of standard analyses performed on licensee submitted product samples. Special requests for coal retention testing could still be submitted on an exception basis', is 'on' located in the header, a question, an answer, or none ? [MASK]\",\n",
       "  'label': 'ANSWER'},\n",
       " {'pattern': \"In the phrase ' ) Suggested Solutions (s) . Delete coal retention from the list of standard analyses performed on licensee submitted product samples. Special requests for coal retention testing could still be submitted on an exception basis', is 'an' located in the header, a question, an answer, or none ? [MASK]\",\n",
       "  'label': 'ANSWER'},\n",
       " {'pattern': \"In the phrase ' ) Suggested Solutions (s) . Delete coal retention from the list of standard analyses performed on licensee submitted product samples. Special requests for coal retention testing could still be submitted on an exception basis', is 'exception' located in the header, a question, an answer, or none ? [MASK]\",\n",
       "  'label': 'ANSWER'},\n",
       " {'pattern': \"In the phrase ' ) Suggested Solutions (s) . Delete coal retention from the list of standard analyses performed on licensee submitted product samples. Special requests for coal retention testing could still be submitted on an exception basis', is 'basis' located in the header, a question, an answer, or none ? [MASK]\",\n",
       "  'label': 'ANSWER'},\n",
       " {'pattern': \"In the phrase ' Have you contacted your Manager/ Supervisor. Manager Comments. Manager, please contact suggester and forward comments to the Quality Council', is 'Have' located in the header, a question, an answer, or none ? [MASK]\",\n",
       "  'label': 'HEADER'},\n",
       " {'pattern': \"In the phrase ' Have you contacted your Manager/ Supervisor. Manager Comments. Manager, please contact suggester and forward comments to the Quality Council', is 'you' located in the header, a question, an answer, or none ? [MASK]\",\n",
       "  'label': 'HEADER'},\n",
       " {'pattern': \"In the phrase ' Have you contacted your Manager/ Supervisor. Manager Comments. Manager, please contact suggester and forward comments to the Quality Council', is 'contacted' located in the header, a question, an answer, or none ? [MASK]\",\n",
       "  'label': 'HEADER'},\n",
       " {'pattern': \"In the phrase ' Have you contacted your Manager/ Supervisor. Manager Comments. Manager, please contact suggester and forward comments to the Quality Council', is 'your' located in the header, a question, an answer, or none ? [MASK]\",\n",
       "  'label': 'HEADER'},\n",
       " {'pattern': \"In the phrase ' Have you contacted your Manager/ Supervisor. Manager Comments. Manager, please contact suggester and forward comments to the Quality Council', is 'Manager/' located in the header, a question, an answer, or none ? [MASK]\",\n",
       "  'label': 'HEADER'},\n",
       " {'pattern': \"In the phrase ' Have you contacted your Manager/ Supervisor. Manager Comments. Manager, please contact suggester and forward comments to the Quality Council', is 'Supervisor.' located in the header, a question, an answer, or none ? [MASK]\",\n",
       "  'label': 'HEADER'},\n",
       " {'pattern': \"In the phrase ' Have you contacted your Manager/ Supervisor. Manager Comments. Manager, please contact suggester and forward comments to the Quality Council', is 'Manager' located in the header, a question, an answer, or none ? [MASK]\",\n",
       "  'label': 'QUESTION'},\n",
       " {'pattern': \"In the phrase ' Have you contacted your Manager/ Supervisor. Manager Comments. Manager, please contact suggester and forward comments to the Quality Council', is 'Comments.' located in the header, a question, an answer, or none ? [MASK]\",\n",
       "  'label': 'QUESTION'},\n",
       " {'pattern': \"In the phrase ' Have you contacted your Manager/ Supervisor. Manager Comments. Manager, please contact suggester and forward comments to the Quality Council', is 'Manager,' located in the header, a question, an answer, or none ? [MASK]\",\n",
       "  'label': 'ANSWER'},\n",
       " {'pattern': \"In the phrase ' Have you contacted your Manager/ Supervisor. Manager Comments. Manager, please contact suggester and forward comments to the Quality Council', is 'please' located in the header, a question, an answer, or none ? [MASK]\",\n",
       "  'label': 'ANSWER'},\n",
       " {'pattern': \"In the phrase ' Have you contacted your Manager/ Supervisor. Manager Comments. Manager, please contact suggester and forward comments to the Quality Council', is 'contact' located in the header, a question, an answer, or none ? [MASK]\",\n",
       "  'label': 'ANSWER'},\n",
       " {'pattern': \"In the phrase ' Have you contacted your Manager/ Supervisor. Manager Comments. Manager, please contact suggester and forward comments to the Quality Council', is 'suggester' located in the header, a question, an answer, or none ? [MASK]\",\n",
       "  'label': 'ANSWER'},\n",
       " {'pattern': \"In the phrase ' Have you contacted your Manager/ Supervisor. Manager Comments. Manager, please contact suggester and forward comments to the Quality Council', is 'and' located in the header, a question, an answer, or none ? [MASK]\",\n",
       "  'label': 'ANSWER'},\n",
       " {'pattern': \"In the phrase ' Have you contacted your Manager/ Supervisor. Manager Comments. Manager, please contact suggester and forward comments to the Quality Council', is 'forward' located in the header, a question, an answer, or none ? [MASK]\",\n",
       "  'label': 'ANSWER'},\n",
       " {'pattern': \"In the phrase ' Have you contacted your Manager/ Supervisor. Manager Comments. Manager, please contact suggester and forward comments to the Quality Council', is 'comments' located in the header, a question, an answer, or none ? [MASK]\",\n",
       "  'label': 'ANSWER'},\n",
       " {'pattern': \"In the phrase ' Have you contacted your Manager/ Supervisor. Manager Comments. Manager, please contact suggester and forward comments to the Quality Council', is 'to' located in the header, a question, an answer, or none ? [MASK]\",\n",
       "  'label': 'ANSWER'},\n",
       " {'pattern': \"In the phrase ' Have you contacted your Manager/ Supervisor. Manager Comments. Manager, please contact suggester and forward comments to the Quality Council', is 'the' located in the header, a question, an answer, or none ? [MASK]\",\n",
       "  'label': 'ANSWER'},\n",
       " {'pattern': \"In the phrase ' Have you contacted your Manager/ Supervisor. Manager Comments. Manager, please contact suggester and forward comments to the Quality Council', is 'Quality' located in the header, a question, an answer, or none ? [MASK]\",\n",
       "  'label': 'ANSWER'},\n",
       " {'pattern': \"In the phrase ' Have you contacted your Manager/ Supervisor. Manager Comments. Manager, please contact suggester and forward comments to the Quality Council', is 'Council' located in the header, a question, an answer, or none ? [MASK]\",\n",
       "  'label': 'ANSWER'},\n",
       " {'pattern': \"In the phrase ' qip . wp', is 'qip' located in the header, a question, an answer, or none ? [MASK]\",\n",
       "  'label': 'NONE'},\n",
       " {'pattern': \"In the phrase ' qip . wp', is 'wp' located in the header, a question, an answer, or none ? [MASK]\",\n",
       "  'label': 'NONE'}]"
      ]
     },
     "execution_count": 254,
     "metadata": {},
     "output_type": "execute_result"
    }
   ],
   "source": [
    "splitted_dataset[0]"
   ]
  },
  {
   "cell_type": "code",
   "execution_count": 268,
   "metadata": {},
   "outputs": [],
   "source": [
    "first_ten = []\n",
    "for i in range(10):\n",
    "    first_ten.append(pd.DataFrame(splitted_dataset[i]))\n"
   ]
  },
  {
   "cell_type": "code",
   "execution_count": 269,
   "metadata": {},
   "outputs": [
    {
     "data": {
      "text/plain": [
       "label\n",
       "ANSWER      828\n",
       "QUESTION    408\n",
       "NONE        292\n",
       "HEADER      112\n",
       "Name: count, dtype: int64"
      ]
     },
     "execution_count": 269,
     "metadata": {},
     "output_type": "execute_result"
    }
   ],
   "source": [
    "pd.concat(first_ten)['label'].value_counts()"
   ]
  },
  {
   "cell_type": "code",
   "execution_count": 16,
   "metadata": {},
   "outputs": [
    {
     "data": {
      "text/plain": [
       "DistilBertForMaskedLM(\n",
       "  (activation): GELUActivation()\n",
       "  (distilbert): DistilBertModel(\n",
       "    (embeddings): Embeddings(\n",
       "      (word_embeddings): Embedding(30522, 768, padding_idx=0)\n",
       "      (position_embeddings): Embedding(512, 768)\n",
       "      (LayerNorm): LayerNorm((768,), eps=1e-12, elementwise_affine=True)\n",
       "      (dropout): Dropout(p=0.1, inplace=False)\n",
       "    )\n",
       "    (transformer): Transformer(\n",
       "      (layer): ModuleList(\n",
       "        (0-5): 6 x TransformerBlock(\n",
       "          (attention): MultiHeadSelfAttention(\n",
       "            (dropout): Dropout(p=0.1, inplace=False)\n",
       "            (q_lin): Linear(in_features=768, out_features=768, bias=True)\n",
       "            (k_lin): Linear(in_features=768, out_features=768, bias=True)\n",
       "            (v_lin): Linear(in_features=768, out_features=768, bias=True)\n",
       "            (out_lin): Linear(in_features=768, out_features=768, bias=True)\n",
       "          )\n",
       "          (sa_layer_norm): LayerNorm((768,), eps=1e-12, elementwise_affine=True)\n",
       "          (ffn): FFN(\n",
       "            (dropout): Dropout(p=0.1, inplace=False)\n",
       "            (lin1): Linear(in_features=768, out_features=3072, bias=True)\n",
       "            (lin2): Linear(in_features=3072, out_features=768, bias=True)\n",
       "            (activation): GELUActivation()\n",
       "          )\n",
       "          (output_layer_norm): LayerNorm((768,), eps=1e-12, elementwise_affine=True)\n",
       "        )\n",
       "      )\n",
       "    )\n",
       "  )\n",
       "  (vocab_transform): Linear(in_features=768, out_features=768, bias=True)\n",
       "  (vocab_layer_norm): LayerNorm((768,), eps=1e-12, elementwise_affine=True)\n",
       "  (vocab_projector): Linear(in_features=768, out_features=30522, bias=True)\n",
       "  (mlm_loss_fct): CrossEntropyLoss()\n",
       ")"
      ]
     },
     "execution_count": 16,
     "metadata": {},
     "output_type": "execute_result"
    }
   ],
   "source": [
    "device = \"cuda\"\n",
    "model = AutoModelForMaskedLM.from_pretrained(\"distilbert-base-uncased\")\n",
    "model.to(device)"
   ]
  },
  {
   "cell_type": "code",
   "execution_count": 18,
   "metadata": {},
   "outputs": [],
   "source": [
    "labels_idx_keymap = {\n",
    "    \"none\": 0,\n",
    "    \"question\" : 1,\n",
    "    \"answer\": 2,\n",
    "    \"header\" : 3,\n",
    "}"
   ]
  },
  {
   "cell_type": "code",
   "execution_count": 19,
   "metadata": {},
   "outputs": [
    {
     "name": "stderr",
     "output_type": "stream",
     "text": [
      "100%|██████████| 10/10 [01:25<00:00,  8.58s/it]\n",
      "100%|██████████| 10/10 [01:27<00:00,  8.70s/it]\n",
      "100%|██████████| 10/10 [01:25<00:00,  8.60s/it]\n",
      "100%|██████████| 10/10 [01:26<00:00,  8.66s/it]\n",
      "100%|██████████| 10/10 [01:26<00:00,  8.61s/it]\n",
      "100%|██████████| 10/10 [01:27<00:00,  8.70s/it]\n",
      "100%|██████████| 10/10 [01:26<00:00,  8.61s/it]\n",
      "100%|██████████| 10/10 [01:25<00:00,  8.59s/it]\n",
      "100%|██████████| 10/10 [01:27<00:00,  8.70s/it]\n",
      "100%|██████████| 10/10 [01:26<00:00,  8.68s/it]\n"
     ]
    }
   ],
   "source": [
    "device = \"cuda\"\n",
    "\n",
    "model.train()\n",
    "alpha = 1e-4\n",
    "n_epochs = 10\n",
    "\n",
    "optmizer = AdamW(model.parameters(), 1e-5)\n",
    "history_train = []\n",
    "history_val = []\n",
    "\n",
    "n_shots = 10\n",
    "\n",
    "for epoch in range(n_epochs):\n",
    "    y_true_train = torch.tensor([],device=device)\n",
    "    y_pred_train = torch.tensor([],device=device)\n",
    "\n",
    "    for i in tqdm(range(n_shots)):\n",
    "\n",
    "        for processed_data in (splitted_dataset[i]):\n",
    "            phrase = processed_data['pattern']\n",
    "            label = processed_data[\"label\"]\n",
    "\n",
    "            tokens = tokenizer(\n",
    "                phrase,\n",
    "                truncation= True,\n",
    "                padding= \"max_length\",\n",
    "                return_tensors= \"pt\",\n",
    "                max_length=256\n",
    "            )\n",
    "\n",
    "            correct_word = tokenizer.tokenize(label)[0]\n",
    "\n",
    "            label = tokenizer(\n",
    "                correct_word,\n",
    "            )\n",
    "\n",
    "            input_ids = tokens['input_ids'].to(device)\n",
    "            attention_mask = tokens['attention_mask'].to(device)\n",
    "\n",
    "            y = input_ids.clone()\n",
    "\n",
    "            y[input_ids== tokenizer.mask_token_id] = tokenizer.vocab[correct_word]\n",
    "            y[input_ids != tokenizer.mask_token_id] = -100\n",
    "\n",
    "            outputs = model(\n",
    "                input_ids =input_ids,\n",
    "                attention_mask = attention_mask,\n",
    "                labels = y\n",
    "            )\n",
    "\n",
    "            mask_token_index = torch.where(tokens[\"input_ids\"] == tokenizer.mask_token_id)[1]\n",
    "            mask_token_logits = outputs.logits[0, mask_token_index, :]\n",
    "\n",
    "            question_logits = mask_token_logits[0,tokenizer.vocab[\"question\"]].item()\n",
    "            answer_logits = mask_token_logits[0, tokenizer.vocab[\"answer\"]].item()\n",
    "            header_logits = mask_token_logits[0, tokenizer.vocab[\"header\"]].item()\n",
    "            none_logits = mask_token_logits[0, tokenizer.vocab[\"none\"]].item()\n",
    "\n",
    "            logits_list = torch.tensor([\n",
    "                none_logits,\n",
    "                question_logits, \n",
    "                answer_logits,\n",
    "                header_logits\n",
    "            ])\n",
    "\n",
    "            real_value = correct_word.lower()\n",
    "            real_value = labels_idx_keymap[real_value]\n",
    "\n",
    "            predicted_value = logits_list.argmax().item()\n",
    "\n",
    "            y_pred_train = torch.cat([\n",
    "                y_pred_train, \n",
    "                torch.tensor([predicted_value]).to(device)\n",
    "            ])\n",
    "            \n",
    "            y_true_train = torch.cat([\n",
    "                y_true_train,\n",
    "                torch.tensor([real_value]).to(device)\n",
    "            ])\n",
    "\n",
    "            # logging.info(f\"real value: {real_value}, predicted value : {predicted_value}\")\n",
    "\n",
    "            real_list = [0,0,0,0]\n",
    "            real_list[real_value] =1\n",
    "\n",
    "            real_list = torch.tensor(\n",
    "                real_list\n",
    "            )\n",
    "\n",
    "            ce_loss = cross_entropy(\n",
    "                logits_list.softmax(dim = 0).to(torch.float64),\n",
    "                real_list.to(torch.float64)\n",
    "            )\n",
    "\n",
    "            mlm_loss = outputs.loss\n",
    "            loss = (1-alpha)*ce_loss + mlm_loss*alpha\n",
    "\n",
    "            loss.backward()\n",
    "\n",
    "            optmizer.step()\n",
    "            optmizer.zero_grad()\n",
    "\n",
    "    f1 = multiclass_f1_score(\n",
    "        y_pred_train,\n",
    "        y_true_train,\n",
    "        num_classes=4\n",
    "    )\n",
    "    history_train.append(f1.item())\n",
    "\n",
    "    logging.info(f'''\n",
    "                 \n",
    "    -------------------------\n",
    "        End of epoch {epoch} \n",
    "        F1 score : {f1}     \n",
    "    ''')\n",
    "\n",
    "    logging.info(f'''\n",
    "        {multiclass_confusion_matrix(\n",
    "        y_pred_train.to(torch.int64),\n",
    "        y_true_train.to(torch.int64),\n",
    "        num_classes=4\n",
    "        )}\n",
    "    ''')\n",
    "    "
   ]
  },
  {
   "cell_type": "code",
   "execution_count": 20,
   "metadata": {},
   "outputs": [
    {
     "data": {
      "text/plain": [
       "Text(0.5, 1.0, '\\n    Confusion matrix - Train \\n    Pattern Exploited Training  \\n    alpha = 0.0001  \\n')"
      ]
     },
     "execution_count": 20,
     "metadata": {},
     "output_type": "execute_result"
    },
    {
     "data": {
      "image/png": "[encoded data removed]",
      "text/plain": [
       "<Figure size 640x480 with 2 Axes>"
      ]
     },
     "metadata": {},
     "output_type": "display_data"
    }
   ],
   "source": [
    "period = \"Train\"\n",
    "conf_matrix = multiclass_confusion_matrix(\n",
    "    y_pred_train.to(torch.int64),\n",
    "    y_true_train.to(torch.int64),\n",
    "    num_classes=4\n",
    ")\n",
    "\n",
    "confusion_df = pd.DataFrame(conf_matrix.cpu().numpy())\n",
    "\n",
    "\n",
    "confusion_df = confusion_df\\\n",
    "    .rename(columns={v:k for k, v in labels_idx_keymap.items()})\\\n",
    "    .rename(index = {v:k for k, v in labels_idx_keymap.items()})\n",
    "\n",
    "sns.heatmap(confusion_df,\n",
    "            annot= True,\n",
    "            fmt = \".0f\")\n",
    "\n",
    "plt.ylabel(\"True class\")\n",
    "plt.xlabel(\"Predicted class\")\n",
    "\n",
    "plt.title(f'''\n",
    "    Confusion matrix - {period} \n",
    "    Pattern Exploited Training  \n",
    "    alpha = {alpha}  \n",
    "''')"
   ]
  },
  {
   "cell_type": "code",
   "execution_count": 21,
   "metadata": {},
   "outputs": [
    {
     "data": {
      "text/plain": [
       "tensor(0.8634, device='cuda:0')"
      ]
     },
     "execution_count": 21,
     "metadata": {},
     "output_type": "execute_result"
    }
   ],
   "source": [
    "multiclass_f1_score(\n",
    "    y_pred_train.to(torch.int64),\n",
    "    y_true_train.to(torch.int64),\n",
    "    num_classes=4\n",
    ")"
   ]
  },
  {
   "cell_type": "markdown",
   "metadata": {},
   "source": [
    "### Validation results"
   ]
  },
  {
   "cell_type": "code",
   "execution_count": 22,
   "metadata": {},
   "outputs": [
    {
     "name": "stderr",
     "output_type": "stream",
     "text": [
      "100%|██████████| 50/50 [00:00<00:00, 993.30it/s]\n"
     ]
    }
   ],
   "source": [
    "validation_dataset = SplitWordsDataset(\n",
    "    dataset['test'],\n",
    "    tokenizer,\n",
    "    pattern,\n",
    ")"
   ]
  },
  {
   "cell_type": "code",
   "execution_count": 23,
   "metadata": {},
   "outputs": [
    {
     "name": "stderr",
     "output_type": "stream",
     "text": [
      "  0%|          | 0/30 [00:00<?, ?it/s]"
     ]
    },
    {
     "name": "stderr",
     "output_type": "stream",
     "text": [
      "100%|██████████| 30/30 [02:49<00:00,  5.67s/it]\n"
     ]
    }
   ],
   "source": [
    "y_true_val = torch.tensor([],device=device)\n",
    "y_pred_val = torch.tensor([],device=device)\n",
    "\n",
    "num_shots_validation = 30\n",
    "\n",
    "with torch.no_grad():\n",
    "    for i in tqdm(range(num_shots_validation)):\n",
    "\n",
    "        for processed_data in (splitted_dataset[i]):\n",
    "\n",
    "            phrase = processed_data['pattern']\n",
    "            label = processed_data[\"label\"]\n",
    "\n",
    "            tokens = tokenizer(\n",
    "                phrase,\n",
    "                truncation= True,\n",
    "                padding= \"max_length\",\n",
    "                return_tensors= \"pt\",\n",
    "                max_length=256\n",
    "            )\n",
    "\n",
    "            correct_word = tokenizer.tokenize(label)[0]\n",
    "\n",
    "            label = tokenizer(\n",
    "                correct_word,\n",
    "            )\n",
    "\n",
    "            input_ids = tokens['input_ids'].to(device)\n",
    "            attention_mask = tokens['attention_mask'].to(device)\n",
    "\n",
    "            y = input_ids.clone()\n",
    "\n",
    "            y[input_ids== tokenizer.mask_token_id] = tokenizer.vocab[correct_word]\n",
    "            y[input_ids!= tokenizer.mask_token_id] = -100\n",
    "\n",
    "            outputs = model(\n",
    "                input_ids =input_ids,\n",
    "                attention_mask = attention_mask,\n",
    "            )\n",
    "\n",
    "            mask_token_index = torch.where(tokens[\"input_ids\"] == tokenizer.mask_token_id)[1]\n",
    "            mask_token_logits = outputs.logits[0, mask_token_index, :]\n",
    "\n",
    "            question_logits = mask_token_logits[0,tokenizer.vocab[\"question\"]].item()\n",
    "            answer_logits = mask_token_logits[0, tokenizer.vocab[\"answer\"]].item()\n",
    "            header_logits = mask_token_logits[0, tokenizer.vocab[\"header\"]].item()\n",
    "            none_logits = mask_token_logits[0, tokenizer.vocab[\"none\"]].item()\n",
    "\n",
    "            logits = {\n",
    "                \"question\": question_logits,\n",
    "                \"answer\": answer_logits,\n",
    "                \"header\": header_logits,\n",
    "                \"none\": none_logits\n",
    "            }\n",
    "\n",
    "            predicted_value = sorted(\n",
    "                logits.items(), \n",
    "                reverse= True, \n",
    "                key = lambda x: x[1]\n",
    "            )[0][0]\n",
    "\n",
    "            predicted_value = labels_idx_keymap[predicted_value]\n",
    "\n",
    "            # logging.info(predicted_value)\n",
    "\n",
    "            real_value = correct_word.lower()\n",
    "            real_value = labels_idx_keymap[real_value]\n",
    "\n",
    "            y_pred_val = torch.cat([\n",
    "                y_pred_val, \n",
    "                torch.tensor([predicted_value]).to(device)\n",
    "            ])\n",
    "            \n",
    "            y_true_val = torch.cat([\n",
    "                y_true_val,\n",
    "                torch.tensor([real_value]).to(device)\n",
    "            ])"
   ]
  },
  {
   "cell_type": "code",
   "execution_count": 24,
   "metadata": {},
   "outputs": [
    {
     "data": {
      "text/plain": [
       "Text(0.5, 1.0, '\\n    Confusion matrix - Test\\n    Pattern Exploited Training    \\n    alpha = 0.0001\\n')"
      ]
     },
     "execution_count": 24,
     "metadata": {},
     "output_type": "execute_result"
    },
    {
     "data": {
      "image/png": "[encoded data removed]",
      "text/plain": [
       "<Figure size 640x480 with 2 Axes>"
      ]
     },
     "metadata": {},
     "output_type": "display_data"
    }
   ],
   "source": [
    "period = \"Test\"\n",
    "conf_matrix = multiclass_confusion_matrix(\n",
    "    y_pred_val.to(torch.int64),\n",
    "    y_true_val.to(torch.int64),\n",
    "    num_classes=4\n",
    ")\n",
    "\n",
    "confusion_df = pd.DataFrame(conf_matrix.cpu().numpy())\n",
    "\n",
    "\n",
    "confusion_df = confusion_df\\\n",
    "    .rename(columns={v:k for k, v in labels_idx_keymap.items()})\\\n",
    "    .rename(index = {v:k for k, v in labels_idx_keymap.items()})\n",
    "\n",
    "sns.heatmap(confusion_df,\n",
    "            annot= True,\n",
    "            fmt = \".0f\")\n",
    "\n",
    "plt.ylabel(\"True class\")\n",
    "plt.xlabel(\"Predicted class\")\n",
    "\n",
    "plt.title(f'''\n",
    "    Confusion matrix - {period}\n",
    "    Pattern Exploited Training    \n",
    "    alpha = {alpha}\n",
    "''')"
   ]
  },
  {
   "cell_type": "code",
   "execution_count": 25,
   "metadata": {},
   "outputs": [
    {
     "data": {
      "text/plain": [
       "tensor(0.6367, device='cuda:0')"
      ]
     },
     "execution_count": 25,
     "metadata": {},
     "output_type": "execute_result"
    }
   ],
   "source": [
    "multiclass_f1_score(\n",
    "    y_pred_val.to(torch.int64),\n",
    "    y_true_val.to(torch.int64),\n",
    "    num_classes=4\n",
    ")"
   ]
  }
 ],
 "metadata": {
  "kernelspec": {
   "display_name": ".venv",
   "language": "python",
   "name": "python3"
  },
  "language_info": {
   "codemirror_mode": {
    "name": "ipython",
    "version": 3
   },
   "file_extension": ".py",
   "mimetype": "text/x-python",
   "name": "python",
   "nbconvert_exporter": "python",
   "pygments_lexer": "ipython3",
   "version": "3.9.16"
  }
 },
 "nbformat": 4,
 "nbformat_minor": 2
}
