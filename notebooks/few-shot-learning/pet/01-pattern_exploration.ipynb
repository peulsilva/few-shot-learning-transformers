{
 "cells": [
  {
   "cell_type": "code",
   "execution_count": 1,
   "metadata": {},
   "outputs": [],
   "source": [
    "%load_ext autoreload\n",
    "%autoreload 2"
   ]
  },
  {
   "cell_type": "code",
   "execution_count": 162,
   "metadata": {},
   "outputs": [],
   "source": [
    "import transformers\n",
    "from transformers import LayoutLMv2Processor, LayoutLMForTokenClassification, AdamW, BertForTokenClassification,\\\n",
    "    BertTokenizer, LayoutLMTokenizer, AutoTokenizer, AutoModelForMaskedLM, pipeline, DataCollatorForLanguageModeling\n",
    "from datasets import load_dataset\n",
    "import torch\n",
    "from torch.nn.functional import cross_entropy\n",
    "import matplotlib.pyplot as plt\n",
    "import numpy as np\n",
    "from tqdm import tqdm\n",
    "import logging\n",
    "from torch.utils.data import DataLoader, Dataset\n",
    "from torcheval.metrics.functional import multiclass_f1_score, multiclass_confusion_matrix\n",
    "from copy import deepcopy, copy\n",
    "import seaborn as sns\n",
    "import pandas as pd\n",
    "\n",
    "import os \n",
    "while 'notebooks' in os.getcwd():\n",
    "    os.chdir(\"..\")\n",
    "\n",
    "import re\n",
    "from typing import List, Dict\n",
    "    \n",
    "from src.preprocessing.make_dataset import ImageLayoutDataset, PatternExploitingDataset, SplitWordsDataset\n",
    "from src.model.trainer import BertTrainer, LayoutLMTrainer\n",
    "import warnings\n",
    "warnings.filterwarnings(\"ignore\")"
   ]
  },
  {
   "cell_type": "markdown",
   "metadata": {},
   "source": [
    "## Importing dataset"
   ]
  },
  {
   "cell_type": "code",
   "execution_count": 3,
   "metadata": {},
   "outputs": [],
   "source": [
    "dataset = load_dataset(\"nielsr/funsd\")"
   ]
  },
  {
   "cell_type": "code",
   "execution_count": 4,
   "metadata": {},
   "outputs": [],
   "source": [
    "tokenizer = AutoTokenizer.from_pretrained(\"distilbert-base-uncased\")"
   ]
  },
  {
   "cell_type": "code",
   "execution_count": 5,
   "metadata": {},
   "outputs": [
    {
     "name": "stdout",
     "output_type": "stream",
     "text": [
      "mkdir: cannot create directory ‘logs’: File exists\n"
     ]
    }
   ],
   "source": [
    "!mkdir logs\n",
    "model_name = \"PET\"\n",
    "dataset_name = \"FUNSD\"\n",
    "logging.basicConfig(filename=f'logs/{model_name}_{dataset_name}.log', encoding='utf-8', level= logging.INFO)"
   ]
  },
  {
   "cell_type": "code",
   "execution_count": 9,
   "metadata": {},
   "outputs": [],
   "source": [
    "def pattern1(word : str,\n",
    "            tokenizer):\n",
    "    return f\" In a document, where is the word {word} most frequently encountered, be it in the header, a question, or an answer? {tokenizer.mask_token}\""
   ]
  },
  {
   "cell_type": "code",
   "execution_count": 32,
   "metadata": {},
   "outputs": [],
   "source": [
    "def pattern2(word : str,\n",
    "             tokenizer):\n",
    "    return f\"{word} is an example of {tokenizer.mask_token}\""
   ]
  },
  {
   "cell_type": "code",
   "execution_count": 45,
   "metadata": {},
   "outputs": [],
   "source": [
    "data = PatternExploitingDataset(\n",
    "    dataset['train'],\n",
    "    tokenizer,\n",
    "    pattern2,\n",
    "    num_samples = 10\n",
    ")"
   ]
  },
  {
   "cell_type": "code",
   "execution_count": 46,
   "metadata": {},
   "outputs": [
    {
     "data": {
      "text/plain": [
       "'R&D : Suggestion: Date: Licensee Yes No 597005708 R&D QUALITY IMPROVEMENT SUGGESTION/ SOLUTION FORM Name / Phone Ext. : M. Hamann P. Harper, P. Martinez 9/ 3/ 92 R&D Group: J. S. Wigand Supervisor / Manager Discontinue coal retention analyses on licensee submitted product samples (Note : Coal Retention testing is not performed by most licensees. Other B&W physical measurements as ends stability and inspection for soft spots in ciparettes are thought to be sufficient measures to assure cigarette physical integrity. The proposed action will increase laboratory productivity . ) Suggested Solutions (s) : Delete coal retention from the list of standard analyses performed on licensee submitted product samples. Special requests for coal retention testing could still be submitted on an exception basis. Have you contacted your Manager/ Supervisor? Manager Comments: Manager, please contact suggester and forward comments to the Quality Council. qip . wp'"
      ]
     },
     "execution_count": 46,
     "metadata": {},
     "output_type": "execute_result"
    }
   ],
   "source": [
    "' '.join(dataset['train'][0]['words'])"
   ]
  },
  {
   "cell_type": "code",
   "execution_count": 47,
   "metadata": {},
   "outputs": [],
   "source": [
    "labels_idx_keymap = {\n",
    "    \"nothing\": 0,\n",
    "    \"question\" : 1,\n",
    "    \"answer\": 2,\n",
    "    \"header\" : 3,\n",
    "}"
   ]
  },
  {
   "cell_type": "code",
   "execution_count": 48,
   "metadata": {},
   "outputs": [
    {
     "data": {
      "text/plain": [
       "DistilBertForMaskedLM(\n",
       "  (activation): GELUActivation()\n",
       "  (distilbert): DistilBertModel(\n",
       "    (embeddings): Embeddings(\n",
       "      (word_embeddings): Embedding(30522, 768, padding_idx=0)\n",
       "      (position_embeddings): Embedding(512, 768)\n",
       "      (LayerNorm): LayerNorm((768,), eps=1e-12, elementwise_affine=True)\n",
       "      (dropout): Dropout(p=0.1, inplace=False)\n",
       "    )\n",
       "    (transformer): Transformer(\n",
       "      (layer): ModuleList(\n",
       "        (0-5): 6 x TransformerBlock(\n",
       "          (attention): MultiHeadSelfAttention(\n",
       "            (dropout): Dropout(p=0.1, inplace=False)\n",
       "            (q_lin): Linear(in_features=768, out_features=768, bias=True)\n",
       "            (k_lin): Linear(in_features=768, out_features=768, bias=True)\n",
       "            (v_lin): Linear(in_features=768, out_features=768, bias=True)\n",
       "            (out_lin): Linear(in_features=768, out_features=768, bias=True)\n",
       "          )\n",
       "          (sa_layer_norm): LayerNorm((768,), eps=1e-12, elementwise_affine=True)\n",
       "          (ffn): FFN(\n",
       "            (dropout): Dropout(p=0.1, inplace=False)\n",
       "            (lin1): Linear(in_features=768, out_features=3072, bias=True)\n",
       "            (lin2): Linear(in_features=3072, out_features=768, bias=True)\n",
       "            (activation): GELUActivation()\n",
       "          )\n",
       "          (output_layer_norm): LayerNorm((768,), eps=1e-12, elementwise_affine=True)\n",
       "        )\n",
       "      )\n",
       "    )\n",
       "  )\n",
       "  (vocab_transform): Linear(in_features=768, out_features=768, bias=True)\n",
       "  (vocab_layer_norm): LayerNorm((768,), eps=1e-12, elementwise_affine=True)\n",
       "  (vocab_projector): Linear(in_features=768, out_features=30522, bias=True)\n",
       "  (mlm_loss_fct): CrossEntropyLoss()\n",
       ")"
      ]
     },
     "execution_count": 48,
     "metadata": {},
     "output_type": "execute_result"
    }
   ],
   "source": [
    "device = \"cuda\"\n",
    "model = AutoModelForMaskedLM.from_pretrained(\"distilbert-base-uncased\")\n",
    "model.to(device)"
   ]
  },
  {
   "cell_type": "code",
   "execution_count": 49,
   "metadata": {},
   "outputs": [
    {
     "name": "stderr",
     "output_type": "stream",
     "text": [
      " 20%|██        | 2/10 [01:13<04:52, 36.52s/it]\n"
     ]
    },
    {
     "ename": "KeyboardInterrupt",
     "evalue": "",
     "output_type": "error",
     "traceback": [
      "\u001b[0;31m---------------------------------------------------------------------------\u001b[0m",
      "\u001b[0;31mKeyboardInterrupt\u001b[0m                         Traceback (most recent call last)",
      "\u001b[1;32m/users/eleves-a/2022/pedro.silva/few-shot-learning-transformers/notebooks/few-shot-learning/pet/01-pattern_exploration.ipynb Cell 13\u001b[0m line \u001b[0;36m1\n\u001b[1;32m     <a href='vscode-notebook-cell://ssh-remote%2B129.104.254.97/users/eleves-a/2022/pedro.silva/few-shot-learning-transformers/notebooks/few-shot-learning/pet/01-pattern_exploration.ipynb#Y142sdnNjb2RlLXJlbW90ZQ%3D%3D?line=97'>98</a>\u001b[0m mlm_loss \u001b[39m=\u001b[39m outputs\u001b[39m.\u001b[39mloss\n\u001b[1;32m     <a href='vscode-notebook-cell://ssh-remote%2B129.104.254.97/users/eleves-a/2022/pedro.silva/few-shot-learning-transformers/notebooks/few-shot-learning/pet/01-pattern_exploration.ipynb#Y142sdnNjb2RlLXJlbW90ZQ%3D%3D?line=98'>99</a>\u001b[0m loss \u001b[39m=\u001b[39m (\u001b[39m1\u001b[39m\u001b[39m-\u001b[39malpha)\u001b[39m*\u001b[39mce_loss \u001b[39m+\u001b[39m mlm_loss\u001b[39m*\u001b[39malpha\n\u001b[0;32m--> <a href='vscode-notebook-cell://ssh-remote%2B129.104.254.97/users/eleves-a/2022/pedro.silva/few-shot-learning-transformers/notebooks/few-shot-learning/pet/01-pattern_exploration.ipynb#Y142sdnNjb2RlLXJlbW90ZQ%3D%3D?line=100'>101</a>\u001b[0m loss\u001b[39m.\u001b[39;49mbackward()\n\u001b[1;32m    <a href='vscode-notebook-cell://ssh-remote%2B129.104.254.97/users/eleves-a/2022/pedro.silva/few-shot-learning-transformers/notebooks/few-shot-learning/pet/01-pattern_exploration.ipynb#Y142sdnNjb2RlLXJlbW90ZQ%3D%3D?line=102'>103</a>\u001b[0m optmizer\u001b[39m.\u001b[39mstep()\n\u001b[1;32m    <a href='vscode-notebook-cell://ssh-remote%2B129.104.254.97/users/eleves-a/2022/pedro.silva/few-shot-learning-transformers/notebooks/few-shot-learning/pet/01-pattern_exploration.ipynb#Y142sdnNjb2RlLXJlbW90ZQ%3D%3D?line=103'>104</a>\u001b[0m optmizer\u001b[39m.\u001b[39mzero_grad()\n",
      "File \u001b[0;32m~/few-shot-learning-transformers/.venv/lib64/python3.9/site-packages/torch/_tensor.py:487\u001b[0m, in \u001b[0;36mTensor.backward\u001b[0;34m(self, gradient, retain_graph, create_graph, inputs)\u001b[0m\n\u001b[1;32m    477\u001b[0m \u001b[39mif\u001b[39;00m has_torch_function_unary(\u001b[39mself\u001b[39m):\n\u001b[1;32m    478\u001b[0m     \u001b[39mreturn\u001b[39;00m handle_torch_function(\n\u001b[1;32m    479\u001b[0m         Tensor\u001b[39m.\u001b[39mbackward,\n\u001b[1;32m    480\u001b[0m         (\u001b[39mself\u001b[39m,),\n\u001b[0;32m   (...)\u001b[0m\n\u001b[1;32m    485\u001b[0m         inputs\u001b[39m=\u001b[39minputs,\n\u001b[1;32m    486\u001b[0m     )\n\u001b[0;32m--> 487\u001b[0m torch\u001b[39m.\u001b[39;49mautograd\u001b[39m.\u001b[39;49mbackward(\n\u001b[1;32m    488\u001b[0m     \u001b[39mself\u001b[39;49m, gradient, retain_graph, create_graph, inputs\u001b[39m=\u001b[39;49minputs\n\u001b[1;32m    489\u001b[0m )\n",
      "File \u001b[0;32m~/few-shot-learning-transformers/.venv/lib64/python3.9/site-packages/torch/autograd/__init__.py:200\u001b[0m, in \u001b[0;36mbackward\u001b[0;34m(tensors, grad_tensors, retain_graph, create_graph, grad_variables, inputs)\u001b[0m\n\u001b[1;32m    195\u001b[0m     retain_graph \u001b[39m=\u001b[39m create_graph\n\u001b[1;32m    197\u001b[0m \u001b[39m# The reason we repeat same the comment below is that\u001b[39;00m\n\u001b[1;32m    198\u001b[0m \u001b[39m# some Python versions print out the first line of a multi-line function\u001b[39;00m\n\u001b[1;32m    199\u001b[0m \u001b[39m# calls in the traceback and some print out the last line\u001b[39;00m\n\u001b[0;32m--> 200\u001b[0m Variable\u001b[39m.\u001b[39;49m_execution_engine\u001b[39m.\u001b[39;49mrun_backward(  \u001b[39m# Calls into the C++ engine to run the backward pass\u001b[39;49;00m\n\u001b[1;32m    201\u001b[0m     tensors, grad_tensors_, retain_graph, create_graph, inputs,\n\u001b[1;32m    202\u001b[0m     allow_unreachable\u001b[39m=\u001b[39;49m\u001b[39mTrue\u001b[39;49;00m, accumulate_grad\u001b[39m=\u001b[39;49m\u001b[39mTrue\u001b[39;49;00m)\n",
      "\u001b[0;31mKeyboardInterrupt\u001b[0m: "
     ]
    }
   ],
   "source": [
    "device = \"cuda\"\n",
    "\n",
    "\n",
    "model.train()\n",
    "\n",
    "alpha = 0\n",
    "n_epochs = 10\n",
    "\n",
    "optmizer = AdamW(model.parameters(), 1e-5)\n",
    "history = []\n",
    "\n",
    "for epoch in range(n_epochs):\n",
    "    y_true_train = torch.tensor([],device=device)\n",
    "    y_pred_train = torch.tensor([],device=device)\n",
    "\n",
    "    for i in tqdm(range(len(data))):\n",
    "\n",
    "        phrases, labels = data[i]\n",
    "\n",
    "        for idx, phrase in (enumerate(phrases)):\n",
    "            tokens = tokenizer(\n",
    "                phrases,\n",
    "                truncation= True,\n",
    "                padding= \"max_length\",\n",
    "                return_tensors= \"pt\",\n",
    "                max_length=32\n",
    "            )\n",
    "\n",
    "            correct_word = tokenizer.tokenize(labels[idx])[0]\n",
    "\n",
    "            label = tokenizer(\n",
    "                correct_word,\n",
    "            )\n",
    "\n",
    "            input_ids = tokens['input_ids'].to(device)\n",
    "            attention_mask = tokens['attention_mask'].to(device)\n",
    "\n",
    "            y = input_ids.clone()\n",
    "\n",
    "            y[input_ids== tokenizer.mask_token_id] = tokenizer.vocab[correct_word]\n",
    "            y[input_ids != tokenizer.mask_token_id] = -100\n",
    "\n",
    "            outputs = model(\n",
    "                input_ids =input_ids,\n",
    "                attention_mask = attention_mask,\n",
    "                labels = y\n",
    "            )\n",
    "\n",
    "            mask_token_index = torch.where(tokens[\"input_ids\"] == tokenizer.mask_token_id)[1]\n",
    "            mask_token_logits = outputs.logits[0, mask_token_index, :]\n",
    "\n",
    "            question_logits = mask_token_logits[0,tokenizer.vocab[\"question\"]].item()\n",
    "            answer_logits = mask_token_logits[0, tokenizer.vocab[\"answer\"]].item()\n",
    "            header_logits = mask_token_logits[0, tokenizer.vocab[\"header\"]].item()\n",
    "            none_logits = mask_token_logits[0, tokenizer.vocab[\"nothing\"]].item()\n",
    "\n",
    "            logits_list = torch.tensor([\n",
    "                none_logits,\n",
    "                question_logits, \n",
    "                answer_logits,\n",
    "                header_logits\n",
    "            ])\n",
    "\n",
    "            real_value = correct_word.lower()\n",
    "            real_value = labels_idx_keymap[real_value]\n",
    "\n",
    "            predicted_value = logits_list.argmax().item()\n",
    "\n",
    "            y_pred_train = torch.cat([\n",
    "                y_pred_train, \n",
    "                torch.tensor([predicted_value]).to(device)\n",
    "            ])\n",
    "            \n",
    "            y_true_train = torch.cat([\n",
    "                y_true_train,\n",
    "                torch.tensor([real_value]).to(device)\n",
    "            ])\n",
    "\n",
    "            logging.info(f\"real value: {real_value}, predicted value : {predicted_value}\")\n",
    "\n",
    "            real_list = [0,0,0,0]\n",
    "            real_list[real_value] =1\n",
    "\n",
    "            real_list = torch.tensor(\n",
    "                real_list\n",
    "            )\n",
    "\n",
    "            ce_loss = cross_entropy(\n",
    "                logits_list.softmax(dim = 0).to(torch.float64),\n",
    "                real_list.to(torch.float64)\n",
    "            )\n",
    "\n",
    "            mlm_loss = outputs.loss\n",
    "            loss = (1-alpha)*ce_loss + mlm_loss*alpha\n",
    "\n",
    "            loss.backward()\n",
    "\n",
    "            optmizer.step()\n",
    "            optmizer.zero_grad()\n",
    "\n",
    "    f1 = multiclass_f1_score(\n",
    "        y_pred_train,\n",
    "        y_true_train,\n",
    "        num_classes=4\n",
    "    )\n",
    "    history.append(f1)\n",
    "\n",
    "    logging.info(f'''\n",
    "                 \n",
    "    -------------------------\n",
    "        End of epoch {epoch} \n",
    "        F1 score : {f1}     \n",
    "    ''')\n",
    "\n",
    "    logging.info(f'''\n",
    "        {multiclass_confusion_matrix(\n",
    "        y_pred_train.to(torch.int64),\n",
    "        y_true_train.to(torch.int64),\n",
    "        num_classes=4\n",
    "        )}\n",
    "    ''')"
   ]
  },
  {
   "cell_type": "code",
   "execution_count": 21,
   "metadata": {},
   "outputs": [
    {
     "data": {
      "text/plain": [
       "tensor([0.2007, 0.5785, 0.0553, 0.1655])"
      ]
     },
     "execution_count": 21,
     "metadata": {},
     "output_type": "execute_result"
    }
   ],
   "source": [
    "logits_list.softmax(dim= 0)"
   ]
  },
  {
   "cell_type": "code",
   "execution_count": 22,
   "metadata": {},
   "outputs": [
    {
     "data": {
      "text/plain": [
       "tensor([1, 0, 0, 0])"
      ]
     },
     "execution_count": 22,
     "metadata": {},
     "output_type": "execute_result"
    }
   ],
   "source": [
    "real_list"
   ]
  },
  {
   "cell_type": "code",
   "execution_count": 18,
   "metadata": {},
   "outputs": [
    {
     "ename": "NameError",
     "evalue": "name 'predicted_list' is not defined",
     "output_type": "error",
     "traceback": [
      "\u001b[0;31m---------------------------------------------------------------------------\u001b[0m",
      "\u001b[0;31mNameError\u001b[0m                                 Traceback (most recent call last)",
      "\u001b[1;32m/users/eleves-a/2022/pedro.silva/few-shot-learning-transformers/notebooks/few-shot-learning/pet/01-pattern_exploration.ipynb Cell 12\u001b[0m line \u001b[0;36m3\n\u001b[1;32m      <a href='vscode-notebook-cell://ssh-remote%2B129.104.254.97/users/eleves-a/2022/pedro.silva/few-shot-learning-transformers/notebooks/few-shot-learning/pet/01-pattern_exploration.ipynb#Y200sdnNjb2RlLXJlbW90ZQ%3D%3D?line=0'>1</a>\u001b[0m ce_loss \u001b[39m=\u001b[39m cross_entropy(\n\u001b[1;32m      <a href='vscode-notebook-cell://ssh-remote%2B129.104.254.97/users/eleves-a/2022/pedro.silva/few-shot-learning-transformers/notebooks/few-shot-learning/pet/01-pattern_exploration.ipynb#Y200sdnNjb2RlLXJlbW90ZQ%3D%3D?line=1'>2</a>\u001b[0m     logits_list\u001b[39m.\u001b[39mto(torch\u001b[39m.\u001b[39mfloat64),\n\u001b[0;32m----> <a href='vscode-notebook-cell://ssh-remote%2B129.104.254.97/users/eleves-a/2022/pedro.silva/few-shot-learning-transformers/notebooks/few-shot-learning/pet/01-pattern_exploration.ipynb#Y200sdnNjb2RlLXJlbW90ZQ%3D%3D?line=2'>3</a>\u001b[0m     predicted_list\u001b[39m.\u001b[39mto(torch\u001b[39m.\u001b[39mfloat64)\n\u001b[1;32m      <a href='vscode-notebook-cell://ssh-remote%2B129.104.254.97/users/eleves-a/2022/pedro.silva/few-shot-learning-transformers/notebooks/few-shot-learning/pet/01-pattern_exploration.ipynb#Y200sdnNjb2RlLXJlbW90ZQ%3D%3D?line=3'>4</a>\u001b[0m )\n",
      "\u001b[0;31mNameError\u001b[0m: name 'predicted_list' is not defined"
     ]
    }
   ],
   "source": [
    "ce_loss = cross_entropy(\n",
    "    logits_list.to(torch.float64),\n",
    "    predicted_list.to(torch.float64)\n",
    ")\n"
   ]
  },
  {
   "cell_type": "code",
   "execution_count": 70,
   "metadata": {},
   "outputs": [
    {
     "data": {
      "text/plain": [
       "tensor(1.5447, dtype=torch.float64)"
      ]
     },
     "execution_count": 70,
     "metadata": {},
     "output_type": "execute_result"
    }
   ],
   "source": [
    "ce_loss"
   ]
  },
  {
   "cell_type": "code",
   "execution_count": 71,
   "metadata": {},
   "outputs": [],
   "source": [
    "loss = (1-alpha) * ce_loss + alpha*mlm_loss"
   ]
  },
  {
   "cell_type": "code",
   "execution_count": 72,
   "metadata": {},
   "outputs": [],
   "source": [
    "labels_idx_keymap = {\n",
    "    \"none\": 0,\n",
    "    \"question\" : 1,\n",
    "    \"answer\": 2,\n",
    "    \"header\" : 3,\n",
    "}"
   ]
  },
  {
   "cell_type": "code",
   "execution_count": 87,
   "metadata": {},
   "outputs": [],
   "source": [
    "validation_dataset = PatternExploitingDataset(\n",
    "    dataset['test'],\n",
    "    tokenizer,\n",
    "    pattern1,\n",
    "    num_samples=30\n",
    ")"
   ]
  },
  {
   "cell_type": "code",
   "execution_count": 88,
   "metadata": {},
   "outputs": [
    {
     "name": "stderr",
     "output_type": "stream",
     "text": [
      "  0%|          | 0/30 [00:00<?, ?it/s]"
     ]
    },
    {
     "name": "stderr",
     "output_type": "stream",
     "text": [
      "100%|██████████| 30/30 [06:50<00:00, 13.69s/it]\n"
     ]
    }
   ],
   "source": [
    "y_true_train = torch.tensor([],device=device)\n",
    "y_pred_train = torch.tensor([],device=device)\n",
    "\n",
    "with torch.no_grad():\n",
    "    for i in tqdm(range(len(validation_dataset))):\n",
    "\n",
    "        phrases, labels = validation_dataset[i]\n",
    "\n",
    "        for idx, phrase in (enumerate(phrases)):\n",
    "            tokens = tokenizer(\n",
    "                phrases,\n",
    "                truncation= True,\n",
    "                padding= \"max_length\",\n",
    "                return_tensors= \"pt\",\n",
    "                max_length=32\n",
    "            )\n",
    "\n",
    "            correct_word = tokenizer.tokenize(labels[idx])[0]\n",
    "\n",
    "            label = tokenizer(\n",
    "                correct_word,\n",
    "            )\n",
    "\n",
    "            input_ids = tokens['input_ids'].to(device)\n",
    "            attention_mask = tokens['attention_mask'].to(device)\n",
    "\n",
    "            y = input_ids.clone()\n",
    "\n",
    "            y[input_ids== tokenizer.mask_token_id] = tokenizer.vocab[correct_word]\n",
    "            y[input_ids!= tokenizer.mask_token_id] = -100\n",
    "\n",
    "            outputs = model(\n",
    "                input_ids =input_ids,\n",
    "                attention_mask = attention_mask,\n",
    "            )\n",
    "\n",
    "            mask_token_index = torch.where(tokens[\"input_ids\"] == tokenizer.mask_token_id)[1]\n",
    "            mask_token_logits = outputs.logits[0, mask_token_index, :]\n",
    "\n",
    "            question_logits = mask_token_logits[0,tokenizer.vocab[\"question\"]].item()\n",
    "            answer_logits = mask_token_logits[0, tokenizer.vocab[\"answer\"]].item()\n",
    "            header_logits = mask_token_logits[0, tokenizer.vocab[\"header\"]].item()\n",
    "            none_logits = mask_token_logits[0, tokenizer.vocab[\"none\"]].item()\n",
    "\n",
    "            logits = {\n",
    "                \"question\": question_logits,\n",
    "                \"answer\": answer_logits,\n",
    "                \"header\": header_logits,\n",
    "                \"none\": none_logits\n",
    "            }\n",
    "\n",
    "            predicted_value = sorted(\n",
    "                logits.items(), \n",
    "                reverse= True, \n",
    "                key = lambda x: x[1]\n",
    "            )[0][0]\n",
    "\n",
    "            predicted_value = labels_idx_keymap[predicted_value]\n",
    "\n",
    "            logging.info(predicted_value)\n",
    "\n",
    "            real_value = correct_word.lower()\n",
    "            real_value = labels_idx_keymap[real_value]\n",
    "\n",
    "            y_pred_train = torch.cat([\n",
    "                y_pred_train, \n",
    "                torch.tensor([predicted_value]).to(device)\n",
    "            ])\n",
    "            \n",
    "            y_true_train = torch.cat([\n",
    "                y_true_train,\n",
    "                torch.tensor([real_value]).to(device)\n",
    "            ])"
   ]
  },
  {
   "cell_type": "code",
   "execution_count": 62,
   "metadata": {},
   "outputs": [
    {
     "data": {
      "text/plain": [
       "'none'"
      ]
     },
     "execution_count": 62,
     "metadata": {},
     "output_type": "execute_result"
    }
   ],
   "source": [
    "correct_word"
   ]
  },
  {
   "cell_type": "code",
   "execution_count": 75,
   "metadata": {},
   "outputs": [
    {
     "data": {
      "text/plain": [
       "{'question': 3.0634965896606445,\n",
       " 'answer': 2.415207624435425,\n",
       " 'header': 2.9105570316314697,\n",
       " 'none': 1.0707943439483643}"
      ]
     },
     "execution_count": 75,
     "metadata": {},
     "output_type": "execute_result"
    }
   ],
   "source": [
    "logits"
   ]
  },
  {
   "cell_type": "code",
   "execution_count": 89,
   "metadata": {},
   "outputs": [
    {
     "data": {
      "text/plain": [
       "1"
      ]
     },
     "execution_count": 89,
     "metadata": {},
     "output_type": "execute_result"
    }
   ],
   "source": [
    "predicted_value"
   ]
  },
  {
   "cell_type": "code",
   "execution_count": 90,
   "metadata": {},
   "outputs": [
    {
     "data": {
      "text/plain": [
       "tensor(0.2324, device='cuda:0')"
      ]
     },
     "execution_count": 90,
     "metadata": {},
     "output_type": "execute_result"
    }
   ],
   "source": [
    "multiclass_f1_score(\n",
    "    y_pred_train.to(torch.int64),\n",
    "    y_true_train.to(torch.int64),\n",
    "    num_classes=4\n",
    ")"
   ]
  },
  {
   "cell_type": "code",
   "execution_count": 96,
   "metadata": {},
   "outputs": [],
   "source": [
    "conf_matrix = multiclass_confusion_matrix(\n",
    "    y_pred_train.to(torch.int64),\n",
    "    y_true_train.to(torch.int64),\n",
    "    num_classes=4\n",
    ")"
   ]
  },
  {
   "cell_type": "code",
   "execution_count": 107,
   "metadata": {},
   "outputs": [],
   "source": [
    "confusion_df = pd.DataFrame(conf_matrix.cpu().numpy())"
   ]
  },
  {
   "cell_type": "code",
   "execution_count": 108,
   "metadata": {},
   "outputs": [
    {
     "data": {
      "text/plain": [
       "{'none': 0, 'question': 1, 'answer': 2, 'header': 3}"
      ]
     },
     "execution_count": 108,
     "metadata": {},
     "output_type": "execute_result"
    }
   ],
   "source": []
  },
  {
   "cell_type": "code",
   "execution_count": 110,
   "metadata": {},
   "outputs": [
    {
     "data": {
      "text/plain": [
       "{0: 'none', 1: 'question', 2: 'answer', 3: 'header'}"
      ]
     },
     "execution_count": 110,
     "metadata": {},
     "output_type": "execute_result"
    }
   ],
   "source": [
    "{v:k for k, v in labels_idx_keymap.items()}"
   ]
  },
  {
   "cell_type": "code",
   "execution_count": 115,
   "metadata": {},
   "outputs": [],
   "source": [
    "confusion_df = confusion_df\\\n",
    "    .rename(columns={v:k for k, v in labels_idx_keymap.items()})\\\n",
    "    .rename(index = {v:k for k, v in labels_idx_keymap.items()})"
   ]
  },
  {
   "cell_type": "code",
   "execution_count": 125,
   "metadata": {},
   "outputs": [
    {
     "data": {
      "text/plain": [
       "Text(0.5, 1.0, '\\n    Confusion matrix\\n    Pattern Exploited Training    \\n')"
      ]
     },
     "execution_count": 125,
     "metadata": {},
     "output_type": "execute_result"
    },
    {
     "data": {
      "image/png": "[encoded data removed]",
      "text/plain": [
       "<Figure size 640x480 with 2 Axes>"
      ]
     },
     "metadata": {},
     "output_type": "display_data"
    }
   ],
   "source": [
    "sns.heatmap(confusion_df,\n",
    "            annot= True,\n",
    "            fmt = \".0f\")\n",
    "\n",
    "plt.ylabel(\"True class\")\n",
    "plt.xlabel(\"Predicted class\")\n",
    "\n",
    "plt.title('''\n",
    "    Confusion matrix\n",
    "    Pattern Exploited Training    \n",
    "''')"
   ]
  },
  {
   "cell_type": "markdown",
   "metadata": {},
   "source": [
    "## Adding sequence"
   ]
  },
  {
   "cell_type": "code",
   "execution_count": 152,
   "metadata": {},
   "outputs": [],
   "source": [
    "def pattern3(\n",
    "    phrase : str,\n",
    "    word: str,\n",
    "    tokenizer\n",
    "):\n",
    "    return f\"In the phrase '{phrase}', the {word} is in the header, in a question, or in an answer? {tokenizer.mask_token}\""
   ]
  },
  {
   "cell_type": "markdown",
   "metadata": {},
   "source": [
    "### Tokenization"
   ]
  },
  {
   "cell_type": "code",
   "execution_count": 174,
   "metadata": {},
   "outputs": [
    {
     "name": "stderr",
     "output_type": "stream",
     "text": [
      "100%|██████████| 149/149 [00:00<00:00, 1177.62it/s]\n"
     ]
    }
   ],
   "source": [
    "splitted_dataset = SplitWordsDataset(\n",
    "    dataset['train'],\n",
    "    tokenizer,\n",
    "    pattern3,\n",
    ")"
   ]
  },
  {
   "cell_type": "code",
   "execution_count": 170,
   "metadata": {},
   "outputs": [
    {
     "data": {
      "text/plain": [
       "149"
      ]
     },
     "execution_count": 170,
     "metadata": {},
     "output_type": "execute_result"
    }
   ],
   "source": [
    "len(splitted_dataset)"
   ]
  },
  {
   "cell_type": "code",
   "execution_count": 169,
   "metadata": {},
   "outputs": [
    {
     "data": {
      "text/plain": [
       "[{'pattern': \"In the phrase 'R&D . Suggestion. Date', the R&D is in the header, in a question, or in an answer? [MASK]\",\n",
       "  'label': 'NOTHING'},\n",
       " {'pattern': \"In the phrase 'R&D . Suggestion. Date', the Suggestion. is in the header, in a question, or in an answer? [MASK]\",\n",
       "  'label': 'QUESTION'},\n",
       " {'pattern': \"In the phrase 'R&D . Suggestion. Date', the Date is in the header, in a question, or in an answer? [MASK]\",\n",
       "  'label': 'QUESTION'},\n",
       " {'pattern': \"In the phrase ' Licensee Yes No 597005708 R&D QUALITY IMPROVEMENT SUGGESTION/ SOLUTION FORM Name / Phone Ext. . M', the Licensee is in the header, in a question, or in an answer? [MASK]\",\n",
       "  'label': 'ANSWER'},\n",
       " {'pattern': \"In the phrase ' Licensee Yes No 597005708 R&D QUALITY IMPROVEMENT SUGGESTION/ SOLUTION FORM Name / Phone Ext. . M', the Yes is in the header, in a question, or in an answer? [MASK]\",\n",
       "  'label': 'QUESTION'},\n",
       " {'pattern': \"In the phrase ' Licensee Yes No 597005708 R&D QUALITY IMPROVEMENT SUGGESTION/ SOLUTION FORM Name / Phone Ext. . M', the No is in the header, in a question, or in an answer? [MASK]\",\n",
       "  'label': 'QUESTION'},\n",
       " {'pattern': \"In the phrase ' Licensee Yes No 597005708 R&D QUALITY IMPROVEMENT SUGGESTION/ SOLUTION FORM Name / Phone Ext. . M', the 597005708 is in the header, in a question, or in an answer? [MASK]\",\n",
       "  'label': 'NOTHING'},\n",
       " {'pattern': \"In the phrase ' Licensee Yes No 597005708 R&D QUALITY IMPROVEMENT SUGGESTION/ SOLUTION FORM Name / Phone Ext. . M', the R&D is in the header, in a question, or in an answer? [MASK]\",\n",
       "  'label': 'HEADER'},\n",
       " {'pattern': \"In the phrase ' Licensee Yes No 597005708 R&D QUALITY IMPROVEMENT SUGGESTION/ SOLUTION FORM Name / Phone Ext. . M', the QUALITY is in the header, in a question, or in an answer? [MASK]\",\n",
       "  'label': 'HEADER'},\n",
       " {'pattern': \"In the phrase ' Licensee Yes No 597005708 R&D QUALITY IMPROVEMENT SUGGESTION/ SOLUTION FORM Name / Phone Ext. . M', the IMPROVEMENT is in the header, in a question, or in an answer? [MASK]\",\n",
       "  'label': 'HEADER'},\n",
       " {'pattern': \"In the phrase ' Licensee Yes No 597005708 R&D QUALITY IMPROVEMENT SUGGESTION/ SOLUTION FORM Name / Phone Ext. . M', the SUGGESTION/ is in the header, in a question, or in an answer? [MASK]\",\n",
       "  'label': 'HEADER'},\n",
       " {'pattern': \"In the phrase ' Licensee Yes No 597005708 R&D QUALITY IMPROVEMENT SUGGESTION/ SOLUTION FORM Name / Phone Ext. . M', the SOLUTION is in the header, in a question, or in an answer? [MASK]\",\n",
       "  'label': 'HEADER'},\n",
       " {'pattern': \"In the phrase ' Licensee Yes No 597005708 R&D QUALITY IMPROVEMENT SUGGESTION/ SOLUTION FORM Name / Phone Ext. . M', the FORM is in the header, in a question, or in an answer? [MASK]\",\n",
       "  'label': 'HEADER'},\n",
       " {'pattern': \"In the phrase ' Licensee Yes No 597005708 R&D QUALITY IMPROVEMENT SUGGESTION/ SOLUTION FORM Name / Phone Ext. . M', the Name is in the header, in a question, or in an answer? [MASK]\",\n",
       "  'label': 'QUESTION'},\n",
       " {'pattern': \"In the phrase ' Licensee Yes No 597005708 R&D QUALITY IMPROVEMENT SUGGESTION/ SOLUTION FORM Name / Phone Ext. . M', the Phone is in the header, in a question, or in an answer? [MASK]\",\n",
       "  'label': 'QUESTION'},\n",
       " {'pattern': \"In the phrase ' Licensee Yes No 597005708 R&D QUALITY IMPROVEMENT SUGGESTION/ SOLUTION FORM Name / Phone Ext. . M', the Ext. is in the header, in a question, or in an answer? [MASK]\",\n",
       "  'label': 'QUESTION'},\n",
       " {'pattern': \"In the phrase ' Hamann P. Harper, P. Martinez 9/ 3/ 92 R&D Group', the Hamann is in the header, in a question, or in an answer? [MASK]\",\n",
       "  'label': 'ANSWER'},\n",
       " {'pattern': \"In the phrase ' Hamann P. Harper, P. Martinez 9/ 3/ 92 R&D Group', the P. is in the header, in a question, or in an answer? [MASK]\",\n",
       "  'label': 'ANSWER'},\n",
       " {'pattern': \"In the phrase ' Hamann P. Harper, P. Martinez 9/ 3/ 92 R&D Group', the Harper, is in the header, in a question, or in an answer? [MASK]\",\n",
       "  'label': 'ANSWER'},\n",
       " {'pattern': \"In the phrase ' Hamann P. Harper, P. Martinez 9/ 3/ 92 R&D Group', the P. is in the header, in a question, or in an answer? [MASK]\",\n",
       "  'label': 'ANSWER'},\n",
       " {'pattern': \"In the phrase ' Hamann P. Harper, P. Martinez 9/ 3/ 92 R&D Group', the Martinez is in the header, in a question, or in an answer? [MASK]\",\n",
       "  'label': 'ANSWER'},\n",
       " {'pattern': \"In the phrase ' Hamann P. Harper, P. Martinez 9/ 3/ 92 R&D Group', the 9/ is in the header, in a question, or in an answer? [MASK]\",\n",
       "  'label': 'ANSWER'},\n",
       " {'pattern': \"In the phrase ' Hamann P. Harper, P. Martinez 9/ 3/ 92 R&D Group', the 3/ is in the header, in a question, or in an answer? [MASK]\",\n",
       "  'label': 'ANSWER'},\n",
       " {'pattern': \"In the phrase ' Hamann P. Harper, P. Martinez 9/ 3/ 92 R&D Group', the 92 is in the header, in a question, or in an answer? [MASK]\",\n",
       "  'label': 'ANSWER'},\n",
       " {'pattern': \"In the phrase ' Hamann P. Harper, P. Martinez 9/ 3/ 92 R&D Group', the R&D is in the header, in a question, or in an answer? [MASK]\",\n",
       "  'label': 'QUESTION'},\n",
       " {'pattern': \"In the phrase ' Hamann P. Harper, P. Martinez 9/ 3/ 92 R&D Group', the Group is in the header, in a question, or in an answer? [MASK]\",\n",
       "  'label': 'QUESTION'},\n",
       " {'pattern': \"In the phrase ' J. S. Wigand Supervisor / Manager Discontinue coal retention analyses on licensee submitted product samples (Note ', the J. is in the header, in a question, or in an answer? [MASK]\",\n",
       "  'label': 'ANSWER'},\n",
       " {'pattern': \"In the phrase ' J. S. Wigand Supervisor / Manager Discontinue coal retention analyses on licensee submitted product samples (Note ', the S. is in the header, in a question, or in an answer? [MASK]\",\n",
       "  'label': 'ANSWER'},\n",
       " {'pattern': \"In the phrase ' J. S. Wigand Supervisor / Manager Discontinue coal retention analyses on licensee submitted product samples (Note ', the Wigand is in the header, in a question, or in an answer? [MASK]\",\n",
       "  'label': 'ANSWER'},\n",
       " {'pattern': \"In the phrase ' J. S. Wigand Supervisor / Manager Discontinue coal retention analyses on licensee submitted product samples (Note ', the Supervisor is in the header, in a question, or in an answer? [MASK]\",\n",
       "  'label': 'QUESTION'},\n",
       " {'pattern': \"In the phrase ' J. S. Wigand Supervisor / Manager Discontinue coal retention analyses on licensee submitted product samples (Note ', the Manager is in the header, in a question, or in an answer? [MASK]\",\n",
       "  'label': 'QUESTION'},\n",
       " {'pattern': \"In the phrase ' J. S. Wigand Supervisor / Manager Discontinue coal retention analyses on licensee submitted product samples (Note ', the Discontinue is in the header, in a question, or in an answer? [MASK]\",\n",
       "  'label': 'ANSWER'},\n",
       " {'pattern': \"In the phrase ' J. S. Wigand Supervisor / Manager Discontinue coal retention analyses on licensee submitted product samples (Note ', the coal is in the header, in a question, or in an answer? [MASK]\",\n",
       "  'label': 'ANSWER'},\n",
       " {'pattern': \"In the phrase ' J. S. Wigand Supervisor / Manager Discontinue coal retention analyses on licensee submitted product samples (Note ', the retention is in the header, in a question, or in an answer? [MASK]\",\n",
       "  'label': 'ANSWER'},\n",
       " {'pattern': \"In the phrase ' J. S. Wigand Supervisor / Manager Discontinue coal retention analyses on licensee submitted product samples (Note ', the analyses is in the header, in a question, or in an answer? [MASK]\",\n",
       "  'label': 'ANSWER'},\n",
       " {'pattern': \"In the phrase ' J. S. Wigand Supervisor / Manager Discontinue coal retention analyses on licensee submitted product samples (Note ', the on is in the header, in a question, or in an answer? [MASK]\",\n",
       "  'label': 'ANSWER'},\n",
       " {'pattern': \"In the phrase ' J. S. Wigand Supervisor / Manager Discontinue coal retention analyses on licensee submitted product samples (Note ', the licensee is in the header, in a question, or in an answer? [MASK]\",\n",
       "  'label': 'ANSWER'},\n",
       " {'pattern': \"In the phrase ' J. S. Wigand Supervisor / Manager Discontinue coal retention analyses on licensee submitted product samples (Note ', the submitted is in the header, in a question, or in an answer? [MASK]\",\n",
       "  'label': 'ANSWER'},\n",
       " {'pattern': \"In the phrase ' J. S. Wigand Supervisor / Manager Discontinue coal retention analyses on licensee submitted product samples (Note ', the product is in the header, in a question, or in an answer? [MASK]\",\n",
       "  'label': 'ANSWER'},\n",
       " {'pattern': \"In the phrase ' J. S. Wigand Supervisor / Manager Discontinue coal retention analyses on licensee submitted product samples (Note ', the samples is in the header, in a question, or in an answer? [MASK]\",\n",
       "  'label': 'ANSWER'},\n",
       " {'pattern': \"In the phrase ' J. S. Wigand Supervisor / Manager Discontinue coal retention analyses on licensee submitted product samples (Note ', the (Note is in the header, in a question, or in an answer? [MASK]\",\n",
       "  'label': 'ANSWER'},\n",
       " {'pattern': \"In the phrase ' Coal Retention testing is not performed by most licensees. Other B&W physical measurements as ends stability and inspection for soft spots in ciparettes are thought to be sufficient measures to assure cigarette physical integrity. The proposed action will increase laboratory productivity ', the Coal is in the header, in a question, or in an answer? [MASK]\",\n",
       "  'label': 'ANSWER'},\n",
       " {'pattern': \"In the phrase ' Coal Retention testing is not performed by most licensees. Other B&W physical measurements as ends stability and inspection for soft spots in ciparettes are thought to be sufficient measures to assure cigarette physical integrity. The proposed action will increase laboratory productivity ', the Retention is in the header, in a question, or in an answer? [MASK]\",\n",
       "  'label': 'ANSWER'},\n",
       " {'pattern': \"In the phrase ' Coal Retention testing is not performed by most licensees. Other B&W physical measurements as ends stability and inspection for soft spots in ciparettes are thought to be sufficient measures to assure cigarette physical integrity. The proposed action will increase laboratory productivity ', the testing is in the header, in a question, or in an answer? [MASK]\",\n",
       "  'label': 'ANSWER'},\n",
       " {'pattern': \"In the phrase ' Coal Retention testing is not performed by most licensees. Other B&W physical measurements as ends stability and inspection for soft spots in ciparettes are thought to be sufficient measures to assure cigarette physical integrity. The proposed action will increase laboratory productivity ', the is is in the header, in a question, or in an answer? [MASK]\",\n",
       "  'label': 'ANSWER'},\n",
       " {'pattern': \"In the phrase ' Coal Retention testing is not performed by most licensees. Other B&W physical measurements as ends stability and inspection for soft spots in ciparettes are thought to be sufficient measures to assure cigarette physical integrity. The proposed action will increase laboratory productivity ', the not is in the header, in a question, or in an answer? [MASK]\",\n",
       "  'label': 'ANSWER'},\n",
       " {'pattern': \"In the phrase ' Coal Retention testing is not performed by most licensees. Other B&W physical measurements as ends stability and inspection for soft spots in ciparettes are thought to be sufficient measures to assure cigarette physical integrity. The proposed action will increase laboratory productivity ', the performed is in the header, in a question, or in an answer? [MASK]\",\n",
       "  'label': 'ANSWER'},\n",
       " {'pattern': \"In the phrase ' Coal Retention testing is not performed by most licensees. Other B&W physical measurements as ends stability and inspection for soft spots in ciparettes are thought to be sufficient measures to assure cigarette physical integrity. The proposed action will increase laboratory productivity ', the by is in the header, in a question, or in an answer? [MASK]\",\n",
       "  'label': 'ANSWER'},\n",
       " {'pattern': \"In the phrase ' Coal Retention testing is not performed by most licensees. Other B&W physical measurements as ends stability and inspection for soft spots in ciparettes are thought to be sufficient measures to assure cigarette physical integrity. The proposed action will increase laboratory productivity ', the most is in the header, in a question, or in an answer? [MASK]\",\n",
       "  'label': 'ANSWER'},\n",
       " {'pattern': \"In the phrase ' Coal Retention testing is not performed by most licensees. Other B&W physical measurements as ends stability and inspection for soft spots in ciparettes are thought to be sufficient measures to assure cigarette physical integrity. The proposed action will increase laboratory productivity ', the licensees. is in the header, in a question, or in an answer? [MASK]\",\n",
       "  'label': 'ANSWER'},\n",
       " {'pattern': \"In the phrase ' Coal Retention testing is not performed by most licensees. Other B&W physical measurements as ends stability and inspection for soft spots in ciparettes are thought to be sufficient measures to assure cigarette physical integrity. The proposed action will increase laboratory productivity ', the Other is in the header, in a question, or in an answer? [MASK]\",\n",
       "  'label': 'ANSWER'},\n",
       " {'pattern': \"In the phrase ' Coal Retention testing is not performed by most licensees. Other B&W physical measurements as ends stability and inspection for soft spots in ciparettes are thought to be sufficient measures to assure cigarette physical integrity. The proposed action will increase laboratory productivity ', the B&W is in the header, in a question, or in an answer? [MASK]\",\n",
       "  'label': 'ANSWER'},\n",
       " {'pattern': \"In the phrase ' Coal Retention testing is not performed by most licensees. Other B&W physical measurements as ends stability and inspection for soft spots in ciparettes are thought to be sufficient measures to assure cigarette physical integrity. The proposed action will increase laboratory productivity ', the physical is in the header, in a question, or in an answer? [MASK]\",\n",
       "  'label': 'ANSWER'},\n",
       " {'pattern': \"In the phrase ' Coal Retention testing is not performed by most licensees. Other B&W physical measurements as ends stability and inspection for soft spots in ciparettes are thought to be sufficient measures to assure cigarette physical integrity. The proposed action will increase laboratory productivity ', the measurements is in the header, in a question, or in an answer? [MASK]\",\n",
       "  'label': 'ANSWER'},\n",
       " {'pattern': \"In the phrase ' Coal Retention testing is not performed by most licensees. Other B&W physical measurements as ends stability and inspection for soft spots in ciparettes are thought to be sufficient measures to assure cigarette physical integrity. The proposed action will increase laboratory productivity ', the as is in the header, in a question, or in an answer? [MASK]\",\n",
       "  'label': 'ANSWER'},\n",
       " {'pattern': \"In the phrase ' Coal Retention testing is not performed by most licensees. Other B&W physical measurements as ends stability and inspection for soft spots in ciparettes are thought to be sufficient measures to assure cigarette physical integrity. The proposed action will increase laboratory productivity ', the ends is in the header, in a question, or in an answer? [MASK]\",\n",
       "  'label': 'ANSWER'},\n",
       " {'pattern': \"In the phrase ' Coal Retention testing is not performed by most licensees. Other B&W physical measurements as ends stability and inspection for soft spots in ciparettes are thought to be sufficient measures to assure cigarette physical integrity. The proposed action will increase laboratory productivity ', the stability is in the header, in a question, or in an answer? [MASK]\",\n",
       "  'label': 'ANSWER'},\n",
       " {'pattern': \"In the phrase ' Coal Retention testing is not performed by most licensees. Other B&W physical measurements as ends stability and inspection for soft spots in ciparettes are thought to be sufficient measures to assure cigarette physical integrity. The proposed action will increase laboratory productivity ', the and is in the header, in a question, or in an answer? [MASK]\",\n",
       "  'label': 'ANSWER'},\n",
       " {'pattern': \"In the phrase ' Coal Retention testing is not performed by most licensees. Other B&W physical measurements as ends stability and inspection for soft spots in ciparettes are thought to be sufficient measures to assure cigarette physical integrity. The proposed action will increase laboratory productivity ', the inspection is in the header, in a question, or in an answer? [MASK]\",\n",
       "  'label': 'ANSWER'},\n",
       " {'pattern': \"In the phrase ' Coal Retention testing is not performed by most licensees. Other B&W physical measurements as ends stability and inspection for soft spots in ciparettes are thought to be sufficient measures to assure cigarette physical integrity. The proposed action will increase laboratory productivity ', the for is in the header, in a question, or in an answer? [MASK]\",\n",
       "  'label': 'ANSWER'},\n",
       " {'pattern': \"In the phrase ' Coal Retention testing is not performed by most licensees. Other B&W physical measurements as ends stability and inspection for soft spots in ciparettes are thought to be sufficient measures to assure cigarette physical integrity. The proposed action will increase laboratory productivity ', the soft is in the header, in a question, or in an answer? [MASK]\",\n",
       "  'label': 'ANSWER'},\n",
       " {'pattern': \"In the phrase ' Coal Retention testing is not performed by most licensees. Other B&W physical measurements as ends stability and inspection for soft spots in ciparettes are thought to be sufficient measures to assure cigarette physical integrity. The proposed action will increase laboratory productivity ', the spots is in the header, in a question, or in an answer? [MASK]\",\n",
       "  'label': 'ANSWER'},\n",
       " {'pattern': \"In the phrase ' Coal Retention testing is not performed by most licensees. Other B&W physical measurements as ends stability and inspection for soft spots in ciparettes are thought to be sufficient measures to assure cigarette physical integrity. The proposed action will increase laboratory productivity ', the in is in the header, in a question, or in an answer? [MASK]\",\n",
       "  'label': 'ANSWER'},\n",
       " {'pattern': \"In the phrase ' Coal Retention testing is not performed by most licensees. Other B&W physical measurements as ends stability and inspection for soft spots in ciparettes are thought to be sufficient measures to assure cigarette physical integrity. The proposed action will increase laboratory productivity ', the ciparettes is in the header, in a question, or in an answer? [MASK]\",\n",
       "  'label': 'ANSWER'},\n",
       " {'pattern': \"In the phrase ' Coal Retention testing is not performed by most licensees. Other B&W physical measurements as ends stability and inspection for soft spots in ciparettes are thought to be sufficient measures to assure cigarette physical integrity. The proposed action will increase laboratory productivity ', the are is in the header, in a question, or in an answer? [MASK]\",\n",
       "  'label': 'ANSWER'},\n",
       " {'pattern': \"In the phrase ' Coal Retention testing is not performed by most licensees. Other B&W physical measurements as ends stability and inspection for soft spots in ciparettes are thought to be sufficient measures to assure cigarette physical integrity. The proposed action will increase laboratory productivity ', the thought is in the header, in a question, or in an answer? [MASK]\",\n",
       "  'label': 'ANSWER'},\n",
       " {'pattern': \"In the phrase ' Coal Retention testing is not performed by most licensees. Other B&W physical measurements as ends stability and inspection for soft spots in ciparettes are thought to be sufficient measures to assure cigarette physical integrity. The proposed action will increase laboratory productivity ', the to is in the header, in a question, or in an answer? [MASK]\",\n",
       "  'label': 'ANSWER'},\n",
       " {'pattern': \"In the phrase ' Coal Retention testing is not performed by most licensees. Other B&W physical measurements as ends stability and inspection for soft spots in ciparettes are thought to be sufficient measures to assure cigarette physical integrity. The proposed action will increase laboratory productivity ', the be is in the header, in a question, or in an answer? [MASK]\",\n",
       "  'label': 'ANSWER'},\n",
       " {'pattern': \"In the phrase ' Coal Retention testing is not performed by most licensees. Other B&W physical measurements as ends stability and inspection for soft spots in ciparettes are thought to be sufficient measures to assure cigarette physical integrity. The proposed action will increase laboratory productivity ', the sufficient is in the header, in a question, or in an answer? [MASK]\",\n",
       "  'label': 'ANSWER'},\n",
       " {'pattern': \"In the phrase ' Coal Retention testing is not performed by most licensees. Other B&W physical measurements as ends stability and inspection for soft spots in ciparettes are thought to be sufficient measures to assure cigarette physical integrity. The proposed action will increase laboratory productivity ', the measures is in the header, in a question, or in an answer? [MASK]\",\n",
       "  'label': 'ANSWER'},\n",
       " {'pattern': \"In the phrase ' Coal Retention testing is not performed by most licensees. Other B&W physical measurements as ends stability and inspection for soft spots in ciparettes are thought to be sufficient measures to assure cigarette physical integrity. The proposed action will increase laboratory productivity ', the to is in the header, in a question, or in an answer? [MASK]\",\n",
       "  'label': 'ANSWER'},\n",
       " {'pattern': \"In the phrase ' Coal Retention testing is not performed by most licensees. Other B&W physical measurements as ends stability and inspection for soft spots in ciparettes are thought to be sufficient measures to assure cigarette physical integrity. The proposed action will increase laboratory productivity ', the assure is in the header, in a question, or in an answer? [MASK]\",\n",
       "  'label': 'ANSWER'},\n",
       " {'pattern': \"In the phrase ' Coal Retention testing is not performed by most licensees. Other B&W physical measurements as ends stability and inspection for soft spots in ciparettes are thought to be sufficient measures to assure cigarette physical integrity. The proposed action will increase laboratory productivity ', the cigarette is in the header, in a question, or in an answer? [MASK]\",\n",
       "  'label': 'ANSWER'},\n",
       " {'pattern': \"In the phrase ' Coal Retention testing is not performed by most licensees. Other B&W physical measurements as ends stability and inspection for soft spots in ciparettes are thought to be sufficient measures to assure cigarette physical integrity. The proposed action will increase laboratory productivity ', the physical is in the header, in a question, or in an answer? [MASK]\",\n",
       "  'label': 'ANSWER'},\n",
       " {'pattern': \"In the phrase ' Coal Retention testing is not performed by most licensees. Other B&W physical measurements as ends stability and inspection for soft spots in ciparettes are thought to be sufficient measures to assure cigarette physical integrity. The proposed action will increase laboratory productivity ', the integrity. is in the header, in a question, or in an answer? [MASK]\",\n",
       "  'label': 'ANSWER'},\n",
       " {'pattern': \"In the phrase ' Coal Retention testing is not performed by most licensees. Other B&W physical measurements as ends stability and inspection for soft spots in ciparettes are thought to be sufficient measures to assure cigarette physical integrity. The proposed action will increase laboratory productivity ', the The is in the header, in a question, or in an answer? [MASK]\",\n",
       "  'label': 'ANSWER'},\n",
       " {'pattern': \"In the phrase ' Coal Retention testing is not performed by most licensees. Other B&W physical measurements as ends stability and inspection for soft spots in ciparettes are thought to be sufficient measures to assure cigarette physical integrity. The proposed action will increase laboratory productivity ', the proposed is in the header, in a question, or in an answer? [MASK]\",\n",
       "  'label': 'ANSWER'},\n",
       " {'pattern': \"In the phrase ' Coal Retention testing is not performed by most licensees. Other B&W physical measurements as ends stability and inspection for soft spots in ciparettes are thought to be sufficient measures to assure cigarette physical integrity. The proposed action will increase laboratory productivity ', the action is in the header, in a question, or in an answer? [MASK]\",\n",
       "  'label': 'ANSWER'},\n",
       " {'pattern': \"In the phrase ' Coal Retention testing is not performed by most licensees. Other B&W physical measurements as ends stability and inspection for soft spots in ciparettes are thought to be sufficient measures to assure cigarette physical integrity. The proposed action will increase laboratory productivity ', the will is in the header, in a question, or in an answer? [MASK]\",\n",
       "  'label': 'ANSWER'},\n",
       " {'pattern': \"In the phrase ' Coal Retention testing is not performed by most licensees. Other B&W physical measurements as ends stability and inspection for soft spots in ciparettes are thought to be sufficient measures to assure cigarette physical integrity. The proposed action will increase laboratory productivity ', the increase is in the header, in a question, or in an answer? [MASK]\",\n",
       "  'label': 'ANSWER'},\n",
       " {'pattern': \"In the phrase ' Coal Retention testing is not performed by most licensees. Other B&W physical measurements as ends stability and inspection for soft spots in ciparettes are thought to be sufficient measures to assure cigarette physical integrity. The proposed action will increase laboratory productivity ', the laboratory is in the header, in a question, or in an answer? [MASK]\",\n",
       "  'label': 'ANSWER'},\n",
       " {'pattern': \"In the phrase ' Coal Retention testing is not performed by most licensees. Other B&W physical measurements as ends stability and inspection for soft spots in ciparettes are thought to be sufficient measures to assure cigarette physical integrity. The proposed action will increase laboratory productivity ', the productivity is in the header, in a question, or in an answer? [MASK]\",\n",
       "  'label': 'ANSWER'},\n",
       " {'pattern': \"In the phrase ' ) Suggested Solutions (s) . Delete coal retention from the list of standard analyses performed on licensee submitted product samples. Special requests for coal retention testing could still be submitted on an exception basis', the Suggested is in the header, in a question, or in an answer? [MASK]\",\n",
       "  'label': 'QUESTION'},\n",
       " {'pattern': \"In the phrase ' ) Suggested Solutions (s) . Delete coal retention from the list of standard analyses performed on licensee submitted product samples. Special requests for coal retention testing could still be submitted on an exception basis', the Solutions is in the header, in a question, or in an answer? [MASK]\",\n",
       "  'label': 'QUESTION'},\n",
       " {'pattern': \"In the phrase ' ) Suggested Solutions (s) . Delete coal retention from the list of standard analyses performed on licensee submitted product samples. Special requests for coal retention testing could still be submitted on an exception basis', the (s) is in the header, in a question, or in an answer? [MASK]\",\n",
       "  'label': 'QUESTION'},\n",
       " {'pattern': \"In the phrase ' ) Suggested Solutions (s) . Delete coal retention from the list of standard analyses performed on licensee submitted product samples. Special requests for coal retention testing could still be submitted on an exception basis', the Delete is in the header, in a question, or in an answer? [MASK]\",\n",
       "  'label': 'ANSWER'},\n",
       " {'pattern': \"In the phrase ' ) Suggested Solutions (s) . Delete coal retention from the list of standard analyses performed on licensee submitted product samples. Special requests for coal retention testing could still be submitted on an exception basis', the coal is in the header, in a question, or in an answer? [MASK]\",\n",
       "  'label': 'ANSWER'},\n",
       " {'pattern': \"In the phrase ' ) Suggested Solutions (s) . Delete coal retention from the list of standard analyses performed on licensee submitted product samples. Special requests for coal retention testing could still be submitted on an exception basis', the retention is in the header, in a question, or in an answer? [MASK]\",\n",
       "  'label': 'ANSWER'},\n",
       " {'pattern': \"In the phrase ' ) Suggested Solutions (s) . Delete coal retention from the list of standard analyses performed on licensee submitted product samples. Special requests for coal retention testing could still be submitted on an exception basis', the from is in the header, in a question, or in an answer? [MASK]\",\n",
       "  'label': 'ANSWER'},\n",
       " {'pattern': \"In the phrase ' ) Suggested Solutions (s) . Delete coal retention from the list of standard analyses performed on licensee submitted product samples. Special requests for coal retention testing could still be submitted on an exception basis', the the is in the header, in a question, or in an answer? [MASK]\",\n",
       "  'label': 'ANSWER'},\n",
       " {'pattern': \"In the phrase ' ) Suggested Solutions (s) . Delete coal retention from the list of standard analyses performed on licensee submitted product samples. Special requests for coal retention testing could still be submitted on an exception basis', the list is in the header, in a question, or in an answer? [MASK]\",\n",
       "  'label': 'ANSWER'},\n",
       " {'pattern': \"In the phrase ' ) Suggested Solutions (s) . Delete coal retention from the list of standard analyses performed on licensee submitted product samples. Special requests for coal retention testing could still be submitted on an exception basis', the of is in the header, in a question, or in an answer? [MASK]\",\n",
       "  'label': 'ANSWER'},\n",
       " {'pattern': \"In the phrase ' ) Suggested Solutions (s) . Delete coal retention from the list of standard analyses performed on licensee submitted product samples. Special requests for coal retention testing could still be submitted on an exception basis', the standard is in the header, in a question, or in an answer? [MASK]\",\n",
       "  'label': 'ANSWER'},\n",
       " {'pattern': \"In the phrase ' ) Suggested Solutions (s) . Delete coal retention from the list of standard analyses performed on licensee submitted product samples. Special requests for coal retention testing could still be submitted on an exception basis', the analyses is in the header, in a question, or in an answer? [MASK]\",\n",
       "  'label': 'ANSWER'},\n",
       " {'pattern': \"In the phrase ' ) Suggested Solutions (s) . Delete coal retention from the list of standard analyses performed on licensee submitted product samples. Special requests for coal retention testing could still be submitted on an exception basis', the performed is in the header, in a question, or in an answer? [MASK]\",\n",
       "  'label': 'ANSWER'},\n",
       " {'pattern': \"In the phrase ' ) Suggested Solutions (s) . Delete coal retention from the list of standard analyses performed on licensee submitted product samples. Special requests for coal retention testing could still be submitted on an exception basis', the on is in the header, in a question, or in an answer? [MASK]\",\n",
       "  'label': 'ANSWER'},\n",
       " {'pattern': \"In the phrase ' ) Suggested Solutions (s) . Delete coal retention from the list of standard analyses performed on licensee submitted product samples. Special requests for coal retention testing could still be submitted on an exception basis', the licensee is in the header, in a question, or in an answer? [MASK]\",\n",
       "  'label': 'ANSWER'},\n",
       " {'pattern': \"In the phrase ' ) Suggested Solutions (s) . Delete coal retention from the list of standard analyses performed on licensee submitted product samples. Special requests for coal retention testing could still be submitted on an exception basis', the submitted is in the header, in a question, or in an answer? [MASK]\",\n",
       "  'label': 'ANSWER'},\n",
       " {'pattern': \"In the phrase ' ) Suggested Solutions (s) . Delete coal retention from the list of standard analyses performed on licensee submitted product samples. Special requests for coal retention testing could still be submitted on an exception basis', the product is in the header, in a question, or in an answer? [MASK]\",\n",
       "  'label': 'ANSWER'},\n",
       " {'pattern': \"In the phrase ' ) Suggested Solutions (s) . Delete coal retention from the list of standard analyses performed on licensee submitted product samples. Special requests for coal retention testing could still be submitted on an exception basis', the samples. is in the header, in a question, or in an answer? [MASK]\",\n",
       "  'label': 'ANSWER'},\n",
       " {'pattern': \"In the phrase ' ) Suggested Solutions (s) . Delete coal retention from the list of standard analyses performed on licensee submitted product samples. Special requests for coal retention testing could still be submitted on an exception basis', the Special is in the header, in a question, or in an answer? [MASK]\",\n",
       "  'label': 'ANSWER'},\n",
       " {'pattern': \"In the phrase ' ) Suggested Solutions (s) . Delete coal retention from the list of standard analyses performed on licensee submitted product samples. Special requests for coal retention testing could still be submitted on an exception basis', the requests is in the header, in a question, or in an answer? [MASK]\",\n",
       "  'label': 'ANSWER'},\n",
       " {'pattern': \"In the phrase ' ) Suggested Solutions (s) . Delete coal retention from the list of standard analyses performed on licensee submitted product samples. Special requests for coal retention testing could still be submitted on an exception basis', the for is in the header, in a question, or in an answer? [MASK]\",\n",
       "  'label': 'ANSWER'},\n",
       " {'pattern': \"In the phrase ' ) Suggested Solutions (s) . Delete coal retention from the list of standard analyses performed on licensee submitted product samples. Special requests for coal retention testing could still be submitted on an exception basis', the coal is in the header, in a question, or in an answer? [MASK]\",\n",
       "  'label': 'ANSWER'},\n",
       " {'pattern': \"In the phrase ' ) Suggested Solutions (s) . Delete coal retention from the list of standard analyses performed on licensee submitted product samples. Special requests for coal retention testing could still be submitted on an exception basis', the retention is in the header, in a question, or in an answer? [MASK]\",\n",
       "  'label': 'ANSWER'},\n",
       " {'pattern': \"In the phrase ' ) Suggested Solutions (s) . Delete coal retention from the list of standard analyses performed on licensee submitted product samples. Special requests for coal retention testing could still be submitted on an exception basis', the testing is in the header, in a question, or in an answer? [MASK]\",\n",
       "  'label': 'ANSWER'},\n",
       " {'pattern': \"In the phrase ' ) Suggested Solutions (s) . Delete coal retention from the list of standard analyses performed on licensee submitted product samples. Special requests for coal retention testing could still be submitted on an exception basis', the could is in the header, in a question, or in an answer? [MASK]\",\n",
       "  'label': 'ANSWER'},\n",
       " {'pattern': \"In the phrase ' ) Suggested Solutions (s) . Delete coal retention from the list of standard analyses performed on licensee submitted product samples. Special requests for coal retention testing could still be submitted on an exception basis', the still is in the header, in a question, or in an answer? [MASK]\",\n",
       "  'label': 'ANSWER'},\n",
       " {'pattern': \"In the phrase ' ) Suggested Solutions (s) . Delete coal retention from the list of standard analyses performed on licensee submitted product samples. Special requests for coal retention testing could still be submitted on an exception basis', the be is in the header, in a question, or in an answer? [MASK]\",\n",
       "  'label': 'ANSWER'},\n",
       " {'pattern': \"In the phrase ' ) Suggested Solutions (s) . Delete coal retention from the list of standard analyses performed on licensee submitted product samples. Special requests for coal retention testing could still be submitted on an exception basis', the submitted is in the header, in a question, or in an answer? [MASK]\",\n",
       "  'label': 'ANSWER'},\n",
       " {'pattern': \"In the phrase ' ) Suggested Solutions (s) . Delete coal retention from the list of standard analyses performed on licensee submitted product samples. Special requests for coal retention testing could still be submitted on an exception basis', the on is in the header, in a question, or in an answer? [MASK]\",\n",
       "  'label': 'ANSWER'},\n",
       " {'pattern': \"In the phrase ' ) Suggested Solutions (s) . Delete coal retention from the list of standard analyses performed on licensee submitted product samples. Special requests for coal retention testing could still be submitted on an exception basis', the an is in the header, in a question, or in an answer? [MASK]\",\n",
       "  'label': 'ANSWER'},\n",
       " {'pattern': \"In the phrase ' ) Suggested Solutions (s) . Delete coal retention from the list of standard analyses performed on licensee submitted product samples. Special requests for coal retention testing could still be submitted on an exception basis', the exception is in the header, in a question, or in an answer? [MASK]\",\n",
       "  'label': 'ANSWER'},\n",
       " {'pattern': \"In the phrase ' ) Suggested Solutions (s) . Delete coal retention from the list of standard analyses performed on licensee submitted product samples. Special requests for coal retention testing could still be submitted on an exception basis', the basis is in the header, in a question, or in an answer? [MASK]\",\n",
       "  'label': 'ANSWER'},\n",
       " {'pattern': \"In the phrase ' Have you contacted your Manager/ Supervisor. Manager Comments. Manager, please contact suggester and forward comments to the Quality Council', the Have is in the header, in a question, or in an answer? [MASK]\",\n",
       "  'label': 'HEADER'},\n",
       " {'pattern': \"In the phrase ' Have you contacted your Manager/ Supervisor. Manager Comments. Manager, please contact suggester and forward comments to the Quality Council', the you is in the header, in a question, or in an answer? [MASK]\",\n",
       "  'label': 'HEADER'},\n",
       " {'pattern': \"In the phrase ' Have you contacted your Manager/ Supervisor. Manager Comments. Manager, please contact suggester and forward comments to the Quality Council', the contacted is in the header, in a question, or in an answer? [MASK]\",\n",
       "  'label': 'HEADER'},\n",
       " {'pattern': \"In the phrase ' Have you contacted your Manager/ Supervisor. Manager Comments. Manager, please contact suggester and forward comments to the Quality Council', the your is in the header, in a question, or in an answer? [MASK]\",\n",
       "  'label': 'HEADER'},\n",
       " {'pattern': \"In the phrase ' Have you contacted your Manager/ Supervisor. Manager Comments. Manager, please contact suggester and forward comments to the Quality Council', the Manager/ is in the header, in a question, or in an answer? [MASK]\",\n",
       "  'label': 'HEADER'},\n",
       " {'pattern': \"In the phrase ' Have you contacted your Manager/ Supervisor. Manager Comments. Manager, please contact suggester and forward comments to the Quality Council', the Supervisor. is in the header, in a question, or in an answer? [MASK]\",\n",
       "  'label': 'HEADER'},\n",
       " {'pattern': \"In the phrase ' Have you contacted your Manager/ Supervisor. Manager Comments. Manager, please contact suggester and forward comments to the Quality Council', the Manager is in the header, in a question, or in an answer? [MASK]\",\n",
       "  'label': 'QUESTION'},\n",
       " {'pattern': \"In the phrase ' Have you contacted your Manager/ Supervisor. Manager Comments. Manager, please contact suggester and forward comments to the Quality Council', the Comments. is in the header, in a question, or in an answer? [MASK]\",\n",
       "  'label': 'QUESTION'},\n",
       " {'pattern': \"In the phrase ' Have you contacted your Manager/ Supervisor. Manager Comments. Manager, please contact suggester and forward comments to the Quality Council', the Manager, is in the header, in a question, or in an answer? [MASK]\",\n",
       "  'label': 'ANSWER'},\n",
       " {'pattern': \"In the phrase ' Have you contacted your Manager/ Supervisor. Manager Comments. Manager, please contact suggester and forward comments to the Quality Council', the please is in the header, in a question, or in an answer? [MASK]\",\n",
       "  'label': 'ANSWER'},\n",
       " {'pattern': \"In the phrase ' Have you contacted your Manager/ Supervisor. Manager Comments. Manager, please contact suggester and forward comments to the Quality Council', the contact is in the header, in a question, or in an answer? [MASK]\",\n",
       "  'label': 'ANSWER'},\n",
       " {'pattern': \"In the phrase ' Have you contacted your Manager/ Supervisor. Manager Comments. Manager, please contact suggester and forward comments to the Quality Council', the suggester is in the header, in a question, or in an answer? [MASK]\",\n",
       "  'label': 'ANSWER'},\n",
       " {'pattern': \"In the phrase ' Have you contacted your Manager/ Supervisor. Manager Comments. Manager, please contact suggester and forward comments to the Quality Council', the and is in the header, in a question, or in an answer? [MASK]\",\n",
       "  'label': 'ANSWER'},\n",
       " {'pattern': \"In the phrase ' Have you contacted your Manager/ Supervisor. Manager Comments. Manager, please contact suggester and forward comments to the Quality Council', the forward is in the header, in a question, or in an answer? [MASK]\",\n",
       "  'label': 'ANSWER'},\n",
       " {'pattern': \"In the phrase ' Have you contacted your Manager/ Supervisor. Manager Comments. Manager, please contact suggester and forward comments to the Quality Council', the comments is in the header, in a question, or in an answer? [MASK]\",\n",
       "  'label': 'ANSWER'},\n",
       " {'pattern': \"In the phrase ' Have you contacted your Manager/ Supervisor. Manager Comments. Manager, please contact suggester and forward comments to the Quality Council', the to is in the header, in a question, or in an answer? [MASK]\",\n",
       "  'label': 'ANSWER'},\n",
       " {'pattern': \"In the phrase ' Have you contacted your Manager/ Supervisor. Manager Comments. Manager, please contact suggester and forward comments to the Quality Council', the the is in the header, in a question, or in an answer? [MASK]\",\n",
       "  'label': 'ANSWER'},\n",
       " {'pattern': \"In the phrase ' Have you contacted your Manager/ Supervisor. Manager Comments. Manager, please contact suggester and forward comments to the Quality Council', the Quality is in the header, in a question, or in an answer? [MASK]\",\n",
       "  'label': 'ANSWER'},\n",
       " {'pattern': \"In the phrase ' Have you contacted your Manager/ Supervisor. Manager Comments. Manager, please contact suggester and forward comments to the Quality Council', the Council is in the header, in a question, or in an answer? [MASK]\",\n",
       "  'label': 'ANSWER'},\n",
       " {'pattern': \"In the phrase ' qip . wp', the qip is in the header, in a question, or in an answer? [MASK]\",\n",
       "  'label': 'NOTHING'},\n",
       " {'pattern': \"In the phrase ' qip . wp', the wp is in the header, in a question, or in an answer? [MASK]\",\n",
       "  'label': 'NOTHING'}]"
      ]
     },
     "execution_count": 169,
     "metadata": {},
     "output_type": "execute_result"
    }
   ],
   "source": [
    "splitted_dataset[0]"
   ]
  },
  {
   "cell_type": "code",
   "execution_count": 204,
   "metadata": {},
   "outputs": [
    {
     "data": {
      "text/plain": [
       "DistilBertForMaskedLM(\n",
       "  (activation): GELUActivation()\n",
       "  (distilbert): DistilBertModel(\n",
       "    (embeddings): Embeddings(\n",
       "      (word_embeddings): Embedding(30522, 768, padding_idx=0)\n",
       "      (position_embeddings): Embedding(512, 768)\n",
       "      (LayerNorm): LayerNorm((768,), eps=1e-12, elementwise_affine=True)\n",
       "      (dropout): Dropout(p=0.1, inplace=False)\n",
       "    )\n",
       "    (transformer): Transformer(\n",
       "      (layer): ModuleList(\n",
       "        (0-5): 6 x TransformerBlock(\n",
       "          (attention): MultiHeadSelfAttention(\n",
       "            (dropout): Dropout(p=0.1, inplace=False)\n",
       "            (q_lin): Linear(in_features=768, out_features=768, bias=True)\n",
       "            (k_lin): Linear(in_features=768, out_features=768, bias=True)\n",
       "            (v_lin): Linear(in_features=768, out_features=768, bias=True)\n",
       "            (out_lin): Linear(in_features=768, out_features=768, bias=True)\n",
       "          )\n",
       "          (sa_layer_norm): LayerNorm((768,), eps=1e-12, elementwise_affine=True)\n",
       "          (ffn): FFN(\n",
       "            (dropout): Dropout(p=0.1, inplace=False)\n",
       "            (lin1): Linear(in_features=768, out_features=3072, bias=True)\n",
       "            (lin2): Linear(in_features=3072, out_features=768, bias=True)\n",
       "            (activation): GELUActivation()\n",
       "          )\n",
       "          (output_layer_norm): LayerNorm((768,), eps=1e-12, elementwise_affine=True)\n",
       "        )\n",
       "      )\n",
       "    )\n",
       "  )\n",
       "  (vocab_transform): Linear(in_features=768, out_features=768, bias=True)\n",
       "  (vocab_layer_norm): LayerNorm((768,), eps=1e-12, elementwise_affine=True)\n",
       "  (vocab_projector): Linear(in_features=768, out_features=30522, bias=True)\n",
       "  (mlm_loss_fct): CrossEntropyLoss()\n",
       ")"
      ]
     },
     "execution_count": 204,
     "metadata": {},
     "output_type": "execute_result"
    }
   ],
   "source": [
    "device = \"cuda\"\n",
    "model = AutoModelForMaskedLM.from_pretrained(\"distilbert-base-uncased\")\n",
    "model.to(device)"
   ]
  },
  {
   "cell_type": "code",
   "execution_count": 202,
   "metadata": {},
   "outputs": [],
   "source": [
    "labels_idx_keymap = {\n",
    "    \"nothing\": 0,\n",
    "    \"question\" : 1,\n",
    "    \"answer\": 2,\n",
    "    \"header\" : 3,\n",
    "}"
   ]
  },
  {
   "cell_type": "code",
   "execution_count": 207,
   "metadata": {},
   "outputs": [
    {
     "name": "stderr",
     "output_type": "stream",
     "text": [
      "  0%|          | 0/10 [00:00<?, ?it/s]"
     ]
    },
    {
     "name": "stderr",
     "output_type": "stream",
     "text": [
      "100%|██████████| 10/10 [01:29<00:00,  8.92s/it]\n"
     ]
    }
   ],
   "source": [
    "device = \"cuda\"\n",
    "\n",
    "\n",
    "model.train()\n",
    "\n",
    "alpha = 1e-4\n",
    "n_epochs = 10\n",
    "\n",
    "optmizer = AdamW(model.parameters(), 1e-5)\n",
    "history = []\n",
    "\n",
    "n_shots = 10\n",
    "\n",
    "for epoch in range(n_epochs):\n",
    "    y_true_train = torch.tensor([],device=device)\n",
    "    y_pred_train = torch.tensor([],device=device)\n",
    "\n",
    "    for i in tqdm(range(n_shots)):\n",
    "\n",
    "        for processed_data in (splitted_dataset[i]):\n",
    "            phrase = processed_data['pattern']\n",
    "            label = processed_data[\"label\"]\n",
    "\n",
    "            tokens = tokenizer(\n",
    "                phrase,\n",
    "                truncation= True,\n",
    "                padding= \"max_length\",\n",
    "                return_tensors= \"pt\",\n",
    "                max_length=256\n",
    "            )\n",
    "\n",
    "            correct_word = tokenizer.tokenize(label)[0]\n",
    "\n",
    "            label = tokenizer(\n",
    "                correct_word,\n",
    "            )\n",
    "\n",
    "            input_ids = tokens['input_ids'].to(device)\n",
    "            attention_mask = tokens['attention_mask'].to(device)\n",
    "\n",
    "            y = input_ids.clone()\n",
    "\n",
    "            y[input_ids== tokenizer.mask_token_id] = tokenizer.vocab[correct_word]\n",
    "            y[input_ids != tokenizer.mask_token_id] = -100\n",
    "\n",
    "            outputs = model(\n",
    "                input_ids =input_ids,\n",
    "                attention_mask = attention_mask,\n",
    "                labels = y\n",
    "            )\n",
    "\n",
    "            mask_token_index = torch.where(tokens[\"input_ids\"] == tokenizer.mask_token_id)[1]\n",
    "            mask_token_logits = outputs.logits[0, mask_token_index, :]\n",
    "\n",
    "            question_logits = mask_token_logits[0,tokenizer.vocab[\"question\"]].item()\n",
    "            answer_logits = mask_token_logits[0, tokenizer.vocab[\"answer\"]].item()\n",
    "            header_logits = mask_token_logits[0, tokenizer.vocab[\"header\"]].item()\n",
    "            none_logits = mask_token_logits[0, tokenizer.vocab[\"nothing\"]].item()\n",
    "\n",
    "            logits_list = torch.tensor([\n",
    "                none_logits,\n",
    "                question_logits, \n",
    "                answer_logits,\n",
    "                header_logits\n",
    "            ])\n",
    "\n",
    "            real_value = correct_word.lower()\n",
    "            real_value = labels_idx_keymap[real_value]\n",
    "\n",
    "            predicted_value = logits_list.argmax().item()\n",
    "\n",
    "            y_pred_train = torch.cat([\n",
    "                y_pred_train, \n",
    "                torch.tensor([predicted_value]).to(device)\n",
    "            ])\n",
    "            \n",
    "            y_true_train = torch.cat([\n",
    "                y_true_train,\n",
    "                torch.tensor([real_value]).to(device)\n",
    "            ])\n",
    "\n",
    "            # logging.info(f\"real value: {real_value}, predicted value : {predicted_value}\")\n",
    "\n",
    "            real_list = [0,0,0,0]\n",
    "            real_list[real_value] =1\n",
    "\n",
    "            real_list = torch.tensor(\n",
    "                real_list\n",
    "            )\n",
    "\n",
    "            ce_loss = cross_entropy(\n",
    "                logits_list.softmax(dim = 0).to(torch.float64),\n",
    "                real_list.to(torch.float64)\n",
    "            )\n",
    "\n",
    "            mlm_loss = outputs.loss\n",
    "            loss = (1-alpha)*ce_loss + mlm_loss*alpha\n",
    "\n",
    "            loss.backward()\n",
    "\n",
    "            optmizer.step()\n",
    "            optmizer.zero_grad()\n",
    "\n",
    "    f1 = multiclass_f1_score(\n",
    "        y_pred_train,\n",
    "        y_true_train,\n",
    "        num_classes=4\n",
    "    )\n",
    "    history.append(f1)\n",
    "\n",
    "    logging.info(f'''\n",
    "                 \n",
    "    -------------------------\n",
    "        End of epoch {epoch} \n",
    "        F1 score : {f1}     \n",
    "    ''')\n",
    "\n",
    "    logging.info(f'''\n",
    "        {multiclass_confusion_matrix(\n",
    "        y_pred_train.to(torch.int64),\n",
    "        y_true_train.to(torch.int64),\n",
    "        num_classes=4\n",
    "        )}\n",
    "    ''')\n",
    "    break\n",
    "    "
   ]
  },
  {
   "cell_type": "code",
   "execution_count": 218,
   "metadata": {},
   "outputs": [
    {
     "data": {
      "text/plain": [
       "Text(0.5, 1.0, '\\n    Confusion matrix - Train \\n    Pattern Exploited Training  \\n    alpha = 0.0001  \\n')"
      ]
     },
     "execution_count": 218,
     "metadata": {},
     "output_type": "execute_result"
    },
    {
     "data": {
      "image/png": "[encoded data removed]",
      "text/plain": [
       "<Figure size 640x480 with 2 Axes>"
      ]
     },
     "metadata": {},
     "output_type": "display_data"
    }
   ],
   "source": [
    "period = \"Train\"\n",
    "conf_matrix = multiclass_confusion_matrix(\n",
    "    y_pred_train.to(torch.int64),\n",
    "    y_true_train.to(torch.int64),\n",
    "    num_classes=4\n",
    ")\n",
    "\n",
    "confusion_df = pd.DataFrame(conf_matrix.cpu().numpy())\n",
    "\n",
    "\n",
    "confusion_df = confusion_df\\\n",
    "    .rename(columns={v:k for k, v in labels_idx_keymap.items()})\\\n",
    "    .rename(index = {v:k for k, v in labels_idx_keymap.items()})\n",
    "\n",
    "sns.heatmap(confusion_df,\n",
    "            annot= True,\n",
    "            fmt = \".0f\")\n",
    "\n",
    "plt.ylabel(\"True class\")\n",
    "plt.xlabel(\"Predicted class\")\n",
    "\n",
    "plt.title(f'''\n",
    "    Confusion matrix - {period} \n",
    "    Pattern Exploited Training  \n",
    "    alpha = {alpha}  \n",
    "''')"
   ]
  },
  {
   "cell_type": "code",
   "execution_count": 209,
   "metadata": {},
   "outputs": [
    {
     "data": {
      "text/plain": [
       "tensor(0.6915, device='cuda:0')"
      ]
     },
     "execution_count": 209,
     "metadata": {},
     "output_type": "execute_result"
    }
   ],
   "source": [
    "multiclass_f1_score(\n",
    "    y_pred_train.to(torch.int64),\n",
    "    y_true_train.to(torch.int64),\n",
    "    num_classes=4\n",
    ")"
   ]
  },
  {
   "cell_type": "markdown",
   "metadata": {},
   "source": [
    "### Validation results"
   ]
  },
  {
   "cell_type": "code",
   "execution_count": 212,
   "metadata": {},
   "outputs": [
    {
     "name": "stderr",
     "output_type": "stream",
     "text": [
      "  0%|          | 0/50 [00:00<?, ?it/s]"
     ]
    },
    {
     "name": "stderr",
     "output_type": "stream",
     "text": [
      "100%|██████████| 50/50 [00:00<00:00, 986.73it/s]\n"
     ]
    }
   ],
   "source": [
    "validation_dataset = SplitWordsDataset(\n",
    "    dataset['test'],\n",
    "    tokenizer,\n",
    "    pattern3,\n",
    ")"
   ]
  },
  {
   "cell_type": "code",
   "execution_count": 213,
   "metadata": {},
   "outputs": [
    {
     "name": "stderr",
     "output_type": "stream",
     "text": [
      "  0%|          | 0/30 [00:00<?, ?it/s]"
     ]
    },
    {
     "name": "stderr",
     "output_type": "stream",
     "text": [
      "100%|██████████| 30/30 [02:49<00:00,  5.65s/it]\n"
     ]
    }
   ],
   "source": [
    "y_true_val = torch.tensor([],device=device)\n",
    "y_pred_val = torch.tensor([],device=device)\n",
    "\n",
    "num_shots_validation = 30\n",
    "\n",
    "with torch.no_grad():\n",
    "    for i in tqdm(range(num_shots_validation)):\n",
    "\n",
    "        for processed_data in (splitted_dataset[i]):\n",
    "\n",
    "            phrase = processed_data['pattern']\n",
    "            label = processed_data[\"label\"]\n",
    "\n",
    "            tokens = tokenizer(\n",
    "                phrase,\n",
    "                truncation= True,\n",
    "                padding= \"max_length\",\n",
    "                return_tensors= \"pt\",\n",
    "                max_length=256\n",
    "            )\n",
    "\n",
    "            correct_word = tokenizer.tokenize(label)[0]\n",
    "\n",
    "            label = tokenizer(\n",
    "                correct_word,\n",
    "            )\n",
    "\n",
    "            input_ids = tokens['input_ids'].to(device)\n",
    "            attention_mask = tokens['attention_mask'].to(device)\n",
    "\n",
    "            y = input_ids.clone()\n",
    "\n",
    "            y[input_ids== tokenizer.mask_token_id] = tokenizer.vocab[correct_word]\n",
    "            y[input_ids!= tokenizer.mask_token_id] = -100\n",
    "\n",
    "            outputs = model(\n",
    "                input_ids =input_ids,\n",
    "                attention_mask = attention_mask,\n",
    "            )\n",
    "\n",
    "            mask_token_index = torch.where(tokens[\"input_ids\"] == tokenizer.mask_token_id)[1]\n",
    "            mask_token_logits = outputs.logits[0, mask_token_index, :]\n",
    "\n",
    "            question_logits = mask_token_logits[0,tokenizer.vocab[\"question\"]].item()\n",
    "            answer_logits = mask_token_logits[0, tokenizer.vocab[\"answer\"]].item()\n",
    "            header_logits = mask_token_logits[0, tokenizer.vocab[\"header\"]].item()\n",
    "            none_logits = mask_token_logits[0, tokenizer.vocab[\"none\"]].item()\n",
    "\n",
    "            logits = {\n",
    "                \"question\": question_logits,\n",
    "                \"answer\": answer_logits,\n",
    "                \"header\": header_logits,\n",
    "                \"none\": none_logits\n",
    "            }\n",
    "\n",
    "            predicted_value = sorted(\n",
    "                logits.items(), \n",
    "                reverse= True, \n",
    "                key = lambda x: x[1]\n",
    "            )[0][0]\n",
    "\n",
    "            predicted_value = labels_idx_keymap[predicted_value]\n",
    "\n",
    "            # logging.info(predicted_value)\n",
    "\n",
    "            real_value = correct_word.lower()\n",
    "            real_value = labels_idx_keymap[real_value]\n",
    "\n",
    "            y_pred_val = torch.cat([\n",
    "                y_pred_val, \n",
    "                torch.tensor([predicted_value]).to(device)\n",
    "            ])\n",
    "            \n",
    "            y_true_val = torch.cat([\n",
    "                y_true_val,\n",
    "                torch.tensor([real_value]).to(device)\n",
    "            ])"
   ]
  },
  {
   "cell_type": "code",
   "execution_count": 216,
   "metadata": {},
   "outputs": [
    {
     "data": {
      "text/plain": [
       "Text(0.5, 1.0, '\\n    Confusion matrix - Test\\n    Pattern Exploited Training    \\n')"
      ]
     },
     "execution_count": 216,
     "metadata": {},
     "output_type": "execute_result"
    },
    {
     "data": {
      "image/png": "[encoded data removed]",
      "text/plain": [
       "<Figure size 640x480 with 2 Axes>"
      ]
     },
     "metadata": {},
     "output_type": "display_data"
    }
   ],
   "source": [
    "period = \"Test\"\n",
    "conf_matrix = multiclass_confusion_matrix(\n",
    "    y_pred_val.to(torch.int64),\n",
    "    y_true_val.to(torch.int64),\n",
    "    num_classes=4\n",
    ")\n",
    "\n",
    "confusion_df = pd.DataFrame(conf_matrix.cpu().numpy())\n",
    "\n",
    "\n",
    "confusion_df = confusion_df\\\n",
    "    .rename(columns={v:k for k, v in labels_idx_keymap.items()})\\\n",
    "    .rename(index = {v:k for k, v in labels_idx_keymap.items()})\n",
    "\n",
    "sns.heatmap(confusion_df,\n",
    "            annot= True,\n",
    "            fmt = \".0f\")\n",
    "\n",
    "plt.ylabel(\"True class\")\n",
    "plt.xlabel(\"Predicted class\")\n",
    "\n",
    "plt.title(f'''\n",
    "    Confusion matrix - {period}\n",
    "    Pattern Exploited Training    \n",
    "    alpha = {alpha}\n",
    "''')"
   ]
  },
  {
   "cell_type": "code",
   "execution_count": 215,
   "metadata": {},
   "outputs": [
    {
     "data": {
      "text/plain": [
       "tensor(0.5116, device='cuda:0')"
      ]
     },
     "execution_count": 215,
     "metadata": {},
     "output_type": "execute_result"
    }
   ],
   "source": [
    "multiclass_f1_score(\n",
    "    y_pred_val.to(torch.int64),\n",
    "    y_true_val.to(torch.int64),\n",
    "    num_classes=4\n",
    ")"
   ]
  }
 ],
 "metadata": {
  "kernelspec": {
   "display_name": ".venv",
   "language": "python",
   "name": "python3"
  },
  "language_info": {
   "codemirror_mode": {
    "name": "ipython",
    "version": 3
   },
   "file_extension": ".py",
   "mimetype": "text/x-python",
   "name": "python",
   "nbconvert_exporter": "python",
   "pygments_lexer": "ipython3",
   "version": "3.9.16"
  }
 },
 "nbformat": 4,
 "nbformat_minor": 2
}
