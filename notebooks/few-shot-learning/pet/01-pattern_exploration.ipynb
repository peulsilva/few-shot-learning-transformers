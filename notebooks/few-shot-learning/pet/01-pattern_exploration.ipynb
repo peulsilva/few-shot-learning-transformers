{
 "cells": [
  {
   "cell_type": "code",
   "execution_count": 2,
   "metadata": {},
   "outputs": [],
   "source": [
    "%load_ext autoreload\n",
    "%autoreload 2"
   ]
  },
  {
   "cell_type": "code",
   "execution_count": 105,
   "metadata": {},
   "outputs": [],
   "source": [
    "import transformers\n",
    "from transformers import LayoutLMv2Processor, LayoutLMForTokenClassification, AdamW, BertForTokenClassification,\\\n",
    "    BertTokenizer, LayoutLMTokenizer, AutoTokenizer, AutoModelForMaskedLM, pipeline, DataCollatorForLanguageModeling\n",
    "from datasets import load_dataset\n",
    "import torch\n",
    "from torch.nn.functional import cross_entropy\n",
    "import matplotlib.pyplot as plt\n",
    "import numpy as np\n",
    "from tqdm import tqdm\n",
    "import logging\n",
    "from torch.utils.data import DataLoader, Dataset\n",
    "from torcheval.metrics.functional import multiclass_f1_score, multiclass_confusion_matrix\n",
    "from copy import deepcopy\n",
    "import seaborn as sns\n",
    "import pandas as pd\n",
    "\n",
    "import os \n",
    "while 'notebooks' in os.getcwd():\n",
    "    os.chdir(\"..\")\n",
    "    \n",
    "from src.preprocessing.make_dataset import ImageLayoutDataset\n",
    "from src.model.trainer import BertTrainer, LayoutLMTrainer\n",
    "import warnings\n",
    "warnings.filterwarnings(\"ignore\")"
   ]
  },
  {
   "cell_type": "markdown",
   "metadata": {},
   "source": [
    "## Importing dataset"
   ]
  },
  {
   "cell_type": "code",
   "execution_count": 4,
   "metadata": {},
   "outputs": [],
   "source": [
    "dataset = load_dataset(\"nielsr/funsd\")"
   ]
  },
  {
   "cell_type": "code",
   "execution_count": 5,
   "metadata": {},
   "outputs": [],
   "source": [
    "tokenizer = AutoTokenizer.from_pretrained(\"bert-base-uncased\")"
   ]
  },
  {
   "cell_type": "code",
   "execution_count": 6,
   "metadata": {},
   "outputs": [],
   "source": [
    "!mkdir logs\n",
    "model_name = \"PET\"\n",
    "dataset_name = \"FUNSD\"\n",
    "logging.basicConfig(filename=f'logs/{model_name}_{dataset_name}.log', encoding='utf-8', level= logging.INFO)"
   ]
  },
  {
   "cell_type": "code",
   "execution_count": 21,
   "metadata": {},
   "outputs": [],
   "source": [
    "class PatternExploitingDataset(Dataset):\n",
    "    def __init__(self, \n",
    "                 data,\n",
    "                 tokenizer,\n",
    "                 pattern : callable,\n",
    "                 num_samples : int = 10) -> None:\n",
    "        super().__init__()\n",
    "        \n",
    "        self.label_names = data\\\n",
    "            .features['ner_tags']\\\n",
    "            .feature\\\n",
    "            .names\n",
    "        self.label_keymap = {k:v for k,v in enumerate(self.label_names)} \n",
    "\n",
    "        self.pattern = pattern\n",
    "        self.tokenizer = tokenizer\n",
    "\n",
    "        self.num_samples = num_samples\n",
    "        self._ignore(data[0:num_samples])\n",
    "\n",
    "    \n",
    "    def _ignore(\n",
    "        self, \n",
    "        data,\n",
    "        should_ignore = [\";\", \":\", \".\", \" \", \"\"]\n",
    "    ):\n",
    "        \n",
    "        self.words = []\n",
    "        self.labels = []\n",
    "        for i in range(self.num_samples):\n",
    "            words = data['words'][i]\n",
    "            labels = data['ner_tags'][i]\n",
    "\n",
    "            this_words = []\n",
    "            this_labels = []\n",
    "\n",
    "            for j in range(len(words)):\n",
    "\n",
    "                if not words[j] in should_ignore:\n",
    "                    this_words.append(words[j])\n",
    "                    this_labels.append(labels[j])\n",
    "\n",
    "            self.words.append(this_words)\n",
    "            self.labels.append(this_labels)\n",
    "    \n",
    "    def __getitem__(self, document_index : int):\n",
    "        phrases = []\n",
    "        targets = []\n",
    "\n",
    "\n",
    "        words = self.words[document_index]\n",
    "        labels = self.labels[document_index]\n",
    "\n",
    "        for idx, word in enumerate(words):\n",
    "            label_idx = labels[idx]\n",
    "            label_name = self.label_keymap[label_idx]\n",
    "\n",
    "            phrase = self.pattern(word, tokenizer)\n",
    "            phrases.append(phrase)\n",
    "            \n",
    "            if label_name == \"O\":\n",
    "                targets.append(\"NONE\") \n",
    "            else :\n",
    "                targets.append(label_name[2:])\n",
    "\n",
    "        return phrases, targets\n",
    "    \n",
    "    def __len__(self):\n",
    "        return len(self.words)\n",
    "                "
   ]
  },
  {
   "cell_type": "code",
   "execution_count": 22,
   "metadata": {},
   "outputs": [],
   "source": [
    "def pattern1(word : str,\n",
    "            tokenizer):\n",
    "    return f\" In a document, where is the word {word} most frequently encountered, be it in the header, a question, or an answer? {tokenizer.mask_token}\""
   ]
  },
  {
   "cell_type": "code",
   "execution_count": 23,
   "metadata": {},
   "outputs": [],
   "source": [
    "data = PatternExploitingDataset(\n",
    "    dataset['train'],\n",
    "    tokenizer,\n",
    "    pattern1,\n",
    "    num_samples = 10\n",
    ")"
   ]
  },
  {
   "cell_type": "code",
   "execution_count": 26,
   "metadata": {},
   "outputs": [],
   "source": [
    "labels_idx_keymap = {\n",
    "    \"none\": 0,\n",
    "    \"question\" : 1,\n",
    "    \"answer\": 2,\n",
    "    \"header\" : 3,\n",
    "}"
   ]
  },
  {
   "cell_type": "code",
   "execution_count": 81,
   "metadata": {},
   "outputs": [
    {
     "data": {
      "text/plain": [
       "DistilBertForMaskedLM(\n",
       "  (activation): GELUActivation()\n",
       "  (distilbert): DistilBertModel(\n",
       "    (embeddings): Embeddings(\n",
       "      (word_embeddings): Embedding(30522, 768, padding_idx=0)\n",
       "      (position_embeddings): Embedding(512, 768)\n",
       "      (LayerNorm): LayerNorm((768,), eps=1e-12, elementwise_affine=True)\n",
       "      (dropout): Dropout(p=0.1, inplace=False)\n",
       "    )\n",
       "    (transformer): Transformer(\n",
       "      (layer): ModuleList(\n",
       "        (0-5): 6 x TransformerBlock(\n",
       "          (attention): MultiHeadSelfAttention(\n",
       "            (dropout): Dropout(p=0.1, inplace=False)\n",
       "            (q_lin): Linear(in_features=768, out_features=768, bias=True)\n",
       "            (k_lin): Linear(in_features=768, out_features=768, bias=True)\n",
       "            (v_lin): Linear(in_features=768, out_features=768, bias=True)\n",
       "            (out_lin): Linear(in_features=768, out_features=768, bias=True)\n",
       "          )\n",
       "          (sa_layer_norm): LayerNorm((768,), eps=1e-12, elementwise_affine=True)\n",
       "          (ffn): FFN(\n",
       "            (dropout): Dropout(p=0.1, inplace=False)\n",
       "            (lin1): Linear(in_features=768, out_features=3072, bias=True)\n",
       "            (lin2): Linear(in_features=3072, out_features=768, bias=True)\n",
       "            (activation): GELUActivation()\n",
       "          )\n",
       "          (output_layer_norm): LayerNorm((768,), eps=1e-12, elementwise_affine=True)\n",
       "        )\n",
       "      )\n",
       "    )\n",
       "  )\n",
       "  (vocab_transform): Linear(in_features=768, out_features=768, bias=True)\n",
       "  (vocab_layer_norm): LayerNorm((768,), eps=1e-12, elementwise_affine=True)\n",
       "  (vocab_projector): Linear(in_features=768, out_features=30522, bias=True)\n",
       "  (mlm_loss_fct): CrossEntropyLoss()\n",
       ")"
      ]
     },
     "execution_count": 81,
     "metadata": {},
     "output_type": "execute_result"
    }
   ],
   "source": [
    "device = \"cuda\"\n",
    "model = AutoModelForMaskedLM.from_pretrained(\"distilbert-base-uncased\")\n",
    "model.to(device)"
   ]
  },
  {
   "cell_type": "code",
   "execution_count": 86,
   "metadata": {},
   "outputs": [
    {
     "name": "stderr",
     "output_type": "stream",
     "text": [
      "  0%|          | 0/10 [00:00<?, ?it/s]"
     ]
    },
    {
     "name": "stderr",
     "output_type": "stream",
     "text": [
      "100%|██████████| 10/10 [05:28<00:00, 32.89s/it]\n",
      "100%|██████████| 10/10 [05:29<00:00, 32.90s/it]\n",
      "100%|██████████| 10/10 [05:29<00:00, 32.94s/it]\n",
      " 30%|███       | 3/10 [02:21<05:31, 47.33s/it]\n"
     ]
    },
    {
     "ename": "KeyboardInterrupt",
     "evalue": "",
     "output_type": "error",
     "traceback": [
      "\u001b[0;31m---------------------------------------------------------------------------\u001b[0m",
      "\u001b[0;31mKeyboardInterrupt\u001b[0m                         Traceback (most recent call last)",
      "\u001b[1;32m/users/eleves-a/2022/pedro.silva/few-shot-learning-transformers/notebooks/few-shot-learning/pet/01-pattern_exploration.ipynb Cell 12\u001b[0m line \u001b[0;36m5\n\u001b[1;32m     <a href='vscode-notebook-cell://ssh-remote%2B129.104.254.97/users/eleves-a/2022/pedro.silva/few-shot-learning-transformers/notebooks/few-shot-learning/pet/01-pattern_exploration.ipynb#Y142sdnNjb2RlLXJlbW90ZQ%3D%3D?line=43'>44</a>\u001b[0m outputs \u001b[39m=\u001b[39m model(\n\u001b[1;32m     <a href='vscode-notebook-cell://ssh-remote%2B129.104.254.97/users/eleves-a/2022/pedro.silva/few-shot-learning-transformers/notebooks/few-shot-learning/pet/01-pattern_exploration.ipynb#Y142sdnNjb2RlLXJlbW90ZQ%3D%3D?line=44'>45</a>\u001b[0m     input_ids \u001b[39m=\u001b[39minput_ids,\n\u001b[1;32m     <a href='vscode-notebook-cell://ssh-remote%2B129.104.254.97/users/eleves-a/2022/pedro.silva/few-shot-learning-transformers/notebooks/few-shot-learning/pet/01-pattern_exploration.ipynb#Y142sdnNjb2RlLXJlbW90ZQ%3D%3D?line=45'>46</a>\u001b[0m     attention_mask \u001b[39m=\u001b[39m attention_mask,\n\u001b[1;32m     <a href='vscode-notebook-cell://ssh-remote%2B129.104.254.97/users/eleves-a/2022/pedro.silva/few-shot-learning-transformers/notebooks/few-shot-learning/pet/01-pattern_exploration.ipynb#Y142sdnNjb2RlLXJlbW90ZQ%3D%3D?line=46'>47</a>\u001b[0m     labels \u001b[39m=\u001b[39m y\n\u001b[1;32m     <a href='vscode-notebook-cell://ssh-remote%2B129.104.254.97/users/eleves-a/2022/pedro.silva/few-shot-learning-transformers/notebooks/few-shot-learning/pet/01-pattern_exploration.ipynb#Y142sdnNjb2RlLXJlbW90ZQ%3D%3D?line=47'>48</a>\u001b[0m )\n\u001b[1;32m     <a href='vscode-notebook-cell://ssh-remote%2B129.104.254.97/users/eleves-a/2022/pedro.silva/few-shot-learning-transformers/notebooks/few-shot-learning/pet/01-pattern_exploration.ipynb#Y142sdnNjb2RlLXJlbW90ZQ%3D%3D?line=49'>50</a>\u001b[0m mask_token_index \u001b[39m=\u001b[39m torch\u001b[39m.\u001b[39mwhere(tokens[\u001b[39m\"\u001b[39m\u001b[39minput_ids\u001b[39m\u001b[39m\"\u001b[39m] \u001b[39m==\u001b[39m tokenizer\u001b[39m.\u001b[39mmask_token_id)[\u001b[39m1\u001b[39m]\n\u001b[0;32m---> <a href='vscode-notebook-cell://ssh-remote%2B129.104.254.97/users/eleves-a/2022/pedro.silva/few-shot-learning-transformers/notebooks/few-shot-learning/pet/01-pattern_exploration.ipynb#Y142sdnNjb2RlLXJlbW90ZQ%3D%3D?line=50'>51</a>\u001b[0m mask_token_logits \u001b[39m=\u001b[39m outputs\u001b[39m.\u001b[39;49mlogits[\u001b[39m0\u001b[39;49m, mask_token_index, :]\n\u001b[1;32m     <a href='vscode-notebook-cell://ssh-remote%2B129.104.254.97/users/eleves-a/2022/pedro.silva/few-shot-learning-transformers/notebooks/few-shot-learning/pet/01-pattern_exploration.ipynb#Y142sdnNjb2RlLXJlbW90ZQ%3D%3D?line=52'>53</a>\u001b[0m question_logits \u001b[39m=\u001b[39m mask_token_logits[\u001b[39m0\u001b[39m,tokenizer\u001b[39m.\u001b[39mvocab[\u001b[39m\"\u001b[39m\u001b[39mquestion\u001b[39m\u001b[39m\"\u001b[39m]]\u001b[39m.\u001b[39mitem()\n\u001b[1;32m     <a href='vscode-notebook-cell://ssh-remote%2B129.104.254.97/users/eleves-a/2022/pedro.silva/few-shot-learning-transformers/notebooks/few-shot-learning/pet/01-pattern_exploration.ipynb#Y142sdnNjb2RlLXJlbW90ZQ%3D%3D?line=53'>54</a>\u001b[0m answer_logits \u001b[39m=\u001b[39m mask_token_logits[\u001b[39m0\u001b[39m, tokenizer\u001b[39m.\u001b[39mvocab[\u001b[39m\"\u001b[39m\u001b[39manswer\u001b[39m\u001b[39m\"\u001b[39m]]\u001b[39m.\u001b[39mitem()\n",
      "\u001b[0;31mKeyboardInterrupt\u001b[0m: "
     ]
    }
   ],
   "source": [
    "device = \"cuda\"\n",
    "\n",
    "\n",
    "model.train()\n",
    "\n",
    "alpha = 0\n",
    "n_epochs = 10\n",
    "\n",
    "optmizer = AdamW(model.parameters(), 1e-5)\n",
    "history = []\n",
    "\n",
    "for epoch in range(n_epochs):\n",
    "    y_true_train = torch.tensor([],device=device)\n",
    "    y_pred_train = torch.tensor([],device=device)\n",
    "\n",
    "    for i in tqdm(range(len(data))):\n",
    "\n",
    "        phrases, labels = data[i]\n",
    "\n",
    "        for idx, phrase in (enumerate(phrases)):\n",
    "            tokens = tokenizer(\n",
    "                phrases,\n",
    "                truncation= True,\n",
    "                padding= \"max_length\",\n",
    "                return_tensors= \"pt\",\n",
    "                max_length=32\n",
    "            )\n",
    "\n",
    "            correct_word = tokenizer.tokenize(labels[idx])[0]\n",
    "\n",
    "            label = tokenizer(\n",
    "                correct_word,\n",
    "            )\n",
    "\n",
    "            input_ids = tokens['input_ids'].to(device)\n",
    "            attention_mask = tokens['attention_mask'].to(device)\n",
    "\n",
    "            y = input_ids.clone()\n",
    "\n",
    "\n",
    "            y[input_ids== tokenizer.mask_token_id] = tokenizer.vocab[correct_word]\n",
    "            y[input_ids != tokenizer.mask_token_id] = -100\n",
    "\n",
    "            outputs = model(\n",
    "                input_ids =input_ids,\n",
    "                attention_mask = attention_mask,\n",
    "                labels = y\n",
    "            )\n",
    "\n",
    "            mask_token_index = torch.where(tokens[\"input_ids\"] == tokenizer.mask_token_id)[1]\n",
    "            mask_token_logits = outputs.logits[0, mask_token_index, :]\n",
    "\n",
    "            question_logits = mask_token_logits[0,tokenizer.vocab[\"question\"]].item()\n",
    "            answer_logits = mask_token_logits[0, tokenizer.vocab[\"answer\"]].item()\n",
    "            header_logits = mask_token_logits[0, tokenizer.vocab[\"header\"]].item()\n",
    "            none_logits = mask_token_logits[0, tokenizer.vocab[\"none\"]].item()\n",
    "\n",
    "\n",
    "\n",
    "            logits_list = torch.tensor([\n",
    "                none_logits,\n",
    "                question_logits, \n",
    "                answer_logits,\n",
    "                header_logits\n",
    "            ])\n",
    "\n",
    "            real_value = correct_word.lower()\n",
    "            real_value = labels_idx_keymap[real_value]\n",
    "\n",
    "            predicted_value = logits_list.argmax().item()\n",
    "\n",
    "            y_pred_train = torch.cat([\n",
    "                y_pred_train, \n",
    "                torch.tensor([predicted_value]).to(device)\n",
    "            ])\n",
    "            \n",
    "            y_true_train = torch.cat([\n",
    "                y_true_train,\n",
    "                torch.tensor([real_value]).to(device)\n",
    "            ])\n",
    "\n",
    "            real_list = [0,0,0,0]\n",
    "            real_list[real_value] =1\n",
    "\n",
    "            real_list = torch.tensor(\n",
    "                real_list\n",
    "            )\n",
    "\n",
    "            ce_loss = cross_entropy(\n",
    "                logits_list.softmax(dim = 0).to(torch.float64),\n",
    "                real_list.to(torch.float64)\n",
    "            )\n",
    "\n",
    "\n",
    "\n",
    "            mlm_loss = outputs.loss\n",
    "            loss = (1-alpha)*ce_loss + mlm_loss*alpha\n",
    "\n",
    "            loss.backward()\n",
    "\n",
    "            optmizer.step()\n",
    "            optmizer.zero_grad()\n",
    "\n",
    "    f1 = multiclass_f1_score(\n",
    "        y_pred_train,\n",
    "        y_true_train,\n",
    "        num_classes=4\n",
    "    )\n",
    "    history.append(f1)\n",
    "\n",
    "    logging.info(f'''\n",
    "                 \n",
    "    -------------------------\n",
    "        End of epoch {epoch} \n",
    "        F1 score : {f1}     \n",
    "    ''')\n",
    "\n",
    "    logging.info(f'''\n",
    "        {multiclass_confusion_matrix(\n",
    "        y_pred_train.to(torch.int64),\n",
    "        y_true_train.to(torch.int64),\n",
    "        num_classes=4\n",
    "        )}\n",
    "    ''')"
   ]
  },
  {
   "cell_type": "code",
   "execution_count": 85,
   "metadata": {},
   "outputs": [],
   "source": []
  },
  {
   "cell_type": "code",
   "execution_count": 69,
   "metadata": {},
   "outputs": [],
   "source": [
    "ce_loss = cross_entropy(\n",
    "    logits_list.to(torch.float64),\n",
    "    predicted_list.to(torch.float64)\n",
    ")"
   ]
  },
  {
   "cell_type": "code",
   "execution_count": 70,
   "metadata": {},
   "outputs": [
    {
     "data": {
      "text/plain": [
       "tensor(1.5447, dtype=torch.float64)"
      ]
     },
     "execution_count": 70,
     "metadata": {},
     "output_type": "execute_result"
    }
   ],
   "source": [
    "ce_loss"
   ]
  },
  {
   "cell_type": "code",
   "execution_count": 71,
   "metadata": {},
   "outputs": [],
   "source": [
    "loss = (1-alpha) * ce_loss + alpha*mlm_loss"
   ]
  },
  {
   "cell_type": "code",
   "execution_count": 72,
   "metadata": {},
   "outputs": [],
   "source": [
    "labels_idx_keymap = {\n",
    "    \"none\": 0,\n",
    "    \"question\" : 1,\n",
    "    \"answer\": 2,\n",
    "    \"header\" : 3,\n",
    "}"
   ]
  },
  {
   "cell_type": "code",
   "execution_count": 87,
   "metadata": {},
   "outputs": [],
   "source": [
    "validation_dataset = PatternExploitingDataset(\n",
    "    dataset['test'],\n",
    "    tokenizer,\n",
    "    pattern1,\n",
    "    num_samples=30\n",
    ")"
   ]
  },
  {
   "cell_type": "code",
   "execution_count": 88,
   "metadata": {},
   "outputs": [
    {
     "name": "stderr",
     "output_type": "stream",
     "text": [
      "  0%|          | 0/30 [00:00<?, ?it/s]"
     ]
    },
    {
     "name": "stderr",
     "output_type": "stream",
     "text": [
      "100%|██████████| 30/30 [06:50<00:00, 13.69s/it]\n"
     ]
    }
   ],
   "source": [
    "y_true_train = torch.tensor([],device=device)\n",
    "y_pred_train = torch.tensor([],device=device)\n",
    "\n",
    "with torch.no_grad():\n",
    "    for i in tqdm(range(len(validation_dataset))):\n",
    "\n",
    "        phrases, labels = validation_dataset[i]\n",
    "\n",
    "        for idx, phrase in (enumerate(phrases)):\n",
    "            tokens = tokenizer(\n",
    "                phrases,\n",
    "                truncation= True,\n",
    "                padding= \"max_length\",\n",
    "                return_tensors= \"pt\",\n",
    "                max_length=32\n",
    "            )\n",
    "\n",
    "            correct_word = tokenizer.tokenize(labels[idx])[0]\n",
    "\n",
    "            label = tokenizer(\n",
    "                correct_word,\n",
    "            )\n",
    "\n",
    "            input_ids = tokens['input_ids'].to(device)\n",
    "            attention_mask = tokens['attention_mask'].to(device)\n",
    "\n",
    "            y = input_ids.clone()\n",
    "\n",
    "            y[input_ids== tokenizer.mask_token_id] = tokenizer.vocab[correct_word]\n",
    "            y[input_ids!= tokenizer.mask_token_id] = -100\n",
    "\n",
    "            outputs = model(\n",
    "                input_ids =input_ids,\n",
    "                attention_mask = attention_mask,\n",
    "            )\n",
    "\n",
    "            mask_token_index = torch.where(tokens[\"input_ids\"] == tokenizer.mask_token_id)[1]\n",
    "            mask_token_logits = outputs.logits[0, mask_token_index, :]\n",
    "\n",
    "            question_logits = mask_token_logits[0,tokenizer.vocab[\"question\"]].item()\n",
    "            answer_logits = mask_token_logits[0, tokenizer.vocab[\"answer\"]].item()\n",
    "            header_logits = mask_token_logits[0, tokenizer.vocab[\"header\"]].item()\n",
    "            none_logits = mask_token_logits[0, tokenizer.vocab[\"none\"]].item()\n",
    "\n",
    "            logits = {\n",
    "                \"question\": question_logits,\n",
    "                \"answer\": answer_logits,\n",
    "                \"header\": header_logits,\n",
    "                \"none\": none_logits\n",
    "            }\n",
    "\n",
    "            predicted_value = sorted(\n",
    "                logits.items(), \n",
    "                reverse= True, \n",
    "                key = lambda x: x[1]\n",
    "            )[0][0]\n",
    "\n",
    "            predicted_value = labels_idx_keymap[predicted_value]\n",
    "\n",
    "            logging.info(predicted_value)\n",
    "\n",
    "            real_value = correct_word.lower()\n",
    "            real_value = labels_idx_keymap[real_value]\n",
    "\n",
    "            y_pred_train = torch.cat([\n",
    "                y_pred_train, \n",
    "                torch.tensor([predicted_value]).to(device)\n",
    "            ])\n",
    "            \n",
    "            y_true_train = torch.cat([\n",
    "                y_true_train,\n",
    "                torch.tensor([real_value]).to(device)\n",
    "            ])"
   ]
  },
  {
   "cell_type": "code",
   "execution_count": 62,
   "metadata": {},
   "outputs": [
    {
     "data": {
      "text/plain": [
       "'none'"
      ]
     },
     "execution_count": 62,
     "metadata": {},
     "output_type": "execute_result"
    }
   ],
   "source": [
    "correct_word"
   ]
  },
  {
   "cell_type": "code",
   "execution_count": 75,
   "metadata": {},
   "outputs": [
    {
     "data": {
      "text/plain": [
       "{'question': 3.0634965896606445,\n",
       " 'answer': 2.415207624435425,\n",
       " 'header': 2.9105570316314697,\n",
       " 'none': 1.0707943439483643}"
      ]
     },
     "execution_count": 75,
     "metadata": {},
     "output_type": "execute_result"
    }
   ],
   "source": [
    "logits"
   ]
  },
  {
   "cell_type": "code",
   "execution_count": 89,
   "metadata": {},
   "outputs": [
    {
     "data": {
      "text/plain": [
       "1"
      ]
     },
     "execution_count": 89,
     "metadata": {},
     "output_type": "execute_result"
    }
   ],
   "source": [
    "predicted_value"
   ]
  },
  {
   "cell_type": "code",
   "execution_count": 90,
   "metadata": {},
   "outputs": [
    {
     "data": {
      "text/plain": [
       "tensor(0.2324, device='cuda:0')"
      ]
     },
     "execution_count": 90,
     "metadata": {},
     "output_type": "execute_result"
    }
   ],
   "source": [
    "multiclass_f1_score(\n",
    "    y_pred_train.to(torch.int64),\n",
    "    y_true_train.to(torch.int64),\n",
    "    num_classes=4\n",
    ")"
   ]
  },
  {
   "cell_type": "code",
   "execution_count": 96,
   "metadata": {},
   "outputs": [],
   "source": [
    "conf_matrix = multiclass_confusion_matrix(\n",
    "    y_pred_train.to(torch.int64),\n",
    "    y_true_train.to(torch.int64),\n",
    "    num_classes=4\n",
    ")"
   ]
  },
  {
   "cell_type": "code",
   "execution_count": 107,
   "metadata": {},
   "outputs": [],
   "source": [
    "confusion_df = pd.DataFrame(conf_matrix.cpu().numpy())"
   ]
  },
  {
   "cell_type": "code",
   "execution_count": 108,
   "metadata": {},
   "outputs": [
    {
     "data": {
      "text/plain": [
       "{'none': 0, 'question': 1, 'answer': 2, 'header': 3}"
      ]
     },
     "execution_count": 108,
     "metadata": {},
     "output_type": "execute_result"
    }
   ],
   "source": []
  },
  {
   "cell_type": "code",
   "execution_count": 110,
   "metadata": {},
   "outputs": [
    {
     "data": {
      "text/plain": [
       "{0: 'none', 1: 'question', 2: 'answer', 3: 'header'}"
      ]
     },
     "execution_count": 110,
     "metadata": {},
     "output_type": "execute_result"
    }
   ],
   "source": [
    "{v:k for k, v in labels_idx_keymap.items()}"
   ]
  },
  {
   "cell_type": "code",
   "execution_count": 115,
   "metadata": {},
   "outputs": [],
   "source": [
    "confusion_df = confusion_df\\\n",
    "    .rename(columns={v:k for k, v in labels_idx_keymap.items()})\\\n",
    "    .rename(index = {v:k for k, v in labels_idx_keymap.items()})"
   ]
  },
  {
   "cell_type": "code",
   "execution_count": 125,
   "metadata": {},
   "outputs": [
    {
     "data": {
      "text/plain": [
       "Text(0.5, 1.0, '\\n    Confusion matrix\\n    Pattern Exploited Training    \\n')"
      ]
     },
     "execution_count": 125,
     "metadata": {},
     "output_type": "execute_result"
    },
    {
     "data": {
      "image/png": "[encoded data removed]",
      "text/plain": [
       "<Figure size 640x480 with 2 Axes>"
      ]
     },
     "metadata": {},
     "output_type": "display_data"
    }
   ],
   "source": [
    "sns.heatmap(confusion_df,\n",
    "            annot= True,\n",
    "            fmt = \".0f\")\n",
    "\n",
    "plt.ylabel(\"True class\")\n",
    "plt.xlabel(\"Predicted class\")\n",
    "\n",
    "plt.title('''\n",
    "    Confusion matrix\n",
    "    Pattern Exploited Training    \n",
    "''')"
   ]
  },
  {
   "cell_type": "code",
   "execution_count": null,
   "metadata": {},
   "outputs": [],
   "source": []
  },
  {
   "cell_type": "code",
   "execution_count": null,
   "metadata": {},
   "outputs": [],
   "source": []
  },
  {
   "cell_type": "code",
   "execution_count": null,
   "metadata": {},
   "outputs": [],
   "source": []
  },
  {
   "cell_type": "code",
   "execution_count": null,
   "metadata": {},
   "outputs": [],
   "source": []
  },
  {
   "cell_type": "code",
   "execution_count": null,
   "metadata": {},
   "outputs": [],
   "source": []
  },
  {
   "cell_type": "markdown",
   "metadata": {},
   "source": [
    "## Importing model"
   ]
  },
  {
   "cell_type": "code",
   "execution_count": 101,
   "metadata": {},
   "outputs": [
    {
     "data": {
      "text/plain": [
       "dict_keys(['id', 'words', 'bboxes', 'ner_tags', 'image_path'])"
      ]
     },
     "execution_count": 101,
     "metadata": {},
     "output_type": "execute_result"
    }
   ],
   "source": [
    "dataset['train'][0].keys()"
   ]
  },
  {
   "cell_type": "code",
   "execution_count": null,
   "metadata": {},
   "outputs": [],
   "source": []
  },
  {
   "cell_type": "code",
   "execution_count": 102,
   "metadata": {},
   "outputs": [],
   "source": [
    "text = \" \".join(dataset['train'][0]['words'])"
   ]
  },
  {
   "cell_type": "code",
   "execution_count": 103,
   "metadata": {},
   "outputs": [],
   "source": [
    "masked_text = dataset['train'][0]['words']"
   ]
  },
  {
   "cell_type": "code",
   "execution_count": 150,
   "metadata": {},
   "outputs": [],
   "source": [
    "p1 = lambda s, label: s +\" is the <mask> of a \" + label + \" token\""
   ]
  },
  {
   "cell_type": "code",
   "execution_count": 151,
   "metadata": {},
   "outputs": [],
   "source": [
    "label_names = dataset['train'].features['ner_tags'].feature.names\n",
    "keymap = {i : v for i, v in enumerate(label_names)}"
   ]
  },
  {
   "cell_type": "code",
   "execution_count": 152,
   "metadata": {},
   "outputs": [
    {
     "data": {
      "text/plain": [
       "{0: 'O',\n",
       " 1: 'B-HEADER',\n",
       " 2: 'I-HEADER',\n",
       " 3: 'B-QUESTION',\n",
       " 4: 'I-QUESTION',\n",
       " 5: 'B-ANSWER',\n",
       " 6: 'I-ANSWER'}"
      ]
     },
     "execution_count": 152,
     "metadata": {},
     "output_type": "execute_result"
    }
   ],
   "source": [
    "keymap"
   ]
  },
  {
   "cell_type": "code",
   "execution_count": 153,
   "metadata": {},
   "outputs": [],
   "source": [
    "keymap = {\n",
    "    0:\"None\",\n",
    "    1: \"header\",\n",
    "    2: \"header\",\n",
    "    3: \"question\",\n",
    "    4: \"question\",\n",
    "    5: \"answer\",\n",
    "    6: \"answer\"\n",
    "}"
   ]
  },
  {
   "cell_type": "code",
   "execution_count": 154,
   "metadata": {},
   "outputs": [],
   "source": [
    "sentences = []\n",
    "targets = []\n",
    "for i in range(len(dataset['train'][0]['words'])):\n",
    "    word_i = dataset['train'][0]['words'][i]\n",
    "    label_i = keymap[dataset['train'][0]['ner_tags'][i]]\n",
    "    targets.append(dataset['train'][0]['ner_tags'][i])\n",
    "    sentences.append(p1(word_i, label_i))"
   ]
  },
  {
   "cell_type": "code",
   "execution_count": 155,
   "metadata": {},
   "outputs": [],
   "source": [
    "outputs = mlm(sentences, targets = [\"begin\", \"middle\", \"outside\"])"
   ]
  },
  {
   "cell_type": "code",
   "execution_count": 149,
   "metadata": {},
   "outputs": [
    {
     "data": {
      "text/plain": [
       "[{'score': 7.035053872783692e-09,\n",
       "  'token': 35301,\n",
       "  'token_str': 'outside',\n",
       "  'sequence': 'Is QUALITY theoutside of a header token'},\n",
       " {'score': 9.60384105574974e-10,\n",
       "  'token': 43230,\n",
       "  'token_str': 'begin',\n",
       "  'sequence': 'Is QUALITY thebegin of a header token'},\n",
       " {'score': 5.127795965620408e-10,\n",
       "  'token': 29917,\n",
       "  'token_str': 'middle',\n",
       "  'sequence': 'Is QUALITY themiddle of a header token'}]"
      ]
     },
     "execution_count": 149,
     "metadata": {},
     "output_type": "execute_result"
    }
   ],
   "source": [
    "outputs[9]"
   ]
  },
  {
   "cell_type": "code",
   "execution_count": 148,
   "metadata": {},
   "outputs": [
    {
     "data": {
      "text/plain": [
       "'header'"
      ]
     },
     "execution_count": 148,
     "metadata": {},
     "output_type": "execute_result"
    }
   ],
   "source": [
    "targets[9]"
   ]
  },
  {
   "cell_type": "code",
   "execution_count": null,
   "metadata": {},
   "outputs": [],
   "source": []
  }
 ],
 "metadata": {
  "kernelspec": {
   "display_name": ".venv",
   "language": "python",
   "name": "python3"
  },
  "language_info": {
   "codemirror_mode": {
    "name": "ipython",
    "version": 3
   },
   "file_extension": ".py",
   "mimetype": "text/x-python",
   "name": "python",
   "nbconvert_exporter": "python",
   "pygments_lexer": "ipython3",
   "version": "3.9.16"
  }
 },
 "nbformat": 4,
 "nbformat_minor": 2
}
